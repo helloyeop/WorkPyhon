{
 "cells": [
  {
   "cell_type": "code",
   "execution_count": 1,
   "metadata": {},
   "outputs": [
    {
     "name": "stdout",
     "output_type": "stream",
     "text": [
      "7 2 4\n",
      "3 8\n"
     ]
    }
   ],
   "source": [
    "num1 = 6\n",
    "num1 += 1\n",
    "num2 = 7\n",
    "num2 -= 5\n",
    "num3 = 8\n",
    "num3 /= 2\n",
    "print(num1, num2, round(num3))\n",
    "num1 = 1\n",
    "num1 *= 3\n",
    "num2 = 2\n",
    "num2 **= 3\n",
    "print(num1,num2)"
   ]
  },
  {
   "cell_type": "code",
   "execution_count": 5,
   "metadata": {},
   "outputs": [
    {
     "name": "stdout",
     "output_type": "stream",
     "text": [
      "Negative\n",
      "Negative\n"
     ]
    }
   ],
   "source": [
    "# 3항 연산자\n",
    "x = -1\n",
    "ans = 'Non-negative' if x >= 0 else 'Negative'\n",
    "print(ans)\n",
    "\n",
    "if x >= 0:\n",
    "    ans = 'Non-negative'\n",
    "else :\n",
    "    ans = 'Negative'\n",
    "print(ans)"
   ]
  },
  {
   "cell_type": "code",
   "execution_count": 10,
   "metadata": {},
   "outputs": [
    {
     "name": "stdout",
     "output_type": "stream",
     "text": [
      "empty\n",
      "empty city\n"
     ]
    }
   ],
   "source": [
    "city = \"\"   # ''안에 아무것도 없으면 문자열 False\n",
    "if city :   # 조건이 참일때만 if문이 실행됨\n",
    "    print('empty city')\n",
    "else :\n",
    "    print('empty')\n",
    "    \n",
    "city = \" \"\n",
    "if city :  \n",
    "    print('empty city')\n",
    "else :\n",
    "    print('empty')\n",
    "    \n",
    "#숫자 False : 0 / list : [] / dict : {} / tuple : ()"
   ]
  },
  {
   "cell_type": "code",
   "execution_count": 17,
   "metadata": {},
   "outputs": [
    {
     "name": "stdout",
     "output_type": "stream",
     "text": [
      "2019-12-26 10:58:31.290991\n",
      "\n"
     ]
    },
    {
     "name": "stdin",
     "output_type": "stream",
     "text": [
      "생년월일을 입력하세요 19940318\n"
     ]
    },
    {
     "name": "stdout",
     "output_type": "stream",
     "text": [
      "25\n",
      "당신의 나이는    26\n",
      "당신은 미성년자가 아닙니다.\n"
     ]
    }
   ],
   "source": [
    "import datetime\n",
    "dt = datetime.datetime.now()  # 함수는 ()를 사용해야 함\n",
    "print(dt)\n",
    "print()\n",
    "age = input(\"생년월일을 입력하세요\")\n",
    "year = int(age[0:4])\n",
    "month = int(age[4:6])\n",
    "day = int(age[6:])\n",
    "year_diff = dt.year - year\n",
    "print(year_diff)\n",
    "month_diff = dt.month - month\n",
    "day_diff = dt.day - day\n",
    "if day_diff < 0 :    # 일 내림 처리\n",
    "    month_diff -= 1\n",
    "if month_diff < 0 :  # 월 내림 처리\n",
    "    year_diff -= 1\n",
    "print(\"당신의 나이는   \", year_diff + 1)\n",
    "if year_diff < 18 :\n",
    "    print(\"당신은 미성년자입니다.\")\n",
    "else : \n",
    "    print(\"당신은 미성년자가 아닙니다.\")"
   ]
  },
  {
   "cell_type": "code",
   "execution_count": null,
   "metadata": {},
   "outputs": [],
   "source": [
    "# 데이터 입력 -> 처리( 연산자 ), 제어문( 판단문, 반복문 )\n",
    "# 반복문 : 하나의 규칙을 여러 데이터에 적용"
   ]
  },
  {
   "cell_type": "code",
   "execution_count": 21,
   "metadata": {},
   "outputs": [
    {
     "name": "stdout",
     "output_type": "stream",
     "text": [
      "earth\n",
      "air\n",
      "fire\n",
      "water\n"
     ]
    }
   ],
   "source": [
    "# for \n",
    "# 이전의 for문\n",
    "# for (i = 0 : i <100 : i++)  --> 인덱스 오버플로우 문제가 발생했음\n",
    "\n",
    "# for in 문\n",
    "\n",
    "# 데이터를 이용하는 방법\n",
    "elements  = ['earth', 'air', 'fire', 'water']\n",
    "for i in elements:                 # Collections, iteratorm generatorm enumerate\n",
    "    print(i, end='\\n')"
   ]
  },
  {
   "cell_type": "code",
   "execution_count": null,
   "metadata": {},
   "outputs": [],
   "source": [
    " # Collections : list, tuple, dict, set  ( 메모리를 차지 함)\n",
    " # iteratorm  : range  ( for (i = 0 : i <100 : i++) 와 같은 방법으로 사용   ====  start , end , step )\n",
    " # generatorm  : 데이터가 많을때 생성( 데이터를 실시간으로 생성 ==> 메모리를 차지하지 않음 )  \n",
    " # enumerate : 맵핑을 해줌 0 : earth, 1 : air , 2 : fire ..."
   ]
  },
  {
   "cell_type": "code",
   "execution_count": 33,
   "metadata": {},
   "outputs": [
    {
     "name": "stdout",
     "output_type": "stream",
     "text": [
      "0\n",
      "1\n",
      "2\n",
      "3\n",
      "4\n",
      "====================\n",
      "2\n",
      "3\n",
      "4\n",
      "====================\n",
      "0\n",
      "2\n",
      "4\n",
      "6\n",
      "8\n",
      "====================\n",
      "0 : earth\n",
      "1 : air\n",
      "2 : fire\n",
      "3 : water\n"
     ]
    }
   ],
   "source": [
    "for i in range(5) :\n",
    "    print(i)\n",
    "print(\"=\"*20)\n",
    "\n",
    "\n",
    "# 파이썬에서는 오버로딩이 없음 : default 값으로 처리함\n",
    "for i in range(2,5) :\n",
    "    print(i)\n",
    "print(\"=\"*20)\n",
    "\n",
    "\n",
    "for i in range(0, 10 , 2) : #start , end , step\n",
    "    print(i)\n",
    "print(\"=\"*20)\n",
    "\n",
    "\n",
    "# 인덱스를 이용하는 방법\n",
    "for i in range(4) :\n",
    "    print(i,\":\", end= ' ')\n",
    "    print(elements[i])"
   ]
  },
  {
   "cell_type": "code",
   "execution_count": 41,
   "metadata": {},
   "outputs": [
    {
     "name": "stdout",
     "output_type": "stream",
     "text": [
      "range(0, 4)\n",
      "[0, 1, 2, 3]\n"
     ]
    }
   ],
   "source": [
    "# range는 객체다.\n",
    "ra = range(4)\n",
    "print(ra)\n",
    "\n",
    "print(list(ra)) # 리스트로 캐스팅 "
   ]
  },
  {
   "cell_type": "code",
   "execution_count": 45,
   "metadata": {},
   "outputs": [
    {
     "name": "stdout",
     "output_type": "stream",
     "text": [
      "<range_iterator object at 0x0000022BA76F9630>\n",
      "[3, 2, 1, 0]\n",
      "[5, 4, 3, 2, 1, 0]\n"
     ]
    }
   ],
   "source": [
    "# 범위를 거꾸로 지정\n",
    "# 방법1\n",
    "ra = reversed(range(4))\n",
    "print(ra)\n",
    "\n",
    "print(list(ra))\n",
    "\n",
    "# 방법2\n",
    "print(list(range(5,-1,-1)))  # 5부터 (-1앞) 0까지 -1씩 감소"
   ]
  },
  {
   "cell_type": "code",
   "execution_count": 43,
   "metadata": {},
   "outputs": [
    {
     "data": {
      "text/plain": [
       "\u001b[1;31mInit signature:\u001b[0m \u001b[0mrange\u001b[0m\u001b[1;33m(\u001b[0m\u001b[0mself\u001b[0m\u001b[1;33m,\u001b[0m \u001b[1;33m/\u001b[0m\u001b[1;33m,\u001b[0m \u001b[1;33m*\u001b[0m\u001b[0margs\u001b[0m\u001b[1;33m,\u001b[0m \u001b[1;33m**\u001b[0m\u001b[0mkwargs\u001b[0m\u001b[1;33m)\u001b[0m\u001b[1;33m\u001b[0m\u001b[1;33m\u001b[0m\u001b[0m\n",
       "\u001b[1;31mDocstring:\u001b[0m     \n",
       "range(stop) -> range object\n",
       "range(start, stop[, step]) -> range object\n",
       "\n",
       "Return an object that produces a sequence of integers from start (inclusive)\n",
       "to stop (exclusive) by step.  range(i, j) produces i, i+1, i+2, ..., j-1.\n",
       "start defaults to 0, and stop is omitted!  range(4) produces 0, 1, 2, 3.\n",
       "These are exactly the valid indices for a list of 4 elements.\n",
       "When step is given, it specifies the increment (or decrement).\n",
       "\u001b[1;31mType:\u001b[0m           type\n",
       "\u001b[1;31mSubclasses:\u001b[0m     \n"
      ]
     },
     "metadata": {},
     "output_type": "display_data"
    }
   ],
   "source": [
    "range?"
   ]
  },
  {
   "cell_type": "code",
   "execution_count": 47,
   "metadata": {},
   "outputs": [
    {
     "name": "stdout",
     "output_type": "stream",
     "text": [
      "1\n",
      "3\n",
      "6\n",
      "10\n",
      "15\n",
      "21\n",
      "28\n",
      "36\n",
      "45\n",
      "55\n"
     ]
    }
   ],
   "source": [
    "# 증가변수, 누적변수\n",
    "sum = 0\n",
    "for x in range(1,11):\n",
    "    #sum = sum + x\n",
    "    sum += x\n",
    "    print( sum )"
   ]
  },
  {
   "cell_type": "code",
   "execution_count": 50,
   "metadata": {},
   "outputs": [
    {
     "name": "stdout",
     "output_type": "stream",
     "text": [
      "\n",
      "2 * 2 = 4   2 * 3 = 6   2 * 4 = 8   2 * 5 = 10   2 * 6 = 12   2 * 7 = 14   2 * 8 = 16   2 * 9 = 18   \n",
      "3 * 2 = 6   3 * 3 = 9   3 * 4 = 12   3 * 5 = 15   3 * 6 = 18   3 * 7 = 21   3 * 8 = 24   3 * 9 = 27   "
     ]
    }
   ],
   "source": [
    "# 중첩된 for 문\n",
    "for x in range(2,4) :   \n",
    "    print(end= '\\n')\n",
    "    for y in range(2,10) : \n",
    "        print(x, '*', y , '=', x*y, end='   ')"
   ]
  },
  {
   "cell_type": "code",
   "execution_count": 53,
   "metadata": {},
   "outputs": [
    {
     "name": "stdout",
     "output_type": "stream",
     "text": [
      "\n",
      "2 * 2 = 4 \t   3 * 2 = 6 \t   4 * 2 = 8 \t   5 * 2 = 10 \t   6 * 2 = 12 \t   7 * 2 = 14 \t   8 * 2 = 16 \t   9 * 2 = 18 \t   \n",
      "2 * 3 = 6 \t   3 * 3 = 9 \t   4 * 3 = 12 \t   5 * 3 = 15 \t   6 * 3 = 18 \t   7 * 3 = 21 \t   8 * 3 = 24 \t   9 * 3 = 27 \t   \n",
      "2 * 4 = 8 \t   3 * 4 = 12 \t   4 * 4 = 16 \t   5 * 4 = 20 \t   6 * 4 = 24 \t   7 * 4 = 28 \t   8 * 4 = 32 \t   9 * 4 = 36 \t   \n",
      "2 * 5 = 10 \t   3 * 5 = 15 \t   4 * 5 = 20 \t   5 * 5 = 25 \t   6 * 5 = 30 \t   7 * 5 = 35 \t   8 * 5 = 40 \t   9 * 5 = 45 \t   \n",
      "2 * 6 = 12 \t   3 * 6 = 18 \t   4 * 6 = 24 \t   5 * 6 = 30 \t   6 * 6 = 36 \t   7 * 6 = 42 \t   8 * 6 = 48 \t   9 * 6 = 54 \t   \n",
      "2 * 7 = 14 \t   3 * 7 = 21 \t   4 * 7 = 28 \t   5 * 7 = 35 \t   6 * 7 = 42 \t   7 * 7 = 49 \t   8 * 7 = 56 \t   9 * 7 = 63 \t   \n",
      "2 * 8 = 16 \t   3 * 8 = 24 \t   4 * 8 = 32 \t   5 * 8 = 40 \t   6 * 8 = 48 \t   7 * 8 = 56 \t   8 * 8 = 64 \t   9 * 8 = 72 \t   \n",
      "2 * 9 = 18 \t   3 * 9 = 27 \t   4 * 9 = 36 \t   5 * 9 = 45 \t   6 * 9 = 54 \t   7 * 9 = 63 \t   8 * 9 = 72 \t   9 * 9 = 81 \t   "
     ]
    }
   ],
   "source": [
    "# 문제 : 구구단 만들기\n",
    "for x in range(2,10) :\n",
    "    print(end = '\\n')\n",
    "    for y in range(2,10) :\n",
    "        print(y, '*', x, '=', x*y , '\\t', end = '   ')"
   ]
  },
  {
   "cell_type": "code",
   "execution_count": 1,
   "metadata": {},
   "outputs": [
    {
     "data": {
      "text/plain": [
       "[0, 1, 2, 3, 4, 5, 6, 7, 8, 9]"
      ]
     },
     "execution_count": 1,
     "metadata": {},
     "output_type": "execute_result"
    }
   ],
   "source": [
    "# 내장리스트 : 동적으로 데이터 생성\n",
    "[i for i in range(10)]   # [실행문 + for문]"
   ]
  },
  {
   "cell_type": "code",
   "execution_count": 4,
   "metadata": {},
   "outputs": [
    {
     "data": {
      "text/plain": [
       "{0: 0, 1: 1, 2: 4, 3: 9, 4: 16, 5: 25, 6: 36, 7: 49, 8: 64, 9: 81}"
      ]
     },
     "execution_count": 4,
     "metadata": {},
     "output_type": "execute_result"
    }
   ],
   "source": [
    "{i:  i **2 for i in range(10)}   #dict도 가능"
   ]
  },
  {
   "cell_type": "code",
   "execution_count": 5,
   "metadata": {},
   "outputs": [
    {
     "data": {
      "text/plain": [
       "[0, 4, 16, 36, 64]"
      ]
     },
     "execution_count": 5,
     "metadata": {},
     "output_type": "execute_result"
    }
   ],
   "source": [
    "[i ** 2 for i in range(10) if i % 2 == 0 ]  # for문과 if문 결합도 가능"
   ]
  },
  {
   "cell_type": "code",
   "execution_count": 7,
   "metadata": {},
   "outputs": [
    {
     "data": {
      "text/plain": [
       "[(1, 10),\n",
       " (1, 11),\n",
       " (1, 12),\n",
       " (1, 13),\n",
       " (1, 14),\n",
       " (2, 10),\n",
       " (2, 11),\n",
       " (2, 12),\n",
       " (2, 13),\n",
       " (2, 14),\n",
       " (3, 10),\n",
       " (3, 11),\n",
       " (3, 12),\n",
       " (3, 13),\n",
       " (3, 14),\n",
       " (4, 10),\n",
       " (4, 11),\n",
       " (4, 12),\n",
       " (4, 13),\n",
       " (4, 14)]"
      ]
     },
     "execution_count": 7,
     "metadata": {},
     "output_type": "execute_result"
    }
   ],
   "source": [
    "rows = range(1, 5)\n",
    "cols = range(10, 15)\n",
    "vectors = [(r, c) for r in rows for c in cols]\n",
    "vectors\n",
    "# for r in rows :\n",
    "#    for c in cols :\n",
    "#        (r, c)"
   ]
  },
  {
   "cell_type": "code",
   "execution_count": 10,
   "metadata": {},
   "outputs": [
    {
     "data": {
      "text/plain": [
       "[1,\n",
       " 2,\n",
       " '3의 배수',\n",
       " 4,\n",
       " '5의 배수',\n",
       " '3의 배수',\n",
       " 7,\n",
       " 8,\n",
       " '3의 배수',\n",
       " '5의 배수',\n",
       " 11,\n",
       " '3의 배수',\n",
       " 13,\n",
       " 14,\n",
       " '3의 배수5의 배수',\n",
       " 16,\n",
       " 17,\n",
       " '3의 배수',\n",
       " 19,\n",
       " '5의 배수']"
      ]
     },
     "execution_count": 10,
     "metadata": {},
     "output_type": "execute_result"
    }
   ],
   "source": [
    "# 문자열 연산자 + , * ( 문자열 더하기, 반복하기 )\n",
    "# or : 앞이 참이면, 뒤의 것은 계산하지 않음\n",
    "# True = 1 , False = 0\n",
    "['3의 배수' * (i%3 == 0) + '5의 배수' * (i%5 == 0) or i for i in range(1, 21)]"
   ]
  },
  {
   "cell_type": "code",
   "execution_count": 11,
   "metadata": {},
   "outputs": [
    {
     "name": "stdin",
     "output_type": "stream",
     "text": [
      "점수를 입력하세요. 80\n"
     ]
    },
    {
     "name": "stdout",
     "output_type": "stream",
     "text": [
      "입력 점수 :  80\n",
      "B\n"
     ]
    }
   ],
   "source": [
    "# 점수를 입력 받아 A,B,C,D,F학점으로 출력하시오  ( 점수를 학점으로 mapping )\n",
    "\n",
    "\n",
    "while True:\n",
    "    score = int(input(\"점수를 입력하세요.\"))\n",
    "    print(\"입력 점수 : \", score)\n",
    "    \n",
    "    if score >= 90 :\n",
    "        print(\"A\")\n",
    "        break\n",
    "    elif score >= 80:\n",
    "        print(\"B\")\n",
    "        break\n",
    "    elif score >=70:\n",
    "        print(\"C\")\n",
    "        break\n",
    "    elif score >=60:\n",
    "        print(\"D\")\n",
    "        break\n",
    "    else :\n",
    "        print(\"F\")\n",
    "        break\n",
    "\n",
    "\n",
    "\n"
   ]
  },
  {
   "cell_type": "code",
   "execution_count": 18,
   "metadata": {},
   "outputs": [
    {
     "name": "stdin",
     "output_type": "stream",
     "text": [
      "번호를 입력하세요 1\n",
      "이름을 입력 1\n",
      "국어 점수 1\n",
      "영어 점수 1\n",
      "수학 점수 1\n",
      "번호를 입력하세요 1\n",
      "이름을 입력 1\n",
      "국어 점수 1\n",
      "영어 점수 1\n",
      "수학 점수 1\n",
      "번호를 입력하세요 1\n",
      "이름을 입력 1\n",
      "국어 점수 1\n",
      "영어 점수 1\n",
      "수학 점수 1\n"
     ]
    },
    {
     "name": "stdout",
     "output_type": "stream",
     "text": [
      "[['1', '1', 1, 1, 1], ['1', '1', 1, 1, 1], ['1', '1', 1, 1, 1]]\n"
     ]
    }
   ],
   "source": [
    "# 번호 이름 국어 영어 수학 점수를 입력하는 프로그램 작성(3명 분)\n",
    "# 2차원 리스트로 생성하는 것이 좋음\n",
    "final = []\n",
    "for i in range(3):\n",
    "    perA = []\n",
    "    num = input(\"번호를 입력하세요\")\n",
    "    name = input(\"이름을 입력\")\n",
    "    kor = int(input(\"국어 점수\"))\n",
    "    eng = int(input(\"영어 점수\"))\n",
    "    math = int(input(\"수학 점수\"))\n",
    "    perA.append(num)\n",
    "    perA.append(name)\n",
    "    perA.append(kor)\n",
    "    perA.append(eng)\n",
    "    perA.append(math)\n",
    "    final.append(perA)\n",
    "print(final)\n",
    "\n",
    "\n"
   ]
  },
  {
   "cell_type": "code",
   "execution_count": 39,
   "metadata": {},
   "outputs": [
    {
     "name": "stdin",
     "output_type": "stream",
     "text": [
      "번호를 입력하세요 1\n",
      "이름을 입력 현\n",
      "국어 점수 50\n",
      "영어 점수 60\n",
      "수학 점수 10\n",
      "번호를 입력하세요 2\n",
      "이름을 입력 동\n",
      "국어 점수 60\n",
      "영어 점수 50\n",
      "수학 점수 20\n",
      "번호를 입력하세요 3\n",
      "이름을 입력 엽\n",
      "국어 점수 80\n",
      "영어 점수 90\n",
      "수학 점수 50\n"
     ]
    },
    {
     "name": "stdout",
     "output_type": "stream",
     "text": [
      "[['1', '현', 50, 60, 10, 120, 40.0], ['2', '동', 60, 50, 20, 130, 43.33], ['3', '엽', 80, 90, 50, 220, 73.33]]\n"
     ]
    }
   ],
   "source": [
    "# 문제 : 합계와 평균을 구해서 추가시켜 보시오. 평균은 소수점 셋째자리에서 반올림하고, 둘째자리까지 표현\n",
    "\n",
    "\n",
    "final = []\n",
    "for i in range(3):\n",
    "    perA = []\n",
    "    num = input(\"번호를 입력하세요\")\n",
    "    name = input(\"이름을 입력\")\n",
    "    kor = int(input(\"국어 점수\"))\n",
    "    eng = int(input(\"영어 점수\"))\n",
    "    math = int(input(\"수학 점수\"))\n",
    "    mean = round((kor+eng+math) / 3,2)\n",
    "    sumsub = (kor+eng+math)\n",
    "    perA.append(num)\n",
    "    perA.append(name)\n",
    "    perA.append(kor)\n",
    "    perA.append(eng)\n",
    "    perA.append(math)\n",
    "    perA.append(sumsub)\n",
    "    perA.append(mean)\n",
    "    final.append(perA)\n",
    "print(final)\n",
    "\n",
    "\n"
   ]
  },
  {
   "cell_type": "code",
   "execution_count": 6,
   "metadata": {},
   "outputs": [
    {
     "name": "stdout",
     "output_type": "stream",
     "text": [
      "None\n",
      "['2', '동', 30, 40, 50, 120, 40.0]\n",
      "[['1', '현', 10, 20, 30, 60, 20.0], ['2', '동', 30, 40, 50, 120, 40.0], ['엽', '40', 50, 60, 70, 180, 60.0]]\n"
     ]
    }
   ],
   "source": [
    "# 정렬하고 싶은 경우 ( 이름으로 정렬 )\n",
    "# 기본 데이터 타입 : str, int, float, list, dict, set, tuple\n",
    "# 파이썬은 모든 것이 객체(변수 + 함수) : 사용자 정의 데이터 타입\n",
    "print(final.sort())\n",
    "# 함수를 key로 한다.\n",
    "print(final[1])\n",
    "def getKey(a1) :\n",
    "    return a1[1]\n",
    "final.sort(key = getKey, reverse = True)\n",
    "print(final)"
   ]
  },
  {
   "cell_type": "code",
   "execution_count": 7,
   "metadata": {},
   "outputs": [
    {
     "name": "stdout",
     "output_type": "stream",
     "text": [
      "[['1', '현', 10, 20, 30, 60, 20.0], ['2', '동', 30, 40, 50, 120, 40.0], ['엽', '40', 50, 60, 70, 180, 60.0]]\n"
     ]
    }
   ],
   "source": [
    "# lambda 함수 : 무명함수, 간단한 함수를 작성할 때 사용\n",
    "final.sort(key = lambda row: row[1], reverse = True)\n",
    "print(final)"
   ]
  },
  {
   "cell_type": "code",
   "execution_count": 9,
   "metadata": {},
   "outputs": [
    {
     "data": {
      "text/plain": [
       "9"
      ]
     },
     "execution_count": 9,
     "metadata": {},
     "output_type": "execute_result"
    }
   ],
   "source": [
    "len(final[0])"
   ]
  },
  {
   "cell_type": "code",
   "execution_count": 43,
   "metadata": {},
   "outputs": [
    {
     "name": "stdout",
     "output_type": "stream",
     "text": [
      "[['3', '엽', 80, 90, 50, 220, 73.33, 1, 1, 1, 1, 1, 1, 1], ['2', '동', 60, 50, 20, 130, 43.33, 2, 2, 2, 2, 2, 2, 2], ['1', '현', 50, 60, 10, 120, 40.0, 3, 3, 3, 3, 3, 3, 3]]\n",
      "번호 이름 국어 수학 영어 합계 평균 순위 "
     ]
    },
    {
     "ename": "IndexError",
     "evalue": "list index out of range",
     "output_type": "error",
     "traceback": [
      "\u001b[1;31m---------------------------------------------------------------------------\u001b[0m",
      "\u001b[1;31mIndexError\u001b[0m                                Traceback (most recent call last)",
      "\u001b[1;32m<ipython-input-43-26a34d6469fc>\u001b[0m in \u001b[0;36m<module>\u001b[1;34m\u001b[0m\n\u001b[0;32m     16\u001b[0m \u001b[0mtot_list\u001b[0m \u001b[1;33m=\u001b[0m \u001b[1;33m[\u001b[0m\u001b[1;34m'번호'\u001b[0m\u001b[1;33m,\u001b[0m\u001b[1;34m'이름'\u001b[0m\u001b[1;33m,\u001b[0m\u001b[1;34m'국어'\u001b[0m\u001b[1;33m,\u001b[0m\u001b[1;34m'수학'\u001b[0m\u001b[1;33m,\u001b[0m\u001b[1;34m'영어'\u001b[0m\u001b[1;33m,\u001b[0m\u001b[1;34m'합계'\u001b[0m\u001b[1;33m,\u001b[0m\u001b[1;34m'평균'\u001b[0m\u001b[1;33m,\u001b[0m\u001b[1;34m'순위'\u001b[0m\u001b[1;33m]\u001b[0m\u001b[1;33m\u001b[0m\u001b[1;33m\u001b[0m\u001b[0m\n\u001b[0;32m     17\u001b[0m \u001b[1;32mfor\u001b[0m \u001b[0mi\u001b[0m \u001b[1;32min\u001b[0m \u001b[0mrange\u001b[0m\u001b[1;33m(\u001b[0m\u001b[0mlen\u001b[0m\u001b[1;33m(\u001b[0m\u001b[0mfinal\u001b[0m\u001b[1;33m[\u001b[0m\u001b[1;36m0\u001b[0m\u001b[1;33m]\u001b[0m\u001b[1;33m)\u001b[0m\u001b[1;33m)\u001b[0m \u001b[1;33m:\u001b[0m\u001b[1;33m\u001b[0m\u001b[1;33m\u001b[0m\u001b[0m\n\u001b[1;32m---> 18\u001b[1;33m     \u001b[0mprint\u001b[0m\u001b[1;33m(\u001b[0m\u001b[0mtot_list\u001b[0m\u001b[1;33m[\u001b[0m\u001b[0mi\u001b[0m\u001b[1;33m]\u001b[0m\u001b[1;33m,\u001b[0m \u001b[0mend\u001b[0m \u001b[1;33m=\u001b[0m \u001b[1;34m' '\u001b[0m\u001b[1;33m)\u001b[0m\u001b[1;33m\u001b[0m\u001b[1;33m\u001b[0m\u001b[0m\n\u001b[0m\u001b[0;32m     19\u001b[0m \u001b[1;32mfor\u001b[0m \u001b[0mi\u001b[0m \u001b[1;32min\u001b[0m \u001b[0mrange\u001b[0m\u001b[1;33m(\u001b[0m\u001b[0mlen\u001b[0m\u001b[1;33m(\u001b[0m\u001b[0mfinal\u001b[0m\u001b[1;33m)\u001b[0m\u001b[1;33m)\u001b[0m \u001b[1;33m:\u001b[0m\u001b[1;33m\u001b[0m\u001b[1;33m\u001b[0m\u001b[0m\n\u001b[0;32m     20\u001b[0m     \u001b[0mprint\u001b[0m\u001b[1;33m(\u001b[0m\u001b[0mend\u001b[0m \u001b[1;33m=\u001b[0m \u001b[1;34m'\\n'\u001b[0m\u001b[1;33m)\u001b[0m\u001b[1;33m\u001b[0m\u001b[1;33m\u001b[0m\u001b[0m\n",
      "\u001b[1;31mIndexError\u001b[0m: list index out of range"
     ]
    }
   ],
   "source": [
    "# 등수를 입력하는 필드를 추가히시오\n",
    "\n",
    "final.sort(key = lambda row: row[5], reverse = True)\n",
    "\n",
    "rank = [1,2,3]\n",
    "for i in range(len(final)):\n",
    "    final[i].append(rank[i])\n",
    "print(final)\n",
    "\n",
    "len(final[0])\n",
    "rank  = 0\n",
    "for i in range(len(final)) :\n",
    "    rank = rank + 1\n",
    "    final[i].append(rank)\n",
    "final.sort(key = lambda row: row[0])\n",
    "tot_list = ['번호','이름','국어','수학','영어','합계','평균','순위']\n",
    "for i in range(len(final[0])) :\n",
    "    print(tot_list[i], end = ' ')\n",
    "for i in range(len(final)) :\n",
    "    print(end = '\\n')\n",
    "    for j in range(8) :\n",
    "        print(final[i][j], end = ' ')"
   ]
  },
  {
   "cell_type": "code",
   "execution_count": null,
   "metadata": {},
   "outputs": [],
   "source": [
    "문제 number guess(숫자 맞추기 게임 1:1)\n",
    "1) computer는 숫자를 랜덤으로 발생시킵니다.( 1 ~ 100 )\n",
    "2) 사용자는 숫자를 입력\n",
    "3) 컴퓨터가 낸 숫자와 사용자가 입력한 숫자가 일치하는지 확인하고 일치하면 확인하고 다시 다음게임으로 진행\n",
    "4) 만약 맞추지 못하면 사용자가 입력한 숫자가 컴퓨터가 가지고 있는 수보다 큰지 작은지 알림\n",
    "5) 무한 루프로 진행하던 게임은 q가 눌르면 종료\n",
    "6) 몇 회만에 맞추었는지를 확인하여 출력\n",
    "7) 총 진행횟수하고 guess회수를 누적시킨다음 평균 시도 횟수 출력"
   ]
  },
  {
   "cell_type": "code",
   "execution_count": 47,
   "metadata": {},
   "outputs": [
    {
     "name": "stdin",
     "output_type": "stream",
     "text": [
      "숫자를 입력하세요. 50\n"
     ]
    },
    {
     "name": "stdout",
     "output_type": "stream",
     "text": [
      "입력 숫자 :  50\n",
      "50  보다 작습니다.\n",
      "\n"
     ]
    },
    {
     "name": "stdin",
     "output_type": "stream",
     "text": [
      "숫자를 입력하세요. 30\n"
     ]
    },
    {
     "name": "stdout",
     "output_type": "stream",
     "text": [
      "입력 숫자 :  30\n",
      "30  보다 작습니다.\n",
      "\n"
     ]
    },
    {
     "name": "stdin",
     "output_type": "stream",
     "text": [
      "숫자를 입력하세요. 20\n"
     ]
    },
    {
     "name": "stdout",
     "output_type": "stream",
     "text": [
      "입력 숫자 :  20\n",
      "20  보다 작습니다.\n",
      "\n"
     ]
    },
    {
     "name": "stdin",
     "output_type": "stream",
     "text": [
      "숫자를 입력하세요. 10\n"
     ]
    },
    {
     "name": "stdout",
     "output_type": "stream",
     "text": [
      "입력 숫자 :  10\n",
      "10  보다 작습니다.\n",
      "\n"
     ]
    },
    {
     "name": "stdin",
     "output_type": "stream",
     "text": [
      "숫자를 입력하세요. 5\n"
     ]
    },
    {
     "name": "stdout",
     "output_type": "stream",
     "text": [
      "입력 숫자 :  5\n",
      "5  보다 큽니다.\n",
      "\n"
     ]
    },
    {
     "name": "stdin",
     "output_type": "stream",
     "text": [
      "숫자를 입력하세요. 6\n"
     ]
    },
    {
     "name": "stdout",
     "output_type": "stream",
     "text": [
      "입력 숫자 :  6\n",
      "게임 :  1\n",
      "시도횟수 :  6\n",
      "정답입니다!\n",
      "\n",
      "6\n",
      "\n"
     ]
    }
   ],
   "source": [
    "from random import randint\n",
    "n = randint(1, 101)\n",
    "count = 0\n",
    "game = 0\n",
    "\n",
    "while True:\n",
    "    num = (input(\"숫자를 입력하세요.\"))\n",
    "    if num.upper() == 'Q':\n",
    "        break\n",
    "        \n",
    "    print(\"입력 숫자 : \", num)\n",
    "    if int(num) == n :\n",
    "        count += 1\n",
    "        game += 1\n",
    "        print(\"게임 : \", game)\n",
    "        print(\"시도횟수 : \", count)\n",
    "        print(\"정답입니다!\", end = \"\\n\\n\")\n",
    "        n = randint(1, 101)\n",
    "        \n",
    "    elif int(num) < n :\n",
    "        print(num, \" 보다 큽니다.\", end = \"\\n\\n\")\n",
    "        count += 1\n",
    "        continue\n",
    "        \n",
    "    elif int(num) > n : \n",
    "        print(num, \" 보다 작습니다.\", end = \"\\n\\n\")\n",
    "        count += 1\n",
    "        continue\n",
    "        \n",
    "    else :\n",
    "        break\n",
    "print(count)\n",
    "print()\n",
    "        "
   ]
  },
  {
   "cell_type": "code",
   "execution_count": 51,
   "metadata": {},
   "outputs": [
    {
     "name": "stdin",
     "output_type": "stream",
     "text": [
      "제곱미터를 입력하세요.  120\n"
     ]
    },
    {
     "name": "stdout",
     "output_type": "stream",
     "text": [
      "입력 값 :  120\n",
      "중형\n"
     ]
    }
   ],
   "source": [
    "#문제 1 제곱미터로 입력되는 아파트 면적을 평형으로 계산하여 종류 판정\n",
    "#( 30평을 기준으로 판정 )하는 프로그램 작성\n",
    "#소형(17) 중소형(25) 중형(30)\n",
    "#평형수 = 제곱미터 / 3.305\n",
    "m2 = int(input(\"제곱미터를 입력하세요. \"))\n",
    "print(\"입력 값 : \", m2)\n",
    "s = 17*3.305\n",
    "ms = 25*3.305\n",
    "m = 30*3.305\n",
    "if m2 >= m :\n",
    "    print(\"중형\")\n",
    "elif m2 >= ms :\n",
    "    print(\"중소형\")\n",
    "else :\n",
    "    print(\"소형\")\n",
    "\n"
   ]
  },
  {
   "cell_type": "code",
   "execution_count": 58,
   "metadata": {},
   "outputs": [
    {
     "name": "stdin",
     "output_type": "stream",
     "text": [
      "계산 일을 입력하세요.     일 :  8\n"
     ]
    },
    {
     "name": "stdout",
     "output_type": "stream",
     "text": [
      "691200 초\n"
     ]
    }
   ],
   "source": [
    "#문제 2 날 수를 입력하면 이를 초로 변경하는 프로그램 작성\n",
    "day = 60 * 60 * 24\n",
    "d = int(input(\"계산 일을 입력하세요.     일 : \"))\n",
    "print(d * day,\"초\")"
   ]
  },
  {
   "cell_type": "code",
   "execution_count": 62,
   "metadata": {},
   "outputs": [
    {
     "name": "stdin",
     "output_type": "stream",
     "text": [
      "(소득을 입력하세요)  소득 : 65000000\n"
     ]
    },
    {
     "name": "stdout",
     "output_type": "stream",
     "text": [
      "46800000.0  만원\n",
      "연봉 :  65000000   세금 :  13650000.0 \n",
      " 세후연봉 :  51350000.0\n"
     ]
    }
   ],
   "source": [
    "#소득세 계산 : 소득 세율표를 구해보고 이를 이용하여 소득이 들어오면 세금이 \n",
    "#얼마인지 계산( 연봉, 단순히 세율만 적용 )\n",
    "# 1천만원 미만 시 , 연봉 9.5% / 1~4천 : 19 % / 4~8천 : 28% / 8천 이상 : 37%\n",
    "tax = 0.0\n",
    "income = int(input(\"(소득을 입력하세요)  소득 :\"))\n",
    "if income >= 80000000 :\n",
    "    print(income * 0.63,\" 만원\")\n",
    "elif income >= 40000000 :\n",
    "    print(income * 0.72,\" 만원\")\n",
    "elif income >= 10000000 :\n",
    "    print(income * 0.81,\" 만원\")\n",
    "else :\n",
    "    print(income * 0.905,\" 만원\")\n",
    "    \n",
    "if income < 10000000:\n",
    "    tax = income * 0.095\n",
    "elif income < 40000000:\n",
    "    tax = 10000000*0.095 + (income-10000000) * 0.19\n",
    "elif income < 80000000:\n",
    "    tax = 10000000*0.095 + 30000000* 0.19 + (income-40000000) * 0.28\n",
    "else :\n",
    "    tax = 10000000*0.095 + 30000000* 0.19 + 40000000*0.28 + (income - 80000000) * 0.37\n",
    "print(\"연봉 : \",income, \"  세금 : \",tax ,\"\\n\",\"세후연봉 : \", income-tax)"
   ]
  },
  {
   "cell_type": "code",
   "execution_count": 66,
   "metadata": {},
   "outputs": [
    {
     "name": "stdin",
     "output_type": "stream",
     "text": [
      "이용 인원수를 입력하세요. 10\n",
      "만 12세 이하 인원수를 입력하세요. 1\n",
      "청소년 인원수를 입력하세요. 1\n",
      "경로대상 인원수를 입력하세요. 1\n"
     ]
    },
    {
     "name": "stdout",
     "output_type": "stream",
     "text": [
      "1. 할인없음\n",
      "2. 일반카드\n",
      "3. VIP\n"
     ]
    },
    {
     "name": "stdin",
     "output_type": "stream",
     "text": [
      "할인 대상을 선택하세요. 2\n"
     ]
    },
    {
     "name": "stdout",
     "output_type": "stream",
     "text": [
      "인원 수(청소년:  1   어린이: 1   경로대상: 1   일반: 7\n",
      "이용요금 :  110700.0\n",
      "총요금은  99630.0 원 입니다.\n"
     ]
    }
   ],
   "source": [
    "#놀이공원 매표소 단체 입장료 계산하기\n",
    "#조건 : 팀별 인원 구성을 입력( 초등, 청소년, 일반인, 경로대상 )하면 입장료 소견표에\n",
    "# 정산요금 : 초등 ( 5000원 ), 청소년 ( 10000원 ), 일반인 ( 15000원 ), 경로대상 ( 3000원 )\n",
    "# 팀별 할인 카드 확인\n",
    "#카드 없음 : 할인 무, 일반카드 : 10% / VIP : 20%\n",
    "\n",
    "\n",
    "people = int(input(\"이용 인원수를 입력하세요.\"))\n",
    "child = int(input(\"만 12세 이하 인원수를 입력하세요.\"))\n",
    "teens = int(input(\"청소년 인원수를 입력하세요.\"))\n",
    "elderly = int(input(\"경로대상 인원수를 입력하세요.\"))\n",
    "print(\"1. 할인없음\\n2. 일반카드\\n3. VIP\")\n",
    "card = int(input(\"할인 대상을 선택하세요.\"))\n",
    "fee = 5000 * child + 10000*teens + 3000*elderly + 15000*(people-child-teens-elderly)\n",
    "if card == 1 :\n",
    "    fee\n",
    "elif card ==2 :\n",
    "    fee=fee*0.9\n",
    "else :\n",
    "    fee=fee*0.8\n",
    "print(\"인원 수(청소년: \",teens,\"  어린이:\",child, \"  경로대상:\",elderly,\"  일반:\",(people-child-teens-elderly))\n",
    "print(\"이용요금 : \",fee)\n",
    "\n",
    "## if문 사용하지 않을때\n",
    "#select = [fee, fee*0.9 , fee*0.8]\n",
    "#print(\"총요금은 \", select[card-1],\"원 입니다.\")"
   ]
  },
  {
   "cell_type": "code",
   "execution_count": 72,
   "metadata": {},
   "outputs": [
    {
     "name": "stdin",
     "output_type": "stream",
     "text": [
      "숫자를 입력하세요. 10\n"
     ]
    },
    {
     "name": "stdout",
     "output_type": "stream",
     "text": [
      "**********\n",
      "*********\n",
      "********\n",
      "*******\n",
      "******\n",
      "*****\n",
      "****\n",
      "***\n",
      "**\n",
      "*\n"
     ]
    }
   ],
   "source": [
    "numberOfRows = int(input(\"숫자를 입력하세요.\"))\n",
    "for i in range(numberOfRows):\n",
    "    for j in range(numberOfRows-i) :\n",
    "        print('*', end = '')\n",
    "    print()"
   ]
  },
  {
   "cell_type": "code",
   "execution_count": 78,
   "metadata": {},
   "outputs": [
    {
     "name": "stdin",
     "output_type": "stream",
     "text": [
      "숫자를 입력하세요. 10\n"
     ]
    },
    {
     "name": "stdout",
     "output_type": "stream",
     "text": [
      "           *           *           *           *           *           *           *           *           *           *\n",
      "          *          *          *          *          *          *          *          *          *\n",
      "         *         *         *         *         *         *         *         *\n",
      "        *        *        *        *        *        *        *\n",
      "       *       *       *       *       *       *\n",
      "      *      *      *      *      *\n",
      "     *     *     *     *\n",
      "    *    *    *\n",
      "   *   *\n",
      "  *\n"
     ]
    }
   ],
   "source": [
    "numberOfRows = int(input(\"숫자를 입력하세요.\"))\n",
    "for i in range(numberOfRows):\n",
    "    for j in range(numberOfRows-i) :\n",
    "        print(' '*(numberOfRows-i),'*', end = ''\n",
    "    print()"
   ]
  },
  {
   "cell_type": "code",
   "execution_count": 148,
   "metadata": {},
   "outputs": [
    {
     "name": "stdout",
     "output_type": "stream",
     "text": [
      "                    \n",
      "         *          \n",
      "         **         \n",
      "        ***         \n",
      "        ****        \n",
      "       *****        \n",
      "       ******       \n",
      "      *******       \n",
      "      ********      \n",
      "     *********      \n",
      "          *\n",
      "         ***\n",
      "        *****\n",
      "       *******\n",
      "      *********\n",
      "     ***********\n",
      "    *************\n",
      "   ***************\n",
      "  *****************\n",
      " *******************\n",
      "\n",
      "          *\n",
      "         ***\n",
      "        *****\n",
      "       *******\n",
      "      *********\n",
      "     ***********\n",
      "    *************\n",
      "   ***************\n",
      "  *****************\n",
      " *******************\n"
     ]
    }
   ],
   "source": [
    "for i in range(numberOfRows):\n",
    "    print('{0: ^20}'.format('*'*i))\n",
    "    \n",
    "for i in range(numberOfRows):\n",
    "    for k in range(numberOfRows-i):\n",
    "        print(\" \", end = '')\n",
    "    for j in range(i+1):\n",
    "        print('*', end= '')\n",
    "    for k in range(i):\n",
    "        print('*', end = '')\n",
    "    print()\n",
    "\n",
    "print('')\n",
    "for i in range(1,11):\n",
    "    print(' '*(10-i),'*'*(i*2-1))"
   ]
  },
  {
   "cell_type": "code",
   "execution_count": 112,
   "metadata": {},
   "outputs": [
    {
     "name": "stdout",
     "output_type": "stream",
     "text": [
      "\n",
      " *\n",
      " * *\n",
      " * * *\n",
      " * * * *\n",
      " * * * * *\n",
      " * * * * * *\n",
      " * * * * * * *\n",
      " * * * * * * * *\n",
      " * * * * * * * * *\n"
     ]
    }
   ],
   "source": [
    "numberOfRows = 10\n",
    "for i in range(numberOfRows):\n",
    "    for j in range(i) :\n",
    "        print(''*j,'*', end = '')\n",
    "    print()"
   ]
  },
  {
   "cell_type": "code",
   "execution_count": 154,
   "metadata": {},
   "outputs": [
    {
     "name": "stdout",
     "output_type": "stream",
     "text": [
      " \n",
      "* \n",
      "** \n",
      "*** \n",
      "**** \n",
      "*****\n",
      "****\n",
      "***\n",
      "**\n",
      "*\n",
      "\n",
      "*\n",
      "**\n",
      "***\n",
      "****\n",
      "*****\n",
      "****\n",
      "***\n",
      "**\n",
      "*\n"
     ]
    }
   ],
   "source": [
    "num = int(round(numberOfRows/2,0))\n",
    "for j in range(num):\n",
    "    print('*'*j,''*(num-j))\n",
    "for i in range(numberOfRows-num):\n",
    "    print('*'*(num-i))\n",
    "    \n",
    "    \n",
    "print('')\n",
    "for i in range(1,10):\n",
    "    print('*'*(i-int(i/6)*(i*2-10)))"
   ]
  },
  {
   "cell_type": "code",
   "execution_count": 145,
   "metadata": {},
   "outputs": [
    {
     "name": "stdout",
     "output_type": "stream",
     "text": [
      "            \n",
      "*           *\n",
      "**          **\n",
      "***         ***\n",
      "****        ****\n",
      "*****       *****\n",
      "******      ******\n",
      "*******     *******\n",
      "********    ********\n",
      "*********   *********\n",
      "\n",
      "            \n",
      "            *           *\n",
      "            *           ***          **\n",
      "            *           ***          *****         ***\n",
      "            *           ***          *****         *******        ****\n",
      "            *           ***          *****         *******        *********       *****\n",
      "            *           ***          *****         *******        *********       ***********      ******\n",
      "            *           ***          *****         *******        *********       ***********      *************     *******\n",
      "            *           ***          *****         *******        *********       ***********      *************     ***************    ********\n"
     ]
    }
   ],
   "source": [
    "for j in range(10):\n",
    "    print('*'*j,' '*(10-j),'*'*j)\n",
    "for i in range(10):\n",
    "    for j in range(i):\n",
    "            print('*'*j,' '*(10-j),'*'*j, end ='')\n",
    "    print()"
   ]
  },
  {
   "cell_type": "code",
   "execution_count": 133,
   "metadata": {},
   "outputs": [
    {
     "name": "stdout",
     "output_type": "stream",
     "text": [
      "*                               *\n",
      "**                              **\n",
      "*\n"
     ]
    }
   ],
   "source": []
  },
  {
   "cell_type": "code",
   "execution_count": null,
   "metadata": {},
   "outputs": [],
   "source": []
  }
 ],
 "metadata": {
  "kernelspec": {
   "display_name": "Python 3",
   "language": "python",
   "name": "python3"
  },
  "language_info": {
   "codemirror_mode": {
    "name": "ipython",
    "version": 3
   },
   "file_extension": ".py",
   "mimetype": "text/x-python",
   "name": "python",
   "nbconvert_exporter": "python",
   "pygments_lexer": "ipython3",
   "version": "3.7.4"
  }
 },
 "nbformat": 4,
 "nbformat_minor": 4
}
