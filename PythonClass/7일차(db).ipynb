{
 "cells": [
  {
   "cell_type": "code",
   "execution_count": 14,
   "metadata": {
    "collapsed": true,
    "jupyter": {
     "outputs_hidden": true
    }
   },
   "outputs": [
    {
     "ename": "InternalError",
     "evalue": "(1050, \"Table 'pet' already exists\")",
     "output_type": "error",
     "traceback": [
      "\u001b[1;31m---------------------------------------------------------------------------\u001b[0m",
      "\u001b[1;31mInternalError\u001b[0m                             Traceback (most recent call last)",
      "\u001b[1;32m<ipython-input-14-7f6296246652>\u001b[0m in \u001b[0;36m<module>\u001b[1;34m\u001b[0m\n\u001b[0;32m     20\u001b[0m           \u001b[0mdeat\u001b[0m \u001b[0mDATE\u001b[0m\u001b[1;33m,\u001b[0m\u001b[1;33m\u001b[0m\u001b[1;33m\u001b[0m\u001b[0m\n\u001b[0;32m     21\u001b[0m           PRIMARY KEY (id)) ENGINE=InnoDB AUTO_INCREMENT=1\n\u001b[1;32m---> 22\u001b[1;33m           ''')\n\u001b[0m\u001b[0;32m     23\u001b[0m \u001b[0mprint\u001b[0m\u001b[1;33m(\u001b[0m\u001b[0mcur\u001b[0m\u001b[1;33m.\u001b[0m\u001b[0mdescription\u001b[0m\u001b[1;33m)\u001b[0m\u001b[1;33m\u001b[0m\u001b[1;33m\u001b[0m\u001b[0m\n\u001b[0;32m     24\u001b[0m \u001b[0mconn\u001b[0m\u001b[1;33m.\u001b[0m\u001b[0mclose\u001b[0m\u001b[1;33m\u001b[0m\u001b[1;33m\u001b[0m\u001b[0m\n",
      "\u001b[1;32m~\\Anaconda3\\lib\\site-packages\\pymysql\\cursors.py\u001b[0m in \u001b[0;36mexecute\u001b[1;34m(self, query, args)\u001b[0m\n\u001b[0;32m    168\u001b[0m         \u001b[0mquery\u001b[0m \u001b[1;33m=\u001b[0m \u001b[0mself\u001b[0m\u001b[1;33m.\u001b[0m\u001b[0mmogrify\u001b[0m\u001b[1;33m(\u001b[0m\u001b[0mquery\u001b[0m\u001b[1;33m,\u001b[0m \u001b[0margs\u001b[0m\u001b[1;33m)\u001b[0m\u001b[1;33m\u001b[0m\u001b[1;33m\u001b[0m\u001b[0m\n\u001b[0;32m    169\u001b[0m \u001b[1;33m\u001b[0m\u001b[0m\n\u001b[1;32m--> 170\u001b[1;33m         \u001b[0mresult\u001b[0m \u001b[1;33m=\u001b[0m \u001b[0mself\u001b[0m\u001b[1;33m.\u001b[0m\u001b[0m_query\u001b[0m\u001b[1;33m(\u001b[0m\u001b[0mquery\u001b[0m\u001b[1;33m)\u001b[0m\u001b[1;33m\u001b[0m\u001b[1;33m\u001b[0m\u001b[0m\n\u001b[0m\u001b[0;32m    171\u001b[0m         \u001b[0mself\u001b[0m\u001b[1;33m.\u001b[0m\u001b[0m_executed\u001b[0m \u001b[1;33m=\u001b[0m \u001b[0mquery\u001b[0m\u001b[1;33m\u001b[0m\u001b[1;33m\u001b[0m\u001b[0m\n\u001b[0;32m    172\u001b[0m         \u001b[1;32mreturn\u001b[0m \u001b[0mresult\u001b[0m\u001b[1;33m\u001b[0m\u001b[1;33m\u001b[0m\u001b[0m\n",
      "\u001b[1;32m~\\Anaconda3\\lib\\site-packages\\pymysql\\cursors.py\u001b[0m in \u001b[0;36m_query\u001b[1;34m(self, q)\u001b[0m\n\u001b[0;32m    326\u001b[0m         \u001b[0mself\u001b[0m\u001b[1;33m.\u001b[0m\u001b[0m_last_executed\u001b[0m \u001b[1;33m=\u001b[0m \u001b[0mq\u001b[0m\u001b[1;33m\u001b[0m\u001b[1;33m\u001b[0m\u001b[0m\n\u001b[0;32m    327\u001b[0m         \u001b[0mself\u001b[0m\u001b[1;33m.\u001b[0m\u001b[0m_clear_result\u001b[0m\u001b[1;33m(\u001b[0m\u001b[1;33m)\u001b[0m\u001b[1;33m\u001b[0m\u001b[1;33m\u001b[0m\u001b[0m\n\u001b[1;32m--> 328\u001b[1;33m         \u001b[0mconn\u001b[0m\u001b[1;33m.\u001b[0m\u001b[0mquery\u001b[0m\u001b[1;33m(\u001b[0m\u001b[0mq\u001b[0m\u001b[1;33m)\u001b[0m\u001b[1;33m\u001b[0m\u001b[1;33m\u001b[0m\u001b[0m\n\u001b[0m\u001b[0;32m    329\u001b[0m         \u001b[0mself\u001b[0m\u001b[1;33m.\u001b[0m\u001b[0m_do_get_result\u001b[0m\u001b[1;33m(\u001b[0m\u001b[1;33m)\u001b[0m\u001b[1;33m\u001b[0m\u001b[1;33m\u001b[0m\u001b[0m\n\u001b[0;32m    330\u001b[0m         \u001b[1;32mreturn\u001b[0m \u001b[0mself\u001b[0m\u001b[1;33m.\u001b[0m\u001b[0mrowcount\u001b[0m\u001b[1;33m\u001b[0m\u001b[1;33m\u001b[0m\u001b[0m\n",
      "\u001b[1;32m~\\Anaconda3\\lib\\site-packages\\pymysql\\connections.py\u001b[0m in \u001b[0;36mquery\u001b[1;34m(self, sql, unbuffered)\u001b[0m\n\u001b[0;32m    515\u001b[0m                 \u001b[0msql\u001b[0m \u001b[1;33m=\u001b[0m \u001b[0msql\u001b[0m\u001b[1;33m.\u001b[0m\u001b[0mencode\u001b[0m\u001b[1;33m(\u001b[0m\u001b[0mself\u001b[0m\u001b[1;33m.\u001b[0m\u001b[0mencoding\u001b[0m\u001b[1;33m,\u001b[0m \u001b[1;34m'surrogateescape'\u001b[0m\u001b[1;33m)\u001b[0m\u001b[1;33m\u001b[0m\u001b[1;33m\u001b[0m\u001b[0m\n\u001b[0;32m    516\u001b[0m         \u001b[0mself\u001b[0m\u001b[1;33m.\u001b[0m\u001b[0m_execute_command\u001b[0m\u001b[1;33m(\u001b[0m\u001b[0mCOMMAND\u001b[0m\u001b[1;33m.\u001b[0m\u001b[0mCOM_QUERY\u001b[0m\u001b[1;33m,\u001b[0m \u001b[0msql\u001b[0m\u001b[1;33m)\u001b[0m\u001b[1;33m\u001b[0m\u001b[1;33m\u001b[0m\u001b[0m\n\u001b[1;32m--> 517\u001b[1;33m         \u001b[0mself\u001b[0m\u001b[1;33m.\u001b[0m\u001b[0m_affected_rows\u001b[0m \u001b[1;33m=\u001b[0m \u001b[0mself\u001b[0m\u001b[1;33m.\u001b[0m\u001b[0m_read_query_result\u001b[0m\u001b[1;33m(\u001b[0m\u001b[0munbuffered\u001b[0m\u001b[1;33m=\u001b[0m\u001b[0munbuffered\u001b[0m\u001b[1;33m)\u001b[0m\u001b[1;33m\u001b[0m\u001b[1;33m\u001b[0m\u001b[0m\n\u001b[0m\u001b[0;32m    518\u001b[0m         \u001b[1;32mreturn\u001b[0m \u001b[0mself\u001b[0m\u001b[1;33m.\u001b[0m\u001b[0m_affected_rows\u001b[0m\u001b[1;33m\u001b[0m\u001b[1;33m\u001b[0m\u001b[0m\n\u001b[0;32m    519\u001b[0m \u001b[1;33m\u001b[0m\u001b[0m\n",
      "\u001b[1;32m~\\Anaconda3\\lib\\site-packages\\pymysql\\connections.py\u001b[0m in \u001b[0;36m_read_query_result\u001b[1;34m(self, unbuffered)\u001b[0m\n\u001b[0;32m    730\u001b[0m         \u001b[1;32melse\u001b[0m\u001b[1;33m:\u001b[0m\u001b[1;33m\u001b[0m\u001b[1;33m\u001b[0m\u001b[0m\n\u001b[0;32m    731\u001b[0m             \u001b[0mresult\u001b[0m \u001b[1;33m=\u001b[0m \u001b[0mMySQLResult\u001b[0m\u001b[1;33m(\u001b[0m\u001b[0mself\u001b[0m\u001b[1;33m)\u001b[0m\u001b[1;33m\u001b[0m\u001b[1;33m\u001b[0m\u001b[0m\n\u001b[1;32m--> 732\u001b[1;33m             \u001b[0mresult\u001b[0m\u001b[1;33m.\u001b[0m\u001b[0mread\u001b[0m\u001b[1;33m(\u001b[0m\u001b[1;33m)\u001b[0m\u001b[1;33m\u001b[0m\u001b[1;33m\u001b[0m\u001b[0m\n\u001b[0m\u001b[0;32m    733\u001b[0m         \u001b[0mself\u001b[0m\u001b[1;33m.\u001b[0m\u001b[0m_result\u001b[0m \u001b[1;33m=\u001b[0m \u001b[0mresult\u001b[0m\u001b[1;33m\u001b[0m\u001b[1;33m\u001b[0m\u001b[0m\n\u001b[0;32m    734\u001b[0m         \u001b[1;32mif\u001b[0m \u001b[0mresult\u001b[0m\u001b[1;33m.\u001b[0m\u001b[0mserver_status\u001b[0m \u001b[1;32mis\u001b[0m \u001b[1;32mnot\u001b[0m \u001b[1;32mNone\u001b[0m\u001b[1;33m:\u001b[0m\u001b[1;33m\u001b[0m\u001b[1;33m\u001b[0m\u001b[0m\n",
      "\u001b[1;32m~\\Anaconda3\\lib\\site-packages\\pymysql\\connections.py\u001b[0m in \u001b[0;36mread\u001b[1;34m(self)\u001b[0m\n\u001b[0;32m   1073\u001b[0m     \u001b[1;32mdef\u001b[0m \u001b[0mread\u001b[0m\u001b[1;33m(\u001b[0m\u001b[0mself\u001b[0m\u001b[1;33m)\u001b[0m\u001b[1;33m:\u001b[0m\u001b[1;33m\u001b[0m\u001b[1;33m\u001b[0m\u001b[0m\n\u001b[0;32m   1074\u001b[0m         \u001b[1;32mtry\u001b[0m\u001b[1;33m:\u001b[0m\u001b[1;33m\u001b[0m\u001b[1;33m\u001b[0m\u001b[0m\n\u001b[1;32m-> 1075\u001b[1;33m             \u001b[0mfirst_packet\u001b[0m \u001b[1;33m=\u001b[0m \u001b[0mself\u001b[0m\u001b[1;33m.\u001b[0m\u001b[0mconnection\u001b[0m\u001b[1;33m.\u001b[0m\u001b[0m_read_packet\u001b[0m\u001b[1;33m(\u001b[0m\u001b[1;33m)\u001b[0m\u001b[1;33m\u001b[0m\u001b[1;33m\u001b[0m\u001b[0m\n\u001b[0m\u001b[0;32m   1076\u001b[0m \u001b[1;33m\u001b[0m\u001b[0m\n\u001b[0;32m   1077\u001b[0m             \u001b[1;32mif\u001b[0m \u001b[0mfirst_packet\u001b[0m\u001b[1;33m.\u001b[0m\u001b[0mis_ok_packet\u001b[0m\u001b[1;33m(\u001b[0m\u001b[1;33m)\u001b[0m\u001b[1;33m:\u001b[0m\u001b[1;33m\u001b[0m\u001b[1;33m\u001b[0m\u001b[0m\n",
      "\u001b[1;32m~\\Anaconda3\\lib\\site-packages\\pymysql\\connections.py\u001b[0m in \u001b[0;36m_read_packet\u001b[1;34m(self, packet_type)\u001b[0m\n\u001b[0;32m    682\u001b[0m \u001b[1;33m\u001b[0m\u001b[0m\n\u001b[0;32m    683\u001b[0m         \u001b[0mpacket\u001b[0m \u001b[1;33m=\u001b[0m \u001b[0mpacket_type\u001b[0m\u001b[1;33m(\u001b[0m\u001b[0mbuff\u001b[0m\u001b[1;33m,\u001b[0m \u001b[0mself\u001b[0m\u001b[1;33m.\u001b[0m\u001b[0mencoding\u001b[0m\u001b[1;33m)\u001b[0m\u001b[1;33m\u001b[0m\u001b[1;33m\u001b[0m\u001b[0m\n\u001b[1;32m--> 684\u001b[1;33m         \u001b[0mpacket\u001b[0m\u001b[1;33m.\u001b[0m\u001b[0mcheck_error\u001b[0m\u001b[1;33m(\u001b[0m\u001b[1;33m)\u001b[0m\u001b[1;33m\u001b[0m\u001b[1;33m\u001b[0m\u001b[0m\n\u001b[0m\u001b[0;32m    685\u001b[0m         \u001b[1;32mreturn\u001b[0m \u001b[0mpacket\u001b[0m\u001b[1;33m\u001b[0m\u001b[1;33m\u001b[0m\u001b[0m\n\u001b[0;32m    686\u001b[0m \u001b[1;33m\u001b[0m\u001b[0m\n",
      "\u001b[1;32m~\\Anaconda3\\lib\\site-packages\\pymysql\\protocol.py\u001b[0m in \u001b[0;36mcheck_error\u001b[1;34m(self)\u001b[0m\n\u001b[0;32m    218\u001b[0m             \u001b[0merrno\u001b[0m \u001b[1;33m=\u001b[0m \u001b[0mself\u001b[0m\u001b[1;33m.\u001b[0m\u001b[0mread_uint16\u001b[0m\u001b[1;33m(\u001b[0m\u001b[1;33m)\u001b[0m\u001b[1;33m\u001b[0m\u001b[1;33m\u001b[0m\u001b[0m\n\u001b[0;32m    219\u001b[0m             \u001b[1;32mif\u001b[0m \u001b[0mDEBUG\u001b[0m\u001b[1;33m:\u001b[0m \u001b[0mprint\u001b[0m\u001b[1;33m(\u001b[0m\u001b[1;34m\"errno =\"\u001b[0m\u001b[1;33m,\u001b[0m \u001b[0merrno\u001b[0m\u001b[1;33m)\u001b[0m\u001b[1;33m\u001b[0m\u001b[1;33m\u001b[0m\u001b[0m\n\u001b[1;32m--> 220\u001b[1;33m             \u001b[0merr\u001b[0m\u001b[1;33m.\u001b[0m\u001b[0mraise_mysql_exception\u001b[0m\u001b[1;33m(\u001b[0m\u001b[0mself\u001b[0m\u001b[1;33m.\u001b[0m\u001b[0m_data\u001b[0m\u001b[1;33m)\u001b[0m\u001b[1;33m\u001b[0m\u001b[1;33m\u001b[0m\u001b[0m\n\u001b[0m\u001b[0;32m    221\u001b[0m \u001b[1;33m\u001b[0m\u001b[0m\n\u001b[0;32m    222\u001b[0m     \u001b[1;32mdef\u001b[0m \u001b[0mdump\u001b[0m\u001b[1;33m(\u001b[0m\u001b[0mself\u001b[0m\u001b[1;33m)\u001b[0m\u001b[1;33m:\u001b[0m\u001b[1;33m\u001b[0m\u001b[1;33m\u001b[0m\u001b[0m\n",
      "\u001b[1;32m~\\Anaconda3\\lib\\site-packages\\pymysql\\err.py\u001b[0m in \u001b[0;36mraise_mysql_exception\u001b[1;34m(data)\u001b[0m\n\u001b[0;32m    107\u001b[0m         \u001b[0merrval\u001b[0m \u001b[1;33m=\u001b[0m \u001b[0mdata\u001b[0m\u001b[1;33m[\u001b[0m\u001b[1;36m3\u001b[0m\u001b[1;33m:\u001b[0m\u001b[1;33m]\u001b[0m\u001b[1;33m.\u001b[0m\u001b[0mdecode\u001b[0m\u001b[1;33m(\u001b[0m\u001b[1;34m'utf-8'\u001b[0m\u001b[1;33m,\u001b[0m \u001b[1;34m'replace'\u001b[0m\u001b[1;33m)\u001b[0m\u001b[1;33m\u001b[0m\u001b[1;33m\u001b[0m\u001b[0m\n\u001b[0;32m    108\u001b[0m     \u001b[0merrorclass\u001b[0m \u001b[1;33m=\u001b[0m \u001b[0merror_map\u001b[0m\u001b[1;33m.\u001b[0m\u001b[0mget\u001b[0m\u001b[1;33m(\u001b[0m\u001b[0merrno\u001b[0m\u001b[1;33m,\u001b[0m \u001b[0mInternalError\u001b[0m\u001b[1;33m)\u001b[0m\u001b[1;33m\u001b[0m\u001b[1;33m\u001b[0m\u001b[0m\n\u001b[1;32m--> 109\u001b[1;33m     \u001b[1;32mraise\u001b[0m \u001b[0merrorclass\u001b[0m\u001b[1;33m(\u001b[0m\u001b[0merrno\u001b[0m\u001b[1;33m,\u001b[0m \u001b[0merrval\u001b[0m\u001b[1;33m)\u001b[0m\u001b[1;33m\u001b[0m\u001b[1;33m\u001b[0m\u001b[0m\n\u001b[0m",
      "\u001b[1;31mInternalError\u001b[0m: (1050, \"Table 'pet' already exists\")"
     ]
    }
   ],
   "source": [
    "import pymysql   \n",
    "\n",
    "conn = pymysql.connect(host =\"192.168.1.245\",\n",
    "                      user = \"root\",\n",
    "                      port = 3306,\n",
    "                      password = \"hyeon0318!\",\n",
    "                      db = \"acornschool\",\n",
    "                      charset = \"utf8mb4\",\n",
    "                      use_unicode = True,\n",
    "                      cursorclass = pymysql.cursors.DictCursor)  # dictcursor : key data형식으로 데이터를 다루겠다\n",
    "cur = conn.cursor()\n",
    "\n",
    "cur.execute('''CREATE TABlE pet (\n",
    "          id INT NOT NULL AUTO_INCREMENT,\n",
    "          name VARCHAR(20),\n",
    "          owner VARCHAR(20),\n",
    "          species VARCHAR(20),\n",
    "          sex CHAR(1),\n",
    "          birth DATE,\n",
    "          deat DATE,\n",
    "          PRIMARY KEY (id)) ENGINE=InnoDB AUTO_INCREMENT=1\n",
    "          ''')\n",
    "print(cur.description)\n",
    "conn.close\n",
    "# 네트워크 접속은 OS에서 관리함\n",
    "# 연결시켜놓고 놔두면 소모가 되어, 반드시 close를 시켜야함 \n",
    "\n",
    "sql = '''insert into pet(name, owner,species,sex,birth,death\n",
    "         values (%s, %s, %s, %s, %s, %s))'''\n",
    "cur.execute(sql, (\"유리\", \"acorn\", \"고양이\", \"f\", \"2014-1-1\", \"2016-2-1\"))\n",
    "cur.execute(sql, (\"귀염\", \"acorn\", \"강아지\", \"f\", \"2014-3-1\", \"2016-9-1\"))\n",
    "cur.execute(sql, (\"돌이\", \"acorn\", \"곰\", \"f\", \"2014-8-1\", \"2018-2-1\"))\n",
    "conn.commit()"
   ]
  },
  {
   "cell_type": "code",
   "execution_count": 87,
   "metadata": {},
   "outputs": [
    {
     "name": "stdout",
     "output_type": "stream",
     "text": [
      "5\n"
     ]
    },
    {
     "data": {
      "text/plain": [
       "<bound method Connection.close of <pymysql.connections.Connection object at 0x0000026BB1BE2108>>"
      ]
     },
     "execution_count": 87,
     "metadata": {},
     "output_type": "execute_result"
    }
   ],
   "source": [
    "import pymysql\n",
    "conn = pymysql.connect(host =\"192.168.1.245\",\n",
    "                      user = \"root\",\n",
    "                      port = 3306,\n",
    "                      password = \"hyeon0318!\",\n",
    "                      db = \"acornschool\",\n",
    "                      charset = \"utf8mb4\",\n",
    "                      use_unicode = True,\n",
    "                      cursorclass = pymysql.cursors.DictCursor)  # dictcursor : key data형식으로 데이터를 다루겠다\n",
    "cur = conn.cursor()\n",
    "\n",
    "sql = '''INSERT INTO pet(name, owner,species,sex,birth,deat)\n",
    "         VALUES(%s, %s, %s, %s, %s, %s)'''\n",
    "cur.execute(sql, (\"유리\", \"acorn\", \"고양이\", \"f\", \"2014-1-1\", \"2016-2-1\"))\n",
    "cur.execute(sql, (\"귀염\", \"acorn\", \"강아지\", \"f\", \"2014-3-1\", \"2016-9-1\"))\n",
    "cur.execute(sql, (\"돌이\", \"acorn\", \"곰\", \"f\", \"2014-8-1\", \"2018-2-1\"))\n",
    "conn.commit()\n",
    "\n",
    "cur.executemany(sql,[('대한','민주','cat','f','2001-02-4',None),\n",
    "                    ('민국','자유','cat','f','2010-03-17',None),\n",
    "                    ('만세','민주','cat','f','2010-05-13',None),\n",
    "                    ('하자','민주','cat','m','2010-08-27',None),\n",
    "                    ('성공','자유','cat','m','2010-03-17','2018-04-29')])\n",
    "conn.commit()\n",
    "print(cur.rowcount)\n",
    "conn.close"
   ]
  },
  {
   "cell_type": "code",
   "execution_count": 88,
   "metadata": {},
   "outputs": [
    {
     "name": "stdout",
     "output_type": "stream",
     "text": [
      "8\n",
      "{'id': 35, 'name': '대한', 'owner': '민주', 'species': 'cat', 'sex': 'f', 'birth': datetime.date(2001, 2, 4), 'deat': None}\n",
      "{'id': 36, 'name': '민국', 'owner': '자유', 'species': 'cat', 'sex': 'f', 'birth': datetime.date(2010, 3, 17), 'deat': None}\n",
      "{'id': 37, 'name': '만세', 'owner': '민주', 'species': 'cat', 'sex': 'f', 'birth': datetime.date(2010, 5, 13), 'deat': None}\n",
      "{'id': 38, 'name': '하자', 'owner': '민주', 'species': 'cat', 'sex': 'm', 'birth': datetime.date(2010, 8, 27), 'deat': None}\n",
      "{'id': 39, 'name': '성공', 'owner': '자유', 'species': 'cat', 'sex': 'm', 'birth': datetime.date(2010, 3, 17), 'deat': datetime.date(2018, 4, 29)}\n"
     ]
    }
   ],
   "source": [
    "conn = pymysql.connect(host =\"192.168.1.245\",\n",
    "                      user = \"root\",\n",
    "                      port = 3306,\n",
    "                      password = \"hyeon0318!\",\n",
    "                      db = \"acornschool\",\n",
    "                      charset = \"utf8mb4\",\n",
    "                      use_unicode = True,\n",
    "                      cursorclass = pymysql.cursors.DictCursor)  # dictcursor : key data형식으로 데이터를 다루겠다\n",
    "cur = conn.cursor()\n",
    "\n",
    "sql = \"select * from pet\"  # RecordSet 생성\n",
    "cur.execute(sql)  \n",
    "print(cur.rowcount)  # 8\n",
    "cur.description  # 설명\n",
    "\n",
    "\n",
    "cur.fetchone()\n",
    "cur.fetchone()\n",
    "cur.fetchone()\n",
    "\n",
    "recs = cur.fetchmany(2)\n",
    "for rec in recs:\n",
    "    print(rec)\n",
    "recs = cur.fetchall()\n",
    "for rec in recs:\n",
    "    print(rec)\n",
    "\n",
    "cur.close()\n",
    "conn.close()"
   ]
  },
  {
   "cell_type": "code",
   "execution_count": 89,
   "metadata": {},
   "outputs": [
    {
     "name": "stdout",
     "output_type": "stream",
     "text": [
      "[32, '유리', 'acorn', '고양이', 'f', datetime.date(2014, 1, 1), datetime.date(2016, 2, 1)]\n",
      "[33, '귀염', 'acorn', '강아지', 'f', datetime.date(2014, 3, 1), datetime.date(2016, 9, 1)]\n",
      "[34, '돌이', 'acorn', '곰', 'f', datetime.date(2014, 8, 1), datetime.date(2018, 2, 1)]\n",
      "1\n",
      "1\n"
     ]
    }
   ],
   "source": [
    "# 문제 : 생일이 2015-01-01이후인 pet을 출력\n",
    "\n",
    "conn = pymysql.connect(host =\"192.168.1.245\",\n",
    "                      user = \"root\",\n",
    "                      port = 3306,\n",
    "                      password = \"hyeon0318!\",\n",
    "                      db = \"acornschool\",\n",
    "                      charset = \"utf8mb4\",\n",
    "                      use_unicode = True,\n",
    "                      cursorclass = pymysql.cursors.DictCursor)  # dictcursor : key data형식으로 데이터를 다루겠다\n",
    "cur = conn.cursor()\n",
    "\n",
    "sql = \"select * from pet WHERE birth >= '2014-1-1'\"\n",
    "cur.execute(sql)\n",
    "row = cur.fetchall()\n",
    "for pet in row:\n",
    "    pet_val = list(pet.values())\n",
    "    print(pet_val)\n",
    "\n",
    "#문제 : 유리을 초심으로 업데이트\n",
    "sql = \"update pet set name =%s where name = %s\"\n",
    "cur.execute(sql,(\"초심\",\"유리\"))\n",
    "conn.commit()\n",
    "print( cur.rowcount)\n",
    "\n",
    "# 문제 : 유리를 삭제\n",
    "sql = \"delete from pet where name = %s\"\n",
    "cur.execute(sql,\"초심\")\n",
    "conn.commit()\n",
    "print(cur.rowcount)\n",
    "\n",
    "cur.close()\n",
    "conn.close()\n"
   ]
  },
  {
   "cell_type": "code",
   "execution_count": 90,
   "metadata": {},
   "outputs": [
    {
     "name": "stdout",
     "output_type": "stream",
     "text": [
      "[{'id': 33, 'name': '귀염', 'owner': 'acorn', 'species': '강아지', 'sex': 'f', 'birth': datetime.date(2014, 3, 1), 'deat': datetime.date(2016, 9, 1)}, {'id': 34, 'name': '돌이', 'owner': 'acorn', 'species': '곰', 'sex': 'f', 'birth': datetime.date(2014, 8, 1), 'deat': datetime.date(2018, 2, 1)}, {'id': 35, 'name': '대한', 'owner': '민주', 'species': 'cat', 'sex': 'f', 'birth': datetime.date(2001, 2, 4), 'deat': None}, {'id': 36, 'name': '민국', 'owner': '자유', 'species': 'cat', 'sex': 'f', 'birth': datetime.date(2010, 3, 17), 'deat': None}, {'id': 37, 'name': '만세', 'owner': '민주', 'species': 'cat', 'sex': 'f', 'birth': datetime.date(2010, 5, 13), 'deat': None}, {'id': 38, 'name': '하자', 'owner': '민주', 'species': 'cat', 'sex': 'm', 'birth': datetime.date(2010, 8, 27), 'deat': None}, {'id': 39, 'name': '성공', 'owner': '자유', 'species': 'cat', 'sex': 'm', 'birth': datetime.date(2010, 3, 17), 'deat': datetime.date(2018, 4, 29)}]\n"
     ]
    }
   ],
   "source": [
    "# 프로시져 테스트( 저장루틴 )\n",
    "\n",
    "conn = pymysql.connect(host =\"192.168.1.245\",\n",
    "                      user = \"root\",\n",
    "                      port = 3306,\n",
    "                      password = \"hyeon0318!\",\n",
    "                      db = \"acornschool\",\n",
    "                      charset = \"utf8mb4\",\n",
    "                      use_unicode = True,\n",
    "                      cursorclass = pymysql.cursors.DictCursor)  # dictcursor : key data형식으로 데이터를 다루겠다\n",
    "cur = conn.cursor()\n",
    "\n",
    "cur.callproc('pet_select')\n",
    "if cur.rowcount :\n",
    "    print(cur.fetchall())\n",
    "\n",
    "    \n",
    "cur.close()\n",
    "conn.close()"
   ]
  },
  {
   "cell_type": "code",
   "execution_count": 91,
   "metadata": {},
   "outputs": [],
   "source": [
    "# 문제  : insert를 하는 프로시져를 생성한 다음\n",
    "# 데이터를 추가하세요\n",
    "data = (\"마음이\", \"acorn\",\"백구\",\"f\",\"2018-01-02\",\"2018-11-04\")\n",
    "\n",
    "conn = pymysql.connect(host =\"192.168.1.245\",\n",
    "                      user = \"root\",\n",
    "                      port = 3306,\n",
    "                      password = \"hyeon0318!\",\n",
    "                      db = \"acornschool\",\n",
    "                      charset = \"utf8mb4\",\n",
    "                      use_unicode = True,\n",
    "                      cursorclass = pymysql.cursors.DictCursor)  # dictcursor : key data형식으로 데이터를 다루겠다\n",
    "cur = conn.cursor()\n",
    "\n",
    "cur.callproc('pet_insert',data)\n",
    "conn.commit()\n",
    "cur.close()\n",
    "conn.close()\n",
    "\n",
    "\n"
   ]
  },
  {
   "cell_type": "code",
   "execution_count": 102,
   "metadata": {},
   "outputs": [
    {
     "name": "stdout",
     "output_type": "stream",
     "text": [
      "{'@_per_update1_2': 2}\n",
      "2\n",
      "수정할 이름이 없습니다.\n"
     ]
    }
   ],
   "source": [
    "# 문제 : 이름을 update 하는 프로시져를 작성하고\n",
    "# 마음이를 마음으로 수정 \n",
    "\n",
    "conn = pymysql.connect(host =\"192.168.1.245\",\n",
    "                      user = \"root\",\n",
    "                      port = 3306,\n",
    "                      password = \"hyeon0318!\",\n",
    "                      db = \"acornschool\",\n",
    "                      charset = \"utf8mb4\",\n",
    "                      use_unicode = True,\n",
    "                      cursorclass = pymysql.cursors.DictCursor)  # dictcursor : key data형식으로 데이터를 다루겠다\n",
    "cur = conn.cursor()\n",
    "\n",
    "data = (\"마음\",\"마음이\", 0)\n",
    "cur.callproc('per_update1',data)\n",
    "cur.execute('select @_per_update1_2') # _0 : 마음이 / _1 : 마음 _3 : res값( 저장루틴에 작성 -   0이면 성공 2면 실패 )\n",
    "result = cur.fetchone()\n",
    "print(result)\n",
    "print(result['@_per_update1_2']) # key 데이터 형식\n",
    "if result['@_per_update1_2'] == 2:\n",
    "    print(\"수정할 이름이 없습니다.\")\n",
    "else :\n",
    "    print(\"성공적으로 수정되었습니다.\")\n",
    "conn.commit()\n",
    "cur.close()\n",
    "conn.close()\n"
   ]
  },
  {
   "cell_type": "code",
   "execution_count": 103,
   "metadata": {},
   "outputs": [
    {
     "name": "stdout",
     "output_type": "stream",
     "text": [
      "0\n",
      "삭제완료\n"
     ]
    }
   ],
   "source": [
    "conn = pymysql.connect(host =\"192.168.1.245\",\n",
    "                      user = \"root\",\n",
    "                      port = 3306,\n",
    "                      password = \"hyeon0318!\",\n",
    "                      db = \"acornschool\",\n",
    "                      charset = \"utf8mb4\",\n",
    "                      use_unicode = True,\n",
    "                      cursorclass = pymysql.cursors.DictCursor)  # dictcursor : key data형식으로 데이터를 다루겠다\n",
    "cur = conn.cursor()\n",
    "\n",
    "data = (\"귀염\",0)\n",
    "cur.callproc(\"pet_delete\", data)\n",
    "cur.execute(\"select @_pet_delete_1\")\n",
    "result = cur.fetchone()\n",
    "print(result['@_pet_delete_1'])\n",
    "if result['@_pet_delete_1'] == 2:\n",
    "    print(\"삭제할 이름이 업습니다.\")\n",
    "else : \n",
    "    print(\"삭제완료\")\n",
    "cur.close()\n",
    "conn.close()"
   ]
  },
  {
   "cell_type": "code",
   "execution_count": 110,
   "metadata": {},
   "outputs": [
    {
     "name": "stdout",
     "output_type": "stream",
     "text": [
      "0\n",
      "삭제완료\n"
     ]
    }
   ],
   "source": [
    "conn = pymysql.connect(host =\"192.168.1.245\",\n",
    "                      user = \"root\",\n",
    "                      port = 3306,\n",
    "                      password = \"hyeon0318!\",\n",
    "                      db = \"acornschool\",\n",
    "                      charset = \"utf8mb4\",\n",
    "                      use_unicode = True,\n",
    "                      cursorclass = pymysql.cursors.DictCursor)  # dictcursor : key data형식으로 데이터를 다루겠다\n",
    "cur = conn.cursor()\n",
    "\n",
    "try:   # Exception 예외처리 : 프로그램은 지속적으로 실행되어야한다.\n",
    "    data = (\"귀염\",0)\n",
    "    cur.callproc(\"pet_delete\", data)\n",
    "    cur.execute(\"select @_pet_delete_1\")\n",
    "    result = cur.fetchone()\n",
    "    print(result['@_pet_delete_1'])\n",
    "    if result['@_pet_delete_1'] == 2:\n",
    "        print(\"삭제할 이름이 업습니다.\")\n",
    "    else : \n",
    "        print(\"삭제완료\")\n",
    "except:\n",
    "    conn.rollback()\n",
    "cur.close()\n",
    "conn.close()"
   ]
  },
  {
   "cell_type": "code",
   "execution_count": null,
   "metadata": {},
   "outputs": [],
   "source": []
  },
  {
   "cell_type": "code",
   "execution_count": null,
   "metadata": {},
   "outputs": [],
   "source": []
  },
  {
   "cell_type": "code",
   "execution_count": 130,
   "metadata": {},
   "outputs": [],
   "source": [
    "class Student:  # 1인분의 데이터 입력 클래스\n",
    "    def __init__(self) :\n",
    "        self.bunho = 0\n",
    "        self.name =''\n",
    "        self.kor =0\n",
    "        self.mat =0\n",
    "        self.eng = 0\n",
    "        self.total =0\n",
    "        self.average =0\n",
    "        self.grade = \"\"\n",
    "    \n",
    "    def inputData(self) :\n",
    "        self.name = input(\"이름 : \")\n",
    "        self.kor = eval(input(\"국어 점수 : \"))\n",
    "        self.mat = eval(input(\"수학 점수 : \"))\n",
    "        self.eng = eval(input(\"영어 점수 : \"))\n",
    "        \n",
    "    def calc_total_average(self) :\n",
    "        self.total = self.kor + self.mat + self.eng\n",
    "        self.average = self.total / 3\n",
    "        self.grade = self.calcSemGrade()\n",
    "    \n",
    "    def calcSemGrade(self) :\n",
    "        if self.average >= 90 :\n",
    "            return 'A'\n",
    "        elif self.average >= 80 :\n",
    "            return 'B'\n",
    "        elif self.average >= 70 :\n",
    "            return 'C'\n",
    "        elif self.average >= 60 :\n",
    "            return 'D'\n",
    "        else :\n",
    "            return 'F'\n",
    "        \n",
    "    def __str__(self) :\n",
    "        return \"%5s %5s %6s %6s %6s %7s %7s %s\" % (self.bunho, self.name,self.kor,\n",
    "                                                  self.mat, self.eng, self.total,\n",
    "                                                  self.average, self.grade)\n",
    "    def __cmp__(self, other):\n",
    "        return self.name == other.name\n",
    "    \n",
    "    def __call__(self, other):  # 클래스를 함수처럼 사용하고자 할 때 오버라이딩\n",
    "        st = []\n",
    "        for student in other:\n",
    "            stp = Student()\n",
    "            stp.name = student[0]\n",
    "            stp.kor = student[1]\n",
    "            stp.eng = student[2]\n",
    "            stp.mat = student[3]\n",
    "            st.append(stp)\n",
    "        return st"
   ]
  },
  {
   "cell_type": "code",
   "execution_count": 131,
   "metadata": {},
   "outputs": [],
   "source": [
    "class maria:  # DB 클래스\n",
    "    schoolname = \"에이콘 아카데미\"\n",
    "    def __init__(self):\n",
    "        self.conn = pymysql.connect(host='192.168.1.245', port=3306, user='root',\n",
    "                           password='hyeon0318!',db='acornschool', charset='utf8',\n",
    "                                    autocommit=True)\n",
    "        cor = self.conn.cursor()\n",
    "        cor.execute(\"SHOW TABLES\")\n",
    "        tables = cor.fetchall()\n",
    "        c = []\n",
    "        for i in tables:\n",
    "            if  i == ('sungjuk',):   #★★★★★★★★★★★★★★★★   , 가 없으면 에러남\n",
    "                c.append(i)\n",
    "        if len(c) != 0:\n",
    "            sungjuk_table = \"SELECT * FROM sungjuk\"\n",
    "            cor.execute(sungjuk_table)\n",
    "            print('테이블이 있습니다. ')\n",
    "        else:\n",
    "            cor.execute(\"CREATE TABLE sungjuk (name VARCHAR(20), kor INTEGER(20),  mat INTEGER(20),eng INTEGER(20))\")\n",
    "            print('sungjuk테이블을 생성하였습니다. ')\n",
    "    def __del__(self):\n",
    "        self.conn.close()\n",
    "\n",
    "    def selectdb(self ):\n",
    "        cur = self.conn.cursor()\n",
    "        cur.callproc(\"sungjuk_select\")\n",
    "        if (cur.rowcount):\n",
    "            stu = list(cur.fetchall())\n",
    "        else :\n",
    "            stu = 0;\n",
    "        cur.close()\n",
    "        return stu\n",
    "   \n",
    "    def insertdb(self,name, kor, mat, eng):\n",
    "        cur = self.conn.cursor()\n",
    "        args = (name, kor, mat, eng)\n",
    "        cur.callproc(\"sungjuk_insert\",args)\n",
    "        cur.close()\n",
    "       \n",
    "    def updatedb(self, in_name, up_name):\n",
    "        cur = self.conn.cursor()\n",
    "        args = (in_name, up_name, 0)\n",
    "        cur.callproc(\"sungjuk_update\", args)\n",
    "        cur.execute('SELECT @_sungjuk_update_2')\n",
    "        result = cur.fetchone()\n",
    "        \n",
    "        if result==2 :\n",
    "            print(\"수정할 이름이 없습니다.\")\n",
    "        else :\n",
    "            print(\"성공적으로 수정하였습니다. \")\n",
    "            \n",
    "        cur.close()\n",
    "        return result \n",
    "   \n",
    "    def deletedb(self,in_name):\n",
    "        cur = self.conn.cursor()\n",
    "        args = (in_name, 0)\n",
    "        cur.callproc(\"sungjuk_delete\", args)\n",
    "        cur.execute('SELECT @_sungjuk_delete_1')\n",
    "        result = cur.fetchone()\n",
    "        if result==2 :\n",
    "            print(\"삭제할 이름이 없습니다.\")\n",
    "        else :\n",
    "            print(\"성공적으로 삭제하였습니다. \")\n",
    "        cur.close()\n",
    "        return result"
   ]
  },
  {
   "cell_type": "code",
   "execution_count": 132,
   "metadata": {},
   "outputs": [],
   "source": [
    "from math import  *\n",
    "from statistics import *\n",
    "\n",
    "class Management:  # 관리 클래스\n",
    "    def __init__(self):\n",
    "        self.maria = maria()\n",
    "    def M_select(self):\n",
    "        data = self.maria.selectdb()\n",
    "        st = []\n",
    "        if (data):\n",
    "            for student in data:\n",
    "                stp = Student()\n",
    "                stp.name = student[0]\n",
    "                stp.kor = student[1]\n",
    "                stp.eng = student[2]\n",
    "                stp.mat = student[3]\n",
    "                st.append(stp)                    \n",
    "            # studdata=Student((data))\n",
    "            print(maria.schoolname + \"  성적 계산표 \")\n",
    "            print('%5s %5s %6s %6s %6s %6s  %6s %6s' % ('번 호', '이 름', '국 어',\n",
    "                    '수 학',\n",
    "                                                        \n",
    "                                                        \n",
    "                                                        '영  어', '총 점', '평 균', '학 점' ))      \n",
    "            for stud in st:\n",
    "                print( stud)                     \n",
    "        else :\n",
    "            print(\"데이터가 없습니다. . \")\n",
    "           \n",
    "    def M_insert(self):\n",
    "        stu = Student()\n",
    "        stu.inputData()\n",
    "        self.maria.insertdb(stu.name, stu.kor, stu.mat, stu.eng)\n",
    "    def M_update(self):\n",
    "        name = input(\"검색할 이름을 입력하시요\")\n",
    "        replace_name = input(\"수정할 이름을 입력하시요\")\n",
    "        result=self.maria.updatedb(name, replace_name)  \n",
    "    def M_delete(self):       \n",
    "        name = input(\"검색할 이름을 입력하시요\")\n",
    "        self.maria.deletedb(name)     "
   ]
  },
  {
   "cell_type": "code",
   "execution_count": null,
   "metadata": {},
   "outputs": [
    {
     "name": "stdout",
     "output_type": "stream",
     "text": [
      "테이블이 있습니다. \n",
      "테이블이 있습니다. \n"
     ]
    },
    {
     "name": "stdin",
     "output_type": "stream",
     "text": [
      "['전체검색(1), 입력(2), 수정(3), 삭제(4), 종료(9)'] 2\n",
      "이름 :  현\n",
      "국어 점수 :  10\n",
      "수학 점수 :  20\n",
      "영어 점수 :  30\n",
      "['전체검색(1), 입력(2), 수정(3), 삭제(4), 종료(9)'] 3\n",
      "검색할 이름을 입력하시요 현\n",
      "수정할 이름을 입력하시요 동엽\n"
     ]
    },
    {
     "name": "stdout",
     "output_type": "stream",
     "text": [
      "성공적으로 수정하였습니다. \n"
     ]
    },
    {
     "name": "stdin",
     "output_type": "stream",
     "text": [
      "['전체검색(1), 입력(2), 수정(3), 삭제(4), 종료(9)'] 1\n"
     ]
    },
    {
     "name": "stdout",
     "output_type": "stream",
     "text": [
      "에이콘 아카데미  성적 계산표 \n",
      "  번 호   이 름    국 어    수 학   영  어    총 점     평 균    학 점\n",
      "    0     1     동엽     20     10       0       0 \n",
      "    0     2     동엽     20     10       0       0 \n",
      "    0     3     동엽     20     10       0       0 \n",
      "    0     4     동엽     20     10       0       0 \n",
      "    0     5     동엽     20     10       0       0 \n",
      "    0     6     동엽     20     10       0       0 \n"
     ]
    },
    {
     "name": "stdin",
     "output_type": "stream",
     "text": [
      "['전체검색(1), 입력(2), 수정(3), 삭제(4), 종료(9)'] 1\n"
     ]
    },
    {
     "name": "stdout",
     "output_type": "stream",
     "text": [
      "에이콘 아카데미  성적 계산표 \n",
      "  번 호   이 름    국 어    수 학   영  어    총 점     평 균    학 점\n",
      "    0     1     동엽     20     10       0       0 \n",
      "    0     2     동엽     20     10       0       0 \n",
      "    0     3     동엽     20     10       0       0 \n",
      "    0     4     동엽     20     10       0       0 \n",
      "    0     5     동엽     20     10       0       0 \n",
      "    0     6     동엽     20     10       0       0 \n"
     ]
    },
    {
     "name": "stdin",
     "output_type": "stream",
     "text": [
      "['전체검색(1), 입력(2), 수정(3), 삭제(4), 종료(9)'] 1\n"
     ]
    },
    {
     "name": "stdout",
     "output_type": "stream",
     "text": [
      "에이콘 아카데미  성적 계산표 \n",
      "  번 호   이 름    국 어    수 학   영  어    총 점     평 균    학 점\n",
      "    0     1     동엽     20     10       0       0 \n",
      "    0     2     동엽     20     10       0       0 \n",
      "    0     3     동엽     20     10       0       0 \n",
      "    0     4     동엽     20     10       0       0 \n",
      "    0     5     동엽     20     10       0       0 \n",
      "    0     6     동엽     20     10       0       0 \n"
     ]
    }
   ],
   "source": [
    "import sys\n",
    "class Menu():\n",
    "    def __init__(self):\n",
    "        self.manage = Management()\n",
    "       \n",
    "    def work(self):\n",
    "        menu = [ \"전체검색(1), 입력(2), 수정(3), 삭제(4), 종료(9)\"]\n",
    "        manage = Management()\n",
    "        while 1:\n",
    "            sel = input(menu)\n",
    "            if  sel == \"1\":\n",
    "                manage.M_select()\n",
    "                continue\n",
    "            elif sel == \"2\":\n",
    "                manage.M_insert()\n",
    "                continue       \n",
    "            elif sel ==\"3\":\n",
    "                manage.M_update()\n",
    "                continue\n",
    "            elif sel ==\"4\":\n",
    "                manage.M_delete()\n",
    "            elif sel ==\"9\":\n",
    "                del(manage)\n",
    "                sys.exit()\n",
    "            else :\n",
    "                print(\"잘못된 입력입니다. 다시입력 하시요\")\n",
    "                continue\n",
    "           \n",
    "menu = Menu()\n",
    "menu.work() "
   ]
  },
  {
   "cell_type": "code",
   "execution_count": null,
   "metadata": {},
   "outputs": [],
   "source": []
  }
 ],
 "metadata": {
  "kernelspec": {
   "display_name": "Python 3",
   "language": "python",
   "name": "python3"
  },
  "language_info": {
   "codemirror_mode": {
    "name": "ipython",
    "version": 3
   },
   "file_extension": ".py",
   "mimetype": "text/x-python",
   "name": "python",
   "nbconvert_exporter": "python",
   "pygments_lexer": "ipython3",
   "version": "3.7.4"
  }
 },
 "nbformat": 4,
 "nbformat_minor": 4
}
