{
 "cells": [
  {
   "cell_type": "code",
   "execution_count": null,
   "metadata": {},
   "outputs": [],
   "source": [
    "# Linux   : mariadb , 서버관리자\n",
    "\n",
    "# 서비스 제공을 제어 : systemcontrol(systemctl)\n",
    "#   systemctl get-default : graphic mode(GUI: graphic user interface ) - 웹 크롤링 등 웹을 사용할 때 / text mode - 서버가 서비스를 제공할 때\n",
    "# 보안 : firewall-cmd( 방화벽 )\n",
    "# ip, port 제공 필요/ port번호는 방화벽에 의해 막혀있음\n",
    "# => firewall-cmd --permanent --zone=public --add-port=3306/tcp    ==> 외부에서 접근 가능 ( 포트 번호 개방 )\n",
    "# HeidSQL : 원격으로 mariadb에 접속 작업( heigsql은 윈도우에 , mariadb는 리눅스에 있음 )\n",
    "\n",
    "#vi편집기 : 3가지 모드\n",
    "# -명령모드  (esc키를 누르고 작업 가능 , ex) esc를 누루고 커서가 있는곳에서 dd => 삭제 / yy복사 / p 붙여넣기\n",
    "# -입력모드 i, a, o 를 누르면 입력행 모드로 바뀜( insert , append , o? )\n",
    "# -마지막행 모드 ( :을 치고 명령어 입력  ex):w 저장 / :q! 저장하지않고 종료 )"
   ]
  }
 ],
 "metadata": {
  "kernelspec": {
   "display_name": "Python 3",
   "language": "python",
   "name": "python3"
  },
  "language_info": {
   "codemirror_mode": {
    "name": "ipython",
    "version": 3
   },
   "file_extension": ".py",
   "mimetype": "text/x-python",
   "name": "python",
   "nbconvert_exporter": "python",
   "pygments_lexer": "ipython3",
   "version": "3.7.4"
  }
 },
 "nbformat": 4,
 "nbformat_minor": 4
}
