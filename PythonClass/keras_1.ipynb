{
 "cells": [
  {
   "cell_type": "code",
   "execution_count": 9,
   "metadata": {},
   "outputs": [
    {
     "name": "stdout",
     "output_type": "stream",
     "text": [
      "(100,)\n",
      "(100, 2)\n",
      "(100, 1)\n",
      "WARNING:tensorflow:From C:\\Users\\happy\\Anaconda3\\envs\\tensorflow\\lib\\site-packages\\keras\\backend\\tensorflow_backend.py:74: The name tf.get_default_graph is deprecated. Please use tf.compat.v1.get_default_graph instead.\n",
      "\n",
      "WARNING:tensorflow:From C:\\Users\\happy\\Anaconda3\\envs\\tensorflow\\lib\\site-packages\\keras\\backend\\tensorflow_backend.py:517: The name tf.placeholder is deprecated. Please use tf.compat.v1.placeholder instead.\n",
      "\n",
      "WARNING:tensorflow:From C:\\Users\\happy\\Anaconda3\\envs\\tensorflow\\lib\\site-packages\\keras\\backend\\tensorflow_backend.py:4138: The name tf.random_uniform is deprecated. Please use tf.random.uniform instead.\n",
      "\n",
      "WARNING:tensorflow:From C:\\Users\\happy\\Anaconda3\\envs\\tensorflow\\lib\\site-packages\\keras\\optimizers.py:790: The name tf.train.Optimizer is deprecated. Please use tf.compat.v1.train.Optimizer instead.\n",
      "\n",
      "WARNING:tensorflow:From C:\\Users\\happy\\Anaconda3\\envs\\tensorflow\\lib\\site-packages\\keras\\backend\\tensorflow_backend.py:986: The name tf.assign_add is deprecated. Please use tf.compat.v1.assign_add instead.\n",
      "\n",
      "WARNING:tensorflow:From C:\\Users\\happy\\Anaconda3\\envs\\tensorflow\\lib\\site-packages\\keras\\backend\\tensorflow_backend.py:973: The name tf.assign is deprecated. Please use tf.compat.v1.assign instead.\n",
      "\n",
      "입력데이터=[0.29466096 0.30317302], 예측결과 =[0.17303406]\n",
      "입력데이터=[0.39445118 0.79390858], 예측결과 =[0.744189]\n",
      "입력데이터=[0.02884127 0.6208843 ], 예측결과 =[0.40246224]\n"
     ]
    }
   ],
   "source": [
    "from keras.models import Sequential   # models 서브패키지\n",
    "from keras.layers import Dense        # layers => 모델 구성\n",
    "from sklearn.datasets import make_regression\n",
    "from sklearn.preprocessing import MinMaxScaler # 정규화\n",
    "X , y = make_regression(n_samples=100, n_features=2,  # 회귀를 위한 데이터\n",
    "                       noise=0.1, random_state=1)\n",
    "#print(y) 100 # 행으로 나옴\n",
    "#print(X) 100x2\n",
    "print(y.shape)\n",
    "print(X.shape)\n",
    "scalarX, scalarY = MinMaxScaler(), MinMaxScaler() # 값의 범위가 다르므로\n",
    "scalarX.fit(X) # minmax값 구해짐\n",
    "scalarY.fit(y.reshape(100,1)) # \n",
    "X = scalarX.transform(X)\n",
    "y = scalarY.transform(y.reshape(100,1)) # 행으로 나온 y를 열로 만들기 위해\n",
    "print(y.shape)\n",
    "\n",
    "# keras model\n",
    "model = Sequential()\n",
    "# 입력데이터 :100x2  # 출력차수:4 ==> 가중치: 2x4 ====> 100x4로 출력 \n",
    "model.add(Dense(4, input_dim= 2, activation = 'relu'))\n",
    "# 입력데이터 : 100x4 # 출력차수:4 ==> 가중치: 4x4 ===> 100x4로 출력\n",
    "model.add(Dense(4, activation='relu'))\n",
    "# 입력데이터 : 100x4 # 출력차수:1 ==> 가중치: 4x1 ===> 100x1로 출력\n",
    "model.add(Dense(1, activation ='linear'))\n",
    "\n",
    "#backend : tensorflow\n",
    "# loss_function : mse(회귀), cross_entropy(분류), KL-divergence(GAN : 분포를 비교)\n",
    "model.compile(loss='mse', optimizer='adam') # compile에서는 텐서플로우로 모델을 변환\n",
    "model.fit(X,y,epochs= 1000, verbose = 0) # tensor에서 for문 부분\n",
    "Xnew, a = make_regression(n_samples=3, n_features=2, noise=0.1, random_state=1)\n",
    "Xnew = scalarX.transform(Xnew)\n",
    "ynew = model.predict(Xnew)\n",
    "for i in range(len(Xnew)) :\n",
    "    print('입력데이터=%s, 예측결과 =%s' % (Xnew[i], ynew[i]))\n",
    "    "
   ]
  },
  {
   "cell_type": "code",
   "execution_count": 2,
   "metadata": {},
   "outputs": [],
   "source": [
    "#dataset"
   ]
  },
  {
   "cell_type": "code",
   "execution_count": 3,
   "metadata": {
    "collapsed": true,
    "jupyter": {
     "outputs_hidden": true
    }
   },
   "outputs": [
    {
     "name": "stdout",
     "output_type": "stream",
     "text": [
      "(768, 8)\n",
      "(768,)\n",
      "WARNING:tensorflow:From C:\\Users\\happy\\Anaconda3\\envs\\tensorflow\\lib\\site-packages\\tensorflow\\python\\ops\\nn_impl.py:180: add_dispatch_support.<locals>.wrapper (from tensorflow.python.ops.array_ops) is deprecated and will be removed in a future version.\n",
      "Instructions for updating:\n",
      "Use tf.where in 2.0, which has the same broadcast rule as np.where\n",
      "Train on 514 samples, validate on 254 samples\n",
      "Epoch 1/150\n",
      "514/514 [==============================] - 2s 3ms/step - loss: 5.7737 - acc: 0.6401 - val_loss: 4.9573 - val_acc: 0.6732\n",
      "Epoch 2/150\n",
      "514/514 [==============================] - 0s 518us/step - loss: 3.1462 - acc: 0.5409 - val_loss: 1.0841 - val_acc: 0.5709\n",
      "Epoch 3/150\n",
      "514/514 [==============================] - 0s 274us/step - loss: 0.9595 - acc: 0.5778 - val_loss: 0.7705 - val_acc: 0.6693\n",
      "Epoch 4/150\n",
      "514/514 [==============================] - 0s 274us/step - loss: 0.7837 - acc: 0.6070 - val_loss: 0.7753 - val_acc: 0.6417\n",
      "Epoch 5/150\n",
      "514/514 [==============================] - 0s 281us/step - loss: 0.7398 - acc: 0.6498 - val_loss: 0.7275 - val_acc: 0.6260\n",
      "Epoch 6/150\n",
      "514/514 [==============================] - 0s 357us/step - loss: 0.7142 - acc: 0.6537 - val_loss: 0.7038 - val_acc: 0.6575\n",
      "Epoch 7/150\n",
      "514/514 [==============================] - 0s 225us/step - loss: 0.7055 - acc: 0.6712 - val_loss: 0.7202 - val_acc: 0.6024\n",
      "Epoch 8/150\n",
      "514/514 [==============================] - 0s 279us/step - loss: 0.6846 - acc: 0.6615 - val_loss: 0.7160 - val_acc: 0.6496\n",
      "Epoch 9/150\n",
      "514/514 [==============================] - 0s 227us/step - loss: 0.6732 - acc: 0.6848 - val_loss: 0.7820 - val_acc: 0.5197\n",
      "Epoch 10/150\n",
      "514/514 [==============================] - 0s 312us/step - loss: 0.6661 - acc: 0.6926 - val_loss: 0.6752 - val_acc: 0.6654\n",
      "Epoch 11/150\n",
      "514/514 [==============================] - 0s 337us/step - loss: 0.6387 - acc: 0.6790 - val_loss: 0.6988 - val_acc: 0.6654\n",
      "Epoch 12/150\n",
      "514/514 [==============================] - 0s 303us/step - loss: 0.6361 - acc: 0.6770 - val_loss: 0.6752 - val_acc: 0.6260\n",
      "Epoch 13/150\n",
      "514/514 [==============================] - 0s 241us/step - loss: 0.6399 - acc: 0.6868 - val_loss: 0.6594 - val_acc: 0.6496\n",
      "Epoch 14/150\n",
      "514/514 [==============================] - 0s 326us/step - loss: 0.6183 - acc: 0.6907 - val_loss: 0.6451 - val_acc: 0.6772\n",
      "Epoch 15/150\n",
      "514/514 [==============================] - 0s 219us/step - loss: 0.6308 - acc: 0.7023 - val_loss: 0.6373 - val_acc: 0.6339\n",
      "Epoch 16/150\n",
      "514/514 [==============================] - 0s 246us/step - loss: 0.6374 - acc: 0.6712 - val_loss: 0.6389 - val_acc: 0.6732\n",
      "Epoch 17/150\n",
      "514/514 [==============================] - 0s 215us/step - loss: 0.6078 - acc: 0.7198 - val_loss: 0.6368 - val_acc: 0.6535\n",
      "Epoch 18/150\n",
      "514/514 [==============================] - ETA: 0s - loss: 0.5912 - acc: 0.723 - 0s 238us/step - loss: 0.5961 - acc: 0.7198 - val_loss: 0.6302 - val_acc: 0.6772\n",
      "Epoch 19/150\n",
      "514/514 [==============================] - 0s 258us/step - loss: 0.6490 - acc: 0.6887 - val_loss: 0.6087 - val_acc: 0.6850\n",
      "Epoch 20/150\n",
      "514/514 [==============================] - 0s 223us/step - loss: 0.5872 - acc: 0.7082 - val_loss: 0.6653 - val_acc: 0.6260\n",
      "Epoch 21/150\n",
      "514/514 [==============================] - 0s 442us/step - loss: 0.5896 - acc: 0.7082 - val_loss: 0.5949 - val_acc: 0.6811\n",
      "Epoch 22/150\n",
      "514/514 [==============================] - 0s 347us/step - loss: 0.5971 - acc: 0.7004 - val_loss: 0.6031 - val_acc: 0.6732\n",
      "Epoch 23/150\n",
      "514/514 [==============================] - 0s 269us/step - loss: 0.5880 - acc: 0.7004 - val_loss: 0.5984 - val_acc: 0.6929\n",
      "Epoch 24/150\n",
      "514/514 [==============================] - 0s 272us/step - loss: 0.5764 - acc: 0.7257 - val_loss: 0.5961 - val_acc: 0.7283\n",
      "Epoch 25/150\n",
      "514/514 [==============================] - 0s 297us/step - loss: 0.5802 - acc: 0.6907 - val_loss: 0.6114 - val_acc: 0.6693\n",
      "Epoch 26/150\n",
      "514/514 [==============================] - 0s 240us/step - loss: 0.5822 - acc: 0.7101 - val_loss: 0.5898 - val_acc: 0.7008\n",
      "Epoch 27/150\n",
      "514/514 [==============================] - 0s 305us/step - loss: 0.5768 - acc: 0.7082 - val_loss: 0.6300 - val_acc: 0.6496\n",
      "Epoch 28/150\n",
      "514/514 [==============================] - 0s 276us/step - loss: 0.5823 - acc: 0.7296 - val_loss: 0.8014 - val_acc: 0.4803\n",
      "Epoch 29/150\n",
      "514/514 [==============================] - 0s 246us/step - loss: 0.5580 - acc: 0.7296 - val_loss: 0.5975 - val_acc: 0.7244\n",
      "Epoch 30/150\n",
      "514/514 [==============================] - 0s 287us/step - loss: 0.5748 - acc: 0.7237 - val_loss: 0.5928 - val_acc: 0.6969\n",
      "Epoch 31/150\n",
      "514/514 [==============================] - 0s 371us/step - loss: 0.5571 - acc: 0.7296 - val_loss: 0.5866 - val_acc: 0.7047\n",
      "Epoch 32/150\n",
      "514/514 [==============================] - 0s 262us/step - loss: 0.5756 - acc: 0.7062 - val_loss: 0.5815 - val_acc: 0.7047\n",
      "Epoch 33/150\n",
      "514/514 [==============================] - 0s 221us/step - loss: 0.5683 - acc: 0.7179 - val_loss: 0.5896 - val_acc: 0.7165\n",
      "Epoch 34/150\n",
      "514/514 [==============================] - 0s 262us/step - loss: 0.5685 - acc: 0.7121 - val_loss: 0.6024 - val_acc: 0.6850\n",
      "Epoch 35/150\n",
      "514/514 [==============================] - 0s 218us/step - loss: 0.5627 - acc: 0.7276 - val_loss: 0.5859 - val_acc: 0.7087\n",
      "Epoch 36/150\n",
      "514/514 [==============================] - 0s 261us/step - loss: 0.5847 - acc: 0.7121 - val_loss: 0.5832 - val_acc: 0.6929\n",
      "Epoch 37/150\n",
      "514/514 [==============================] - 0s 313us/step - loss: 0.5663 - acc: 0.7140 - val_loss: 0.5782 - val_acc: 0.7008\n",
      "Epoch 38/150\n",
      "514/514 [==============================] - 0s 229us/step - loss: 0.5535 - acc: 0.7432 - val_loss: 0.5704 - val_acc: 0.7244\n",
      "Epoch 39/150\n",
      "514/514 [==============================] - 0s 235us/step - loss: 0.5592 - acc: 0.7160 - val_loss: 0.5705 - val_acc: 0.7165\n",
      "Epoch 40/150\n",
      "514/514 [==============================] - 0s 256us/step - loss: 0.5786 - acc: 0.7121 - val_loss: 0.5791 - val_acc: 0.7126\n",
      "Epoch 41/150\n",
      "514/514 [==============================] - 0s 219us/step - loss: 0.5643 - acc: 0.7237 - val_loss: 0.5800 - val_acc: 0.7205\n",
      "Epoch 42/150\n",
      "514/514 [==============================] - 0s 217us/step - loss: 0.5670 - acc: 0.7160 - val_loss: 0.6145 - val_acc: 0.6811\n",
      "Epoch 43/150\n",
      "514/514 [==============================] - 0s 231us/step - loss: 0.5557 - acc: 0.7179 - val_loss: 0.5714 - val_acc: 0.7244\n",
      "Epoch 44/150\n",
      "514/514 [==============================] - 0s 233us/step - loss: 0.5583 - acc: 0.7218 - val_loss: 0.5878 - val_acc: 0.7126\n",
      "Epoch 45/150\n",
      "514/514 [==============================] - 0s 223us/step - loss: 0.5505 - acc: 0.7101 - val_loss: 0.5901 - val_acc: 0.7008\n",
      "Epoch 46/150\n",
      "514/514 [==============================] - 0s 223us/step - loss: 0.5515 - acc: 0.7276 - val_loss: 0.6421 - val_acc: 0.6850\n",
      "Epoch 47/150\n",
      "514/514 [==============================] - 0s 281us/step - loss: 0.5635 - acc: 0.7198 - val_loss: 0.5844 - val_acc: 0.6890\n",
      "Epoch 48/150\n",
      "514/514 [==============================] - 0s 229us/step - loss: 0.5481 - acc: 0.7218 - val_loss: 0.5809 - val_acc: 0.7008\n",
      "Epoch 49/150\n",
      "514/514 [==============================] - 0s 248us/step - loss: 0.5573 - acc: 0.7198 - val_loss: 0.5919 - val_acc: 0.7087\n",
      "Epoch 50/150\n",
      "514/514 [==============================] - 0s 217us/step - loss: 0.5722 - acc: 0.7043 - val_loss: 0.5796 - val_acc: 0.7008\n",
      "Epoch 51/150\n",
      "514/514 [==============================] - 0s 227us/step - loss: 0.5487 - acc: 0.7490 - val_loss: 0.5604 - val_acc: 0.7402\n",
      "Epoch 52/150\n",
      "514/514 [==============================] - 0s 221us/step - loss: 0.5598 - acc: 0.7218 - val_loss: 0.5696 - val_acc: 0.7362\n",
      "Epoch 53/150\n",
      "514/514 [==============================] - 0s 256us/step - loss: 0.5559 - acc: 0.7140 - val_loss: 0.5579 - val_acc: 0.7323\n",
      "Epoch 54/150\n",
      "514/514 [==============================] - 0s 246us/step - loss: 0.5533 - acc: 0.7296 - val_loss: 0.5727 - val_acc: 0.7244\n",
      "Epoch 55/150\n",
      "514/514 [==============================] - 0s 272us/step - loss: 0.5461 - acc: 0.7335 - val_loss: 0.5654 - val_acc: 0.7283\n",
      "Epoch 56/150\n",
      "514/514 [==============================] - 0s 264us/step - loss: 0.5469 - acc: 0.7218 - val_loss: 0.5581 - val_acc: 0.7323\n",
      "Epoch 57/150\n",
      "514/514 [==============================] - 0s 219us/step - loss: 0.5696 - acc: 0.7198 - val_loss: 0.5861 - val_acc: 0.7008\n",
      "Epoch 58/150\n",
      "514/514 [==============================] - 0s 242us/step - loss: 0.5418 - acc: 0.7315 - val_loss: 0.5776 - val_acc: 0.7126\n",
      "Epoch 59/150\n",
      "514/514 [==============================] - 0s 292us/step - loss: 0.5428 - acc: 0.7257 - val_loss: 0.5628 - val_acc: 0.7205\n",
      "Epoch 60/150\n",
      "514/514 [==============================] - 0s 285us/step - loss: 0.5434 - acc: 0.7179 - val_loss: 0.5657 - val_acc: 0.7283\n",
      "Epoch 61/150\n",
      "514/514 [==============================] - 0s 303us/step - loss: 0.5488 - acc: 0.7160 - val_loss: 0.6703 - val_acc: 0.6299\n",
      "Epoch 62/150\n",
      "514/514 [==============================] - 0s 374us/step - loss: 0.5476 - acc: 0.7198 - val_loss: 0.5711 - val_acc: 0.7165\n",
      "Epoch 63/150\n",
      "514/514 [==============================] - 0s 357us/step - loss: 0.5314 - acc: 0.7510 - val_loss: 0.5806 - val_acc: 0.7126\n",
      "Epoch 64/150\n",
      "514/514 [==============================] - 0s 286us/step - loss: 0.5333 - acc: 0.7257 - val_loss: 0.5508 - val_acc: 0.7441\n",
      "Epoch 65/150\n",
      "514/514 [==============================] - 0s 217us/step - loss: 0.5365 - acc: 0.7198 - val_loss: 0.5714 - val_acc: 0.7323\n",
      "Epoch 66/150\n",
      "514/514 [==============================] - 0s 351us/step - loss: 0.5449 - acc: 0.7393 - val_loss: 0.5579 - val_acc: 0.7441\n",
      "Epoch 67/150\n",
      "514/514 [==============================] - 0s 264us/step - loss: 0.5362 - acc: 0.7315 - val_loss: 0.5519 - val_acc: 0.7362\n",
      "Epoch 68/150\n",
      "514/514 [==============================] - 0s 222us/step - loss: 0.5536 - acc: 0.7296 - val_loss: 0.5504 - val_acc: 0.7244\n",
      "Epoch 69/150\n",
      "514/514 [==============================] - 0s 233us/step - loss: 0.5497 - acc: 0.7121 - val_loss: 0.5580 - val_acc: 0.7323\n",
      "Epoch 70/150\n",
      "514/514 [==============================] - 0s 244us/step - loss: 0.5448 - acc: 0.7121 - val_loss: 0.5556 - val_acc: 0.7323\n",
      "Epoch 71/150\n",
      "514/514 [==============================] - 0s 234us/step - loss: 0.5326 - acc: 0.7335 - val_loss: 0.5854 - val_acc: 0.7165\n",
      "Epoch 72/150\n",
      "514/514 [==============================] - 0s 225us/step - loss: 0.5383 - acc: 0.7257 - val_loss: 0.5716 - val_acc: 0.6929\n",
      "Epoch 73/150\n",
      "514/514 [==============================] - 0s 211us/step - loss: 0.5450 - acc: 0.7218 - val_loss: 0.5493 - val_acc: 0.7283\n",
      "Epoch 74/150\n",
      "514/514 [==============================] - 0s 363us/step - loss: 0.5286 - acc: 0.7451 - val_loss: 0.5635 - val_acc: 0.7283\n",
      "Epoch 75/150\n",
      "514/514 [==============================] - 0s 243us/step - loss: 0.5377 - acc: 0.7296 - val_loss: 0.5577 - val_acc: 0.7323\n",
      "Epoch 76/150\n",
      "514/514 [==============================] - 0s 349us/step - loss: 0.5282 - acc: 0.7393 - val_loss: 0.5477 - val_acc: 0.7598\n",
      "Epoch 77/150\n",
      "514/514 [==============================] - 0s 312us/step - loss: 0.5319 - acc: 0.7237 - val_loss: 0.5470 - val_acc: 0.7323\n",
      "Epoch 78/150\n",
      "514/514 [==============================] - 0s 291us/step - loss: 0.5310 - acc: 0.7354 - val_loss: 0.5718 - val_acc: 0.7165\n",
      "Epoch 79/150\n",
      "514/514 [==============================] - 0s 221us/step - loss: 0.5770 - acc: 0.7257 - val_loss: 0.5473 - val_acc: 0.7323\n",
      "Epoch 80/150\n",
      "514/514 [==============================] - 0s 329us/step - loss: 0.5384 - acc: 0.7237 - val_loss: 0.5502 - val_acc: 0.7559\n",
      "Epoch 81/150\n",
      "514/514 [==============================] - 0s 282us/step - loss: 0.5398 - acc: 0.7393 - val_loss: 0.5574 - val_acc: 0.7441\n",
      "Epoch 82/150\n",
      "514/514 [==============================] - 0s 367us/step - loss: 0.5464 - acc: 0.7121 - val_loss: 0.5497 - val_acc: 0.7480\n",
      "Epoch 83/150\n",
      "514/514 [==============================] - 0s 360us/step - loss: 0.5184 - acc: 0.7276 - val_loss: 0.5685 - val_acc: 0.7362\n",
      "Epoch 84/150\n",
      "514/514 [==============================] - 0s 371us/step - loss: 0.5309 - acc: 0.7315 - val_loss: 0.5417 - val_acc: 0.7480\n",
      "Epoch 85/150\n",
      "514/514 [==============================] - 0s 353us/step - loss: 0.5307 - acc: 0.7315 - val_loss: 0.5518 - val_acc: 0.7441\n",
      "Epoch 86/150\n",
      "514/514 [==============================] - 0s 318us/step - loss: 0.5313 - acc: 0.7237 - val_loss: 0.5389 - val_acc: 0.7480\n",
      "Epoch 87/150\n",
      "514/514 [==============================] - 0s 270us/step - loss: 0.5260 - acc: 0.7218 - val_loss: 0.5412 - val_acc: 0.7283\n",
      "Epoch 88/150\n",
      "514/514 [==============================] - 0s 279us/step - loss: 0.5265 - acc: 0.7354 - val_loss: 0.5407 - val_acc: 0.7559\n",
      "Epoch 89/150\n",
      "514/514 [==============================] - 0s 275us/step - loss: 0.5240 - acc: 0.7412 - val_loss: 0.5404 - val_acc: 0.7480\n",
      "Epoch 90/150\n",
      "514/514 [==============================] - 0s 279us/step - loss: 0.5296 - acc: 0.7335 - val_loss: 0.5538 - val_acc: 0.7362\n",
      "Epoch 91/150\n",
      "514/514 [==============================] - 0s 322us/step - loss: 0.5283 - acc: 0.7412 - val_loss: 0.5368 - val_acc: 0.7480\n",
      "Epoch 92/150\n",
      "514/514 [==============================] - 0s 263us/step - loss: 0.5260 - acc: 0.7276 - val_loss: 0.5536 - val_acc: 0.7480\n",
      "Epoch 93/150\n",
      "514/514 [==============================] - 0s 256us/step - loss: 0.5309 - acc: 0.7451 - val_loss: 0.5421 - val_acc: 0.7480\n",
      "Epoch 94/150\n",
      "514/514 [==============================] - 0s 250us/step - loss: 0.5227 - acc: 0.7393 - val_loss: 0.5570 - val_acc: 0.7323\n",
      "Epoch 95/150\n",
      "514/514 [==============================] - 0s 244us/step - loss: 0.5208 - acc: 0.7704 - val_loss: 0.5607 - val_acc: 0.7165\n",
      "Epoch 96/150\n",
      "514/514 [==============================] - 0s 287us/step - loss: 0.5352 - acc: 0.7296 - val_loss: 0.5501 - val_acc: 0.7402\n",
      "Epoch 97/150\n",
      "514/514 [==============================] - 0s 264us/step - loss: 0.5245 - acc: 0.7432 - val_loss: 0.5426 - val_acc: 0.7362\n",
      "Epoch 98/150\n",
      "514/514 [==============================] - 0s 291us/step - loss: 0.5225 - acc: 0.7354 - val_loss: 0.5975 - val_acc: 0.6732\n",
      "Epoch 99/150\n",
      "514/514 [==============================] - 0s 267us/step - loss: 0.5462 - acc: 0.7354 - val_loss: 0.5343 - val_acc: 0.7520\n",
      "Epoch 100/150\n",
      "514/514 [==============================] - 0s 291us/step - loss: 0.5324 - acc: 0.7101 - val_loss: 0.5404 - val_acc: 0.7520\n",
      "Epoch 101/150\n",
      "514/514 [==============================] - 0s 358us/step - loss: 0.5304 - acc: 0.7315 - val_loss: 0.5459 - val_acc: 0.7559\n",
      "Epoch 102/150\n",
      "514/514 [==============================] - 0s 289us/step - loss: 0.5181 - acc: 0.7568 - val_loss: 0.5311 - val_acc: 0.7598\n",
      "Epoch 103/150\n",
      "514/514 [==============================] - 0s 229us/step - loss: 0.5331 - acc: 0.7451 - val_loss: 0.5493 - val_acc: 0.7441\n",
      "Epoch 104/150\n",
      "514/514 [==============================] - 0s 276us/step - loss: 0.5310 - acc: 0.7412 - val_loss: 0.5603 - val_acc: 0.7205\n",
      "Epoch 105/150\n",
      "514/514 [==============================] - 0s 285us/step - loss: 0.5168 - acc: 0.7335 - val_loss: 0.5395 - val_acc: 0.7598\n",
      "Epoch 106/150\n",
      "514/514 [==============================] - 0s 284us/step - loss: 0.5389 - acc: 0.7198 - val_loss: 0.5258 - val_acc: 0.7559\n",
      "Epoch 107/150\n",
      "514/514 [==============================] - 0s 342us/step - loss: 0.5371 - acc: 0.7393 - val_loss: 0.6837 - val_acc: 0.6811\n",
      "Epoch 108/150\n",
      "514/514 [==============================] - 0s 244us/step - loss: 0.5356 - acc: 0.7160 - val_loss: 0.5284 - val_acc: 0.7677\n",
      "Epoch 109/150\n",
      "514/514 [==============================] - 0s 347us/step - loss: 0.5196 - acc: 0.7374 - val_loss: 0.5441 - val_acc: 0.7520\n",
      "Epoch 110/150\n",
      "514/514 [==============================] - 0s 351us/step - loss: 0.5239 - acc: 0.7315 - val_loss: 0.5874 - val_acc: 0.6969\n",
      "Epoch 111/150\n",
      "514/514 [==============================] - 0s 284us/step - loss: 0.5341 - acc: 0.7510 - val_loss: 0.5232 - val_acc: 0.7520\n",
      "Epoch 112/150\n",
      "514/514 [==============================] - 0s 276us/step - loss: 0.5104 - acc: 0.7451 - val_loss: 0.5334 - val_acc: 0.7717\n",
      "Epoch 113/150\n",
      "514/514 [==============================] - 0s 314us/step - loss: 0.5158 - acc: 0.7374 - val_loss: 0.5238 - val_acc: 0.7480\n",
      "Epoch 114/150\n",
      "514/514 [==============================] - 0s 276us/step - loss: 0.5140 - acc: 0.7490 - val_loss: 0.5510 - val_acc: 0.7283\n",
      "Epoch 115/150\n",
      "514/514 [==============================] - 0s 260us/step - loss: 0.5185 - acc: 0.7276 - val_loss: 0.5238 - val_acc: 0.7598\n",
      "Epoch 116/150\n",
      "514/514 [==============================] - 0s 251us/step - loss: 0.5122 - acc: 0.7393 - val_loss: 0.5380 - val_acc: 0.7677\n",
      "Epoch 117/150\n",
      "514/514 [==============================] - 0s 277us/step - loss: 0.5331 - acc: 0.7218 - val_loss: 0.5467 - val_acc: 0.7283\n",
      "Epoch 118/150\n",
      "514/514 [==============================] - 0s 237us/step - loss: 0.5281 - acc: 0.7432 - val_loss: 0.5245 - val_acc: 0.7402\n",
      "Epoch 119/150\n",
      "514/514 [==============================] - 0s 342us/step - loss: 0.5174 - acc: 0.7335 - val_loss: 0.5354 - val_acc: 0.7480\n",
      "Epoch 120/150\n",
      "514/514 [==============================] - 0s 295us/step - loss: 0.5079 - acc: 0.7451 - val_loss: 0.5514 - val_acc: 0.7283\n",
      "Epoch 121/150\n",
      "514/514 [==============================] - 0s 319us/step - loss: 0.5146 - acc: 0.7568 - val_loss: 0.5666 - val_acc: 0.7126\n",
      "Epoch 122/150\n",
      "514/514 [==============================] - 0s 280us/step - loss: 0.5135 - acc: 0.7374 - val_loss: 0.5377 - val_acc: 0.7559\n",
      "Epoch 123/150\n",
      "514/514 [==============================] - 0s 266us/step - loss: 0.5119 - acc: 0.7276 - val_loss: 0.5346 - val_acc: 0.7598\n",
      "Epoch 124/150\n",
      "514/514 [==============================] - 0s 278us/step - loss: 0.5015 - acc: 0.7568 - val_loss: 0.5382 - val_acc: 0.7717\n",
      "Epoch 125/150\n",
      "514/514 [==============================] - 0s 370us/step - loss: 0.5373 - acc: 0.7471 - val_loss: 0.5246 - val_acc: 0.7638\n",
      "Epoch 126/150\n",
      "514/514 [==============================] - ETA: 0s - loss: 0.5136 - acc: 0.742 - 0s 275us/step - loss: 0.5143 - acc: 0.7412 - val_loss: 0.5384 - val_acc: 0.7402\n",
      "Epoch 127/150\n",
      "514/514 [==============================] - 0s 260us/step - loss: 0.5030 - acc: 0.7432 - val_loss: 0.5319 - val_acc: 0.7598\n",
      "Epoch 128/150\n",
      "514/514 [==============================] - 0s 417us/step - loss: 0.5031 - acc: 0.7607 - val_loss: 0.5521 - val_acc: 0.7441\n",
      "Epoch 129/150\n",
      "514/514 [==============================] - 0s 303us/step - loss: 0.5282 - acc: 0.7432 - val_loss: 0.5136 - val_acc: 0.7756\n",
      "Epoch 130/150\n",
      "514/514 [==============================] - 0s 276us/step - loss: 0.5103 - acc: 0.7451 - val_loss: 0.5149 - val_acc: 0.7598\n",
      "Epoch 131/150\n",
      "514/514 [==============================] - 0s 349us/step - loss: 0.5076 - acc: 0.7335 - val_loss: 0.5231 - val_acc: 0.7559\n",
      "Epoch 132/150\n",
      "514/514 [==============================] - 0s 247us/step - loss: 0.5042 - acc: 0.7510 - val_loss: 0.5168 - val_acc: 0.7677\n",
      "Epoch 133/150\n",
      "514/514 [==============================] - 0s 334us/step - loss: 0.5069 - acc: 0.7529 - val_loss: 0.5115 - val_acc: 0.7598\n",
      "Epoch 134/150\n",
      "514/514 [==============================] - 0s 340us/step - loss: 0.5123 - acc: 0.7451 - val_loss: 0.5223 - val_acc: 0.7756\n",
      "Epoch 135/150\n",
      "514/514 [==============================] - 0s 283us/step - loss: 0.4943 - acc: 0.7529 - val_loss: 0.5334 - val_acc: 0.7441\n",
      "Epoch 136/150\n",
      "514/514 [==============================] - 0s 270us/step - loss: 0.5203 - acc: 0.7315 - val_loss: 0.5150 - val_acc: 0.7677\n",
      "Epoch 137/150\n",
      "514/514 [==============================] - 0s 289us/step - loss: 0.5424 - acc: 0.7198 - val_loss: 0.5290 - val_acc: 0.7717\n",
      "Epoch 138/150\n",
      "514/514 [==============================] - 0s 258us/step - loss: 0.5075 - acc: 0.7471 - val_loss: 0.5176 - val_acc: 0.7598\n",
      "Epoch 139/150\n",
      "514/514 [==============================] - 0s 266us/step - loss: 0.5101 - acc: 0.7432 - val_loss: 0.5542 - val_acc: 0.7480\n",
      "Epoch 140/150\n",
      "514/514 [==============================] - 0s 320us/step - loss: 0.5059 - acc: 0.7529 - val_loss: 0.5120 - val_acc: 0.7638\n",
      "Epoch 141/150\n",
      "514/514 [==============================] - 0s 495us/step - loss: 0.5022 - acc: 0.7393 - val_loss: 0.5091 - val_acc: 0.7559\n",
      "Epoch 142/150\n",
      "514/514 [==============================] - 0s 332us/step - loss: 0.4984 - acc: 0.7626 - val_loss: 0.5054 - val_acc: 0.7638\n",
      "Epoch 143/150\n",
      "514/514 [==============================] - 0s 431us/step - loss: 0.5109 - acc: 0.7490 - val_loss: 0.5163 - val_acc: 0.7441\n",
      "Epoch 144/150\n",
      "514/514 [==============================] - 0s 363us/step - loss: 0.5551 - acc: 0.7276 - val_loss: 0.5768 - val_acc: 0.7165\n",
      "Epoch 145/150\n",
      "514/514 [==============================] - 0s 380us/step - loss: 0.5203 - acc: 0.7315 - val_loss: 0.5181 - val_acc: 0.7638\n",
      "Epoch 146/150\n",
      "514/514 [==============================] - 0s 373us/step - loss: 0.5151 - acc: 0.7412 - val_loss: 0.5115 - val_acc: 0.7717\n",
      "Epoch 147/150\n",
      "514/514 [==============================] - 0s 351us/step - loss: 0.4955 - acc: 0.7510 - val_loss: 0.5099 - val_acc: 0.7677\n",
      "Epoch 148/150\n",
      "514/514 [==============================] - 0s 343us/step - loss: 0.5051 - acc: 0.7568 - val_loss: 0.5158 - val_acc: 0.7638\n",
      "Epoch 149/150\n",
      "514/514 [==============================] - 0s 406us/step - loss: 0.4980 - acc: 0.7510 - val_loss: 0.5238 - val_acc: 0.7717\n",
      "Epoch 150/150\n",
      "514/514 [==============================] - 0s 406us/step - loss: 0.4978 - acc: 0.7432 - val_loss: 0.5177 - val_acc: 0.7795\n",
      "768/768 [==============================] - 0s 95us/step\n",
      "\n",
      "acc : 76.04%\n"
     ]
    }
   ],
   "source": [
    "from keras.models import Sequential  # 입력이 1개, 아웃풋 1개\n",
    "from keras.layers import Dense\n",
    "import numpy\n",
    "numpy.random.seed(7)\n",
    "dataset = numpy.loadtxt('pima.data', delimiter=',')\n",
    "X = dataset[:,0:8]  # 8개 독립변수\n",
    "print(X.shape)\n",
    "Y = dataset[:,8]    # 9번쨰 : 독립변수\n",
    "print(Y.shape)\n",
    "model = Sequential()\n",
    "# 입력데이터 : ? x 8  # 가중치 : 8x12 ==> ? x 12\n",
    "model.add(Dense(12, input_dim=8, activation='relu'))\n",
    "# ? x 12  => 12x8  ==> ?x8\n",
    "model.add(Dense(8, activation='relu'))\n",
    "# ?x8 => 8x1  ==> ?x1\n",
    "model.add(Dense(1, activation='sigmoid')) # 0.5기준으로 크면 1, 아니면 0\n",
    "model.compile(loss='binary_crossentropy', optimizer='adam',\n",
    "             metrics = ['accuracy'])  # [loss, optimizer, metrics]\n",
    "history = model.fit(X,Y,validation_split=0.33, epochs=150, batch_size= 10)\n",
    "scores = model.evaluate(X,Y)\n",
    "# 2번쨰 : accuracy\n",
    "print('\\n%s : %.2f%%' % (model.metrics_names[1], scores[1]*100))\n"
   ]
  },
  {
   "cell_type": "code",
   "execution_count": 5,
   "metadata": {},
   "outputs": [
    {
     "data": {
      "image/png": "[encoded data removed]",
      "text/plain": [
       "<Figure size 432x288 with 1 Axes>"
      ]
     },
     "metadata": {
      "needs_background": "light"
     },
     "output_type": "display_data"
    }
   ],
   "source": [
    "import matplotlib.pyplot as plt\n",
    "%matplotlib inline\n",
    "plt.plot(history.history['acc'])\n",
    "plt.plot(history.history['val_acc'])\n",
    "plt.title('acc')\n",
    "plt.ylabel('acc')\n",
    "plt.xlabel('epoch')\n",
    "plt.legend(['train','test'], loc = 'upper left')\n",
    "plt.show()"
   ]
  },
  {
   "cell_type": "code",
   "execution_count": 6,
   "metadata": {},
   "outputs": [
    {
     "name": "stdout",
     "output_type": "stream",
     "text": [
      "(768, 8)\n",
      "(768,)\n",
      "Train on 514 samples, validate on 254 samples\n",
      "Epoch 1/150\n",
      "514/514 [==============================] - 2s 3ms/step - loss: 0.6799 - acc: 0.6401 - val_loss: 0.6586 - val_acc: 0.6732\n",
      "Epoch 2/150\n",
      "514/514 [==============================] - 0s 425us/step - loss: 0.6690 - acc: 0.6401 - val_loss: 0.6532 - val_acc: 0.6732\n",
      "Epoch 3/150\n",
      "514/514 [==============================] - 0s 309us/step - loss: 0.6618 - acc: 0.6381 - val_loss: 0.6515 - val_acc: 0.6732\n",
      "Epoch 4/150\n",
      "514/514 [==============================] - 0s 308us/step - loss: 0.6550 - acc: 0.6401 - val_loss: 0.6471 - val_acc: 0.6850\n",
      "Epoch 5/150\n",
      "514/514 [==============================] - 0s 264us/step - loss: 0.6463 - acc: 0.6401 - val_loss: 0.6381 - val_acc: 0.6969\n",
      "Epoch 6/150\n",
      "514/514 [==============================] - 0s 314us/step - loss: 0.6408 - acc: 0.6420 - val_loss: 0.6274 - val_acc: 0.7047\n",
      "Epoch 7/150\n",
      "514/514 [==============================] - 0s 318us/step - loss: 0.6321 - acc: 0.6556 - val_loss: 0.6189 - val_acc: 0.6811\n",
      "Epoch 8/150\n",
      "514/514 [==============================] - 0s 287us/step - loss: 0.6242 - acc: 0.6693 - val_loss: 0.6075 - val_acc: 0.6850\n",
      "Epoch 9/150\n",
      "514/514 [==============================] - 0s 330us/step - loss: 0.6176 - acc: 0.6654 - val_loss: 0.6057 - val_acc: 0.7008\n",
      "Epoch 10/150\n",
      "514/514 [==============================] - 0s 272us/step - loss: 0.6149 - acc: 0.6790 - val_loss: 0.6027 - val_acc: 0.6850\n",
      "Epoch 11/150\n",
      "514/514 [==============================] - 0s 292us/step - loss: 0.6065 - acc: 0.6907 - val_loss: 0.6046 - val_acc: 0.6929\n",
      "Epoch 12/150\n",
      "514/514 [==============================] - 0s 314us/step - loss: 0.6086 - acc: 0.6732 - val_loss: 0.5817 - val_acc: 0.7244\n",
      "Epoch 13/150\n",
      "514/514 [==============================] - 0s 275us/step - loss: 0.6051 - acc: 0.7004 - val_loss: 0.5869 - val_acc: 0.6929\n",
      "Epoch 14/150\n",
      "514/514 [==============================] - 0s 391us/step - loss: 0.5920 - acc: 0.7023 - val_loss: 0.5778 - val_acc: 0.7126\n",
      "Epoch 15/150\n",
      "514/514 [==============================] - ETA: 0s - loss: 0.5880 - acc: 0.710 - 0s 281us/step - loss: 0.5886 - acc: 0.7082 - val_loss: 0.5755 - val_acc: 0.6890\n",
      "Epoch 16/150\n",
      "514/514 [==============================] - 0s 311us/step - loss: 0.5955 - acc: 0.7004 - val_loss: 0.5721 - val_acc: 0.7165\n",
      "Epoch 17/150\n",
      "514/514 [==============================] - 0s 281us/step - loss: 0.5888 - acc: 0.6984 - val_loss: 0.5688 - val_acc: 0.7087\n",
      "Epoch 18/150\n",
      "514/514 [==============================] - 0s 320us/step - loss: 0.5834 - acc: 0.7257 - val_loss: 0.5770 - val_acc: 0.7087\n",
      "Epoch 19/150\n",
      "514/514 [==============================] - 0s 306us/step - loss: 0.5846 - acc: 0.7062 - val_loss: 0.5748 - val_acc: 0.7008\n",
      "Epoch 20/150\n",
      "514/514 [==============================] - 0s 295us/step - loss: 0.5821 - acc: 0.6984 - val_loss: 0.5689 - val_acc: 0.7047\n",
      "Epoch 21/150\n",
      "514/514 [==============================] - 0s 324us/step - loss: 0.5769 - acc: 0.7160 - val_loss: 0.5729 - val_acc: 0.7087\n",
      "Epoch 22/150\n",
      "514/514 [==============================] - 0s 290us/step - loss: 0.5734 - acc: 0.7257 - val_loss: 0.5687 - val_acc: 0.7126\n",
      "Epoch 23/150\n",
      "514/514 [==============================] - 0s 318us/step - loss: 0.5764 - acc: 0.7043 - val_loss: 0.5695 - val_acc: 0.7008\n",
      "Epoch 24/150\n",
      "514/514 [==============================] - 0s 435us/step - loss: 0.5605 - acc: 0.7276 - val_loss: 0.5631 - val_acc: 0.6969\n",
      "Epoch 25/150\n",
      "514/514 [==============================] - 0s 319us/step - loss: 0.5663 - acc: 0.7218 - val_loss: 0.5598 - val_acc: 0.7165\n",
      "Epoch 26/150\n",
      "514/514 [==============================] - 0s 374us/step - loss: 0.5624 - acc: 0.7412 - val_loss: 0.5601 - val_acc: 0.7165\n",
      "Epoch 27/150\n",
      "514/514 [==============================] - 0s 298us/step - loss: 0.5617 - acc: 0.7257 - val_loss: 0.5631 - val_acc: 0.6969\n",
      "Epoch 28/150\n",
      "514/514 [==============================] - 0s 312us/step - loss: 0.5573 - acc: 0.7393 - val_loss: 0.6482 - val_acc: 0.5748\n",
      "Epoch 29/150\n",
      "514/514 [==============================] - 0s 285us/step - loss: 0.5599 - acc: 0.7237 - val_loss: 0.5757 - val_acc: 0.7244\n",
      "Epoch 30/150\n",
      "514/514 [==============================] - 0s 283us/step - loss: 0.5601 - acc: 0.7335 - val_loss: 0.5638 - val_acc: 0.7087\n",
      "Epoch 31/150\n",
      "514/514 [==============================] - 0s 511us/step - loss: 0.5529 - acc: 0.7160 - val_loss: 0.5691 - val_acc: 0.7165\n",
      "Epoch 32/150\n",
      "514/514 [==============================] - 0s 305us/step - loss: 0.5567 - acc: 0.7296 - val_loss: 0.6031 - val_acc: 0.6496\n",
      "Epoch 33/150\n",
      "514/514 [==============================] - 0s 302us/step - loss: 0.5801 - acc: 0.7257 - val_loss: 0.5889 - val_acc: 0.7126\n",
      "Epoch 34/150\n",
      "514/514 [==============================] - 0s 336us/step - loss: 0.5546 - acc: 0.7257 - val_loss: 0.5660 - val_acc: 0.7165\n",
      "Epoch 35/150\n",
      "514/514 [==============================] - 0s 284us/step - loss: 0.5490 - acc: 0.7354 - val_loss: 0.5645 - val_acc: 0.7323\n",
      "Epoch 36/150\n",
      "514/514 [==============================] - 0s 343us/step - loss: 0.5533 - acc: 0.7335 - val_loss: 0.5648 - val_acc: 0.7362\n",
      "Epoch 37/150\n",
      "514/514 [==============================] - 0s 286us/step - loss: 0.5480 - acc: 0.7237 - val_loss: 0.5686 - val_acc: 0.7244\n",
      "Epoch 38/150\n",
      "514/514 [==============================] - 0s 295us/step - loss: 0.5460 - acc: 0.7296 - val_loss: 0.5605 - val_acc: 0.7244\n",
      "Epoch 39/150\n",
      "514/514 [==============================] - 0s 376us/step - loss: 0.5512 - acc: 0.7237 - val_loss: 0.5569 - val_acc: 0.7362\n",
      "Epoch 40/150\n",
      "514/514 [==============================] - 0s 299us/step - loss: 0.5494 - acc: 0.7393 - val_loss: 0.5576 - val_acc: 0.7165\n",
      "Epoch 41/150\n",
      "514/514 [==============================] - 0s 297us/step - loss: 0.5454 - acc: 0.7354 - val_loss: 0.5634 - val_acc: 0.7047\n",
      "Epoch 42/150\n",
      "514/514 [==============================] - 0s 276us/step - loss: 0.5446 - acc: 0.7451 - val_loss: 0.5862 - val_acc: 0.7205\n",
      "Epoch 43/150\n",
      "514/514 [==============================] - 0s 345us/step - loss: 0.5483 - acc: 0.7315 - val_loss: 0.5623 - val_acc: 0.7205\n",
      "Epoch 44/150\n",
      "514/514 [==============================] - 0s 289us/step - loss: 0.5464 - acc: 0.7276 - val_loss: 0.5632 - val_acc: 0.7244\n",
      "Epoch 45/150\n",
      "514/514 [==============================] - 0s 606us/step - loss: 0.5405 - acc: 0.7237 - val_loss: 0.5928 - val_acc: 0.6575\n",
      "Epoch 46/150\n",
      "514/514 [==============================] - 0s 291us/step - loss: 0.5485 - acc: 0.7198 - val_loss: 0.5926 - val_acc: 0.7244\n",
      "Epoch 47/150\n",
      "514/514 [==============================] - 0s 347us/step - loss: 0.5465 - acc: 0.7296 - val_loss: 0.5526 - val_acc: 0.7362\n",
      "Epoch 48/150\n",
      "514/514 [==============================] - 0s 272us/step - loss: 0.5409 - acc: 0.7218 - val_loss: 0.5542 - val_acc: 0.7441\n",
      "Epoch 49/150\n",
      "514/514 [==============================] - 0s 314us/step - loss: 0.5417 - acc: 0.7451 - val_loss: 0.5599 - val_acc: 0.7323\n",
      "Epoch 50/150\n",
      "514/514 [==============================] - 0s 264us/step - loss: 0.5407 - acc: 0.7432 - val_loss: 0.5701 - val_acc: 0.6969\n",
      "Epoch 51/150\n",
      "514/514 [==============================] - 0s 281us/step - loss: 0.5346 - acc: 0.7471 - val_loss: 0.5610 - val_acc: 0.7402\n",
      "Epoch 52/150\n",
      "514/514 [==============================] - 0s 330us/step - loss: 0.5369 - acc: 0.7471 - val_loss: 0.5618 - val_acc: 0.7047\n",
      "Epoch 53/150\n",
      "514/514 [==============================] - 0s 337us/step - loss: 0.5373 - acc: 0.7510 - val_loss: 0.5476 - val_acc: 0.7402\n",
      "Epoch 54/150\n",
      "514/514 [==============================] - 0s 307us/step - loss: 0.5322 - acc: 0.7374 - val_loss: 0.5578 - val_acc: 0.7480\n",
      "Epoch 55/150\n",
      "514/514 [==============================] - 0s 305us/step - loss: 0.5296 - acc: 0.7432 - val_loss: 0.5651 - val_acc: 0.7244\n",
      "Epoch 56/150\n",
      "514/514 [==============================] - 0s 295us/step - loss: 0.5427 - acc: 0.7237 - val_loss: 0.5626 - val_acc: 0.7165\n",
      "Epoch 57/150\n",
      "514/514 [==============================] - 0s 293us/step - loss: 0.5409 - acc: 0.7335 - val_loss: 0.5671 - val_acc: 0.7165\n",
      "Epoch 58/150\n",
      "514/514 [==============================] - 0s 297us/step - loss: 0.5312 - acc: 0.7296 - val_loss: 0.5694 - val_acc: 0.7008\n",
      "Epoch 59/150\n",
      "514/514 [==============================] - 0s 270us/step - loss: 0.5409 - acc: 0.7237 - val_loss: 0.5562 - val_acc: 0.7441\n",
      "Epoch 60/150\n",
      "514/514 [==============================] - 0s 306us/step - loss: 0.5348 - acc: 0.7374 - val_loss: 0.5597 - val_acc: 0.7480\n",
      "Epoch 61/150\n",
      "514/514 [==============================] - 0s 317us/step - loss: 0.5320 - acc: 0.7315 - val_loss: 0.5643 - val_acc: 0.7323\n",
      "Epoch 62/150\n",
      "514/514 [==============================] - 0s 308us/step - loss: 0.5355 - acc: 0.7374 - val_loss: 0.5573 - val_acc: 0.7323\n",
      "Epoch 63/150\n",
      "514/514 [==============================] - 0s 362us/step - loss: 0.5271 - acc: 0.7432 - val_loss: 0.5501 - val_acc: 0.7480\n",
      "Epoch 64/150\n",
      "514/514 [==============================] - 0s 314us/step - loss: 0.5299 - acc: 0.7451 - val_loss: 0.5544 - val_acc: 0.7362\n",
      "Epoch 65/150\n",
      "514/514 [==============================] - 0s 323us/step - loss: 0.5324 - acc: 0.7354 - val_loss: 0.5618 - val_acc: 0.7441\n",
      "Epoch 66/150\n",
      "514/514 [==============================] - 0s 275us/step - loss: 0.5338 - acc: 0.7315 - val_loss: 0.5444 - val_acc: 0.7520\n",
      "Epoch 67/150\n",
      "514/514 [==============================] - 0s 310us/step - loss: 0.5279 - acc: 0.7471 - val_loss: 0.5607 - val_acc: 0.7480\n",
      "Epoch 68/150\n",
      "514/514 [==============================] - 0s 334us/step - loss: 0.5308 - acc: 0.7354 - val_loss: 0.5700 - val_acc: 0.7323\n",
      "Epoch 69/150\n",
      "514/514 [==============================] - 0s 332us/step - loss: 0.5353 - acc: 0.7276 - val_loss: 0.5609 - val_acc: 0.7402\n",
      "Epoch 70/150\n",
      "514/514 [==============================] - 0s 293us/step - loss: 0.5307 - acc: 0.7471 - val_loss: 0.5492 - val_acc: 0.7598\n",
      "Epoch 71/150\n",
      "514/514 [==============================] - 0s 247us/step - loss: 0.5275 - acc: 0.7393 - val_loss: 0.5613 - val_acc: 0.7441\n",
      "Epoch 72/150\n",
      "514/514 [==============================] - 0s 285us/step - loss: 0.5268 - acc: 0.7451 - val_loss: 0.5462 - val_acc: 0.7598\n",
      "Epoch 73/150\n",
      "514/514 [==============================] - 0s 268us/step - loss: 0.5321 - acc: 0.7237 - val_loss: 0.5473 - val_acc: 0.7756\n",
      "Epoch 74/150\n",
      "514/514 [==============================] - 0s 272us/step - loss: 0.5226 - acc: 0.7490 - val_loss: 0.5528 - val_acc: 0.7520\n",
      "Epoch 75/150\n",
      "514/514 [==============================] - 0s 301us/step - loss: 0.5258 - acc: 0.7471 - val_loss: 0.5525 - val_acc: 0.7520\n",
      "Epoch 76/150\n",
      "514/514 [==============================] - 0s 264us/step - loss: 0.5265 - acc: 0.7315 - val_loss: 0.5477 - val_acc: 0.7598\n",
      "Epoch 77/150\n",
      "514/514 [==============================] - 0s 268us/step - loss: 0.5197 - acc: 0.7510 - val_loss: 0.5457 - val_acc: 0.7677\n",
      "Epoch 78/150\n",
      "514/514 [==============================] - 0s 296us/step - loss: 0.5220 - acc: 0.7471 - val_loss: 0.5373 - val_acc: 0.7717\n",
      "Epoch 79/150\n",
      "514/514 [==============================] - 0s 343us/step - loss: 0.5315 - acc: 0.7412 - val_loss: 0.5520 - val_acc: 0.7559\n",
      "Epoch 80/150\n",
      "514/514 [==============================] - 0s 279us/step - loss: 0.5198 - acc: 0.7471 - val_loss: 0.5479 - val_acc: 0.7559\n",
      "Epoch 81/150\n",
      "514/514 [==============================] - 0s 280us/step - loss: 0.5299 - acc: 0.7490 - val_loss: 0.5472 - val_acc: 0.7520\n",
      "Epoch 82/150\n",
      "514/514 [==============================] - 0s 267us/step - loss: 0.5254 - acc: 0.7335 - val_loss: 0.5456 - val_acc: 0.7638\n",
      "Epoch 83/150\n",
      "514/514 [==============================] - 0s 306us/step - loss: 0.5165 - acc: 0.7412 - val_loss: 0.5523 - val_acc: 0.7638\n",
      "Epoch 84/150\n",
      "514/514 [==============================] - 0s 274us/step - loss: 0.5242 - acc: 0.7335 - val_loss: 0.5469 - val_acc: 0.7756\n",
      "Epoch 85/150\n",
      "514/514 [==============================] - 0s 298us/step - loss: 0.5233 - acc: 0.7510 - val_loss: 0.5434 - val_acc: 0.7559\n",
      "Epoch 86/150\n",
      "514/514 [==============================] - 0s 270us/step - loss: 0.5165 - acc: 0.7471 - val_loss: 0.5411 - val_acc: 0.7717\n",
      "Epoch 87/150\n",
      "514/514 [==============================] - 0s 297us/step - loss: 0.5163 - acc: 0.7393 - val_loss: 0.5386 - val_acc: 0.7677\n",
      "Epoch 88/150\n",
      "514/514 [==============================] - 0s 297us/step - loss: 0.5165 - acc: 0.7529 - val_loss: 0.5458 - val_acc: 0.7480\n",
      "Epoch 89/150\n",
      "514/514 [==============================] - 0s 282us/step - loss: 0.5151 - acc: 0.7432 - val_loss: 0.5421 - val_acc: 0.7677\n",
      "Epoch 90/150\n",
      "514/514 [==============================] - 0s 256us/step - loss: 0.5182 - acc: 0.7490 - val_loss: 0.5436 - val_acc: 0.7559\n",
      "Epoch 91/150\n",
      "514/514 [==============================] - 0s 302us/step - loss: 0.5185 - acc: 0.7393 - val_loss: 0.5519 - val_acc: 0.7441\n",
      "Epoch 92/150\n",
      "514/514 [==============================] - 0s 250us/step - loss: 0.5229 - acc: 0.7529 - val_loss: 0.5500 - val_acc: 0.7441\n",
      "Epoch 93/150\n",
      "514/514 [==============================] - 0s 314us/step - loss: 0.5165 - acc: 0.7626 - val_loss: 0.5600 - val_acc: 0.7441\n",
      "Epoch 94/150\n",
      "514/514 [==============================] - 0s 341us/step - loss: 0.5180 - acc: 0.7510 - val_loss: 0.5335 - val_acc: 0.7717\n",
      "Epoch 95/150\n",
      "514/514 [==============================] - 0s 259us/step - loss: 0.5178 - acc: 0.7607 - val_loss: 0.5651 - val_acc: 0.7126\n",
      "Epoch 96/150\n",
      "514/514 [==============================] - 0s 288us/step - loss: 0.5282 - acc: 0.7393 - val_loss: 0.5372 - val_acc: 0.7677\n",
      "Epoch 97/150\n",
      "514/514 [==============================] - 0s 265us/step - loss: 0.5142 - acc: 0.7490 - val_loss: 0.5396 - val_acc: 0.7756\n",
      "Epoch 98/150\n",
      "514/514 [==============================] - 0s 268us/step - loss: 0.5232 - acc: 0.7315 - val_loss: 0.5434 - val_acc: 0.7520\n",
      "Epoch 99/150\n",
      "514/514 [==============================] - 0s 296us/step - loss: 0.5298 - acc: 0.7354 - val_loss: 0.5393 - val_acc: 0.7717\n",
      "Epoch 100/150\n",
      "514/514 [==============================] - 0s 266us/step - loss: 0.5164 - acc: 0.7451 - val_loss: 0.5298 - val_acc: 0.7717\n",
      "Epoch 101/150\n",
      "514/514 [==============================] - 0s 295us/step - loss: 0.5161 - acc: 0.7490 - val_loss: 0.5392 - val_acc: 0.7677\n",
      "Epoch 102/150\n",
      "514/514 [==============================] - 0s 256us/step - loss: 0.5113 - acc: 0.7471 - val_loss: 0.5311 - val_acc: 0.7756\n",
      "Epoch 103/150\n",
      "514/514 [==============================] - 0s 398us/step - loss: 0.5225 - acc: 0.7490 - val_loss: 0.5355 - val_acc: 0.7480\n",
      "Epoch 104/150\n",
      "514/514 [==============================] - 0s 320us/step - loss: 0.5128 - acc: 0.7412 - val_loss: 0.5336 - val_acc: 0.7559\n",
      "Epoch 105/150\n",
      "514/514 [==============================] - 0s 357us/step - loss: 0.5110 - acc: 0.7549 - val_loss: 0.5397 - val_acc: 0.7598\n",
      "Epoch 106/150\n",
      "514/514 [==============================] - 0s 271us/step - loss: 0.5163 - acc: 0.7432 - val_loss: 0.5346 - val_acc: 0.7638\n",
      "Epoch 107/150\n",
      "514/514 [==============================] - 0s 318us/step - loss: 0.5158 - acc: 0.7510 - val_loss: 0.5446 - val_acc: 0.7480\n",
      "Epoch 108/150\n",
      "514/514 [==============================] - 0s 265us/step - loss: 0.5203 - acc: 0.7529 - val_loss: 0.5385 - val_acc: 0.7638\n",
      "Epoch 109/150\n",
      "514/514 [==============================] - 0s 360us/step - loss: 0.5144 - acc: 0.7607 - val_loss: 0.5294 - val_acc: 0.7913\n",
      "Epoch 110/150\n",
      "514/514 [==============================] - 0s 242us/step - loss: 0.5111 - acc: 0.7510 - val_loss: 0.5623 - val_acc: 0.7362\n",
      "Epoch 111/150\n",
      "514/514 [==============================] - 0s 377us/step - loss: 0.5226 - acc: 0.7354 - val_loss: 0.5391 - val_acc: 0.7598\n",
      "Epoch 112/150\n",
      "514/514 [==============================] - 0s 373us/step - loss: 0.5077 - acc: 0.7568 - val_loss: 0.5377 - val_acc: 0.7441\n",
      "Epoch 113/150\n",
      "514/514 [==============================] - 0s 369us/step - loss: 0.5127 - acc: 0.7471 - val_loss: 0.5286 - val_acc: 0.7677\n",
      "Epoch 114/150\n",
      "514/514 [==============================] - 0s 270us/step - loss: 0.5051 - acc: 0.7471 - val_loss: 0.5283 - val_acc: 0.7598\n",
      "Epoch 115/150\n",
      "514/514 [==============================] - 0s 442us/step - loss: 0.5085 - acc: 0.7549 - val_loss: 0.5251 - val_acc: 0.7874\n",
      "Epoch 116/150\n",
      "514/514 [==============================] - 0s 259us/step - loss: 0.5062 - acc: 0.7451 - val_loss: 0.5251 - val_acc: 0.7795\n",
      "Epoch 117/150\n",
      "514/514 [==============================] - 0s 312us/step - loss: 0.5128 - acc: 0.7549 - val_loss: 0.5724 - val_acc: 0.7520\n",
      "Epoch 118/150\n",
      "514/514 [==============================] - 0s 237us/step - loss: 0.5082 - acc: 0.7393 - val_loss: 0.5309 - val_acc: 0.7756\n",
      "Epoch 119/150\n",
      "514/514 [==============================] - 0s 434us/step - loss: 0.5167 - acc: 0.7471 - val_loss: 0.5333 - val_acc: 0.7598\n",
      "Epoch 120/150\n",
      "514/514 [==============================] - 0s 285us/step - loss: 0.5065 - acc: 0.7529 - val_loss: 0.5253 - val_acc: 0.7756\n",
      "Epoch 121/150\n",
      "514/514 [==============================] - 0s 262us/step - loss: 0.5088 - acc: 0.7471 - val_loss: 0.5564 - val_acc: 0.7441\n",
      "Epoch 122/150\n",
      "514/514 [==============================] - 0s 280us/step - loss: 0.5080 - acc: 0.7451 - val_loss: 0.5253 - val_acc: 0.7677\n",
      "Epoch 123/150\n",
      "514/514 [==============================] - 0s 333us/step - loss: 0.5026 - acc: 0.7471 - val_loss: 0.5342 - val_acc: 0.7559\n",
      "Epoch 124/150\n",
      "514/514 [==============================] - 0s 274us/step - loss: 0.5065 - acc: 0.7432 - val_loss: 0.5375 - val_acc: 0.7638\n",
      "Epoch 125/150\n",
      "514/514 [==============================] - 0s 312us/step - loss: 0.5135 - acc: 0.7490 - val_loss: 0.5377 - val_acc: 0.7520\n",
      "Epoch 126/150\n",
      "514/514 [==============================] - 0s 253us/step - loss: 0.5047 - acc: 0.7393 - val_loss: 0.5280 - val_acc: 0.7795\n",
      "Epoch 127/150\n",
      "514/514 [==============================] - 0s 304us/step - loss: 0.4997 - acc: 0.7490 - val_loss: 0.5144 - val_acc: 0.7717\n",
      "Epoch 128/150\n",
      "514/514 [==============================] - 0s 312us/step - loss: 0.4948 - acc: 0.7704 - val_loss: 0.5293 - val_acc: 0.7598\n",
      "Epoch 129/150\n",
      "514/514 [==============================] - 0s 339us/step - loss: 0.5054 - acc: 0.7432 - val_loss: 0.5247 - val_acc: 0.7756\n",
      "Epoch 130/150\n",
      "514/514 [==============================] - 0s 262us/step - loss: 0.5031 - acc: 0.7451 - val_loss: 0.5132 - val_acc: 0.7953\n",
      "Epoch 131/150\n",
      "514/514 [==============================] - 0s 274us/step - loss: 0.4994 - acc: 0.7510 - val_loss: 0.5348 - val_acc: 0.7677\n",
      "Epoch 132/150\n",
      "514/514 [==============================] - 0s 260us/step - loss: 0.5059 - acc: 0.7510 - val_loss: 0.5280 - val_acc: 0.7717\n",
      "Epoch 133/150\n",
      "514/514 [==============================] - 0s 272us/step - loss: 0.4996 - acc: 0.7549 - val_loss: 0.5192 - val_acc: 0.7795\n",
      "Epoch 134/150\n",
      "514/514 [==============================] - 0s 283us/step - loss: 0.4960 - acc: 0.7432 - val_loss: 0.5185 - val_acc: 0.7795\n",
      "Epoch 135/150\n",
      "514/514 [==============================] - 0s 250us/step - loss: 0.5039 - acc: 0.7490 - val_loss: 0.5170 - val_acc: 0.7598\n",
      "Epoch 136/150\n",
      "514/514 [==============================] - 0s 292us/step - loss: 0.5000 - acc: 0.7510 - val_loss: 0.5171 - val_acc: 0.7677\n",
      "Epoch 137/150\n",
      "514/514 [==============================] - 0s 287us/step - loss: 0.5102 - acc: 0.7412 - val_loss: 0.5238 - val_acc: 0.7520\n",
      "Epoch 138/150\n",
      "514/514 [==============================] - 0s 238us/step - loss: 0.4952 - acc: 0.7451 - val_loss: 0.5157 - val_acc: 0.7756\n",
      "Epoch 139/150\n",
      "514/514 [==============================] - 0s 285us/step - loss: 0.4968 - acc: 0.7607 - val_loss: 0.5209 - val_acc: 0.7677\n",
      "Epoch 140/150\n",
      "514/514 [==============================] - 0s 318us/step - loss: 0.4928 - acc: 0.7568 - val_loss: 0.5156 - val_acc: 0.7795\n",
      "Epoch 141/150\n",
      "514/514 [==============================] - 0s 426us/step - loss: 0.4956 - acc: 0.7568 - val_loss: 0.5062 - val_acc: 0.7756\n",
      "Epoch 142/150\n",
      "514/514 [==============================] - 0s 259us/step - loss: 0.4976 - acc: 0.7451 - val_loss: 0.5221 - val_acc: 0.7638\n",
      "Epoch 143/150\n",
      "514/514 [==============================] - 0s 248us/step - loss: 0.5071 - acc: 0.7549 - val_loss: 0.5149 - val_acc: 0.7717\n",
      "Epoch 144/150\n",
      "514/514 [==============================] - 0s 473us/step - loss: 0.5041 - acc: 0.7471 - val_loss: 0.5191 - val_acc: 0.7717\n",
      "Epoch 145/150\n",
      "514/514 [==============================] - 0s 273us/step - loss: 0.4971 - acc: 0.7471 - val_loss: 0.5058 - val_acc: 0.7913\n",
      "Epoch 146/150\n",
      "514/514 [==============================] - 0s 253us/step - loss: 0.4945 - acc: 0.7471 - val_loss: 0.5231 - val_acc: 0.7717\n",
      "Epoch 147/150\n",
      "514/514 [==============================] - 0s 235us/step - loss: 0.4944 - acc: 0.7510 - val_loss: 0.5023 - val_acc: 0.7756\n",
      "Epoch 148/150\n",
      "514/514 [==============================] - 0s 310us/step - loss: 0.4939 - acc: 0.7568 - val_loss: 0.5188 - val_acc: 0.7677\n",
      "Epoch 149/150\n",
      "514/514 [==============================] - 0s 251us/step - loss: 0.4889 - acc: 0.7685 - val_loss: 0.5067 - val_acc: 0.7677\n",
      "Epoch 150/150\n",
      "514/514 [==============================] - 0s 299us/step - loss: 0.4890 - acc: 0.7685 - val_loss: 0.5111 - val_acc: 0.7795\n",
      "768/768 [==============================] - 0s 38us/step\n",
      "\n",
      "acc : 77.34%\n"
     ]
    }
   ],
   "source": [
    "# 위에꺼랑 비슷\n",
    "\n",
    "from keras.models import Sequential  # 입력이 1개, 아웃풋 1개\n",
    "from keras.layers import Dense\n",
    "import numpy\n",
    "numpy.random.seed(7)\n",
    "dataset = numpy.loadtxt('pima.data', delimiter=',')\n",
    "X = dataset[:,0:8]  # 8개 독립변수\n",
    "print(X.shape)\n",
    "Y = dataset[:,8]    # 9번쨰 : 독립변수\n",
    "print(Y.shape)\n",
    "model = Sequential()\n",
    "# 입력데이터 : ? x 8  # 가중치 : 8x12 ==> ? x 12\n",
    "model.add(Dense(12, input_dim=8,kernel_initializer='uniform', activation='relu'))  # 초기화 방법 지정\n",
    "# ? x 12  => 12x8  ==> ?x8\n",
    "model.add(Dense(8,kernel_initializer='uniform', activation='relu'))\n",
    "# ?x8 => 8x1  ==> ?x1\n",
    "model.add(Dense(1, kernel_initializer='uniform',activation='sigmoid')) # 0.5기준으로 크면 1, 아니면 0\n",
    "model.compile(loss='binary_crossentropy', optimizer='adam',\n",
    "             metrics = ['accuracy'])  # [loss, optimizer, metrics]\n",
    "\n",
    "# 데이터 분리 입력( train, test ) : 과적합될 수 있음 => 검증용 데이터로 나눠서 test\n",
    "# train, validation , test \n",
    "history = model.fit(X,Y,validation_split=0.33, epochs=150, batch_size= 10)\n",
    "scores = model.evaluate(X,Y)\n",
    "# 2번쨰 : accuracy\n",
    "print('\\n%s : %.2f%%' % (model.metrics_names[1], scores[1]*100))\n"
   ]
  },
  {
   "cell_type": "code",
   "execution_count": 7,
   "metadata": {},
   "outputs": [
    {
     "name": "stdout",
     "output_type": "stream",
     "text": [
      "dict_keys(['val_loss', 'val_acc', 'loss', 'acc'])\n"
     ]
    }
   ],
   "source": [
    "print(history.history.keys())"
   ]
  },
  {
   "cell_type": "code",
   "execution_count": 8,
   "metadata": {},
   "outputs": [
    {
     "data": {
      "image/png": "[encoded data removed]",
      "text/plain": [
       "<Figure size 432x288 with 1 Axes>"
      ]
     },
     "metadata": {
      "needs_background": "light"
     },
     "output_type": "display_data"
    }
   ],
   "source": [
    "import matplotlib.pyplot as plt\n",
    "%matplotlib inline\n",
    "plt.plot(history.history['acc'])\n",
    "plt.plot(history.history['val_acc'])\n",
    "plt.title('acc')\n",
    "plt.ylabel('acc')\n",
    "plt.xlabel('epoch')\n",
    "plt.legend(['train','test'], loc = 'upper left')\n",
    "plt.show()"
   ]
  },
  {
   "cell_type": "code",
   "execution_count": 9,
   "metadata": {},
   "outputs": [
    {
     "data": {
      "image/png": "[encoded data removed]",
      "text/plain": [
       "<Figure size 432x288 with 1 Axes>"
      ]
     },
     "metadata": {
      "needs_background": "light"
     },
     "output_type": "display_data"
    }
   ],
   "source": [
    "plt.plot(history.history['loss'])\n",
    "plt.plot(history.history['val_loss'])\n",
    "plt.title('loss')\n",
    "plt.ylabel('loss')\n",
    "plt.xlabel('epoch')\n",
    "plt.legend(['train','test'], loc = 'upper left')\n",
    "plt.show()"
   ]
  },
  {
   "cell_type": "code",
   "execution_count": 10,
   "metadata": {},
   "outputs": [
    {
     "name": "stdout",
     "output_type": "stream",
     "text": [
      "(1000, 2)\n",
      "(1000,)\n"
     ]
    }
   ],
   "source": [
    "from sklearn.preprocessing import scale\n",
    "from sklearn.model_selection import train_test_split\n",
    "from sklearn.datasets import make_moons\n",
    "X, Y = make_moons(noise=0.2, random_state=0, n_samples= 1000)\n",
    "print(X.shape)\n",
    "print(Y.shape)\n",
    "X= scale(X)\n",
    "X_train, X_test, Y_train, Y_test = train_test_split(X,Y, test_size=0.5)\n"
   ]
  },
  {
   "cell_type": "code",
   "execution_count": 11,
   "metadata": {},
   "outputs": [
    {
     "data": {
      "text/plain": [
       "[Text(0, 0.5, 'Y'), Text(0.5, 0, 'X'), Text(0.5, 1.0, 'binary classification')]"
      ]
     },
     "execution_count": 11,
     "metadata": {},
     "output_type": "execute_result"
    },
    {
     "data": {
      "image/png": "[encoded data removed]",
      "text/plain": [
       "<Figure size 432x288 with 1 Axes>"
      ]
     },
     "metadata": {
      "needs_background": "light"
     },
     "output_type": "display_data"
    }
   ],
   "source": [
    "fig, ax = plt.subplots()\n",
    "ax.scatter(X[Y==0, 0], X[Y==0,1], label = 'Class O')\n",
    "ax.scatter(X[Y==1, 0], X[Y==1, 1], color='r', label='Class 1')\n",
    "ax.legend()\n",
    "ax.set(xlabel='X', ylabel='Y', title='binary classification')\n",
    "\n",
    "# ==> 비선형으로 분류 필요"
   ]
  },
  {
   "cell_type": "code",
   "execution_count": 12,
   "metadata": {},
   "outputs": [
    {
     "name": "stdout",
     "output_type": "stream",
     "text": [
      "WARNING:tensorflow:From C:\\Users\\happy\\Anaconda3\\envs\\tensorflow\\lib\\site-packages\\keras\\callbacks.py:796: The name tf.summary.histogram is deprecated. Please use tf.compat.v1.summary.histogram instead.\n",
      "\n",
      "WARNING:tensorflow:From C:\\Users\\happy\\Anaconda3\\envs\\tensorflow\\lib\\site-packages\\keras\\callbacks.py:850: The name tf.summary.merge_all is deprecated. Please use tf.compat.v1.summary.merge_all instead.\n",
      "\n",
      "WARNING:tensorflow:From C:\\Users\\happy\\Anaconda3\\envs\\tensorflow\\lib\\site-packages\\keras\\callbacks.py:853: The name tf.summary.FileWriter is deprecated. Please use tf.compat.v1.summary.FileWriter instead.\n",
      "\n"
     ]
    }
   ],
   "source": [
    "# 신경망은 비선형 문제 해결 가능\n",
    "import keras\n",
    "\n",
    "model = Sequential()  \n",
    "# 1000x2 # 2x32 ==> 1000x32 ### 차원확대 (2개의 변수를 32개로 설명)\n",
    "model.add(Dense(32, input_dim=2, activation='relu'))\n",
    "model.add(Dense(1, activation='sigmoid'))\n",
    "\n",
    "model.compile(optimizer = 'AdaDelta',\n",
    "             loss = 'binary_crossentropy',\n",
    "             metrics= ['accuracy'])\n",
    "\n",
    "# call_back 함수 : window에서 자동으로 호출되어지는 함수\n",
    "tb_callback = keras.callbacks.TensorBoard(  \n",
    "    log_dir = './Graph/model_1/',\n",
    "    histogram_freq=100, write_graph = True,\n",
    "    write_images = False)\n",
    "tb_callback.set_model(model)  # call_back을 모델에 등록"
   ]
  },
  {
   "cell_type": "code",
   "execution_count": 13,
   "metadata": {},
   "outputs": [],
   "source": [
    "hist = model.fit(X_train, Y_train, batch_size = 32, epochs =200, \n",
    "                verbose = 0, validation_data = (X_test, Y_test), callbacks = [tb_callback])"
   ]
  },
  {
   "cell_type": "code",
   "execution_count": 13,
   "metadata": {},
   "outputs": [
    {
     "name": "stdout",
     "output_type": "stream",
     "text": [
      "Test loss : 0.12795892786979676\n",
      "Test Accuracy:  0.9499999990463257\n"
     ]
    }
   ],
   "source": [
    "score = model.evaluate(X_test, Y_test, verbose= 0)\n",
    "print(\"Test loss :\", score[0])\n",
    "print(\"Test Accuracy: \", score[1])"
   ]
  },
  {
   "cell_type": "code",
   "execution_count": 14,
   "metadata": {},
   "outputs": [
    {
     "name": "stdout",
     "output_type": "stream",
     "text": [
      "_________________________________________________________________\n",
      "Layer (type)                 Output Shape              Param #   \n",
      "=================================================================\n",
      "dense_10 (Dense)             (None, 32)                96        \n",
      "_________________________________________________________________\n",
      "dense_11 (Dense)             (None, 1)                 33        \n",
      "=================================================================\n",
      "Total params: 129\n",
      "Trainable params: 129\n",
      "Non-trainable params: 0\n",
      "_________________________________________________________________\n"
     ]
    }
   ],
   "source": [
    "keras.utils.print_summary(model)"
   ]
  },
  {
   "cell_type": "code",
   "execution_count": 15,
   "metadata": {},
   "outputs": [],
   "source": [
    "keras.utils.plot_model(model)"
   ]
  },
  {
   "cell_type": "code",
   "execution_count": 16,
   "metadata": {},
   "outputs": [
    {
     "data": {
      "text/plain": [
       "<pydot.Dot at 0x26a3e6ee748>"
      ]
     },
     "execution_count": 16,
     "metadata": {},
     "output_type": "execute_result"
    }
   ],
   "source": [
    "%matplotlib inline\n",
    "from keras.utils.vis_utils import model_to_dot\n",
    "model_to_dot(model)"
   ]
  },
  {
   "cell_type": "code",
   "execution_count": null,
   "metadata": {},
   "outputs": [],
   "source": []
  },
  {
   "cell_type": "code",
   "execution_count": 17,
   "metadata": {},
   "outputs": [
    {
     "data": {
      "image/svg+xml": [
       "<svg height=\"191pt\" viewBox=\"0.00 0.00 119.00 191.00\" width=\"119pt\" xmlns=\"http://www.w3.org/2000/svg\" xmlns:xlink=\"http://www.w3.org/1999/xlink\">\n",
       "<g class=\"graph\" id=\"graph0\" transform=\"scale(1 1) rotate(0) translate(4 187)\">\n",
       "<title>G</title>\n",
       "<polygon fill=\"white\" points=\"-4,4 -4,-187 115,-187 115,4 -4,4\" stroke=\"none\"/>\n",
       "<!-- 2655310743176 -->\n",
       "<g class=\"node\" id=\"node1\"><title>2655310743176</title>\n",
       "<polygon fill=\"none\" points=\"0,-73.5 0,-109.5 111,-109.5 111,-73.5 0,-73.5\" stroke=\"black\"/>\n",
       "<text font-family=\"Times New Roman,serif\" font-size=\"14.00\" text-anchor=\"middle\" x=\"55.5\" y=\"-87.8\">dense_10: Dense</text>\n",
       "</g>\n",
       "<!-- 2655310745032 -->\n",
       "<g class=\"node\" id=\"node2\"><title>2655310745032</title>\n",
       "<polygon fill=\"none\" points=\"0,-0.5 0,-36.5 111,-36.5 111,-0.5 0,-0.5\" stroke=\"black\"/>\n",
       "<text font-family=\"Times New Roman,serif\" font-size=\"14.00\" text-anchor=\"middle\" x=\"55.5\" y=\"-14.8\">dense_11: Dense</text>\n",
       "</g>\n",
       "<!-- 2655310743176&#45;&gt;2655310745032 -->\n",
       "<g class=\"edge\" id=\"edge2\"><title>2655310743176-&gt;2655310745032</title>\n",
       "<path d=\"M55.5,-73.3129C55.5,-65.2895 55.5,-55.5475 55.5,-46.5691\" fill=\"none\" stroke=\"black\"/>\n",
       "<polygon fill=\"black\" points=\"59.0001,-46.5288 55.5,-36.5288 52.0001,-46.5289 59.0001,-46.5288\" stroke=\"black\"/>\n",
       "</g>\n",
       "<!-- 2655310743880 -->\n",
       "<g class=\"node\" id=\"node3\"><title>2655310743880</title>\n",
       "<polygon fill=\"none\" points=\"3.5,-146.5 3.5,-182.5 107.5,-182.5 107.5,-146.5 3.5,-146.5\" stroke=\"black\"/>\n",
       "<text font-family=\"Times New Roman,serif\" font-size=\"14.00\" text-anchor=\"middle\" x=\"55.5\" y=\"-160.8\">2655310743880</text>\n",
       "</g>\n",
       "<!-- 2655310743880&#45;&gt;2655310743176 -->\n",
       "<g class=\"edge\" id=\"edge1\"><title>2655310743880-&gt;2655310743176</title>\n",
       "<path d=\"M55.5,-146.313C55.5,-138.289 55.5,-128.547 55.5,-119.569\" fill=\"none\" stroke=\"black\"/>\n",
       "<polygon fill=\"black\" points=\"59.0001,-119.529 55.5,-109.529 52.0001,-119.529 59.0001,-119.529\" stroke=\"black\"/>\n",
       "</g>\n",
       "</g>\n",
       "</svg>"
      ],
      "text/plain": [
       "<IPython.core.display.SVG object>"
      ]
     },
     "execution_count": 17,
     "metadata": {},
     "output_type": "execute_result"
    }
   ],
   "source": [
    "from IPython.display import SVG\n",
    "SVG(model_to_dot(model).create(prog='dot', format='svg'))"
   ]
  },
  {
   "cell_type": "code",
   "execution_count": null,
   "metadata": {},
   "outputs": [],
   "source": []
  },
  {
   "cell_type": "code",
   "execution_count": null,
   "metadata": {},
   "outputs": [],
   "source": []
  },
  {
   "cell_type": "code",
   "execution_count": 18,
   "metadata": {},
   "outputs": [
    {
     "name": "stdout",
     "output_type": "stream",
     "text": [
      "_________________________________________________________________\n",
      "Layer (type)                 Output Shape              Param #   \n",
      "=================================================================\n",
      "dense_10 (Dense)             (None, 32)                96        \n",
      "_________________________________________________________________\n",
      "dense_11 (Dense)             (None, 1)                 33        \n",
      "=================================================================\n",
      "Total params: 129\n",
      "Trainable params: 129\n",
      "Non-trainable params: 0\n",
      "_________________________________________________________________\n"
     ]
    }
   ],
   "source": [
    "model.summary()"
   ]
  },
  {
   "cell_type": "code",
   "execution_count": 2,
   "metadata": {},
   "outputs": [
    {
     "name": "stderr",
     "output_type": "stream",
     "text": [
      "Using TensorFlow backend.\n",
      "C:\\Users\\happy\\Anaconda3\\envs\\tensorflow\\lib\\site-packages\\tensorflow\\python\\framework\\dtypes.py:516: FutureWarning: Passing (type, 1) or '1type' as a synonym of type is deprecated; in a future version of numpy, it will be understood as (type, (1,)) / '(1,)type'.\n",
      "  _np_qint8 = np.dtype([(\"qint8\", np.int8, 1)])\n",
      "C:\\Users\\happy\\Anaconda3\\envs\\tensorflow\\lib\\site-packages\\tensorflow\\python\\framework\\dtypes.py:517: FutureWarning: Passing (type, 1) or '1type' as a synonym of type is deprecated; in a future version of numpy, it will be understood as (type, (1,)) / '(1,)type'.\n",
      "  _np_quint8 = np.dtype([(\"quint8\", np.uint8, 1)])\n",
      "C:\\Users\\happy\\Anaconda3\\envs\\tensorflow\\lib\\site-packages\\tensorflow\\python\\framework\\dtypes.py:518: FutureWarning: Passing (type, 1) or '1type' as a synonym of type is deprecated; in a future version of numpy, it will be understood as (type, (1,)) / '(1,)type'.\n",
      "  _np_qint16 = np.dtype([(\"qint16\", np.int16, 1)])\n",
      "C:\\Users\\happy\\Anaconda3\\envs\\tensorflow\\lib\\site-packages\\tensorflow\\python\\framework\\dtypes.py:519: FutureWarning: Passing (type, 1) or '1type' as a synonym of type is deprecated; in a future version of numpy, it will be understood as (type, (1,)) / '(1,)type'.\n",
      "  _np_quint16 = np.dtype([(\"quint16\", np.uint16, 1)])\n",
      "C:\\Users\\happy\\Anaconda3\\envs\\tensorflow\\lib\\site-packages\\tensorflow\\python\\framework\\dtypes.py:520: FutureWarning: Passing (type, 1) or '1type' as a synonym of type is deprecated; in a future version of numpy, it will be understood as (type, (1,)) / '(1,)type'.\n",
      "  _np_qint32 = np.dtype([(\"qint32\", np.int32, 1)])\n",
      "C:\\Users\\happy\\Anaconda3\\envs\\tensorflow\\lib\\site-packages\\tensorflow\\python\\framework\\dtypes.py:525: FutureWarning: Passing (type, 1) or '1type' as a synonym of type is deprecated; in a future version of numpy, it will be understood as (type, (1,)) / '(1,)type'.\n",
      "  np_resource = np.dtype([(\"resource\", np.ubyte, 1)])\n",
      "C:\\Users\\happy\\Anaconda3\\envs\\tensorflow\\lib\\site-packages\\tensorboard\\compat\\tensorflow_stub\\dtypes.py:541: FutureWarning: Passing (type, 1) or '1type' as a synonym of type is deprecated; in a future version of numpy, it will be understood as (type, (1,)) / '(1,)type'.\n",
      "  _np_qint8 = np.dtype([(\"qint8\", np.int8, 1)])\n",
      "C:\\Users\\happy\\Anaconda3\\envs\\tensorflow\\lib\\site-packages\\tensorboard\\compat\\tensorflow_stub\\dtypes.py:542: FutureWarning: Passing (type, 1) or '1type' as a synonym of type is deprecated; in a future version of numpy, it will be understood as (type, (1,)) / '(1,)type'.\n",
      "  _np_quint8 = np.dtype([(\"quint8\", np.uint8, 1)])\n",
      "C:\\Users\\happy\\Anaconda3\\envs\\tensorflow\\lib\\site-packages\\tensorboard\\compat\\tensorflow_stub\\dtypes.py:543: FutureWarning: Passing (type, 1) or '1type' as a synonym of type is deprecated; in a future version of numpy, it will be understood as (type, (1,)) / '(1,)type'.\n",
      "  _np_qint16 = np.dtype([(\"qint16\", np.int16, 1)])\n",
      "C:\\Users\\happy\\Anaconda3\\envs\\tensorflow\\lib\\site-packages\\tensorboard\\compat\\tensorflow_stub\\dtypes.py:544: FutureWarning: Passing (type, 1) or '1type' as a synonym of type is deprecated; in a future version of numpy, it will be understood as (type, (1,)) / '(1,)type'.\n",
      "  _np_quint16 = np.dtype([(\"quint16\", np.uint16, 1)])\n",
      "C:\\Users\\happy\\Anaconda3\\envs\\tensorflow\\lib\\site-packages\\tensorboard\\compat\\tensorflow_stub\\dtypes.py:545: FutureWarning: Passing (type, 1) or '1type' as a synonym of type is deprecated; in a future version of numpy, it will be understood as (type, (1,)) / '(1,)type'.\n",
      "  _np_qint32 = np.dtype([(\"qint32\", np.int32, 1)])\n",
      "C:\\Users\\happy\\Anaconda3\\envs\\tensorflow\\lib\\site-packages\\tensorboard\\compat\\tensorflow_stub\\dtypes.py:550: FutureWarning: Passing (type, 1) or '1type' as a synonym of type is deprecated; in a future version of numpy, it will be understood as (type, (1,)) / '(1,)type'.\n",
      "  np_resource = np.dtype([(\"resource\", np.ubyte, 1)])\n"
     ]
    }
   ],
   "source": [
    "import keras\n",
    "# Callback class\n",
    "# custom callback함수의 생성\n",
    "# 함수에 의해서 호출되는 객체\n",
    "class CustomHistory(keras.callbacks.Callback):  # 상속\n",
    "    def init(self):\n",
    "        self.train_loss = []\n",
    "        self.val_loss = []\n",
    "        self.train_acc= []\n",
    "        self.val_acc = []\n",
    "    def on_epoch_end(self, batch, logs={}):  # 오버라이딩\n",
    "        self.train_loss.append(logs.get('loss'))\n",
    "        self.val_loss.append(logs.get('val_loss'))\n",
    "        self.train_acc.append(logs.get('accuracy'))\n",
    "        self.val_acc.append(logs.get('val_accuracy'))"
   ]
  },
  {
   "cell_type": "code",
   "execution_count": 3,
   "metadata": {},
   "outputs": [
    {
     "name": "stdout",
     "output_type": "stream",
     "text": [
      "Downloading data from https://s3.amazonaws.com/img-datasets/mnist.npz\n",
      "11493376/11490434 [==============================] - 44s 4us/step\n",
      "(60000, 28, 28) uint8\n",
      "(60000,) uint8\n",
      "(10000, 28, 28) uint8\n",
      "(10000,) uint8\n"
     ]
    }
   ],
   "source": [
    "from keras.datasets import mnist\n",
    "import matplotlib.pylab as plt\n",
    "(X_train0, y_train0), (X_test0, y_test0) = mnist.load_data()\n",
    "print(X_train0.shape, X_train0.dtype)  # 60000, 28x28\n",
    "print(y_train0.shape, y_train0.dtype) # 60000\n",
    "print(X_test0.shape, X_test0.dtype)    # 10000 28x28\n",
    "print(y_test0.shape, y_test0.dtype)    # 10000\n"
   ]
  },
  {
   "cell_type": "code",
   "execution_count": 4,
   "metadata": {},
   "outputs": [
    {
     "data": {
      "image/png": "[encoded data removed]",
      "text/plain": [
       "<Figure size 432x288 with 1 Axes>"
      ]
     },
     "metadata": {
      "needs_background": "light"
     },
     "output_type": "display_data"
    }
   ],
   "source": [
    "plt.imshow(X_train0[0])\n",
    "plt.grid(False)\n",
    "plt.show()"
   ]
  },
  {
   "cell_type": "code",
   "execution_count": 5,
   "metadata": {},
   "outputs": [
    {
     "name": "stdout",
     "output_type": "stream",
     "text": [
      "(60000, 784) float32\n"
     ]
    }
   ],
   "source": [
    "# fully-connected : flatten  ==> FFNN은 데이터가 한줄로 들어감\n",
    "X_train = X_train0.reshape(60000,784).astype('float32')/255.0\n",
    "X_test = X_test0.reshape(10000,784).astype('float32')/255.0\n",
    "print(X_train.shape, X_train.dtype)"
   ]
  },
  {
   "cell_type": "code",
   "execution_count": 6,
   "metadata": {},
   "outputs": [
    {
     "data": {
      "text/plain": [
       "array([5, 0, 4, 1, 9], dtype=uint8)"
      ]
     },
     "execution_count": 6,
     "metadata": {},
     "output_type": "execute_result"
    }
   ],
   "source": [
    "y_train0[:5] # one-hot encoding 여부\n",
    "# multi- label==> softmax(경우의 수에 대한 확률값)"
   ]
  },
  {
   "cell_type": "code",
   "execution_count": 7,
   "metadata": {},
   "outputs": [
    {
     "data": {
      "text/plain": [
       "array([[0., 0., 0., 0., 0., 1., 0., 0., 0., 0.],\n",
       "       [1., 0., 0., 0., 0., 0., 0., 0., 0., 0.],\n",
       "       [0., 0., 0., 0., 1., 0., 0., 0., 0., 0.],\n",
       "       [0., 1., 0., 0., 0., 0., 0., 0., 0., 0.],\n",
       "       [0., 0., 0., 0., 0., 0., 0., 0., 0., 1.]], dtype=float32)"
      ]
     },
     "execution_count": 7,
     "metadata": {},
     "output_type": "execute_result"
    }
   ],
   "source": [
    "from keras.utils import np_utils\n",
    "Y_train = keras.utils.np_utils.to_categorical(y_train0,10)\n",
    "Y_test = keras.utils.np_utils.to_categorical(y_test0, 10)\n",
    "Y_train[:5]"
   ]
  },
  {
   "cell_type": "code",
   "execution_count": 10,
   "metadata": {},
   "outputs": [],
   "source": [
    "import numpy as np\n",
    "import numpy as np\n",
    "from keras.optimizers import SGD\n",
    "np.random.seed(0)\n",
    "model = Sequential()\n",
    "model.add(Dense(512, input_dim=784, activation = 'sigmoid'))\n",
    "model.add(Dense(15)) # default가 있음\n",
    "model.add(Dense(10, activation='sigmoid'))\n",
    "#lr : learning_rate\n",
    "#sgd : stochatic gradient descent\n",
    "model.compile(optimizer=SGD(lr=0.2), loss= 'mean_squared_error',\n",
    "             metrics=['accuracy'])"
   ]
  },
  {
   "cell_type": "code",
   "execution_count": 11,
   "metadata": {},
   "outputs": [
    {
     "data": {
      "text/plain": [
       "[<keras.layers.core.Dense at 0x2543660fbc8>,\n",
       " <keras.layers.core.Dense at 0x2543660f848>,\n",
       " <keras.layers.core.Dense at 0x25436660bc8>]"
      ]
     },
     "execution_count": 11,
     "metadata": {},
     "output_type": "execute_result"
    }
   ],
   "source": [
    "model.layers"
   ]
  },
  {
   "cell_type": "code",
   "execution_count": 13,
   "metadata": {},
   "outputs": [
    {
     "name": "stdout",
     "output_type": "stream",
     "text": [
      "dense_4\n",
      "(None, 784)\n",
      "(None, 512)\n"
     ]
    },
    {
     "data": {
      "text/plain": [
       "<function keras.activations.sigmoid(x)>"
      ]
     },
     "execution_count": 13,
     "metadata": {},
     "output_type": "execute_result"
    }
   ],
   "source": [
    "l1 = model.layers[0]\n",
    "l2 = model.layers[1]\n",
    "# 레이어 속성으로 정보 확인\n",
    "print(l1.name)\n",
    "print(l1.input_shape)\n",
    "print(l1.output_shape)\n",
    "l1.activation"
   ]
  },
  {
   "cell_type": "code",
   "execution_count": null,
   "metadata": {},
   "outputs": [],
   "source": [
    "custom_hist = CustomHistory()\n",
    "custom_hist.init()\n",
    "hist = model.fit(X_train,Y_train,nb_epoch=30, batch_size = 100,\n",
    "       validation_data = (X_test, Y_test), callbacks=[custom_hist])\n",
    "hist.history['loss']"
   ]
  },
  {
   "cell_type": "code",
   "execution_count": 29,
   "metadata": {},
   "outputs": [
    {
     "name": "stdout",
     "output_type": "stream",
     "text": [
      "Train on 60000 samples, validate on 10000 samples\n",
      "Epoch 1/30\n"
     ]
    },
    {
     "name": "stderr",
     "output_type": "stream",
     "text": [
      "C:\\Users\\ICT01_18\\Anaconda3\\envs\\keras\\lib\\site-packages\\ipykernel_launcher.py:2: UserWarning: The `nb_epoch` argument in `fit` has been renamed `epochs`.\n",
      "  \n"
     ]
    },
    {
     "name": "stdout",
     "output_type": "stream",
     "text": [
      " - 2s - loss: 0.0174 - acc: 0.9069 - val_loss: 0.0165 - val_acc: 0.9120\n",
      "Epoch 2/30\n",
      " - 2s - loss: 0.0173 - acc: 0.9071 - val_loss: 0.0164 - val_acc: 0.9115\n",
      "Epoch 3/30\n",
      " - 2s - loss: 0.0172 - acc: 0.9079 - val_loss: 0.0162 - val_acc: 0.9130\n",
      "Epoch 4/30\n",
      " - 2s - loss: 0.0171 - acc: 0.9080 - val_loss: 0.0162 - val_acc: 0.9130\n",
      "Epoch 5/30\n",
      " - 2s - loss: 0.0170 - acc: 0.9085 - val_loss: 0.0161 - val_acc: 0.9132\n",
      "Epoch 6/30\n",
      " - 2s - loss: 0.0169 - acc: 0.9099 - val_loss: 0.0161 - val_acc: 0.9150\n",
      "Epoch 7/30\n",
      " - 2s - loss: 0.0169 - acc: 0.9097 - val_loss: 0.0160 - val_acc: 0.9133\n",
      "Epoch 8/30\n",
      " - 2s - loss: 0.0168 - acc: 0.9107 - val_loss: 0.0160 - val_acc: 0.9147\n",
      "Epoch 9/30\n",
      " - 2s - loss: 0.0167 - acc: 0.9115 - val_loss: 0.0158 - val_acc: 0.9150\n",
      "Epoch 10/30\n",
      " - 2s - loss: 0.0166 - acc: 0.9113 - val_loss: 0.0159 - val_acc: 0.9160\n",
      "Epoch 11/30\n",
      " - 2s - loss: 0.0165 - acc: 0.9114 - val_loss: 0.0156 - val_acc: 0.9154\n",
      "Epoch 12/30\n",
      " - 2s - loss: 0.0164 - acc: 0.9120 - val_loss: 0.0157 - val_acc: 0.9159\n",
      "Epoch 13/30\n",
      " - 2s - loss: 0.0164 - acc: 0.9122 - val_loss: 0.0156 - val_acc: 0.9165\n",
      "Epoch 14/30\n",
      " - 2s - loss: 0.0163 - acc: 0.9129 - val_loss: 0.0155 - val_acc: 0.9170\n",
      "Epoch 15/30\n",
      " - 2s - loss: 0.0162 - acc: 0.9134 - val_loss: 0.0154 - val_acc: 0.9179\n",
      "Epoch 16/30\n",
      " - 2s - loss: 0.0161 - acc: 0.9140 - val_loss: 0.0153 - val_acc: 0.9167\n",
      "Epoch 17/30\n",
      " - 2s - loss: 0.0161 - acc: 0.9143 - val_loss: 0.0153 - val_acc: 0.9173\n",
      "Epoch 18/30\n",
      " - 2s - loss: 0.0160 - acc: 0.9146 - val_loss: 0.0153 - val_acc: 0.9183\n",
      "Epoch 19/30\n",
      " - 2s - loss: 0.0159 - acc: 0.9156 - val_loss: 0.0152 - val_acc: 0.9183\n",
      "Epoch 20/30\n",
      " - 2s - loss: 0.0158 - acc: 0.9150 - val_loss: 0.0152 - val_acc: 0.9189\n",
      "Epoch 21/30\n",
      " - 2s - loss: 0.0158 - acc: 0.9153 - val_loss: 0.0151 - val_acc: 0.9192\n",
      "Epoch 22/30\n",
      " - 2s - loss: 0.0157 - acc: 0.9163 - val_loss: 0.0149 - val_acc: 0.9191\n",
      "Epoch 23/30\n",
      " - 2s - loss: 0.0156 - acc: 0.9166 - val_loss: 0.0149 - val_acc: 0.9197\n",
      "Epoch 24/30\n",
      " - 2s - loss: 0.0156 - acc: 0.9172 - val_loss: 0.0149 - val_acc: 0.9196\n",
      "Epoch 25/30\n",
      " - 2s - loss: 0.0155 - acc: 0.9171 - val_loss: 0.0148 - val_acc: 0.9199\n",
      "Epoch 26/30\n",
      " - 2s - loss: 0.0154 - acc: 0.9177 - val_loss: 0.0147 - val_acc: 0.9197\n",
      "Epoch 27/30\n",
      " - 2s - loss: 0.0153 - acc: 0.9176 - val_loss: 0.0148 - val_acc: 0.9200\n",
      "Epoch 28/30\n",
      " - 2s - loss: 0.0153 - acc: 0.9183 - val_loss: 0.0146 - val_acc: 0.9202\n",
      "Epoch 29/30\n",
      " - 2s - loss: 0.0152 - acc: 0.9188 - val_loss: 0.0146 - val_acc: 0.9218\n",
      "Epoch 30/30\n",
      " - 2s - loss: 0.0151 - acc: 0.9195 - val_loss: 0.0146 - val_acc: 0.9206\n"
     ]
    },
    {
     "data": {
      "image/png": "[encoded data removed]",
      "text/plain": [
       "<Figure size 432x288 with 1 Axes>"
      ]
     },
     "metadata": {
      "needs_background": "light"
     },
     "output_type": "display_data"
    }
   ],
   "source": [
    "hist = model.fit(X_train, Y_train, nb_epoch=30, batch_size = 100,\n",
    "                 validation_data=(X_test,Y_test), verbose=2)\n",
    "plt.plot(hist.history['loss'])\n",
    "plt.show()"
   ]
  },
  {
   "cell_type": "code",
   "execution_count": 52,
   "metadata": {},
   "outputs": [
    {
     "data": {
      "image/png": "[encoded data removed]",
      "text/plain": [
       "<Figure size 432x288 with 1 Axes>"
      ]
     },
     "metadata": {
      "needs_background": "light"
     },
     "output_type": "display_data"
    },
    {
     "name": "stdout",
     "output_type": "stream",
     "text": [
      "<keras.engine.sequential.Sequential object at 0x0000026A3E7ADB88>\n",
      "{'batch_size': 100, 'epochs': 30, 'steps': None, 'samples': 60000, 'verbose': 2, 'do_validation': True, 'metrics': ['loss', 'acc', 'val_loss', 'val_acc']}\n",
      "[0.9069166693091393, 0.9070500017205874, 0.9078666693965594, 0.9080000018080076, 0.9084833353757858, 0.9098833349347114, 0.9097000019749005, 0.9106666691104571, 0.9114500028888385, 0.911333336631457, 0.9113833341002464, 0.9120166688164075, 0.9121833350261053, 0.9129333348075549, 0.9133666687210401, 0.9139833360910415, 0.9142833349108695, 0.9145500023166339, 0.9155833352605501, 0.9149666679898898, 0.9152833350499471, 0.9163166675964991, 0.9166000013550123, 0.9172166686256726, 0.9171166690190633, 0.9177166698376338, 0.9176000020901363, 0.9182500026623408, 0.918800002237161, 0.9195166673262914]\n",
      "0.9205999988317489\n"
     ]
    }
   ],
   "source": [
    "plt.plot(hist.history['acc'], 'b-', label='training')\n",
    "plt.plot(hist.history['val_acc'], 'r:', label='test')\n",
    "plt.legend()\n",
    "plt.show()\n",
    "\n",
    "print(hist.model)\n",
    "print(hist.params)\n",
    "print(hist.history['acc'])\n",
    "print(hist.history['val_acc'][29])\n",
    "plt.show()\n",
    "#plt(custom_hist, train_loss, 'y', label = 'train loss')\n",
    "plt.show()"
   ]
  },
  {
   "cell_type": "code",
   "execution_count": 53,
   "metadata": {},
   "outputs": [
    {
     "data": {
      "text/plain": [
       "array([7], dtype=int64)"
      ]
     },
     "execution_count": 53,
     "metadata": {},
     "output_type": "execute_result"
    }
   ],
   "source": [
    "# 문제 : X_test의 이미지 한장의 label을 예측\n",
    "model.predict(X_test[:1,:])\n",
    "model.predict_classes(X_test[:1,:], verbose = 0)"
   ]
  },
  {
   "cell_type": "code",
   "execution_count": 54,
   "metadata": {},
   "outputs": [],
   "source": [
    "# 문제 : 출력차수가 512인 레이어를 추가하세요\n",
    "# model.add 부분에 좁히기 전에 512를 먼저 추가함\n",
    "# 이후 15 10 순"
   ]
  },
  {
   "cell_type": "code",
   "execution_count": null,
   "metadata": {},
   "outputs": [],
   "source": []
  },
  {
   "cell_type": "code",
   "execution_count": 55,
   "metadata": {},
   "outputs": [
    {
     "name": "stdout",
     "output_type": "stream",
     "text": [
      "(404, 13)\n",
      "(404,)\n",
      "(102, 13)\n",
      "(102,)\n"
     ]
    }
   ],
   "source": [
    "from keras.datasets import boston_housing\n",
    "(x_train, y_train), (x_test,y_test) = boston_housing.load_data()\n",
    "print(x_train.shape) # 402x13\n",
    "print(y_train.shape) # 404\n",
    "print(x_test.shape) # 102 x13\n",
    "print(y_test.shape) # 102\n",
    "num_features = 13"
   ]
  },
  {
   "cell_type": "code",
   "execution_count": 56,
   "metadata": {},
   "outputs": [
    {
     "name": "stdout",
     "output_type": "stream",
     "text": [
      "_________________________________________________________________\n",
      "Layer (type)                 Output Shape              Param #   \n",
      "=================================================================\n",
      "dense_81 (Dense)             (None, 1)                 14        \n",
      "=================================================================\n",
      "Total params: 14\n",
      "Trainable params: 14\n",
      "Non-trainable params: 0\n",
      "_________________________________________________________________\n",
      "Epoch 1/10\n",
      "404/404 [==============================] - 1s 3ms/step - loss: 3625.0494 - mean_absolute_error: 46.2068\n",
      "Epoch 2/10\n",
      "404/404 [==============================] - 0s 838us/step - loss: 426.8992 - mean_absolute_error: 16.5710\n",
      "Epoch 3/10\n",
      "404/404 [==============================] - 0s 798us/step - loss: 191.6205 - mean_absolute_error: 10.5555\n",
      "Epoch 4/10\n",
      "404/404 [==============================] - 0s 799us/step - loss: 136.0928 - mean_absolute_error: 8.5685\n",
      "Epoch 5/10\n",
      "404/404 [==============================] - 0s 785us/step - loss: 108.5070 - mean_absolute_error: 7.7024\n",
      "Epoch 6/10\n",
      "404/404 [==============================] - 0s 787us/step - loss: 90.0912 - mean_absolute_error: 7.0194\n",
      "Epoch 7/10\n",
      "404/404 [==============================] - 0s 790us/step - loss: 78.5448 - mean_absolute_error: 6.5578\n",
      "Epoch 8/10\n",
      "404/404 [==============================] - 0s 1ms/step - loss: 69.4827 - mean_absolute_error: 6.0779\n",
      "Epoch 9/10\n",
      "404/404 [==============================] - 0s 1ms/step - loss: 66.3822 - mean_absolute_error: 5.8849\n",
      "Epoch 10/10\n",
      "404/404 [==============================] - 0s 901us/step - loss: 62.4054 - mean_absolute_error: 5.8023\n"
     ]
    },
    {
     "data": {
      "text/plain": [
       "<keras.callbacks.History at 0x26a669fdc48>"
      ]
     },
     "execution_count": 56,
     "metadata": {},
     "output_type": "execute_result"
    }
   ],
   "source": [
    "model = Sequential()\n",
    "model.add(Dense(1, input_dim = num_features, activation = 'linear'))  # 회귀\n",
    "model.summary()\n",
    "model.compile(optimizer = 'rmsprop', loss='mse', metrics=['mae'])\n",
    "model.fit(x_train,y_train, batch_size=1, epochs=10, verbose = 1)"
   ]
  },
  {
   "cell_type": "code",
   "execution_count": 57,
   "metadata": {},
   "outputs": [
    {
     "data": {
      "text/plain": [
       "(64.38426043940525, 8.023980336429375, 5.902008168837604)"
      ]
     },
     "execution_count": 57,
     "metadata": {},
     "output_type": "execute_result"
    }
   ],
   "source": [
    "\n",
    "# 위에서 loss는 mse,  metrics에 mae로 지정\n",
    "mse , mae = model.evaluate(x_test, y_test, verbose=False)  \n",
    "rmse = np.sqrt(mse)\n",
    "mse, rmse, mae"
   ]
  },
  {
   "cell_type": "code",
   "execution_count": 58,
   "metadata": {},
   "outputs": [
    {
     "name": "stdout",
     "output_type": "stream",
     "text": [
      "[ 7.626141 21.00255  23.900782]\n",
      "[ 7.2 18.8 19. ]\n"
     ]
    }
   ],
   "source": [
    "# 문제 : x_test의 앞의 3집을 예측\n",
    "pred = model.predict(x_test[:3,:]).reshape(3)\n",
    "print(pred)\n",
    "real = y_test[:3]\n",
    "print(real)"
   ]
  },
  {
   "cell_type": "code",
   "execution_count": 59,
   "metadata": {},
   "outputs": [
    {
     "data": {
      "text/plain": [
       "array([[1.        , 0.98833268],\n",
       "       [0.98833268, 1.        ]])"
      ]
     },
     "execution_count": 59,
     "metadata": {},
     "output_type": "execute_result"
    }
   ],
   "source": [
    "# 상관계수 확인\n",
    "np.corrcoef(pred,real)"
   ]
  },
  {
   "cell_type": "code",
   "execution_count": 60,
   "metadata": {},
   "outputs": [],
   "source": [
    "from sklearn.model_selection import GridSearchCV\n",
    "from keras.models import Sequential\n",
    "from keras.layers import Dense\n",
    "from keras.wrappers.scikit_learn import KerasClassifier\n",
    "import numpy\n",
    "\n",
    "# scikit와 keras를 연결 : kerasClassifier, kerasRegression"
   ]
  },
  {
   "cell_type": "code",
   "execution_count": 61,
   "metadata": {},
   "outputs": [],
   "source": [
    "# 768 x 9 => 768x8 => 768x1\n",
    "# 변수의 개수 : 8\n",
    "def  create_model() :\n",
    "    model = Sequential()\n",
    "    # 가중치 : 8x12 => 768x12\n",
    "    model.add(Dense(12, input_dim=8, activation = 'relu'))\n",
    "    # 가중치 : 12x1 => 768x1\n",
    "    model.add(Dense(1, activation = 'sigmoid')) # 0~1사이값\n",
    "    model.compile(loss='binary_crossentropy', optimizer='adam',\n",
    "                 metrics=['accuracy'])\n",
    "    return model\n",
    "seed = 7\n",
    "numpy.random.seed(seed)\n",
    "dataset = numpy.loadtxt('pima.csv', delimiter=',')\n",
    "X = dataset[:,:8]\n",
    "Y = dataset[:,8]\n",
    "model = KerasClassifier(build_fn = create_model, verbose=0)"
   ]
  },
  {
   "cell_type": "code",
   "execution_count": 62,
   "metadata": {},
   "outputs": [
    {
     "name": "stdout",
     "output_type": "stream",
     "text": [
      "최적스코어 : 0.669281     사용한 파라미터 조합 :  {'batch_size': 10, 'epochs': 50}\n",
      "0.629013 (0.038713) with: {'batch_size': 10, 'epochs': 10}\n",
      "0.669281 (0.047278) with: {'batch_size': 10, 'epochs': 50}\n",
      "0.656370 (0.047411) with: {'batch_size': 10, 'epochs': 100}\n",
      "0.566370 (0.070594) with: {'batch_size': 20, 'epochs': 10}\n",
      "0.665351 (0.051289) with: {'batch_size': 20, 'epochs': 50}\n",
      "0.668059 (0.045866) with: {'batch_size': 20, 'epochs': 100}\n",
      "0.591155 (0.100075) with: {'batch_size': 40, 'epochs': 10}\n",
      "0.655004 (0.052910) with: {'batch_size': 40, 'epochs': 50}\n",
      "0.622570 (0.110312) with: {'batch_size': 40, 'epochs': 100}\n",
      "0.566539 (0.109643) with: {'batch_size': 60, 'epochs': 10}\n",
      "0.643392 (0.116750) with: {'batch_size': 60, 'epochs': 50}\n",
      "0.616102 (0.135312) with: {'batch_size': 60, 'epochs': 100}\n",
      "0.559740 (0.109191) with: {'batch_size': 80, 'epochs': 10}\n",
      "0.647076 (0.037633) with: {'batch_size': 80, 'epochs': 50}\n",
      "0.602716 (0.134668) with: {'batch_size': 80, 'epochs': 100}\n",
      "0.561514 (0.111328) with: {'batch_size': 100, 'epochs': 10}\n",
      "0.650997 (0.017659) with: {'batch_size': 100, 'epochs': 50}\n",
      "0.538095 (0.131210) with: {'batch_size': 100, 'epochs': 100}\n"
     ]
    }
   ],
   "source": [
    "# 파라미터 조합\n",
    "batch_size  = [10,20,40,60,80,100]\n",
    "epochs = [10,50,100]\n",
    "\n",
    "# 매개변수에 데이터를 넣을때는 dictionary형태 사용\n",
    "param_grid = dict(batch_size = batch_size, epochs=epochs)\n",
    "grid = GridSearchCV(estimator=model , param_grid = param_grid, n_jobs=1) # n_job : cpu개수\n",
    "grid_result = grid.fit(X,Y)\n",
    "print(\"최적스코어 : %f     사용한 파라미터 조합 :  %s\" % (grid_result.best_score_,\n",
    "                                           grid_result.best_params_))\n",
    "means = grid_result.cv_results_['mean_test_score']\n",
    "stds = grid_result.cv_results_['std_test_score']\n",
    "params = grid_result.cv_results_['params']\n",
    "for mean, stdev, param in zip(means, stds, params):\n",
    "    print(\"%f (%f) with: %r\" % (mean, stdev, param))"
   ]
  },
  {
   "cell_type": "code",
   "execution_count": 63,
   "metadata": {},
   "outputs": [
    {
     "name": "stdout",
     "output_type": "stream",
     "text": [
      "최적스코어: 0.721458   사용한 파라미터조합 : {'batch_size': 10, 'epochs': 100}\n",
      "0.565275 (0.101007) with: {'batch_size': 10, 'epochs': 10}\n",
      "0.656489 (0.125823) with: {'batch_size': 10, 'epochs': 50}\n",
      "0.721458 (0.055916) with: {'batch_size': 10, 'epochs': 100}\n",
      "0.529930 (0.127191) with: {'batch_size': 20, 'epochs': 10}\n",
      "0.697920 (0.043318) with: {'batch_size': 20, 'epochs': 50}\n",
      "0.639615 (0.151979) with: {'batch_size': 20, 'epochs': 100}\n",
      "0.609498 (0.059949) with: {'batch_size': 40, 'epochs': 10}\n",
      "0.674527 (0.022242) with: {'batch_size': 40, 'epochs': 50}\n",
      "0.623538 (0.143974) with: {'batch_size': 40, 'epochs': 100}\n",
      "0.565359 (0.132031) with: {'batch_size': 60, 'epochs': 10}\n",
      "0.681020 (0.044591) with: {'batch_size': 60, 'epochs': 50}\n",
      "0.692768 (0.041861) with: {'batch_size': 60, 'epochs': 100}\n",
      "0.540582 (0.094992) with: {'batch_size': 80, 'epochs': 10}\n",
      "0.649818 (0.050036) with: {'batch_size': 80, 'epochs': 50}\n",
      "0.668016 (0.029799) with: {'batch_size': 80, 'epochs': 100}\n",
      "0.520941 (0.058139) with: {'batch_size': 100, 'epochs': 10}\n",
      "0.636720 (0.036564) with: {'batch_size': 100, 'epochs': 50}\n",
      "0.605687 (0.103320) with: {'batch_size': 100, 'epochs': 100}\n"
     ]
    }
   ],
   "source": [
    "import numpy\n",
    "from sklearn.model_selection import GridSearchCV\n",
    "from keras.models import Sequential\n",
    "from keras.layers import Dense\n",
    "from keras.wrappers.scikit_learn import KerasClassifier\n",
    "\n",
    "def create_model():\n",
    "    model = Sequential()\n",
    "    model.add(Dense(12, input_dim=8, activation='relu'))\n",
    "    model.add(Dense(1, activation='sigmoid'))\n",
    "    model.compile(loss='binary_crossentropy', optimizer='adam',\n",
    "                 metrics=['accuracy'])\n",
    "    return model\n",
    "\n",
    "seed = 7\n",
    "numpy.random.seed(seed)\n",
    "dataset = numpy.loadtxt(\"pima.data\", delimiter=\",\") #원랜 csv인데 없당\n",
    "X = dataset[:, 0:8]\n",
    "Y = dataset[:, 8]\n",
    "model = KerasClassifier(build_fn=create_model, verbose=0)\n",
    "\n",
    "batch_size = [10, 20, 40, 60, 80, 100]\n",
    "epochs = [10, 50, 100]\n",
    "param_grid = dict(batch_size=batch_size, epochs=epochs)\n",
    "grid = GridSearchCV(estimator=model, param_grid=param_grid,\n",
    "                   n_jobs=-1)\n",
    "grid_result = grid.fit(X, Y)\n",
    "print(\"최적스코어: %f   사용한 파라미터조합 : %s\" % (grid_result.best_score_,\n",
    "                                      grid_result.best_params_))\n",
    "means = grid_result.cv_results_['mean_test_score']\n",
    "stds = grid_result.cv_results_['std_test_score']\n",
    "params = grid_result.cv_results_['params']\n",
    "for mean, stdev, param in zip(means, stds, params):\n",
    "    print(\"%f (%f) with: %r\" % (mean, stdev, param))"
   ]
  },
  {
   "cell_type": "code",
   "execution_count": 64,
   "metadata": {},
   "outputs": [],
   "source": [
    "# 가중치 초기화( kernel_initializer) 매개변수를 넣고,\n",
    "# 이를 테스트해서 가장 최적의 가중치 초기화 파라미터를 결정\n",
    "init_mode = ['uniform', 'lecun_uniform', 'normal', 'zero', 'giorot_normal',\n",
    "            'giorot_uniform' , 'he_normal','he_uniform']\n",
    "\n",
    "# dense1 = activation 함수를 달아주고 가장좋은 activation함수를 결정\n",
    "activation = ['softmax', 'softplus', 'softsign', 'relu','tanh','sigmoid',\n",
    "            'hard_sigmoid','linear']\n"
   ]
  },
  {
   "cell_type": "code",
   "execution_count": 65,
   "metadata": {
    "collapsed": true,
    "jupyter": {
     "outputs_hidden": true
    }
   },
   "outputs": [
    {
     "name": "stdout",
     "output_type": "stream",
     "text": [
      "WARNING:tensorflow:From C:\\Users\\ICT01_18\\Anaconda3\\envs\\keras\\lib\\site-packages\\keras\\backend\\tensorflow_backend.py:3445: calling dropout (from tensorflow.python.ops.nn_ops) with keep_prob is deprecated and will be removed in a future version.\n",
      "Instructions for updating:\n",
      "Please use `rate` instead of `keep_prob`. Rate should be set to `rate = 1 - keep_prob`.\n",
      "Epoch 1/100\n",
      "768/768 [==============================] - 4s 5ms/step - loss: 5.6246 - acc: 0.6510\n",
      "Epoch 2/100\n",
      "768/768 [==============================] - 0s 213us/step - loss: 3.3786 - acc: 0.5794\n",
      "Epoch 3/100\n",
      " 10/768 [..............................] - ETA: 0s - loss: 0.7040 - acc: 0.7000"
     ]
    },
    {
     "name": "stderr",
     "output_type": "stream",
     "text": [
      "C:\\Users\\ICT01_18\\Anaconda3\\envs\\keras\\lib\\site-packages\\keras\\callbacks.py:569: RuntimeWarning: Early stopping conditioned on metric `var_accuracy` which is not available. Available metrics are: loss,acc\n",
      "  (self.monitor, ','.join(list(logs.keys()))), RuntimeWarning\n"
     ]
    },
    {
     "name": "stdout",
     "output_type": "stream",
     "text": [
      "768/768 [==============================] - 0s 220us/step - loss: 0.6985 - acc: 0.6419\n",
      "Epoch 4/100\n",
      "768/768 [==============================] - 0s 209us/step - loss: 0.6754 - acc: 0.6693\n",
      "Epoch 5/100\n",
      "768/768 [==============================] - 0s 202us/step - loss: 0.6837 - acc: 0.6680\n",
      "Epoch 6/100\n",
      "768/768 [==============================] - 0s 218us/step - loss: 0.6536 - acc: 0.6719\n",
      "Epoch 7/100\n",
      "768/768 [==============================] - 0s 256us/step - loss: 0.6781 - acc: 0.6654\n",
      "Epoch 8/100\n",
      "768/768 [==============================] - 0s 229us/step - loss: 0.6543 - acc: 0.6654\n",
      "Epoch 9/100\n",
      "768/768 [==============================] - 0s 208us/step - loss: 0.6434 - acc: 0.6732\n",
      "Epoch 10/100\n",
      "768/768 [==============================] - 0s 211us/step - loss: 0.6591 - acc: 0.6680\n",
      "Epoch 11/100\n",
      "768/768 [==============================] - 0s 209us/step - loss: 0.6374 - acc: 0.6706\n",
      "Epoch 12/100\n",
      "768/768 [==============================] - 0s 242us/step - loss: 0.6358 - acc: 0.6784\n",
      "Epoch 13/100\n",
      "768/768 [==============================] - 0s 236us/step - loss: 0.6284 - acc: 0.6797\n",
      "Epoch 14/100\n",
      "768/768 [==============================] - 0s 208us/step - loss: 0.6513 - acc: 0.6602\n",
      "Epoch 15/100\n",
      "768/768 [==============================] - 0s 206us/step - loss: 0.6288 - acc: 0.6641\n",
      "Epoch 16/100\n",
      "768/768 [==============================] - 0s 212us/step - loss: 0.6182 - acc: 0.6693\n",
      "Epoch 17/100\n",
      "768/768 [==============================] - 0s 211us/step - loss: 0.6201 - acc: 0.6719\n",
      "Epoch 18/100\n",
      "768/768 [==============================] - 0s 207us/step - loss: 0.6142 - acc: 0.6693\n",
      "Epoch 19/100\n",
      "768/768 [==============================] - 0s 210us/step - loss: 0.6068 - acc: 0.7031\n",
      "Epoch 20/100\n",
      "768/768 [==============================] - 0s 206us/step - loss: 0.6053 - acc: 0.6784\n",
      "Epoch 21/100\n",
      "768/768 [==============================] - 0s 206us/step - loss: 0.6134 - acc: 0.6875\n",
      "Epoch 22/100\n",
      "768/768 [==============================] - 0s 209us/step - loss: 0.6116 - acc: 0.6862\n",
      "Epoch 23/100\n",
      "768/768 [==============================] - 0s 207us/step - loss: 0.5937 - acc: 0.6953\n",
      "Epoch 24/100\n",
      "768/768 [==============================] - 0s 203us/step - loss: 0.6232 - acc: 0.6719\n",
      "Epoch 25/100\n",
      "768/768 [==============================] - 0s 214us/step - loss: 0.5972 - acc: 0.7109\n",
      "Epoch 26/100\n",
      "768/768 [==============================] - 0s 209us/step - loss: 0.6146 - acc: 0.6979\n",
      "Epoch 27/100\n",
      "768/768 [==============================] - 0s 209us/step - loss: 0.6040 - acc: 0.6745\n",
      "Epoch 28/100\n",
      "768/768 [==============================] - 0s 206us/step - loss: 0.5895 - acc: 0.6953\n",
      "Epoch 29/100\n",
      "768/768 [==============================] - 0s 207us/step - loss: 0.6016 - acc: 0.6836\n",
      "Epoch 30/100\n",
      "768/768 [==============================] - 0s 209us/step - loss: 0.6068 - acc: 0.6875\n",
      "Epoch 31/100\n",
      "768/768 [==============================] - 0s 216us/step - loss: 0.5992 - acc: 0.6940\n",
      "Epoch 32/100\n",
      "768/768 [==============================] - 0s 213us/step - loss: 0.6242 - acc: 0.6758\n",
      "Epoch 33/100\n",
      "768/768 [==============================] - 0s 210us/step - loss: 0.6047 - acc: 0.6836\n",
      "Epoch 34/100\n",
      "768/768 [==============================] - 0s 214us/step - loss: 0.5977 - acc: 0.6836\n",
      "Epoch 35/100\n",
      "768/768 [==============================] - 0s 205us/step - loss: 0.5960 - acc: 0.7005\n",
      "Epoch 36/100\n",
      "768/768 [==============================] - 0s 205us/step - loss: 0.6044 - acc: 0.6862\n",
      "Epoch 37/100\n",
      "768/768 [==============================] - 0s 207us/step - loss: 0.5910 - acc: 0.6875\n",
      "Epoch 38/100\n",
      "768/768 [==============================] - 0s 232us/step - loss: 0.6008 - acc: 0.6771\n",
      "Epoch 39/100\n",
      "768/768 [==============================] - 0s 228us/step - loss: 0.5826 - acc: 0.6992\n",
      "Epoch 40/100\n",
      "768/768 [==============================] - 0s 210us/step - loss: 0.7187 - acc: 0.6862\n",
      "Epoch 41/100\n",
      "768/768 [==============================] - 0s 210us/step - loss: 0.5885 - acc: 0.6979\n",
      "Epoch 42/100\n",
      "768/768 [==============================] - 0s 210us/step - loss: 0.5987 - acc: 0.6784\n",
      "Epoch 43/100\n",
      "768/768 [==============================] - 0s 205us/step - loss: 0.5917 - acc: 0.6940\n",
      "Epoch 44/100\n",
      "768/768 [==============================] - 0s 208us/step - loss: 0.5953 - acc: 0.7005\n",
      "Epoch 45/100\n",
      "768/768 [==============================] - 0s 211us/step - loss: 0.5960 - acc: 0.6888\n",
      "Epoch 46/100\n",
      "768/768 [==============================] - 0s 202us/step - loss: 0.5764 - acc: 0.7031\n",
      "Epoch 47/100\n",
      "768/768 [==============================] - 0s 202us/step - loss: 0.5781 - acc: 0.7109\n",
      "Epoch 48/100\n",
      "768/768 [==============================] - 0s 206us/step - loss: 0.5763 - acc: 0.7083\n",
      "Epoch 49/100\n",
      "768/768 [==============================] - 0s 217us/step - loss: 0.5814 - acc: 0.7161\n",
      "Epoch 50/100\n",
      "768/768 [==============================] - 0s 207us/step - loss: 0.5793 - acc: 0.7005\n",
      "Epoch 51/100\n",
      "768/768 [==============================] - 0s 202us/step - loss: 0.5777 - acc: 0.7005\n",
      "Epoch 52/100\n",
      "768/768 [==============================] - 0s 210us/step - loss: 0.5715 - acc: 0.7031\n",
      "Epoch 53/100\n",
      "768/768 [==============================] - 0s 209us/step - loss: 0.5763 - acc: 0.6979\n",
      "Epoch 54/100\n",
      "768/768 [==============================] - 0s 208us/step - loss: 0.5761 - acc: 0.7122\n",
      "Epoch 55/100\n",
      "768/768 [==============================] - 0s 211us/step - loss: 0.5686 - acc: 0.7135\n",
      "Epoch 56/100\n",
      "768/768 [==============================] - 0s 211us/step - loss: 0.5680 - acc: 0.7096\n",
      "Epoch 57/100\n",
      "768/768 [==============================] - 0s 219us/step - loss: 0.5711 - acc: 0.7279\n",
      "Epoch 58/100\n",
      "768/768 [==============================] - 0s 212us/step - loss: 0.5757 - acc: 0.7057\n",
      "Epoch 59/100\n",
      "768/768 [==============================] - 0s 205us/step - loss: 0.5616 - acc: 0.7214\n",
      "Epoch 60/100\n",
      "768/768 [==============================] - 0s 214us/step - loss: 0.5742 - acc: 0.7096\n",
      "Epoch 61/100\n",
      "768/768 [==============================] - 0s 213us/step - loss: 0.5621 - acc: 0.7122\n",
      "Epoch 62/100\n",
      "768/768 [==============================] - 0s 219us/step - loss: 0.5991 - acc: 0.6836\n",
      "Epoch 63/100\n",
      "768/768 [==============================] - 0s 210us/step - loss: 0.5959 - acc: 0.6914\n",
      "Epoch 64/100\n",
      "768/768 [==============================] - 0s 206us/step - loss: 0.5825 - acc: 0.7148\n",
      "Epoch 65/100\n",
      "768/768 [==============================] - 0s 207us/step - loss: 0.5836 - acc: 0.6940\n",
      "Epoch 66/100\n",
      "768/768 [==============================] - 0s 218us/step - loss: 0.5758 - acc: 0.7227\n",
      "Epoch 67/100\n",
      "768/768 [==============================] - 0s 211us/step - loss: 0.5774 - acc: 0.7148\n",
      "Epoch 68/100\n",
      "768/768 [==============================] - 0s 203us/step - loss: 0.5767 - acc: 0.7070\n",
      "Epoch 69/100\n",
      "768/768 [==============================] - 0s 209us/step - loss: 0.5799 - acc: 0.7083\n",
      "Epoch 70/100\n",
      "768/768 [==============================] - 0s 210us/step - loss: 0.5813 - acc: 0.7018\n",
      "Epoch 71/100\n",
      "768/768 [==============================] - 0s 201us/step - loss: 0.5802 - acc: 0.7044\n",
      "Epoch 72/100\n",
      "768/768 [==============================] - 0s 208us/step - loss: 0.5710 - acc: 0.7057\n",
      "Epoch 73/100\n",
      "768/768 [==============================] - 0s 202us/step - loss: 0.5721 - acc: 0.7070\n",
      "Epoch 74/100\n",
      "768/768 [==============================] - 0s 210us/step - loss: 0.5825 - acc: 0.7057\n",
      "Epoch 75/100\n",
      "768/768 [==============================] - 0s 205us/step - loss: 0.5729 - acc: 0.7174\n",
      "Epoch 76/100\n",
      "768/768 [==============================] - 0s 207us/step - loss: 0.5822 - acc: 0.7070\n",
      "Epoch 77/100\n",
      "768/768 [==============================] - 0s 199us/step - loss: 0.5648 - acc: 0.7135\n",
      "Epoch 78/100\n",
      "768/768 [==============================] - 0s 205us/step - loss: 0.5684 - acc: 0.7083\n",
      "Epoch 79/100\n",
      "768/768 [==============================] - 0s 199us/step - loss: 0.5830 - acc: 0.7148\n",
      "Epoch 80/100\n",
      "768/768 [==============================] - 0s 209us/step - loss: 0.5757 - acc: 0.7083\n",
      "Epoch 81/100\n",
      "768/768 [==============================] - 0s 203us/step - loss: 0.5736 - acc: 0.7122\n",
      "Epoch 82/100\n",
      "768/768 [==============================] - 0s 206us/step - loss: 0.5755 - acc: 0.7188\n",
      "Epoch 83/100\n",
      "768/768 [==============================] - 0s 207us/step - loss: 0.5789 - acc: 0.6927\n",
      "Epoch 84/100\n",
      "768/768 [==============================] - 0s 213us/step - loss: 0.5639 - acc: 0.7135\n",
      "Epoch 85/100\n",
      "768/768 [==============================] - 0s 209us/step - loss: 0.5720 - acc: 0.7122\n",
      "Epoch 86/100\n",
      "768/768 [==============================] - 0s 198us/step - loss: 0.5732 - acc: 0.6992\n",
      "Epoch 87/100\n",
      "768/768 [==============================] - 0s 210us/step - loss: 0.5635 - acc: 0.7253\n",
      "Epoch 88/100\n",
      "768/768 [==============================] - 0s 201us/step - loss: 0.5636 - acc: 0.7240\n",
      "Epoch 89/100\n",
      "768/768 [==============================] - 0s 205us/step - loss: 0.5782 - acc: 0.7057\n",
      "Epoch 90/100\n",
      "768/768 [==============================] - 0s 197us/step - loss: 0.5594 - acc: 0.7109\n",
      "Epoch 91/100\n",
      "768/768 [==============================] - 0s 199us/step - loss: 0.5615 - acc: 0.7070\n",
      "Epoch 92/100\n",
      "768/768 [==============================] - 0s 198us/step - loss: 0.5587 - acc: 0.7187\n",
      "Epoch 93/100\n",
      "768/768 [==============================] - 0s 200us/step - loss: 0.5646 - acc: 0.7057\n",
      "Epoch 94/100\n",
      "768/768 [==============================] - 0s 201us/step - loss: 0.5747 - acc: 0.7057\n",
      "Epoch 95/100\n",
      "768/768 [==============================] - 0s 202us/step - loss: 0.5567 - acc: 0.7083\n",
      "Epoch 96/100\n",
      "768/768 [==============================] - 0s 199us/step - loss: 0.5720 - acc: 0.7044\n",
      "Epoch 97/100\n",
      "768/768 [==============================] - 0s 197us/step - loss: 0.5513 - acc: 0.7344\n",
      "Epoch 98/100\n",
      "768/768 [==============================] - 0s 200us/step - loss: 0.5666 - acc: 0.7201\n",
      "Epoch 99/100\n",
      "768/768 [==============================] - 0s 198us/step - loss: 0.5629 - acc: 0.7201\n",
      "Epoch 100/100\n",
      "768/768 [==============================] - 0s 198us/step - loss: 0.5691 - acc: 0.7057\n",
      "Best: 0.695313 using {'dropout_rate': 0.2, 'init_mode': 'uniform', 'optimizer': 'softmax'}\n",
      "0.688802 (0.033804) with: {'dropout_rate': 0.1, 'init_mode': 'uniform', 'optimizer': 'softmax'}\n",
      "0.000000 (0.000000) with: {'dropout_rate': 0.1, 'init_mode': 'uniform', 'optimizer': 'relu'}\n",
      "0.649740 (0.024360) with: {'dropout_rate': 0.1, 'init_mode': 'lecun_uniform', 'optimizer': 'softmax'}\n",
      "0.000000 (0.000000) with: {'dropout_rate': 0.1, 'init_mode': 'lecun_uniform', 'optimizer': 'relu'}\n",
      "0.695313 (0.033754) with: {'dropout_rate': 0.2, 'init_mode': 'uniform', 'optimizer': 'softmax'}\n",
      "0.000000 (0.000000) with: {'dropout_rate': 0.2, 'init_mode': 'uniform', 'optimizer': 'relu'}\n",
      "0.648438 (0.022999) with: {'dropout_rate': 0.2, 'init_mode': 'lecun_uniform', 'optimizer': 'softmax'}\n",
      "0.005208 (0.004872) with: {'dropout_rate': 0.2, 'init_mode': 'lecun_uniform', 'optimizer': 'relu'}\n",
      "0.691406 (0.052698) with: {'dropout_rate': 0.3, 'init_mode': 'uniform', 'optimizer': 'softmax'}\n",
      "0.217448 (0.307518) with: {'dropout_rate': 0.3, 'init_mode': 'uniform', 'optimizer': 'relu'}\n",
      "0.651042 (0.024774) with: {'dropout_rate': 0.3, 'init_mode': 'lecun_uniform', 'optimizer': 'softmax'}\n",
      "0.001302 (0.001841) with: {'dropout_rate': 0.3, 'init_mode': 'lecun_uniform', 'optimizer': 'relu'}\n"
     ]
    }
   ],
   "source": [
    "# Use scikit-learn to grid search the weight initialization\n",
    "import numpy\n",
    "from sklearn.model_selection import GridSearchCV\n",
    "from keras.models import Sequential\n",
    "from keras.layers import Dense, Dropout\n",
    "from keras.wrappers.scikit_learn import KerasClassifier\n",
    "from keras.callbacks import EarlyStopping\n",
    "stopper = EarlyStopping(monitor='var_accuracy', patience=3, verbose=1)\n",
    "# Function to create model, required for KerasClassifier\n",
    "def create_model(init_mode='uniform',optimizer='relu',dropout_rate=0.1):\n",
    "# create model\n",
    "    model = Sequential()\n",
    "    model.add(Dense(12, input_dim=8, kernel_initializer=init_mode, activation=optimizer))\n",
    "    model.add(Dropout(dropout_rate))\n",
    "    model.add(Dense(1))\n",
    "    # Compile model\n",
    "    model.compile(loss='binary_crossentropy', optimizer='adam', metrics=['accuracy'])\n",
    "    return model\n",
    "# fix random seed for reproducibility\n",
    "seed = 7\n",
    "numpy.random.seed(seed)\n",
    "# load dataset\n",
    "dataset = numpy.loadtxt(\"pima.csv\", delimiter=\",\")\n",
    "# split into input (X) and output (Y) variables\n",
    "X = dataset[:,0:8]\n",
    "Y = dataset[:,8]\n",
    "# create model\n",
    "# Earlystopping\n",
    "model = KerasClassifier(build_fn=create_model, epochs=100, batch_size=10, verbose=1)\n",
    "# define the grid search parameters\n",
    "dropout_rate=[0.1,0.2,0.3] # ,0.4,0.5,0.6,0.7,0.8,0.9\n",
    "init_mode = ['uniform', 'lecun_uniform']# ,'normal','zero','glorot_normal','glorot_uniform','he_normal','he_uniform'\n",
    "optimizer = ['softmax','relu'] #, 'softplus', 'softsign','tanh','sigmoid','hard_sigmoid','linear'\n",
    "param_grid = dict(init_mode=init_mode,optimizer=optimizer,dropout_rate=dropout_rate)\n",
    "fit_params = dict(callbacks=[stopper])\n",
    "grid = GridSearchCV(estimator=model, param_grid=param_grid, n_jobs=-1, cv=3)\n",
    "# 변동 매개변수\n",
    "grid_result = grid.fit(X, Y, **fit_params)\n",
    "# summarize results\n",
    "print(\"Best: %f using %s\" % (grid_result.best_score_, grid_result.best_params_))\n",
    "means = grid_result.cv_results_['mean_test_score']\n",
    "stds = grid_result.cv_results_['std_test_score']\n",
    "params = grid_result.cv_results_['params']\n",
    "for mean, stdev, param in zip(means, stds, params):\n",
    "    print(\"%f (%f) with: %r\" % (mean, stdev, param))"
   ]
  },
  {
   "cell_type": "code",
   "execution_count": 66,
   "metadata": {},
   "outputs": [
    {
     "name": "stdout",
     "output_type": "stream",
     "text": [
      "(506, 13)\n",
      "(506,)\n"
     ]
    }
   ],
   "source": [
    "from sklearn.model_selection import KFold\n",
    "from keras.wrappers.scikit_learn import KerasRegressor\n",
    "from sklearn.model_selection import cross_val_score\n",
    "from sklearn.model_selection import KFold\n",
    "from sklearn.preprocessing import StandardScaler\n",
    "from sklearn.pipeline import Pipeline\n",
    "import pandas\n",
    "dataframe = pandas.read_csv('housing.csv', delim_whitespace=True,\n",
    "                           header= None)\n",
    "dataset = dataframe.values\n",
    "X = dataset[:,:13]\n",
    "Y = dataset[:,13]\n",
    "print(X.shape)\n",
    "print(Y.shape)"
   ]
  },
  {
   "cell_type": "code",
   "execution_count": 67,
   "metadata": {},
   "outputs": [],
   "source": [
    "def baseline_model() :\n",
    "    model = Sequential()\n",
    "    # 506x13 => 13x13 => 506x13\n",
    "    model.add(Dense(13, input_dim=13, kernel_initializer='normal', activation='relu'))\n",
    "    model.add(Dense(1, kernel_initializer='normal'))\n",
    "    model.compile(loss='mean_squared_error', optimizer = 'adam')\n",
    "    return model"
   ]
  },
  {
   "cell_type": "code",
   "execution_count": 68,
   "metadata": {},
   "outputs": [],
   "source": [
    "from keras.wrappers.scikit_learn import KerasRegressor\n",
    "\n",
    "seed = 7\n",
    "numpy.random.seed(seed)\n",
    "estimator = KerasRegressor(build_fn = baseline_model, nb_epoch=100,\n",
    "                           batch_size = 5, verbose= 0)\n"
   ]
  },
  {
   "cell_type": "code",
   "execution_count": 69,
   "metadata": {},
   "outputs": [
    {
     "name": "stderr",
     "output_type": "stream",
     "text": [
      "C:\\Users\\ICT01_18\\Anaconda3\\envs\\keras\\lib\\site-packages\\sklearn\\model_selection\\_split.py:296: FutureWarning: Setting a random_state has no effect since shuffle is False. This will raise an error in 0.24. You should leave random_state to its default (None), or set shuffle=True.\n",
      "  FutureWarning\n"
     ]
    },
    {
     "name": "stdout",
     "output_type": "stream",
     "text": [
      "Results : -114.45 (82.43) MSE\n"
     ]
    }
   ],
   "source": [
    "kfold = KFold(n_splits=10, random_state = seed)\n",
    "results = cross_val_score(estimator, X,Y, cv = kfold)  # 매개변수에 데이터를 넣음 #kfold 10개중 하나는 validation(검증용)\n",
    "print(\"Results : %.2f (%.2f) MSE\" %(results.mean(),\n",
    "                                   results.std()) )"
   ]
  },
  {
   "cell_type": "code",
   "execution_count": 70,
   "metadata": {},
   "outputs": [
    {
     "name": "stdout",
     "output_type": "stream",
     "text": [
      "Standardized : -28.02 (28.27) MSE\n"
     ]
    },
    {
     "data": {
      "text/plain": [
       "Pipeline(memory=None,\n",
       "         steps=[('standardize',\n",
       "                 StandardScaler(copy=True, with_mean=True, with_std=True)),\n",
       "                ('mlp',\n",
       "                 <keras.wrappers.scikit_learn.KerasRegressor object at 0x0000026A90B5E9C8>)],\n",
       "         verbose=False)"
      ]
     },
     "execution_count": 70,
     "metadata": {},
     "output_type": "execute_result"
    }
   ],
   "source": [
    "## numpy.random.seed(seed)\n",
    "estimators = []\n",
    "estimators.append(('standardize' , StandardScaler()))\n",
    "estimators.append(('mlp', KerasRegressor(build_fn = baseline_model,\n",
    "                                         epochs=50, batch_size=5, verbose=0)))\n",
    "pipeline = Pipeline(estimators)\n",
    "kfold = KFold(n_splits = 10, random_state = seed)\n",
    "results = cross_val_score(pipeline, X, Y, cv= kfold)\n",
    "print(\"Standardized : %.2f (%.2f) MSE\" % (results.mean(), results.std()))\n",
    "pipeline.fit(X,Y)"
   ]
  },
  {
   "cell_type": "code",
   "execution_count": 71,
   "metadata": {},
   "outputs": [],
   "source": [
    "def larger_model() : #basemodel보다 deap해짐\n",
    "    model = Sequential()\n",
    "    # 506x13 => 13x13 => 506x13\n",
    "    model.add(Dense(13, input_dim=13, kernel_initializer='normal', activation='relu'))\n",
    "    model.add(Dense(6, kernel_initializer='normal', activation = 'relu'))\n",
    "    model.add(Dense(1, kernel_initializer='normal'))\n",
    "    model.compile(loss='mean_squared_error', optimizer = 'adam')\n",
    "    return model"
   ]
  },
  {
   "cell_type": "code",
   "execution_count": 72,
   "metadata": {},
   "outputs": [],
   "source": [
    "seed = 7\n",
    "numpy.random.seed(seed)\n",
    "estimator = KerasRegressor(build_fn = larger_model, nb_epoch=100,\n",
    "                           batch_size = 5, verbose= 0)\n"
   ]
  },
  {
   "cell_type": "code",
   "execution_count": 73,
   "metadata": {},
   "outputs": [
    {
     "data": {
      "text/plain": [
       "29.765001"
      ]
     },
     "execution_count": 73,
     "metadata": {},
     "output_type": "execute_result"
    }
   ],
   "source": [
    "pipeline.fit(X,Y)\n",
    "res = pipeline.predict(X)\n",
    "res[0]"
   ]
  },
  {
   "cell_type": "code",
   "execution_count": 74,
   "metadata": {},
   "outputs": [
    {
     "data": {
      "text/plain": [
       "array([[1.        , 0.88931684],\n",
       "       [0.88931684, 1.        ]])"
      ]
     },
     "execution_count": 74,
     "metadata": {},
     "output_type": "execute_result"
    }
   ],
   "source": [
    "np.corrcoef(res,Y)"
   ]
  },
  {
   "cell_type": "code",
   "execution_count": null,
   "metadata": {},
   "outputs": [],
   "source": [
    "# 숙제\n",
    "# iris.csv 데이터를 로딩한 다음\n",
    "# 분류망을 구성하세요\n",
    "# parameter tuning을 구현하세요( pipeline도 함께 )"
   ]
  },
  {
   "cell_type": "code",
   "execution_count": null,
   "metadata": {},
   "outputs": [],
   "source": [
    "dataset = pd.read_csv(\"iris.csv\", )"
   ]
  },
  {
   "cell_type": "code",
   "execution_count": null,
   "metadata": {},
   "outputs": [],
   "source": []
  },
  {
   "cell_type": "code",
   "execution_count": null,
   "metadata": {},
   "outputs": [],
   "source": []
  },
  {
   "cell_type": "code",
   "execution_count": null,
   "metadata": {},
   "outputs": [],
   "source": []
  },
  {
   "cell_type": "code",
   "execution_count": null,
   "metadata": {},
   "outputs": [],
   "source": []
  },
  {
   "cell_type": "code",
   "execution_count": null,
   "metadata": {},
   "outputs": [],
   "source": []
  }
 ],
 "metadata": {
  "kernelspec": {
   "display_name": "Python 3",
   "language": "python",
   "name": "python3"
  },
  "language_info": {
   "codemirror_mode": {
    "name": "ipython",
    "version": 3
   },
   "file_extension": ".py",
   "mimetype": "text/x-python",
   "name": "python",
   "nbconvert_exporter": "python",
   "pygments_lexer": "ipython3",
   "version": "3.7.6"
  }
 },
 "nbformat": 4,
 "nbformat_minor": 4
}
