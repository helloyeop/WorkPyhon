{
 "cells": [
  {
   "cell_type": "code",
   "execution_count": 2,
   "metadata": {},
   "outputs": [
    {
     "ename": "SyntaxError",
     "evalue": "invalid syntax (<ipython-input-2-e218b4701e8e>, line 2)",
     "output_type": "error",
     "traceback": [
      "\u001b[1;36m  File \u001b[1;32m\"<ipython-input-2-e218b4701e8e>\"\u001b[1;36m, line \u001b[1;32m2\u001b[0m\n\u001b[1;33m    - 함수이름은 중복이 되면 안됨 ( 오버로딩은 default매개변수로 해결 )\u001b[0m\n\u001b[1;37m              ^\u001b[0m\n\u001b[1;31mSyntaxError\u001b[0m\u001b[1;31m:\u001b[0m invalid syntax\n"
     ]
    }
   ],
   "source": [
    "# 함수( function )\n",
    "- 함수이름은 중복이 되면 안됨 ( 오버로딩은 default매개변수로 해결 )\n",
    "- Required auguments( 매개변수를 순서적으로 입력 )\n",
    "- Default auguments( 오버로딩 해결 )\n",
    "- Variable-length auguments( 변동매개변수 : * :list  / ** : dict)"
   ]
  },
  {
   "cell_type": "code",
   "execution_count": 4,
   "metadata": {},
   "outputs": [
    {
     "name": "stdout",
     "output_type": "stream",
     "text": [
      "30\n",
      "30\n",
      "30\n",
      "70\n"
     ]
    }
   ],
   "source": [
    "a =  10\n",
    "b = 20\n",
    "result = a+ b\n",
    "print( result )\n",
    "\n",
    "c = 10\n",
    "d = 20\n",
    "result = c + d\n",
    "print( result )\n",
    "# 사용자 정의 함수\n",
    "def addvalue(ab,bd) :   # ab = 10 , bd = 20  / 주소값만 전달 call by reference\n",
    "    return ab+bd\n",
    "print(addvalue(10,20))  # 호출 시, 데이터는 heap에 저장 => 주소값만 전달\n",
    "print(addvalue(30,40))"
   ]
  },
  {
   "cell_type": "code",
   "execution_count": null,
   "metadata": {},
   "outputs": [],
   "source": [
    "# 회귀분석\n",
    "y = ax+b # a : 기울기 계수 / b : bias (절편)"
   ]
  },
  {
   "cell_type": "code",
   "execution_count": 6,
   "metadata": {},
   "outputs": [
    {
     "name": "stdout",
     "output_type": "stream",
     "text": [
      "1030\n",
      "1030\n"
     ]
    },
    {
     "ename": "TypeError",
     "evalue": "reg() takes 1 positional argument but 3 were given",
     "output_type": "error",
     "traceback": [
      "\u001b[1;31m---------------------------------------------------------------------------\u001b[0m",
      "\u001b[1;31mTypeError\u001b[0m                                 Traceback (most recent call last)",
      "\u001b[1;32m<ipython-input-6-e502b25f553e>\u001b[0m in \u001b[0;36m<module>\u001b[1;34m\u001b[0m\n\u001b[0;32m      8\u001b[0m     \u001b[1;32mreturn\u001b[0m \u001b[0ma\u001b[0m\u001b[1;33m*\u001b[0m\u001b[0mx\u001b[0m \u001b[1;33m+\u001b[0m \u001b[0mb\u001b[0m\u001b[1;33m\u001b[0m\u001b[1;33m\u001b[0m\u001b[0m\n\u001b[0;32m      9\u001b[0m \u001b[0mprint\u001b[0m\u001b[1;33m(\u001b[0m\u001b[0mreg\u001b[0m\u001b[1;33m(\u001b[0m\u001b[1;36m100\u001b[0m\u001b[1;33m)\u001b[0m\u001b[1;33m)\u001b[0m\u001b[1;33m\u001b[0m\u001b[1;33m\u001b[0m\u001b[0m\n\u001b[1;32m---> 10\u001b[1;33m \u001b[0mreg\u001b[0m\u001b[1;33m(\u001b[0m\u001b[1;36m10\u001b[0m\u001b[1;33m,\u001b[0m\u001b[1;36m30\u001b[0m\u001b[1;33m,\u001b[0m\u001b[1;36m100\u001b[0m\u001b[1;33m)\u001b[0m\u001b[1;33m\u001b[0m\u001b[1;33m\u001b[0m\u001b[0m\n\u001b[0m",
      "\u001b[1;31mTypeError\u001b[0m: reg() takes 1 positional argument but 3 were given"
     ]
    }
   ],
   "source": [
    "def reg(a,b,x) :\n",
    "    return a*x + b\n",
    "print(reg(10,30,100))\n",
    "\n",
    "def reg(x) :\n",
    "    a = 10\n",
    "    b = 30\n",
    "    return a*x + b\n",
    "print(reg(100))\n",
    "#reg(10,30,100) ----> 함수 이름이 같으면, 안됨"
   ]
  },
  {
   "cell_type": "code",
   "execution_count": 8,
   "metadata": {},
   "outputs": [
    {
     "name": "stdout",
     "output_type": "stream",
     "text": [
      "10보다 크다\n"
     ]
    }
   ],
   "source": [
    "# 두수를 더한 값이 10보다 큰지 확인하세요.\n",
    "a= 10\n",
    "b = 20\n",
    "result = a+ b\n",
    "if result >= 10:\n",
    "    result = '10보다 크다'\n",
    "else :\n",
    "    result = \"10보다 작다\"\n",
    "print(result)"
   ]
  },
  {
   "cell_type": "code",
   "execution_count": 9,
   "metadata": {},
   "outputs": [
    {
     "data": {
      "text/plain": [
       "'10보다 크다'"
      ]
     },
     "execution_count": 9,
     "metadata": {},
     "output_type": "execute_result"
    }
   ],
   "source": [
    "def sum_1(a,b) :\n",
    "    result = a + b\n",
    "    if result >= 10:\n",
    "        result = '10보다 크다'\n",
    "    else :\n",
    "        result = \"10보다 작다\"\n",
    "    return result\n",
    "sum_1(10,20)"
   ]
  },
  {
   "cell_type": "code",
   "execution_count": 15,
   "metadata": {},
   "outputs": [
    {
     "data": {
      "text/plain": [
       "tuple"
      ]
     },
     "execution_count": 15,
     "metadata": {},
     "output_type": "execute_result"
    }
   ],
   "source": [
    "a = 10\n",
    "b = 20\n",
    "\n",
    "def change(a , b) :   # 함수는 여러개의 값을 리턴할 수 있다\n",
    "    return b,a\n",
    "a,b = change(a,b)\n",
    "x = change(a,b)  # 함수의 리턴 : 튜플\n",
    "type(x)"
   ]
  },
  {
   "cell_type": "code",
   "execution_count": 19,
   "metadata": {},
   "outputs": [
    {
     "name": "stdin",
     "output_type": "stream",
     "text": [
      "첫 번째 숫자를 입력하세요. 50\n",
      "두 번째 숫자를 입력하세요. 60\n"
     ]
    },
    {
     "name": "stdout",
     "output_type": "stream",
     "text": [
      "결과 :  110\n",
      "결과 :  -10\n",
      "결과 :  3000\n",
      "110\n",
      "-10\n",
      "3000\n"
     ]
    }
   ],
   "source": [
    "# 두 수를 입력받아 +,-,* 하는 함수 3개를 작성하시오.\n",
    "\n",
    "num1 = int(input(\"첫 번째 숫자를 입력하세요.\"))\n",
    "num2= int(input(\"두 번째 숫자를 입력하세요.\"))\n",
    "\n",
    "def add(a, b) :\n",
    "    return (a+b)\n",
    "\n",
    "def subtract(a,b) :\n",
    "    return a-b\n",
    "\n",
    "def multiply(a,b) :\n",
    "    return a*b\n",
    "\n",
    "#함수는 일급함수 : 함수가 매개변수로 전달 가능, 리턴값으로도 가능\n",
    "def changefun(g, a, b):\n",
    "    return g(a,b)\n",
    "\n",
    "print('결과 : ', changefun(add,num1,num2))\n",
    "print('결과 : ', changefun(subtract,num1,num2))\n",
    "print('결과 : ', changefun(multiply,num1,num2))\n",
    "\n",
    "print(add(num1,num2))\n",
    "print(subtract(num1,num2))\n",
    "print(multiply(num1,num2))"
   ]
  },
  {
   "cell_type": "code",
   "execution_count": 28,
   "metadata": {},
   "outputs": [
    {
     "name": "stdout",
     "output_type": "stream",
     "text": [
      "함수 외부에서 출력 [10, 20, 30]\n",
      "함수 내부에서 출력 :  [10, 20, 30, [1, 2, 3, 4]]\n",
      "함수 외부에서 출력 [10, 20, 30, [1, 2, 3, 4]]\n",
      "함수 외부에서 출력 [10, 20, 30]\n",
      "함수 내부에서 출력 :  [1, 2, 3, 4]\n",
      "함수 외부에서 출력 [10, 20, 30]\n"
     ]
    }
   ],
   "source": [
    "def changeme( mylist ) :  #mylist = mylist 주소\n",
    "    mylist.append([1,2,3,4])\n",
    "    print(\"함수 내부에서 출력 : \", mylist)\n",
    "    return\n",
    "mylist = [10,20,30]  # heap에 저장됨     # 주소값이 넘어갔기 때문에 외부에서 출력할때도 바뀜( call by reference )\n",
    "print(\"함수 외부에서 출력\", mylist)\n",
    "changeme(mylist)\n",
    "print(\"함수 외부에서 출력\", mylist)\n",
    "\n",
    "\n",
    "def changeme1( mylist ) :  #mylist = mylist 주소\n",
    "    mylist = [1,2,3,4]    # call by value 대입이 됨\n",
    "    print(\"함수 내부에서 출력 : \", mylist)\n",
    "    return\n",
    "mylist = [10,20,30]  # heap에 저장됨     # 주소값이 넘어갔기 때문에 외부에서 출력할때도 바뀜( call by reference )\n",
    "print(\"함수 외부에서 출력\", mylist)\n",
    "changeme1(mylist)\n",
    "print(\"함수 외부에서 출력\", mylist)\n"
   ]
  },
  {
   "cell_type": "code",
   "execution_count": 25,
   "metadata": {},
   "outputs": [
    {
     "ename": "AttributeError",
     "evalue": "'set' object has no attribute 'append'",
     "output_type": "error",
     "traceback": [
      "\u001b[1;31m---------------------------------------------------------------------------\u001b[0m",
      "\u001b[1;31mAttributeError\u001b[0m                            Traceback (most recent call last)",
      "\u001b[1;32m<ipython-input-25-7a5ad50cccfc>\u001b[0m in \u001b[0;36m<module>\u001b[1;34m\u001b[0m\n\u001b[0;32m      1\u001b[0m \u001b[0mmylist\u001b[0m \u001b[1;33m=\u001b[0m \u001b[1;33m{\u001b[0m\u001b[1;36m10\u001b[0m\u001b[1;33m,\u001b[0m\u001b[1;36m20\u001b[0m\u001b[1;33m,\u001b[0m\u001b[1;36m30\u001b[0m\u001b[1;33m}\u001b[0m\u001b[1;33m\u001b[0m\u001b[1;33m\u001b[0m\u001b[0m\n\u001b[1;32m----> 2\u001b[1;33m \u001b[0mchangeme\u001b[0m\u001b[1;33m(\u001b[0m\u001b[0mmylist\u001b[0m\u001b[1;33m)\u001b[0m\u001b[1;33m\u001b[0m\u001b[1;33m\u001b[0m\u001b[0m\n\u001b[0m\u001b[0;32m      3\u001b[0m \u001b[0mprint\u001b[0m\u001b[1;33m(\u001b[0m\u001b[1;34m\"함수 외부에서 출력\"\u001b[0m\u001b[1;33m,\u001b[0m \u001b[0mmylist\u001b[0m\u001b[1;33m)\u001b[0m\u001b[1;33m\u001b[0m\u001b[1;33m\u001b[0m\u001b[0m\n",
      "\u001b[1;32m<ipython-input-24-b82dd5041184>\u001b[0m in \u001b[0;36mchangeme\u001b[1;34m(mylist)\u001b[0m\n\u001b[0;32m      1\u001b[0m \u001b[1;32mdef\u001b[0m \u001b[0mchangeme\u001b[0m\u001b[1;33m(\u001b[0m \u001b[0mmylist\u001b[0m \u001b[1;33m)\u001b[0m \u001b[1;33m:\u001b[0m  \u001b[1;31m#mylist = mylist 주소\u001b[0m\u001b[1;33m\u001b[0m\u001b[1;33m\u001b[0m\u001b[0m\n\u001b[1;32m----> 2\u001b[1;33m     \u001b[0mmylist\u001b[0m\u001b[1;33m.\u001b[0m\u001b[0mappend\u001b[0m\u001b[1;33m(\u001b[0m\u001b[1;33m[\u001b[0m\u001b[1;36m1\u001b[0m\u001b[1;33m,\u001b[0m\u001b[1;36m2\u001b[0m\u001b[1;33m,\u001b[0m\u001b[1;36m3\u001b[0m\u001b[1;33m,\u001b[0m\u001b[1;36m4\u001b[0m\u001b[1;33m]\u001b[0m\u001b[1;33m)\u001b[0m\u001b[1;33m\u001b[0m\u001b[1;33m\u001b[0m\u001b[0m\n\u001b[0m\u001b[0;32m      3\u001b[0m     \u001b[0mprint\u001b[0m\u001b[1;33m(\u001b[0m\u001b[1;34m\"함수 내부에서 출력 : \"\u001b[0m\u001b[1;33m,\u001b[0m \u001b[0mmylist\u001b[0m\u001b[1;33m)\u001b[0m\u001b[1;33m\u001b[0m\u001b[1;33m\u001b[0m\u001b[0m\n\u001b[0;32m      4\u001b[0m     \u001b[1;32mreturn\u001b[0m\u001b[1;33m\u001b[0m\u001b[1;33m\u001b[0m\u001b[0m\n\u001b[0;32m      5\u001b[0m \u001b[0mmylist\u001b[0m \u001b[1;33m=\u001b[0m \u001b[1;33m[\u001b[0m\u001b[1;36m10\u001b[0m\u001b[1;33m,\u001b[0m\u001b[1;36m20\u001b[0m\u001b[1;33m,\u001b[0m\u001b[1;36m30\u001b[0m\u001b[1;33m]\u001b[0m  \u001b[1;31m# heap에 저장됨     # 주소값이 넘어갔기 때문에 외부에서 출력할때도 바뀜( call by reference )\u001b[0m\u001b[1;33m\u001b[0m\u001b[1;33m\u001b[0m\u001b[0m\n",
      "\u001b[1;31mAttributeError\u001b[0m: 'set' object has no attribute 'append'"
     ]
    }
   ],
   "source": [
    "mylist = {10,20,30}\n",
    "changeme(mylist)\n",
    "print(\"함수 외부에서 출력\", mylist)\n",
    "# mylist를 set으로 만들면 append가 없기때문에 오류가 나옴  ==> 데이터 타입을 구분해야함"
   ]
  },
  {
   "cell_type": "code",
   "execution_count": 32,
   "metadata": {},
   "outputs": [
    {
     "name": "stdout",
     "output_type": "stream",
     "text": [
      "시작\n",
      "1o2o3o\n",
      "<class 'tuple'>\n",
      "1o2o3o4o5o\n",
      "<class 'tuple'>\n"
     ]
    }
   ],
   "source": [
    "# 변동 매개변수\n",
    "def func1(*args) :    # * -> 매개변수로 list로 온다는 뜻\n",
    "    for i in args:\n",
    "        print(i, end='o')\n",
    "    print()\n",
    "    print(type(args))\n",
    "print(\"시작\")\n",
    "func1(1,2,3)\n",
    "func1(1,2,3,4,5)"
   ]
  },
  {
   "cell_type": "code",
   "execution_count": 36,
   "metadata": {},
   "outputs": [
    {
     "name": "stdout",
     "output_type": "stream",
     "text": [
      "args is : (1, 2)\n",
      "kwagrs is :  {'z': 5.0}\n",
      "Hello Now I'm going to call <function g at 0x00000287FC5C5438>\n",
      "1\n",
      "2\n",
      "5.0\n"
     ]
    },
    {
     "data": {
      "text/plain": [
       "0.6"
      ]
     },
     "execution_count": 36,
     "metadata": {},
     "output_type": "execute_result"
    }
   ],
   "source": [
    "def say_hello_then_call(f, *args, **kwargs) :\n",
    "    print('args is :', args)\n",
    "    print('kwagrs is : ', kwargs)\n",
    "    print(\"Hello Now I'm going to call %s\" % f)  # 함수 위치한 주소\n",
    "    return f(*args, **kwargs)\n",
    "\n",
    "def g(x,y,z = 1):    #default 매개변수\n",
    "    print(x)\n",
    "    print(y)\n",
    "    print(z)\n",
    "    return (x+y)/z\n",
    "say_hello_then_call(g, 1,2, z= 5.)"
   ]
  },
  {
   "cell_type": "code",
   "execution_count": 37,
   "metadata": {},
   "outputs": [
    {
     "name": "stdout",
     "output_type": "stream",
     "text": [
      "1 0\n",
      "1 2\n",
      "1 2\n"
     ]
    }
   ],
   "source": [
    "def func_test2(a , b = 0):\n",
    "    print(a, b)\n",
    "func_test2(1)\n",
    "func_test2(1,2)\n",
    "func_test2(b=2,a=1)  #key 매개변수"
   ]
  },
  {
   "cell_type": "code",
   "execution_count": 43,
   "metadata": {},
   "outputs": [],
   "source": [
    "def func_test4():\n",
    "    pass           # 리턴 미지정( None이 리턴됨 )  None : 객체"
   ]
  },
  {
   "cell_type": "code",
   "execution_count": 45,
   "metadata": {},
   "outputs": [
    {
     "data": {
      "text/plain": [
       "True"
      ]
     },
     "execution_count": 45,
     "metadata": {},
     "output_type": "execute_result"
    }
   ],
   "source": [
    "result = func_test4()\n",
    "result is None\n",
    "#객체 비교 : is 사용\n",
    "#숫자/문자 비교 : == 사용"
   ]
  },
  {
   "cell_type": "raw",
   "metadata": {},
   "source": [
    "#__ __ : 멤버변수 : 시스템에서 생성한 변수"
   ]
  },
  {
   "cell_type": "code",
   "execution_count": 48,
   "metadata": {},
   "outputs": [
    {
     "data": {
      "text/plain": [
       "function"
      ]
     },
     "execution_count": 48,
     "metadata": {},
     "output_type": "execute_result"
    }
   ],
   "source": [
    "func_test4.__class__"
   ]
  },
  {
   "cell_type": "code",
   "execution_count": 49,
   "metadata": {},
   "outputs": [
    {
     "data": {
      "text/plain": [
       "NoneType"
      ]
     },
     "execution_count": 49,
     "metadata": {},
     "output_type": "execute_result"
    }
   ],
   "source": [
    "result.__class__  "
   ]
  },
  {
   "cell_type": "code",
   "execution_count": 66,
   "metadata": {},
   "outputs": [
    {
     "name": "stdout",
     "output_type": "stream",
     "text": [
      "15 5 50\n"
     ]
    },
    {
     "data": {
      "text/plain": [
       "(15, 5, 50)"
      ]
     },
     "execution_count": 66,
     "metadata": {},
     "output_type": "execute_result"
    }
   ],
   "source": [
    "def func_test3(a,b) :\n",
    "    return a+b, a-b , a*b\n",
    "a,b,c = func_test3(10,5)\n",
    "print(a,b,c)\n",
    "d = func_test3(10,5)\n",
    "d"
   ]
  },
  {
   "cell_type": "code",
   "execution_count": 1,
   "metadata": {},
   "outputs": [
    {
     "name": "stdout",
     "output_type": "stream",
     "text": [
      "15\n"
     ]
    }
   ],
   "source": [
    "# 커링\n",
    "def all_number(x,y):\n",
    "    return x+y\n",
    "add_five = lambda y : all_number(5,y)  # 무명함수 => 유명함수\n",
    "print(add_five(10))"
   ]
  },
  {
   "cell_type": "code",
   "execution_count": 9,
   "metadata": {},
   "outputs": [
    {
     "data": {
      "text/plain": [
       "2.8284271247461903"
      ]
     },
     "execution_count": 9,
     "metadata": {},
     "output_type": "execute_result"
    }
   ],
   "source": [
    "# 문제 : 두 점 사이의 거리값을 구하는 함수를 작성하시오.\n",
    "# root => math.sqrt()\n",
    "import math\n",
    "\n",
    "def dis(x1,y1,x2,y2):\n",
    "    result = math.sqrt((x2-x1)**2+(y2-y1)**2)\n",
    "    return result\n",
    "dis(1,2,3,4)"
   ]
  },
  {
   "cell_type": "code",
   "execution_count": 10,
   "metadata": {},
   "outputs": [],
   "source": []
  },
  {
   "cell_type": "code",
   "execution_count": 13,
   "metadata": {},
   "outputs": [
    {
     "data": {
      "text/plain": [
       "120"
      ]
     },
     "execution_count": 13,
     "metadata": {},
     "output_type": "execute_result"
    }
   ],
   "source": [
    "# 수학에서 factorial\n",
    "def factorial(n) :\n",
    "    sum = 1                  # 항등원 : 덧셈의 항등원은 0, 곱셈의 항등원 1, 행렬의 항등원 : 단위행렬\n",
    "    for i in range(n,1,-1):\n",
    "        sum *= i\n",
    "        #print(sum)\n",
    "    return sum\n",
    "factorial(5)"
   ]
  },
  {
   "cell_type": "code",
   "execution_count": 15,
   "metadata": {},
   "outputs": [
    {
     "data": {
      "text/plain": [
       "120"
      ]
     },
     "execution_count": 15,
     "metadata": {},
     "output_type": "execute_result"
    }
   ],
   "source": [
    "# 재귀함수   :   함수가 자기자신 함수를 호출      Binary Tree 모델에 사용함\n",
    "def factorial(n, stop=1):\n",
    "    if n <= stop or n <=0:\n",
    "        return 1\n",
    "    return n*factorial(n-1,stop)\n",
    "factorial(5)"
   ]
  },
  {
   "cell_type": "code",
   "execution_count": 22,
   "metadata": {},
   "outputs": [
    {
     "name": "stdout",
     "output_type": "stream",
     "text": [
      "8\n",
      "16\n"
     ]
    }
   ],
   "source": [
    "# 문제 : power 함수를 구현하시오( 2* 10 )  = pow(2,10) = 1024\n",
    "\n",
    "def power(r,n) :\n",
    "    value = 1\n",
    "    for i in range(1, n+1):\n",
    "        value = r * value\n",
    "    return value\n",
    "print(power(2,3))\n",
    "\n",
    "\n",
    "# 재귀호출 방식으로 구현\n",
    "def poower(r,n) :\n",
    "    #if n == 1:\n",
    "    #    return 1\n",
    "    if n<=0:\n",
    "        return 1\n",
    "    return r*poower(r,n-1)\n",
    "print(poower(2,4))\n"
   ]
  },
  {
   "cell_type": "code",
   "execution_count": 24,
   "metadata": {},
   "outputs": [
    {
     "name": "stdout",
     "output_type": "stream",
     "text": [
      "inner\n",
      "global inner\n"
     ]
    }
   ],
   "source": [
    "# 내부 함수   :  함수안에서만 사용할 수 있음\n",
    "\n",
    "def outer():\n",
    "    def inner():\n",
    "        print(\"inner\")\n",
    "    inner()\n",
    "def inner():\n",
    "    print('global inner')\n",
    "outer()\n",
    "inner()"
   ]
  },
  {
   "cell_type": "code",
   "execution_count": 34,
   "metadata": {},
   "outputs": [
    {
     "name": "stdout",
     "output_type": "stream",
     "text": [
      "0.5201379012145232\n",
      "5\n",
      "0.6309719979901749\n",
      "4\n",
      "0.045044869477303684\n",
      "3\n",
      "0.7785310882378162\n",
      "2\n",
      "0.045497332822116876\n",
      "1\n"
     ]
    }
   ],
   "source": [
    "# for in :------in 뒤에 올 수 잇는 것 :  Collections(list, tuple, dict, set), iterator(ranges), generator, eneumerator\n",
    "# generator\n",
    "import random\n",
    "def gaus_dist(n):\n",
    "    while n > 0:\n",
    "        yield random.random()    # 비동기 호출함수  -- 호출이 올 때만 동작하여 아래 for문에서 gd요소를 호출할때마다 동작함\n",
    "                                 # 데이터베이스나 range 등 응용 가능\n",
    "        print(n)\n",
    "        n -=1\n",
    "gd = gaus_dist(5)\n",
    "for i in gaus_dist(5):\n",
    "    print(i)"
   ]
  },
  {
   "cell_type": "code",
   "execution_count": 19,
   "metadata": {},
   "outputs": [
    {
     "name": "stdout",
     "output_type": "stream",
     "text": [
      "===============\n",
      "python's recipe no.1\n",
      "perl's recipe no.2\n"
     ]
    },
    {
     "data": {
      "text/plain": [
       "(2636571768584, 2636571768872)"
      ]
     },
     "execution_count": 19,
     "metadata": {},
     "output_type": "execute_result"
    }
   ],
   "source": [
    "# 함수가 값을 저장할 수 있는가?\n",
    "# 값을 저장하지 못함 -> 매개변수의 값을 전달하기만 함\n",
    "# closure : 함수가 값을 저장할 수 있도록 함\n",
    "def cookbook(name) :\n",
    "    def recipe(no):\n",
    "        print(\"%s's recipe no.%d\" % (name, no)) \n",
    "    return recipe\n",
    "python_recipe = cookbook(\"python\")  # recipe 함수에 대한 주소값을 저장함 / \n",
    "                                    #'python'에 대한name 값을 함수에 저장하여 다음 recipe 함수에서 불러와 사용\n",
    "perl_recipe = cookbook(\"perl\")\n",
    "print('===============')\n",
    "python_recipe(1)\n",
    "perl_recipe(2)\n",
    "id(python_recipe), id(perl_recipe)"
   ]
  },
  {
   "cell_type": "code",
   "execution_count": 37,
   "metadata": {},
   "outputs": [
    {
     "name": "stdout",
     "output_type": "stream",
     "text": [
      "         1.7560\n",
      "         2.2220\n",
      "              1\n"
     ]
    }
   ],
   "source": [
    "# closure  클로저의 응용( 장식자 : decorator )\n",
    "def format_and_pad(template, space ):\n",
    "    def formatter(x):\n",
    "        return (template % x).rjust(space)\n",
    "    return formatter\n",
    "\n",
    "fmt = format_and_pad('%.4f', 15)\n",
    "print(fmt(1.756))\n",
    "print(fmt(2.222))\n",
    "fmt2 = format_and_pad('%d', 15)\n",
    "print(fmt2(1.756))\n",
    "    "
   ]
  },
  {
   "cell_type": "code",
   "execution_count": 40,
   "metadata": {},
   "outputs": [
    {
     "data": {
      "text/plain": [
       "'         1.7560'"
      ]
     },
     "execution_count": 40,
     "metadata": {},
     "output_type": "execute_result"
    }
   ],
   "source": [
    "('%.4f' % 1.756).rjust(15)"
   ]
  },
  {
   "cell_type": "code",
   "execution_count": 47,
   "metadata": {},
   "outputs": [
    {
     "name": "stdin",
     "output_type": "stream",
     "text": [
      "밑변의 길이를 입력하세요. 20\n",
      "높이의 길이를 입력하세요. 10\n",
      "반지름을 입력하세요 10\n"
     ]
    },
    {
     "name": "stdout",
     "output_type": "stream",
     "text": [
      "100.0\n",
      "200\n",
      "1385.4557313670107\n"
     ]
    }
   ],
   "source": [
    "# 데이터를 입력받아\n",
    "# 삼각형의 넓이 \n",
    "# 사각형의 넓이\n",
    "# 원의 넓이를 계산하는 함수를 작성해 보세요\n",
    "\n",
    "wt = int(input(\"밑변의 길이를 입력하세요.\"))\n",
    "ht = int(input(\"높이의 길이를 입력하세요.\"))\n",
    "r = int(input(\"반지름을 입력하세요\"))\n",
    "def tri(a,b) :\n",
    "    return wt * ht/2\n",
    "\n",
    "def sq(a,b) :\n",
    "    return wt * ht\n",
    "\n",
    "def cr(a) :\n",
    "    return r**math.pi\n",
    "\n",
    "print(tri(wt,ht))\n",
    "print(sq(wt,ht))\n",
    "print(cr(r))\n"
   ]
  },
  {
   "cell_type": "code",
   "execution_count": 3,
   "metadata": {},
   "outputs": [
    {
     "name": "stdin",
     "output_type": "stream",
     "text": [
      "근무 시간을 입력하세요 50\n",
      "시간 당 급여를 입력하세요 10000\n"
     ]
    },
    {
     "name": "stdout",
     "output_type": "stream",
     "text": [
      "총 급여는 550000.0원 입니다.\n"
     ]
    }
   ],
   "source": [
    "\n",
    "# 시간과 시간당 급여를 입력받아 주급을 계산하는 프로그램을 작성하시오\n",
    "# 조건 : 40시간이 넘으면 1.5배하여 지급한다.\n",
    "#  -> 매개변수 : 시간 , 시간당급여\n",
    "\n",
    "time = int(input(\"근무 시간을 입력하세요\"))\n",
    "time_per_income = int(input(\"시간 당 급여를 입력하세요\"))\n",
    "basictime = 40    # 프로그래밍 할때, 상수는 변수화 하는 것이 좋음 ==> 수정이 용이함\n",
    "def income(a,b) :\n",
    "    result = (b*(a-basictime)*1.5 + b*basictime) if a>basictime else b*(basictime-a)\n",
    "    return result\n",
    "income_t = income(time, time_per_income)\n",
    "print(\"총 급여는 {0}원 입니다.\".format(income_t))"
   ]
  },
  {
   "cell_type": "code",
   "execution_count": 27,
   "metadata": {},
   "outputs": [
    {
     "name": "stdin",
     "output_type": "stream",
     "text": [
      "원금을 입력하세요. 10000000000\n",
      "거치 기간을 입력하세요. 20\n"
     ]
    },
    {
     "name": "stdout",
     "output_type": "stream",
     "text": [
      "총액 : 21911231430.33원 입니다\n",
      "이자수익 : 11911231430.330002원 입니다.\n"
     ]
    },
    {
     "name": "stdin",
     "output_type": "stream",
     "text": [
      "예금액 :  10000000000\n",
      "기간 :  20\n"
     ]
    },
    {
     "name": "stdout",
     "output_type": "stream",
     "text": [
      "예금 총액 : $21,911,231,430.33   이자 총액 : $11,911,231,430.33\n"
     ]
    }
   ],
   "source": [
    "# 이자율이 주어졌을 때 기간거치 후의 총액과 이자수익을 출력하시오.\n",
    "# 복리 계산  = (원가 + 이율 0.04)  ** 거치년수\n",
    "# interest_rate = 0.04\n",
    "# 매개변수 : 원금, 거치기간\n",
    "# 단서 조건 : 입력 함수, 계산함수, 출력함수로 분리해서 작성하시오.\n",
    "\n",
    "interest_rate = 0.04\n",
    "\n",
    "def info() :\n",
    "    ori_money = int(input(\"원금을 입력하세요.\"))\n",
    "    term  =  int(input(\"거치 기간을 입력하세요.\"))\n",
    "    return ori_money, term\n",
    "\n",
    "def rate() :\n",
    "    ori_money,term = info()\n",
    "    income= round((ori_money*(1+interest_rate)**term),2)\n",
    "    return income , income-ori_money\n",
    "\n",
    "def serve() :\n",
    "    income, rate_income = rate()\n",
    "    print(\"총액 : {0}원 입니다\\n이자수익 : {1}원 입니다.\".format(income,rate_income))\n",
    "    \n",
    "    \n",
    "serve()\n",
    "\n",
    "## 선생님 코드\n",
    "\n",
    "def getinput() :  # 입력\n",
    "    principal = eval(input(\"예금액 : \"))\n",
    "    numberOfYears = eval(input(\"기간 : \"))\n",
    "    return (principal, numberOfYears)\n",
    "\n",
    "def balanceAndinterest(prin, numYears) :  # 처리\n",
    "    balance = prin * ((1+interest_rate)** numYears)\n",
    "    interestEarned = balance - prin\n",
    "    return (balance, interestEarned)\n",
    "\n",
    "def displayOutput(bal, intEarned) : # 출력\n",
    "    print(\"예금 총액 : ${0:,.2f}   이자 총액 : ${1:,.2f}\".format(bal, intEarned))\n",
    "\n",
    "\n",
    "def main() :\n",
    "    principal, numberOfYears = getinput()\n",
    "    bal, intEarned = balanceAndinterest(principal, numberOfYears)\n",
    "    displayOutput(bal, intEarned)\n",
    "    \n",
    "    # == displayOutput(*(balanceAndinterest(*getinput())))\n",
    "main()\n",
    "\n"
   ]
  },
  {
   "cell_type": "code",
   "execution_count": 17,
   "metadata": {},
   "outputs": [
    {
     "name": "stdin",
     "output_type": "stream",
     "text": [
      "원금을 입력하세요. 50\n",
      "거치 기간을 입력하세요. 20\n"
     ]
    },
    {
     "data": {
      "text/plain": [
       "50"
      ]
     },
     "execution_count": 17,
     "metadata": {},
     "output_type": "execute_result"
    }
   ],
   "source": [
    "a,b = info()\n",
    "a"
   ]
  },
  {
   "cell_type": "code",
   "execution_count": 28,
   "metadata": {},
   "outputs": [
    {
     "data": {
      "text/plain": [
       "100"
      ]
     },
     "execution_count": 28,
     "metadata": {},
     "output_type": "execute_result"
    }
   ],
   "source": [
    "# 함수화 프로그래밍  :   for + 함수를 적용\n",
    "# lambda 함수를 이용한 처리가 많음\n",
    "\n",
    "(lambda x: x*x)(10)   #매개변수 : x / 실행 : x*x"
   ]
  },
  {
   "cell_type": "code",
   "execution_count": 29,
   "metadata": {},
   "outputs": [
    {
     "name": "stdout",
     "output_type": "stream",
     "text": [
      "11\n"
     ]
    },
    {
     "data": {
      "text/plain": [
       "15"
      ]
     },
     "execution_count": 29,
     "metadata": {},
     "output_type": "execute_result"
    }
   ],
   "source": [
    "incr = lambda x, incr=1: x+incr # 무명함수 -> 유명함수\n",
    "print(incr(10))\n",
    "incr(10,5)"
   ]
  },
  {
   "cell_type": "code",
   "execution_count": 31,
   "metadata": {},
   "outputs": [
    {
     "name": "stdout",
     "output_type": "stream",
     "text": [
      "['aaaa', 'foo', 'abab', 'bar', 'card']\n"
     ]
    }
   ],
   "source": [
    "strings = ['foo','card','bar','aaaa','abab']\n",
    "#정렬기준을 ket에 함수로 전달\n",
    "strings.sort(key = lambda x: len(set(list(x)))) # 중복되지 않는 데이터 개수에 따라\n",
    "print(strings)"
   ]
  },
  {
   "cell_type": "code",
   "execution_count": 47,
   "metadata": {},
   "outputs": [
    {
     "name": "stdout",
     "output_type": "stream",
     "text": [
      "<map object at 0x00000265DFD2C208>\n",
      "[9, 16]\n",
      "[0, 1, 4, 9, 16]\n",
      "[0, 1, 4, 9, 16]\n",
      "[0, 1, 4, 9, 16]\n"
     ]
    }
   ],
   "source": [
    "# map함수 : R에서 apply 함수와 비슷함 ( for문을 적용함 )    map(함수,data)\n",
    "m = map(lambda x: x*x, [3,4])\n",
    "print(m)\n",
    "print(list(m))  # list로 캐스팅 필요\n",
    "\n",
    "print(list(map(lambda x: x**2, range(5))))\n",
    "\n",
    "sqr = lambda x: x**2\n",
    "print(list(map(sqr, range(5))))\n",
    "\n",
    "def sqr2(x) :\n",
    "    return x**2\n",
    "print(list(map(sqr2,range(5))))"
   ]
  },
  {
   "cell_type": "code",
   "execution_count": 50,
   "metadata": {},
   "outputs": [
    {
     "name": "stdout",
     "output_type": "stream",
     "text": [
      "[1210000, 1135000, 910000, 1360000, 2260000, 3010000]\n"
     ]
    }
   ],
   "source": [
    "# 문제 : 다음 출근 시간 데이터에 대해 기본금 10000원, 시간당 7500원의 급여를 계산하고\n",
    "# lambda함수와 map함수를 이용하여 구하시오\n",
    "\n",
    "total_time = [160,150,120,180,300,400]\n",
    "\n",
    "print(list(map(lambda x: 10000+ 7500*x, total_time)))\n",
    "\n",
    "\n"
   ]
  },
  {
   "cell_type": "code",
   "execution_count": 51,
   "metadata": {},
   "outputs": [
    {
     "data": {
      "text/plain": [
       "[1, 3, 5, 7, 9]"
      ]
     },
     "execution_count": 51,
     "metadata": {},
     "output_type": "execute_result"
    }
   ],
   "source": [
    "def odd(p) :\n",
    "    return [ i for i in p if i%2]    # i%2 가 참이다 == 홀수\n",
    "odd(range(10))"
   ]
  },
  {
   "cell_type": "code",
   "execution_count": 56,
   "metadata": {},
   "outputs": [
    {
     "name": "stdout",
     "output_type": "stream",
     "text": [
      "[1, 3, 5, 7, 9, 11, 13, 15, 17, 19, 21, 23, 25, 27, 29, 31, 33, 35, 37, 39, 41, 43, 45, 47, 49, 51, 53, 55, 57, 59, 61, 63, 65, 67, 69, 71, 73, 75, 77, 79, 81, 83, 85, 87, 89, 91, 93, 95, 97, 99]\n",
      "1\n"
     ]
    }
   ],
   "source": [
    "# filter의 함수는 True/False를 리턴하는 함수여야 함\n",
    "def odd(k):\n",
    "    return k%2\n",
    "print(list(filter(odd, range(100))))"
   ]
  },
  {
   "cell_type": "code",
   "execution_count": 59,
   "metadata": {},
   "outputs": [
    {
     "name": "stdout",
     "output_type": "stream",
     "text": [
      "[3, 6, 9, 12, 15, 18, 21, 24, 27, 30, 33, 36, 39, 42, 45, 48, 51, 54, 57, 60, 63, 66, 69, 72, 75, 78, 81, 84, 87, 90, 93, 96, 99]\n"
     ]
    }
   ],
   "source": [
    "# 문제 : 1부터 99사이에 데이터 중 3으로 나누어 떨어지는 데이터를 filter를 이용하여 구하시오\n",
    "def div(k):\n",
    "    return k%3 == 0\n",
    "print(list(filter(div,range(1,100))))"
   ]
  },
  {
   "cell_type": "code",
   "execution_count": 65,
   "metadata": {},
   "outputs": [
    {
     "name": "stdout",
     "output_type": "stream",
     "text": [
      "55\n",
      "abcde\n",
      "edcba\n"
     ]
    }
   ],
   "source": [
    "# reduce ( 분산처리 시 값을 계산할 때 사용 )\n",
    "from functools import reduce\n",
    "print(reduce(lambda x,y : x + y, range(11)))   # 이전에 계산된 값이 x로 옴\n",
    "print(reduce(lambda x,y: x+y,'abcde'))\n",
    "print(reduce(lambda x,y: y+x,'abcde'))"
   ]
  },
  {
   "cell_type": "code",
   "execution_count": 68,
   "metadata": {},
   "outputs": [
    {
     "name": "stdout",
     "output_type": "stream",
     "text": [
      "100\n",
      "5.0\n"
     ]
    }
   ],
   "source": [
    "# 함수 배열\n",
    "func_choice = [lambda x, y : x**y, lambda x,y:x/y]\n",
    "print(func_choice[0](10,2))\n",
    "print(func_choice[1](10,2))\n",
    "\n"
   ]
  },
  {
   "cell_type": "code",
   "execution_count": 70,
   "metadata": {},
   "outputs": [
    {
     "name": "stdout",
     "output_type": "stream",
     "text": [
      "[5, 6, 7, 8]\n"
     ]
    }
   ],
   "source": [
    "# 문제 1) 다음 데이터에서 4보다 큰 수만 출력하도록 filtering해보세요\n",
    "data = [1,2,3,4,5,6,7,8,3,4,2,1]\n",
    "\n",
    "print(list(filter(lambda a : a>4,data)))\n"
   ]
  },
  {
   "cell_type": "code",
   "execution_count": 16,
   "metadata": {},
   "outputs": [
    {
     "name": "stdin",
     "output_type": "stream",
     "text": [
      "숫자를 입력하세요 :  10\n"
     ]
    },
    {
     "name": "stdout",
     "output_type": "stream",
     "text": [
      "나는 귀중한 사람입니다. <function <lambda>.<locals>.<lambda> at 0x000001B7B847FD38>\n"
     ]
    }
   ],
   "source": [
    "# 문제 2) 숫자를 입력 받아서 홀수인 경우는 \"나는 행복합니다.\" 라고 출력하고\n",
    "# 짝수 : \"나는 귀중한 사람이다\"라고 출력하는 함수 선택 구현\n",
    "\n",
    "num = int(input(\"숫자를 입력하세요 : \"))\n",
    "fun_choice = [ lambda: print(\"나는 귀중한 사람입니다.\", lambda:print(\"나는 행복합니다.\"))]\n",
    "num %= 2\n",
    "fun_choice[num]()  ########### ???????????????????????????????????????????????????????"
   ]
  },
  {
   "cell_type": "code",
   "execution_count": 45,
   "metadata": {},
   "outputs": [
    {
     "name": "stdin",
     "output_type": "stream",
     "text": [
      "이름을 입력하세요. 1\n",
      "국어 점수를 입력하세요. 1\n",
      "영어 점수를 입력하세요. 1\n",
      "수학 점수를 입력하세요. 1\n"
     ]
    },
    {
     "ename": "IndexError",
     "evalue": "tuple index out of range",
     "output_type": "error",
     "traceback": [
      "\u001b[1;31m---------------------------------------------------------------------------\u001b[0m",
      "\u001b[1;31mIndexError\u001b[0m                                Traceback (most recent call last)",
      "\u001b[1;32m<ipython-input-45-2494424d9cce>\u001b[0m in \u001b[0;36m<module>\u001b[1;34m\u001b[0m\n\u001b[0;32m     28\u001b[0m \u001b[1;33m\u001b[0m\u001b[0m\n\u001b[0;32m     29\u001b[0m \u001b[1;33m\u001b[0m\u001b[0m\n\u001b[1;32m---> 30\u001b[1;33m \u001b[0mmain\u001b[0m\u001b[1;33m(\u001b[0m\u001b[1;33m)\u001b[0m\u001b[1;33m\u001b[0m\u001b[1;33m\u001b[0m\u001b[0m\n\u001b[0m",
      "\u001b[1;32m<ipython-input-45-2494424d9cce>\u001b[0m in \u001b[0;36mmain\u001b[1;34m()\u001b[0m\n\u001b[0;32m     24\u001b[0m \u001b[1;32mdef\u001b[0m \u001b[0mmain\u001b[0m\u001b[1;33m(\u001b[0m\u001b[1;33m)\u001b[0m \u001b[1;33m:\u001b[0m\u001b[1;33m\u001b[0m\u001b[1;33m\u001b[0m\u001b[0m\n\u001b[0;32m     25\u001b[0m     \u001b[0mgrade\u001b[0m \u001b[1;33m=\u001b[0m \u001b[0mtotalscore\u001b[0m\u001b[1;33m(\u001b[0m\u001b[1;33m)\u001b[0m\u001b[1;33m\u001b[0m\u001b[1;33m\u001b[0m\u001b[0m\n\u001b[1;32m---> 26\u001b[1;33m     \u001b[0mprint\u001b[0m\u001b[1;33m(\u001b[0m\u001b[1;34m\"국어 : {0}\\n영어 : {1}\\n수학 : {2}\\n총점 : {3}\\n평균 : {4}\"\u001b[0m\u001b[1;33m.\u001b[0m\u001b[0mformat\u001b[0m\u001b[1;33m(\u001b[0m\u001b[0ma\u001b[0m\u001b[1;33m(\u001b[0m\u001b[0mgrade\u001b[0m\u001b[1;33m[\u001b[0m\u001b[1;36m1\u001b[0m\u001b[1;33m:\u001b[0m\u001b[1;36m6\u001b[0m\u001b[1;33m]\u001b[0m\u001b[1;33m)\u001b[0m\u001b[1;33m)\u001b[0m\u001b[1;33m)\u001b[0m\u001b[1;33m\u001b[0m\u001b[1;33m\u001b[0m\u001b[0m\n\u001b[0m\u001b[0;32m     27\u001b[0m \u001b[1;33m\u001b[0m\u001b[0m\n\u001b[0;32m     28\u001b[0m \u001b[1;33m\u001b[0m\u001b[0m\n",
      "\u001b[1;31mIndexError\u001b[0m: tuple index out of range"
     ]
    }
   ],
   "source": [
    "# 성적 프로그램을 입력 , 처리 , 출력 함수를 이용해서 구현하세요\n",
    "# 이름 , 국어 , 영어 , 수학 , 총점 , 평균\n",
    "\n",
    "grade = []  # 전역적으로 선언하고 구현\n",
    "\n",
    "def scoreinput():\n",
    "    name = input(\"이름을 입력하세요.\")\n",
    "    kor = int(input(\"국어 점수를 입력하세요.\"))\n",
    "    eng = int(input(\"영어 점수를 입력하세요.\"))\n",
    "    math = int(input(\"수학 점수를 입력하세요.\"))\n",
    "    grade.append(name)\n",
    "    grade.append(kor)\n",
    "    grade.append(eng)\n",
    "    grade.append(math)\n",
    "    return grade\n",
    "\n",
    "def totalscore():\n",
    "    grade = scoreinput()\n",
    "    total = grade[1] + grade[2] + grade[3]\n",
    "    grade.append(total)\n",
    "    grade.append(total/3)\n",
    "    return grade\n",
    "\n",
    "def main() :\n",
    "    grade = totalscore()\n",
    "    print(\"국어 : {0}\\n영어 : {1}\\n수학 : {2}\\n총점 : {3}\\n평균 : {4}\".format(grade[1],grade[2],grade[3],grade[4],grade[5]))\n",
    "    \n",
    "\n",
    "\n",
    "main()"
   ]
  },
  {
   "cell_type": "code",
   "execution_count": 35,
   "metadata": {},
   "outputs": [
    {
     "data": {
      "text/plain": [
       "'1,2,3'"
      ]
     },
     "execution_count": 35,
     "metadata": {},
     "output_type": "execute_result"
    }
   ],
   "source": [
    "a = [1,2,3]\n",
    "\"{0},{1},{2}\".format(a[0],a[1],a[2])"
   ]
  },
  {
   "cell_type": "code",
   "execution_count": 42,
   "metadata": {},
   "outputs": [
    {
     "data": {
      "text/plain": [
       "['1', 1, 1, 1, 3, 1.0]"
      ]
     },
     "execution_count": 42,
     "metadata": {},
     "output_type": "execute_result"
    }
   ],
   "source": [
    "a = lambda x : [i  for i in x]\n",
    "b = [1,2,3]\n",
    "a(grade)"
   ]
  },
  {
   "cell_type": "code",
   "execution_count": 46,
   "metadata": {},
   "outputs": [
    {
     "data": {
      "text/plain": [
       "'국어 : 1\\n영어 : 1\\n수학 : 1\\n총점 : 3\\n평균 : 1.0'"
      ]
     },
     "execution_count": 46,
     "metadata": {},
     "output_type": "execute_result"
    }
   ],
   "source": [
    "\"국어 : {0}\\n영어 : {1}\\n수학 : {2}\\n총점 : {3}\\n평균 : {4}\".format(grade[1],grade[2],grade[3],grade[4],grade[5])"
   ]
  },
  {
   "cell_type": "code",
   "execution_count": 49,
   "metadata": {},
   "outputs": [
    {
     "ename": "IndexError",
     "evalue": "tuple index out of range",
     "output_type": "error",
     "traceback": [
      "\u001b[1;31m---------------------------------------------------------------------------\u001b[0m",
      "\u001b[1;31mIndexError\u001b[0m                                Traceback (most recent call last)",
      "\u001b[1;32m<ipython-input-49-3769ee15c9d5>\u001b[0m in \u001b[0;36m<module>\u001b[1;34m\u001b[0m\n\u001b[0;32m      1\u001b[0m \u001b[0mb\u001b[0m \u001b[1;33m=\u001b[0m \u001b[1;33m[\u001b[0m\u001b[1;36m1\u001b[0m\u001b[1;33m,\u001b[0m\u001b[1;36m2\u001b[0m\u001b[1;33m,\u001b[0m\u001b[1;36m3\u001b[0m\u001b[1;33m,\u001b[0m\u001b[1;36m4\u001b[0m\u001b[1;33m,\u001b[0m\u001b[1;36m5\u001b[0m\u001b[1;33m]\u001b[0m\u001b[1;33m\u001b[0m\u001b[1;33m\u001b[0m\u001b[0m\n\u001b[1;32m----> 2\u001b[1;33m \u001b[1;34m\"국어 : {0}\\n영어 : {1}\\n수학 : {2}\\n총점 : {3}\\n평균 : {4}\"\u001b[0m\u001b[1;33m.\u001b[0m\u001b[0mformat\u001b[0m\u001b[1;33m(\u001b[0m\u001b[0ma\u001b[0m\u001b[1;33m(\u001b[0m\u001b[0mb\u001b[0m\u001b[1;33m)\u001b[0m\u001b[1;33m)\u001b[0m\u001b[1;33m\u001b[0m\u001b[1;33m\u001b[0m\u001b[0m\n\u001b[0m",
      "\u001b[1;31mIndexError\u001b[0m: tuple index out of range"
     ]
    }
   ],
   "source": [
    "b = [1,2,3,4,5]\n",
    "\"국어 : {0}\\n영어 : {1}\\n수학 : {2}\\n총점 : {3}\\n평균 : {4}\".format(a(b))"
   ]
  },
  {
   "cell_type": "code",
   "execution_count": null,
   "metadata": {},
   "outputs": [],
   "source": []
  }
 ],
 "metadata": {
  "kernelspec": {
   "display_name": "Python 3",
   "language": "python",
   "name": "python3"
  },
  "language_info": {
   "codemirror_mode": {
    "name": "ipython",
    "version": 3
   },
   "file_extension": ".py",
   "mimetype": "text/x-python",
   "name": "python",
   "nbconvert_exporter": "python",
   "pygments_lexer": "ipython3",
   "version": "3.7.4"
  }
 },
 "nbformat": 4,
 "nbformat_minor": 4
}
