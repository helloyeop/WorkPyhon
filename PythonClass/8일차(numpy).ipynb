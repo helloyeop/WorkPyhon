{
 "cells": [
  {
   "cell_type": "code",
   "execution_count": 2,
   "metadata": {},
   "outputs": [
    {
     "name": "stdout",
     "output_type": "stream",
     "text": [
      "1.16.5\n",
      "type:<class 'numpy.ndarray'>\n",
      "shape:(3,), dimension: 1, dtype: int32\n",
      "Array's Data:\n",
      " [1 2 3]\n",
      "type:<class 'numpy.ndarray'>\n",
      "shape:(3,), dimension: 1, dtype: int32\n",
      "Array's Data:\n",
      " [1 2 3]\n"
     ]
    }
   ],
   "source": [
    "import matplotlib  # 시각화 패키지\n",
    "import numpy as np  # 별칭 class\n",
    "print(np.__version__) # 상위 object가 가지고 있는 속성( __함수__)\n",
    "def pprint(arr):   # ndarray : numpy의 기본 데이터 배열 \n",
    "    print(\"type:{}\".format(type(arr)))\n",
    "    print(\"shape:{}, dimension: {}, dtype: {}\".format(arr.shape, arr.ndim, arr.dtype))\n",
    "    print(\"Array's Data:\\n\", arr)\n",
    "    # 숫자의 default 타입 : int32형\n",
    "arr = [1,2,3] # 리스트\n",
    "a = np.array([1,2,3])   #ndarray 생성함수 ( 매개변수 : 리스트 )\n",
    "pprint(a)\n",
    "\n",
    "arr = [1.0,2.0,3.0]\n",
    "b = np.array([1,2,3])\n",
    "pprint(b)\n"
   ]
  },
  {
   "cell_type": "code",
   "execution_count": 5,
   "metadata": {},
   "outputs": [
    {
     "name": "stdout",
     "output_type": "stream",
     "text": [
      "1745568620096\n",
      "10\n",
      "[0. 1. 2. 3. 4. 5. 6. 7. 8. 9.]\n",
      "40\n"
     ]
    },
    {
     "data": {
      "text/plain": [
       "array([ 0,  1,  2,  3,  4,  5,  6,  7,  8,  9, 10, 11, 12, 13, 14, 15, 16,\n",
       "       17, 18, 19, 20, 21, 22, 23, 24, 25, 26, 27, 28, 29, 30, 31, 32, 33,\n",
       "       34, 35, 36, 37, 38, 39, 40, 41, 42, 43, 44, 45, 46, 47, 48, 49, 50,\n",
       "       51, 52, 53, 54, 55, 56, 57, 58, 59, 60, 61, 62, 63, 64, 65, 66, 67,\n",
       "       68, 69, 70, 71, 72, 73, 74, 75, 76, 77, 78, 79, 80, 81, 82, 83, 84,\n",
       "       85, 86, 87, 88, 89, 90, 91, 92, 93, 94, 95, 96, 97, 98, 99])"
      ]
     },
     "execution_count": 5,
     "metadata": {},
     "output_type": "execute_result"
    }
   ],
   "source": [
    "# 인스턴스 상태\n",
    "a = np.array([0,1,2,3,4,5,6,7,8,9])  #ndarray 생성\n",
    "print(id(a))  # 주소값 확인\n",
    "print(a.size)  # 데이터 개수\n",
    "print(a.astype(np.float32))  # astype : 데이터 타입 변경 , numpy : 행중심, 동질적 데이터\n",
    "print(a.dtype.itemsize*a.size)  #  전체 메모리 사이즈 ( 바이트 ) \n",
    "# iterator     for in range => list 생성\n",
    "a = np.arange(100)  # arange => ndarray 생성\n",
    "a"
   ]
  },
  {
   "cell_type": "code",
   "execution_count": 52,
   "metadata": {},
   "outputs": [
    {
     "name": "stdout",
     "output_type": "stream",
     "text": [
      "[[0. 0. 0. 0.]\n",
      " [0. 0. 0. 0.]\n",
      " [0. 0. 0. 0.]]\n",
      "[[[1 1 1 1]\n",
      "  [1 1 1 1]\n",
      "  [1 1 1 1]]\n",
      "\n",
      " [[1 1 1 1]\n",
      "  [1 1 1 1]\n",
      "  [1 1 1 1]]]\n",
      "[[7 7]\n",
      " [7 7]]\n",
      "[[1. 0. 0. 0.]\n",
      " [0. 1. 0. 0.]\n",
      " [0. 0. 1. 0.]\n",
      " [0. 0. 0. 1.]]\n",
      "[[4.24399158e-313 1.69759663e-313]\n",
      " [4.88059032e-313 2.33419537e-313]\n",
      " [4.45619116e-313 1.90979621e-313]\n",
      " [4.66839074e-313 2.12199579e-313]]\n"
     ]
    }
   ],
   "source": [
    "print(np.zeros((3,4)))\n",
    "print(np.ones((2,3,4), dtype = np.int16))  # 3차원 :  2면, 3행 , 4열\n",
    "print(np.full((2,2),7))\n",
    "print(np.eye(4))       # 대각행렬 identity 행렬연산에서 항등원 \n",
    "print(np.empty((4,2)))   # 쓰레기값 ( 데이터를 지우면 주소를 지우는 것, 메모리에는 쓰레기값으로 남아 있음 )"
   ]
  },
  {
   "cell_type": "code",
   "execution_count": 14,
   "metadata": {},
   "outputs": [
    {
     "name": "stdout",
     "output_type": "stream",
     "text": [
      "[ 0 10 20 30 40 50 60 70 80 90]\n",
      "[1, 5, -1]\n",
      "[ 0 10 20 30 40 50 60 70 80 90]\n",
      "[10 50 90]\n",
      "[10 50 90]\n",
      "[10]\n"
     ]
    }
   ],
   "source": [
    "a = np.arange(0,100,10)\n",
    "print(a)\n",
    "\n",
    "indices = [1, 5 , -1] # 리스트\n",
    "print(indices)\n",
    "b = a[indices]  #a[1,5,-1]   # 리스트를 첨자로 사용 \n",
    "print(a)\n",
    "print(b)\n",
    "c = a[[1,5,-1]]\n",
    "print(c)\n",
    "\n"
   ]
  },
  {
   "cell_type": "code",
   "execution_count": 21,
   "metadata": {},
   "outputs": [
    {
     "name": "stdout",
     "output_type": "stream",
     "text": [
      "[11 12 13 14 15 16 17 18 19 20 21 22 23 24 25 26 27 28 29 30 31 32 33 34\n",
      " 35]\n",
      "[[11 12 13 14 15]\n",
      " [16 17 18 19 20]\n",
      " [21 22 23 24 25]\n",
      " [26 27 28 29 30]\n",
      " [31 32 33 34 35]]\n",
      "<class 'numpy.ndarray'>\n",
      "int32\n",
      "25\n",
      "(5, 5)\n",
      "2\n",
      "100\n",
      "(20, 4)\n"
     ]
    }
   ],
   "source": [
    "a = np.arange(11, 36)  #1차원 생성\n",
    "print(a)\n",
    "a.shape=(5,5)\n",
    "print(a)\n",
    "print(type(a))\n",
    "print(a.dtype)  # ndarray의 속성\n",
    "print(a.size)   # 크기\n",
    "print(a.shape)  # 차수 (5,5)\n",
    "print(a.ndim)   # 차원 : 2차원\n",
    "print(a.nbytes) # 100바이트  == 25 * 4byte\n",
    "print(a.strides) # (20,4)  == ( 다음 열의 데이터는 몇 바이트를 건너뛰어야 하는가 , 다음 행은 몇 바이트를 건너뛰어야 하는가 )\n",
    "                                 \n",
    "\n",
    "\n",
    "#a = np.arange(11, 35)  #개수가 안맞아서 오류가 나옴 ( 5 * 5 = 25 )\n",
    "#print(a)\n",
    "#a.shape=(5,5)\n",
    "#print(a)\n",
    "#print(type(a))\n",
    "\n"
   ]
  },
  {
   "cell_type": "code",
   "execution_count": 24,
   "metadata": {},
   "outputs": [
    {
     "name": "stdout",
     "output_type": "stream",
     "text": [
      "<class 'numpy.ndarray'>\n",
      "int32\n",
      "[0 1 2 3 4 5 6 7 8 9]\n",
      "5\n",
      "[5 6 7]\n",
      "[ 0  1  2  3  4 12 12 12  8  9]\n",
      "[ 1  2  3  4 12]\n"
     ]
    }
   ],
   "source": [
    "arr = np.arange(10)\n",
    "print(type(arr))\n",
    "print(arr.dtype)\n",
    "print(arr)\n",
    "print(arr[5])\n",
    "print(arr[5:8])  # 마지막은 포함하지 않는다\n",
    "arr[5:8] = 12  # 데이터 update\n",
    "print(arr)\n",
    "print(arr[1:6])"
   ]
  },
  {
   "cell_type": "code",
   "execution_count": 27,
   "metadata": {},
   "outputs": [
    {
     "name": "stdout",
     "output_type": "stream",
     "text": [
      "[[1 2 3]\n",
      " [4 5 6]\n",
      " [7 8 9]]\n",
      "[1 2 3]\n",
      "3\n",
      "3\n",
      "[[1 2 3]\n",
      " [4 5 6]]\n",
      "[[2 3]\n",
      " [5 6]]\n",
      "[4 5]\n",
      "[7]\n",
      "[[0 2 3]\n",
      " [0 5 6]\n",
      " [7 8 9]]\n"
     ]
    }
   ],
   "source": [
    "# numpy에서는 첨자를 생락할 수 없음 (,:1) 표현 불가  * 모든행 :로 표시 ex) (:,2)\n",
    "arr2d = np.array([[1,2,3], [4,5,6], [7,8,9]])\n",
    "print(arr2d)  \n",
    "print(arr2d[0])  #행우선 : 행\n",
    "print(arr2d[0][2]) \n",
    "print(arr2d[0,2])\n",
    "print(arr2d[:2]) # 0, 1행\n",
    "print(arr2d[:2,1:])\n",
    "print(arr2d[1,:2])\n",
    "print(arr2d[2,:1])\n",
    "arr2d[:2,:1] = 0\n",
    "arr2d[:2,:1] = 0\n",
    "print(arr2d)"
   ]
  },
  {
   "cell_type": "code",
   "execution_count": 28,
   "metadata": {},
   "outputs": [
    {
     "name": "stdout",
     "output_type": "stream",
     "text": [
      "스트라이드의 값 (160, 40, 8)\n"
     ]
    }
   ],
   "source": [
    "# 실제 저장은 메모리상에 일렬로 저장됨 . 사람이 데이터를 다루는 것은 입체로.\n",
    "# 행렬연산에서 앞의 행렬열수와 뒤의 행렬 행수를 일치 시켜야 행렬곱이 가능\n",
    "print(\"스트라이드의 값\", np.ones((3,4,5), dtype = np.float64).strides)\n",
    "# (160, 40 ,8)  : 단일데이터 float64 = 8바이트  / 한 행 5 * 8 = 40  / 다음 면 5열 *8행 *8 바이트 = 160"
   ]
  },
  {
   "cell_type": "code",
   "execution_count": 40,
   "metadata": {},
   "outputs": [
    {
     "name": "stdout",
     "output_type": "stream",
     "text": [
      "[[[ 1  2  3]\n",
      "  [ 4  5  6]]\n",
      "\n",
      " [[ 7  8  9]\n",
      "  [10 11 12]]]\n",
      "첫 면은  [[1 2 3]\n",
      " [4 5 6]]\n",
      "첫 면 첫 행은  [1 2 3]\n",
      "첫 면 첫행 첫 요소는  1\n",
      "8\n",
      "12\n"
     ]
    }
   ],
   "source": [
    "# 문제\n",
    "arr3d = np.array([[[1,2,3],[4,5,6]],[[7,8,9],[10,11,12]]])  # (2,2,3)\n",
    "print(arr3d)\n",
    "print(\"첫 면은 \",arr3d[0])\n",
    "print(\"첫 면 첫 행은 \", arr3d[0][0])\n",
    "print(\"첫 면 첫행 첫 요소는 \", arr3d[0,0,0]) #== arr3d[0][0][0]\n",
    "#8 출력\n",
    "print(arr3d[1,0,1])\n",
    "#12 출력\n",
    "print(arr3d[1,1,2])"
   ]
  },
  {
   "cell_type": "code",
   "execution_count": 45,
   "metadata": {},
   "outputs": [
    {
     "name": "stdout",
     "output_type": "stream",
     "text": [
      "값의 변경 후\n",
      "[[[42 42 42]\n",
      "  [42 42 42]]\n",
      "\n",
      " [[ 7  8  9]\n",
      "  [10 11 12]]]\n",
      "이전 값으로 복구\n",
      "[[[42 42 42]\n",
      "  [42 42 42]]\n",
      "\n",
      " [[ 7  8  9]\n",
      "  [10 11 12]]]\n",
      "값의 변경 후\n",
      "[[[42 42 42]\n",
      "  [42 42 42]]\n",
      "\n",
      " [[42 42 42]\n",
      "  [42 42 42]]]\n",
      "이전 값으로 복구\n",
      "[[[42 42 42]\n",
      "  [42 42 42]]\n",
      "\n",
      " [[ 7  8  9]\n",
      "  [10 11 12]]]\n"
     ]
    }
   ],
   "source": [
    "# 백업이 안됨 : 대입하면 같은 주소를 가리키기 때문에 값을 바꾸면 데이터가 바뀜\n",
    "old_values = arr3d  # 대입  : 주소를 복사 \n",
    "arr3d[0] = 42       \n",
    "print(\"값의 변경 후\")\n",
    "print(arr3d)\n",
    "print(\"이전 값으로 복구\")\n",
    "arr3d = old_values\n",
    "print(arr3d)  # ==> 원본이 사라짐\n",
    "\n",
    "\n",
    "# copy 함수로 복사\n",
    "old_values = arr3d.copy()\n",
    "arr3d[1] = 42\n",
    "print(\"값의 변경 후\")\n",
    "print(arr3d)\n",
    "print(\"이전 값으로 복구\")\n",
    "arr3d = old_values\n",
    "print(arr3d)"
   ]
  },
  {
   "cell_type": "code",
   "execution_count": 48,
   "metadata": {},
   "outputs": [
    {
     "name": "stdout",
     "output_type": "stream",
     "text": [
      "[ 0  1  2  3  4  5  6  7  8  9 10 11 12 13 14 15 16 17 18 19 20 21 22 23\n",
      " 24 25 26 27 28 29 30 31 32 33 34 35]\n",
      "[[ 0  1  2  3  4  5]\n",
      " [ 6  7  8  9 10 11]\n",
      " [12 13 14 15 16 17]\n",
      " [18 19 20 21 22 23]\n",
      " [24 25 26 27 28 29]\n",
      " [30 31 32 33 34 35]]\n",
      "[[[ 0  1  2  3  4  5]\n",
      "  [ 6  7  8  9 10 11]\n",
      "  [12 13 14 15 16 17]]\n",
      "\n",
      " [[18 19 20 21 22 23]\n",
      "  [24 25 26 27 28 29]\n",
      "  [30 31 32 33 34 35]]]\n"
     ]
    }
   ],
   "source": [
    "Z = np.arange(36)\n",
    "print(Z)\n",
    "Z = Z.reshape((6,6))\n",
    "print(Z)\n",
    "reshape2 = Z.reshape((2,3,6))\n",
    "print(reshape2)"
   ]
  },
  {
   "cell_type": "code",
   "execution_count": 54,
   "metadata": {},
   "outputs": [
    {
     "name": "stdout",
     "output_type": "stream",
     "text": [
      "[[ 0  1  2  3]\n",
      " [ 4  5  6  7]\n",
      " [ 8  9 10 11]\n",
      " [12 13 14 15]\n",
      " [16 17 18 19]\n",
      " [20 21 22 23]\n",
      " [24 25 26 27]\n",
      " [28 29 30 31]]\n",
      "================\n",
      "[[ 4  5  6  7]\n",
      " [20 21 22 23]\n",
      " [28 29 30 31]\n",
      " [ 8  9 10 11]]\n",
      "================\n",
      "[[28 29 30 31]\n",
      " [12 13 14 15]\n",
      " [ 4  5  6  7]\n",
      " [24 25 26 27]]\n",
      "================\n",
      "[[ 4  5  6  7]\n",
      " [20 21 22 23]\n",
      " [28 29 30 31]\n",
      " [ 8  9 10 11]]\n",
      "================\n",
      "[[ 4  7  5  6]\n",
      " [20 23 21 22]\n",
      " [28 31 29 30]\n",
      " [ 8 11  9 10]]\n"
     ]
    }
   ],
   "source": [
    "arr = np.arange(32).reshape((8,4))\n",
    "print(arr)\n",
    "print(\"================\")\n",
    "print(arr[[1,5,7,2]])  # 행중심 \n",
    "print(\"================\") \n",
    "print(arr[[-1,-5,-7,-2]]) # 거꾸로 인덱싱\n",
    "print(\"================\")\n",
    "print(arr[[1,5,7,2],[0,3,1,2]]) #1행 0열 / 5행 3열 ....\n",
    "print(\"================\")\n",
    "# fancy 인덱싱\n",
    "print(arr[[1,5,7,2]][:,[0,1,2,3]])\n",
    "print(\"================\")\n",
    "print(arr[[1,5,7,2]][:,[0,3,1,2]])"
   ]
  },
  {
   "cell_type": "code",
   "execution_count": 74,
   "metadata": {},
   "outputs": [
    {
     "name": "stdout",
     "output_type": "stream",
     "text": [
      "[[0, 1, 2, 3, 4, 5], [10, 11, 12, 13, 14, 15], [20, 21, 22, 23, 24, 25], [30, 31, 32, 33, 34, 35], [40, 41, 42, 43, 44, 45], [50, 51, 52, 53, 54, 55]]\n",
      "================\n",
      "[[ 0  1  2  3  4  5]\n",
      " [10 11 12 13 14 15]\n",
      " [20 21 22 23 24 25]\n",
      " [30 31 32 33 34 35]\n",
      " [40 41 42 43 44 45]\n",
      " [50 51 52 53 54 55]]\n",
      "================\n",
      "[ 2 22 52]\n",
      "================\n",
      "[ 1 12 23 34 45]\n",
      "================\n",
      "[[30 31 32 33 34 35]\n",
      " [40 41 42 43 44 45]\n",
      " [50 51 52 53 54 55]]\n",
      "================\n",
      "[[30 32 35]\n",
      " [40 42 45]\n",
      " [50 52 55]]\n"
     ]
    }
   ],
   "source": [
    "arr = []\n",
    "for i in range(6) :\n",
    "    ad = []\n",
    "    for j in range(6):\n",
    "        ad.append(i*10 + j)\n",
    "    arr.append(ad)\n",
    "print(arr)\n",
    "print(\"================\")\n",
    "arr = np.array(arr)\n",
    "print(arr)\n",
    "print(\"================\")\n",
    "\n",
    "print(arr[[0,2,5],[2]])\n",
    "print(\"================\")\n",
    "\n",
    "print(arr[[0,1,2,3,4],[1,2,3,4,5]])\n",
    "print(\"================\")\n",
    "\n",
    "print(arr[[3,4,5]])\n",
    "print(\"================\")\n",
    "\n",
    "print(arr[[3,4,5]][:,[0,2,5]])"
   ]
  },
  {
   "cell_type": "code",
   "execution_count": 90,
   "metadata": {},
   "outputs": [
    {
     "name": "stdout",
     "output_type": "stream",
     "text": [
      "[3 4]\n",
      "[ 2 12 22 32 42 52]\n",
      "[[20 22 24]\n",
      " [40 42 44]]\n",
      "[[44 45]\n",
      " [54 55]]\n"
     ]
    }
   ],
   "source": [
    "print(arr[[0],[3,4]])\n",
    "print(arr[[0,1,2,3,4,5],2]) # == print(arr[:,2])\n",
    "print(arr[[2,4]][:,[0,2,4]])\n",
    "print(arr[[4,5]][:,[4,5]])"
   ]
  },
  {
   "cell_type": "code",
   "execution_count": 99,
   "metadata": {},
   "outputs": [
    {
     "name": "stdout",
     "output_type": "stream",
     "text": [
      "[[ 1  2  3]\n",
      " [ 4  5  6]\n",
      " [ 7  8  9]\n",
      " [10 11 12]]\n",
      "타일출력\n",
      "==========\n",
      "[[1 0 1]\n",
      " [1 0 1]\n",
      " [1 0 1]\n",
      " [1 0 1]]\n",
      "==========\n",
      "[[ 2  2  4]\n",
      " [ 5  5  7]\n",
      " [ 8  8 10]\n",
      " [11 11 13]]\n",
      "==========\n",
      "[[ 2  2  4]\n",
      " [ 5  5  7]\n",
      " [ 8  8 10]\n",
      " [11 11 13]]\n",
      "==========\n",
      "[[ 4  5  6]\n",
      " [ 7  8  9]\n",
      " [10 11 12]\n",
      " [13 14 15]]\n"
     ]
    }
   ],
   "source": [
    "x = np.array([[1,2,3], [4,5,6], [7,8,9], [10,11,12]])  # 4 x 3\n",
    "print(x)\n",
    "v = np.array([1, 0, 1])\n",
    "print(\"타일출력\")\n",
    "print(\"==========\")\n",
    "vv = np.tile(v, (4, 1))  # v를 행으로 4번 , 열로 1번 복사\n",
    "print(vv)\n",
    "print(\"==========\")\n",
    "y = x + vv            # 4x3 배열연산 => 요소별 연산\n",
    "print(y)\n",
    "print(\"==========\")\n",
    "#배열 연산은 양쪽 차원이 일치해야함 \n",
    "print(x+v)          # 4x3, 1x3  => broadcasting  자동으로 4개의 행을 만들고 더함\n",
    "print(\"==========\")\n",
    "print(x+3)"
   ]
  },
  {
   "cell_type": "code",
   "execution_count": 103,
   "metadata": {},
   "outputs": [
    {
     "name": "stdout",
     "output_type": "stream",
     "text": [
      "[[0 1]\n",
      " [2 3]\n",
      " [4 5]]\n",
      "[[0 2 4]\n",
      " [1 3 5]]\n",
      "=========\n",
      "[[ 1  3  5]\n",
      " [ 3 13 23]\n",
      " [ 5 23 41]]\n",
      "=========\n",
      "[[20 26]\n",
      " [26 35]]\n"
     ]
    }
   ],
   "source": [
    "x = np.arange(6).reshape((3,2))\n",
    "print(x)\n",
    "# 거듭제곱 ( 행열곱 )   :  x@x로 표현\n",
    "# 앞의 행렬 열수와 뒤의 행렬의 행수가 일치해야함\n",
    "#x@x  -> 오류\n",
    "\n",
    "#전치 행렬\n",
    "#행, 열을 바꿈\n",
    "print(x.T)\n",
    "print(\"=========\")\n",
    "print(x@x.T)  # 3x2 @ 2x3  ==> 3x3\n",
    "print(\"=========\")\n",
    "print(x.T@x)  # 2x3 @ 3x2  = => 2x2"
   ]
  },
  {
   "cell_type": "code",
   "execution_count": 107,
   "metadata": {},
   "outputs": [
    {
     "name": "stdout",
     "output_type": "stream",
     "text": [
      "[[[ 0  1  2  3]\n",
      "  [ 4  5  6  7]\n",
      "  [ 8  9 10 11]]\n",
      "\n",
      " [[12 13 14 15]\n",
      "  [16 17 18 19]\n",
      "  [20 21 22 23]]]\n",
      "====================\n",
      "[[[ 0  1  2  3]\n",
      "  [12 13 14 15]]\n",
      "\n",
      " [[ 4  5  6  7]\n",
      "  [16 17 18 19]]\n",
      "\n",
      " [[ 8  9 10 11]\n",
      "  [20 21 22 23]]]\n",
      "====================\n",
      "[[[ 0  4  8]\n",
      "  [ 1  5  9]\n",
      "  [ 2  6 10]\n",
      "  [ 3  7 11]]\n",
      "\n",
      " [[12 16 20]\n",
      "  [13 17 21]\n",
      "  [14 18 22]\n",
      "  [15 19 23]]]\n"
     ]
    }
   ],
   "source": [
    "arr = np.arange(24).reshape((2,3,4))  # 2 x 3 x 4\n",
    "print(arr)\n",
    "print(\"====================\")\n",
    "print(arr.transpose((1,0,2)))  # 3 x 2 x 4   # reshape의 순서를 바꾸는 것\n",
    "print(\"====================\")\n",
    "print(arr.transpose((0,2,1)))  # 2 x 4 x 3"
   ]
  },
  {
   "cell_type": "code",
   "execution_count": 114,
   "metadata": {},
   "outputs": [
    {
     "name": "stdout",
     "output_type": "stream",
     "text": [
      "[[-1.24570006  0.6650896   0.25573338  0.12042048]\n",
      " [ 0.63076374  0.68793789 -2.07268781 -0.64010509]\n",
      " [ 0.85655303  0.78175889  0.76209351 -0.38384254]\n",
      " [-0.33601514 -0.00784156 -0.15593101  1.72923317]\n",
      " [ 0.95055066  0.01923973 -1.16147267 -0.43802184]\n",
      " [-0.4059219  -0.53592083  0.14123869  1.9299183 ]\n",
      " [-0.98131038  1.17257206 -0.47086933 -0.16103355]]\n",
      "==============================================\n",
      "[ True False False False False False False]\n",
      "==============================================\n",
      "[[-1.24570006  0.6650896   0.25573338  0.12042048]]\n",
      "==============================================\n",
      "[[0.25573338 0.12042048]]\n",
      "==============================================\n",
      "[0.12042048]\n",
      "==============================================\n",
      "[False  True  True  True  True  True  True]\n",
      "==============================================\n",
      "[False  True  True  True  True  True  True]\n",
      "==============================================\n",
      "[ True False  True False  True False False]\n",
      "==============================================\n",
      "[[-1.24570006  0.6650896   0.25573338  0.12042048]\n",
      " [ 0.85655303  0.78175889  0.76209351 -0.38384254]\n",
      " [ 0.95055066  0.01923973 -1.16147267 -0.43802184]]\n",
      "==============================================\n"
     ]
    }
   ],
   "source": [
    "#Boolean indexing\n",
    "\n",
    "names = np.array(['Seoul', 'Daejun', 'chungju', 'seoul', 'chungju', 'Daejun','Daejun'])\n",
    "data = np.random.randn(7,4)\n",
    "print(data)\n",
    "print(\"==============================================\")\n",
    "print(names == \"Seoul\")  # 1,0,0,0,0,0,0\n",
    "print(\"==============================================\")\n",
    "\n",
    "print(data[names =='Seoul'])  # data[1,0,0,0,0,0,0]\n",
    "print(\"==============================================\")\n",
    "\n",
    "print(data[names == 'Seoul', 2:])\n",
    "print(\"==============================================\")\n",
    "\n",
    "print(data[names == 'Seoul', 3])\n",
    "print(\"==============================================\")\n",
    "\n",
    "print(names !=\"Seoul\")\n",
    "print(\"==============================================\")\n",
    "\n",
    "print(~(names ==\"Seoul\"))\n",
    "print(\"==============================================\")\n",
    "\n",
    "mask = (names == 'Seoul') | (names == 'chungju')\n",
    "print(mask)\n",
    "print(\"==============================================\")\n",
    "print(data[mask])\n",
    "print(\"==============================================\")"
   ]
  },
  {
   "cell_type": "code",
   "execution_count": 126,
   "metadata": {},
   "outputs": [
    {
     "name": "stdout",
     "output_type": "stream",
     "text": [
      "<zip object at 0x000001966C124508>\n",
      "[(1.1, 2.1, True), (1.2, 2.2, False), (1.3, 2.3, True), (1.4, 2.4, True), (1.5, 2.5, False)]\n",
      "result =  [1.1, 2.2, 1.3, 1.4, 2.5]\n",
      "[1.1 2.2 1.3 1.4 2.5]\n",
      "[[ 1.40856511 -0.57231943 -1.24740522  0.27423102]\n",
      " [-1.70230574 -0.74981215 -1.09416372 -1.36201154]\n",
      " [-0.33994182  0.3333309  -0.96291261 -1.22563397]\n",
      " [-0.23616328  1.39981331 -0.55895198 -0.29524369]]\n",
      "[[ 2 -2 -2  2]\n",
      " [-2 -2 -2 -2]\n",
      " [-2  2 -2 -2]\n",
      " [-2  2 -2 -2]]\n"
     ]
    }
   ],
   "source": [
    "xarr = np.array([1.1, 1.2, 1.3, 1.4, 1.5])\n",
    "yarr = np.array([2.1, 2.2, 2.3, 2.4, 2.5])\n",
    "cond = np.array([True, False, True, True , False])\n",
    "print(zip(xarr, yarr, cond))  # 요소별(index)로 데이터를 묶어줌 \n",
    "print(list(zip(xarr, yarr, cond)))\n",
    "result = [(x if c else y) for x,y,c in zip(xarr, yarr, cond)]  # 삼항 연산자\n",
    "print(\"result = \", result)\n",
    "\n",
    "#== 같은 값\n",
    "result = np.where(cond, xarr, yarr)  # cond가 참이면 xarr/ 거짓이면 yarr\n",
    "print(result)\n",
    "\n",
    "arr = np.random.randn(4,4)\n",
    "print(arr)\n",
    "print(np.where(arr>0, 2, -2))"
   ]
  },
  {
   "cell_type": "code",
   "execution_count": 131,
   "metadata": {},
   "outputs": [
    {
     "name": "stdout",
     "output_type": "stream",
     "text": [
      "[ True False  True  True False False  True]\n",
      "[False  True  True  True False  True  True]\n"
     ]
    },
    {
     "data": {
      "text/plain": [
       "array([1, 2, 0, 0, 3, 2, 0])"
      ]
     },
     "execution_count": 131,
     "metadata": {},
     "output_type": "execute_result"
    }
   ],
   "source": [
    "# 문제 ) 다음 데이터를 이용하여 두개 다 참일 때는 0, cond1이 참일 때는 1, cond2가 참일때는\n",
    "# 2, 그외 일대는 3으로 처리하여 출력하시요\n",
    "result = []\n",
    "cond1 = np.array([1,0,1,1,0,0,1],dtype = bool)\n",
    "cond2 = np.array([0,1,1,1,0,1,1],dtype = bool)\n",
    "print(cond1)\n",
    "print(cond2)\n",
    "np.where(cond1,np.where(cond2,0,1),np.where(cond2,2,3))\n",
    "# np.where(cond1 & cond2, 0 , np.where(cond1, 1, np.where(cond2, 2,3)))\n"
   ]
  },
  {
   "cell_type": "code",
   "execution_count": 132,
   "metadata": {},
   "outputs": [],
   "source": [
    "x = np.arange(1,10001)\n",
    "y = np.arange(10001, 20001)\n",
    "\n",
    "z = np.zeros_like(x)  # x와 형태가 같은 사이즈로 초기화\n",
    "for i in range(10000) :\n",
    "    z[i] = x[i] + y[i]"
   ]
  },
  {
   "cell_type": "code",
   "execution_count": 134,
   "metadata": {},
   "outputs": [
    {
     "name": "stdout",
     "output_type": "stream",
     "text": [
      "False\n",
      "True\n",
      "[ 2.71828183  7.3890561  20.08553692 54.59815003]\n"
     ]
    }
   ],
   "source": [
    "a = np.array([1,2,3,4])\n",
    "b=  np.array([4,2,2,4])\n",
    "print(np.all(a == b))  # 전체가 참일 때 True\n",
    "print(np.any(a == b))  # 하나라도 참일 때 True\n",
    "print(np.exp(a))  # 지수함수 ( 자연대수 :2.718)"
   ]
  },
  {
   "cell_type": "code",
   "execution_count": null,
   "metadata": {},
   "outputs": [],
   "source": [
    "# 선형대수 : 선형으로 문제를 해결 => 비선형도 잘게 나누면 선형"
   ]
  },
  {
   "cell_type": "code",
   "execution_count": null,
   "metadata": {},
   "outputs": [],
   "source": [
    "# 행렬의 종류 \n",
    "# - 정방행렬 : 정사각형 ( 행과 열 수가 같음 )\n",
    "# - 대칭행렬 : 우상단과 좌하단이 같은 행렬 \n",
    "# - 대각행렬 : scale을 변화시키는 행렬\n",
    "# - 단위행렬( identity ) : 행렬곱의 항등원 # 행렬과 역행렬을 곱하면 단위행렬\n",
    "# - 역행렬 : 행렬의 나눗셈을 위해 구해서 곱해지는 행렬 ( 정방행렬만 가능 )\n",
    "# - 특이행렬 : 역행렬이 없는 행렬\n",
    "# - 직교행렬 : 축의 정직교, 각 축간의 내적이 0인 행렬\n",
    "# - 정방행렬이면서 대칭행렬 : 공분산행렬, 산관계수행렬, 거리행렬\n",
    "# - 공분산 : 두수간의 관계 ((한수-평균) * (다른수-평균)) / (n-1)\n",
    "# - 상관계수(표준화  -1 ~ 1) : 공분산 / 표준편차의 곱"
   ]
  },
  {
   "cell_type": "code",
   "execution_count": 136,
   "metadata": {},
   "outputs": [
    {
     "name": "stdout",
     "output_type": "stream",
     "text": [
      "[[1 2]\n",
      " [3 4]]\n",
      "============\n",
      "[[2 2]\n",
      " [2 2]]\n",
      "============\n",
      "[[3 4]\n",
      " [5 6]]\n",
      "============\n",
      "[[2 4]\n",
      " [6 8]]\n",
      "============\n",
      "[[ 6  6]\n",
      " [14 14]]\n"
     ]
    }
   ],
   "source": [
    "import numpy as np\n",
    "f1 = np.array([[1,2],[3,4]])\n",
    "f2 = np.array([[2,2],[2,2]])\n",
    "print(f1)\n",
    "print(\"============\")\n",
    "print(f2)\n",
    "print(\"============\")\n",
    "print( f1 + f2 )   # 요소끼리\n",
    "print(\"============\")\n",
    "print( f1 * f2)    # 요소끼리\n",
    "print(\"============\")\n",
    "print( f1 @ f2)    # 행렬곱(내적)\n"
   ]
  },
  {
   "cell_type": "code",
   "execution_count": 138,
   "metadata": {},
   "outputs": [
    {
     "name": "stdout",
     "output_type": "stream",
     "text": [
      "[[ 2  1 -2]\n",
      " [ 3  0  1]\n",
      " [ 1  1 -1]]\n",
      "[[-3]\n",
      " [ 5]\n",
      " [-2]]\n",
      "[[ 1.]\n",
      " [-1.]\n",
      " [ 2.]]\n"
     ]
    }
   ],
   "source": [
    "# 방정식의 해\n",
    "# 2x1 + x2 -2x3 = -3\n",
    "# 3x1 +     x3 = 5\n",
    "#  x1 + x2 - x3 = -2\n",
    "A =  np.array([[2,1,-2],[3,0,1],[1,1,-1]])\n",
    "print(A)\n",
    "b = np.transpose(np.a\n",
    "                 \n",
    "                 \n",
    "                 "
   ]
  },
  {
   "cell_type": "code",
   "execution_count": 139,
   "metadata": {},
   "outputs": [
    {
     "data": {
      "text/plain": [
       "array([[ 1.],\n",
       "       [-1.],\n",
       "       [ 2.]])"
      ]
     },
     "execution_count": 139,
     "metadata": {},
     "output_type": "execute_result"
    }
   ],
   "source": [
    "# x와 같은 식\n",
    "np.dot(np.linalg.inv(A),b)  #dot : 행렬곱\n",
    "np.linalg.inv(A)@b #inv : 역행렬 함수  ( 행렬은 나눗셈이 없기때문에 역행렬 곱하여 해결 )"
   ]
  },
  {
   "cell_type": "code",
   "execution_count": 140,
   "metadata": {},
   "outputs": [
    {
     "name": "stdout",
     "output_type": "stream",
     "text": [
      "0\n"
     ]
    }
   ],
   "source": [
    "a = np.array([0,1,0])\n",
    "b = np.array([1,0,0])\n",
    "res = np.dot(a,b)  # 내적 사이각 : 직각\n",
    "print(res)"
   ]
  },
  {
   "cell_type": "code",
   "execution_count": 142,
   "metadata": {},
   "outputs": [
    {
     "name": "stdout",
     "output_type": "stream",
     "text": [
      "1.0\n",
      "1.0\n",
      "1.0\n",
      "cos theta 0.0\n",
      "1.5707963267948966\n",
      "90.0\n"
     ]
    }
   ],
   "source": [
    "print(np.linalg.norm(a))  # 벡터의 크기\n",
    "print(np.linalg.norm(b))  \n",
    "print(np.linalg.norm(a) * np.linalg.norm(b))\n",
    "rad = res / (np.linalg.norm(a) * np.linalg.norm(b))   #cos(theta)값\n",
    "print(\"cos theta\" , rad)\n",
    "print(np.arccos(rad)) # theta 값(라디안)\n",
    "print(np.degrees(np.arccos(rad))) #각도(degree)"
   ]
  },
  {
   "cell_type": "code",
   "execution_count": 144,
   "metadata": {},
   "outputs": [
    {
     "name": "stdout",
     "output_type": "stream",
     "text": [
      "[[1 2]\n",
      " [3 4]]\n",
      "[[-2.   1. ]\n",
      " [ 1.5 -0.5]]\n",
      "[[1.00000000e+00 1.11022302e-16]\n",
      " [0.00000000e+00 1.00000000e+00]]\n"
     ]
    }
   ],
   "source": [
    "x = np.array([[1,2],[3,4]])\n",
    "y = np.linalg.inv(x)\n",
    "print(x)\n",
    "print(y)\n",
    "print(np.dot(x,y))"
   ]
  },
  {
   "cell_type": "code",
   "execution_count": 156,
   "metadata": {},
   "outputs": [
    {
     "name": "stdout",
     "output_type": "stream",
     "text": [
      "[[ 1  1  1]\n",
      " [ 0  2  5]\n",
      " [ 2  5 -1]]\n",
      "[[ 6]\n",
      " [-4]\n",
      " [27]]\n",
      "[[ 5.]\n",
      " [ 3.]\n",
      " [-2.]]\n",
      "6\n",
      "-4\n",
      "27\n"
     ]
    }
   ],
   "source": [
    "# 문제 : 다음 방정식의 해를 구하고 검산하세요\n",
    "# x   + y + z = 6\n",
    "#     2y + 5z = -4\n",
    "# 2x + 5y - z = 27\n",
    "\n",
    "A = np.array([[1,1,1],[0,2,5],[2,5,-1]])\n",
    "print(A)\n",
    "B = np.transpose(np.array([[6,-4,27]]))\n",
    "print(B)\n",
    "C = np.linalg.solve(A,B)\n",
    "C = np.dot(np.linalg.inv(A),B)\n",
    "C = np.linalg.inv(A)@B\n",
    "print(C)\n",
    "print(5 + 3 -2 )\n",
    "print(0 + 2*3 + (-2)*5)\n",
    "print(2*5 + 5*3 + 2)"
   ]
  },
  {
   "cell_type": "code",
   "execution_count": null,
   "metadata": {},
   "outputs": [],
   "source": []
  }
 ],
 "metadata": {
  "kernelspec": {
   "display_name": "Python 3",
   "language": "python",
   "name": "python3"
  },
  "language_info": {
   "codemirror_mode": {
    "name": "ipython",
    "version": 3
   },
   "file_extension": ".py",
   "mimetype": "text/x-python",
   "name": "python",
   "nbconvert_exporter": "python",
   "pygments_lexer": "ipython3",
   "version": "3.7.4"
  }
 },
 "nbformat": 4,
 "nbformat_minor": 4
}
