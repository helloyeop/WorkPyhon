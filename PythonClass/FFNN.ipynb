{
 "cells": [
  {
   "cell_type": "code",
   "execution_count": 3,
   "metadata": {},
   "outputs": [
    {
     "name": "stdout",
     "output_type": "stream",
     "text": [
      "1.14.0\n",
      "Tensor(\"Const_2:0\", shape=(), dtype=string)\n",
      "b'Hello, Tensorflow!'\n"
     ]
    }
   ],
   "source": [
    "import tensorflow as tf\n",
    "print(tf.__version__)\n",
    "hello = tf.constant(\"Hello, Tensorflow!\")\n",
    "# tensorflow     constant, variables, placeholder\n",
    "sess = tf.Session()\n",
    "print(hello) # tensorflow의 데이터는 직접 확인이 불가\n",
    "print(sess.run(hello)) # numpy데이터로 변경ㅌ ㅊ"
   ]
  },
  {
   "cell_type": "code",
   "execution_count": 4,
   "metadata": {},
   "outputs": [
    {
     "name": "stdout",
     "output_type": "stream",
     "text": [
      "<tf.Variable 'y:0' shape=() dtype=int32_ref>\n"
     ]
    }
   ],
   "source": [
    "\n",
    "\n",
    "x = tf.constant(35, name='x') \n",
    "# 이름을 주는 이유 : 1.모델의 그래프 구조에서 확인하기 위해서 \n",
    "#                   2. 모델을 그대로 저장할 때, 메모리 위치를 확인하기 위해서\n",
    "# 모델을 만들면 가중치가 메모리에 저장됨 -> 다음에 로딩할 때, 같은 위치에 저장된다는 보장 없음\n",
    "# -> name을 지정하여, 찾음\n",
    "\n",
    "y = tf.Variable(x+5, name = 'y') # 변수가 있는 경우 => 반드시 초기화 필요\n",
    "print(y)"
   ]
  },
  {
   "cell_type": "code",
   "execution_count": 5,
   "metadata": {},
   "outputs": [
    {
     "name": "stdout",
     "output_type": "stream",
     "text": [
      "40\n"
     ]
    }
   ],
   "source": [
    "model = tf.global_variables_initializer() # Variable 변수 초기화\n",
    "# 모델 만드는 과정 \n",
    "\n",
    "\n",
    "# 학습 과정\n",
    "with tf.Session() as session:  # with에서는 해당 작업이 끝나면 메모리에서 삭제됨\n",
    "    session.run(model)\n",
    "    print(session.run(y))"
   ]
  },
  {
   "cell_type": "code",
   "execution_count": 6,
   "metadata": {},
   "outputs": [
    {
     "name": "stdout",
     "output_type": "stream",
     "text": [
      "[5 7 9]\n"
     ]
    }
   ],
   "source": [
    "# pandas에서 데이터를 초기화 시킬 때, list나 dict 이용했음\n",
    "# tensorflow도 마찬가지\n",
    "\n",
    "a = tf.constant([1,2,3], name = 'a')  # GPU 공간에 데이터 저장( 지금은 CPU에 하는 중 )\n",
    "b = tf.constant([4,5,6], name = 'b')\n",
    "add_op = a+b\n",
    "\n",
    "with tf.Session() as session:\n",
    "    print(session.run(add_op))\n",
    "# ==> 배열연산( 요소끼리 더함 )"
   ]
  },
  {
   "cell_type": "code",
   "execution_count": 8,
   "metadata": {},
   "outputs": [],
   "source": [
    "\n",
    "a = tf.placeholder(tf.int16)   # 데이터없이 공간만 확보\n",
    "b = tf.placeholder(tf.int16)\n",
    "add = tf.add(a,b)\n",
    "mul = tf.multiply(a,b)\n",
    "total = tf.multiply(add,mul)\n",
    "# ==> 자료구조가 Graph로 구성됨  == 골격(구조) 형성"
   ]
  },
  {
   "cell_type": "code",
   "execution_count": 11,
   "metadata": {},
   "outputs": [
    {
     "name": "stdout",
     "output_type": "stream",
     "text": [
      "feed 변수곱: 30\n"
     ]
    }
   ],
   "source": [
    "with tf.Session() as sess:  # session 연결\n",
    "    #print(\"feed 변수합: %i\" % sess.run(add, feed_dict={a:2, b:3}))# 데이터 주입 호출\n",
    "    #print(\"feed 변수곱: %i\" % sess.run(mul, feed_dict={a:2, b:3}))\n",
    "    print(\"feed 변수곱: %i\" % sess.run(total, feed_dict={a:2, b:3})) \n",
    "    # add,mul을 호출하지 않아도 Graph로 연결되어 있기 때문에 자동으로 호출되고 계산됨"
   ]
  },
  {
   "cell_type": "code",
   "execution_count": 15,
   "metadata": {},
   "outputs": [
    {
     "name": "stdout",
     "output_type": "stream",
     "text": [
      "[ 2.  4.  6.  8. 10.]\n"
     ]
    }
   ],
   "source": [
    "#참고\n",
    "input_data = [1,2,3,4,5]\n",
    "\n",
    "x = tf.placeholder(dtype=tf.float32)\n",
    "\n",
    "y = x * 2\n",
    "\n",
    "\n",
    "sess = tf.Session()\n",
    "\n",
    "result = sess.run(y,feed_dict={x:input_data})\n",
    "\n",
    "\n",
    "print(result)"
   ]
  },
  {
   "cell_type": "code",
   "execution_count": 17,
   "metadata": {},
   "outputs": [
    {
     "name": "stdout",
     "output_type": "stream",
     "text": [
      "[ 2.  4.  6.  8. 10.]\n"
     ]
    }
   ],
   "source": [
    "#참고\n",
    "input_data = [1,2,3,4,5]\n",
    "\n",
    "x = tf.placeholder(dtype=tf.float32)\n",
    "\n",
    "W = tf.Variable([2],dtype=tf.float32)\n",
    "\n",
    "y = W*x\n",
    "\n",
    "\n",
    "sess = tf.Session()\n",
    "\n",
    "init = tf.global_variables_initializer()\n",
    "\n",
    "sess.run(init)\n",
    "\n",
    "result = sess.run(y,feed_dict={x:input_data})\n",
    "\n",
    "\n",
    "print(result)\n",
    "\n"
   ]
  },
  {
   "cell_type": "code",
   "execution_count": 18,
   "metadata": {},
   "outputs": [
    {
     "name": "stdout",
     "output_type": "stream",
     "text": [
      "[[12.]]\n"
     ]
    }
   ],
   "source": [
    "matrix1 = tf.constant([[3.,3.]]) # 1x2\n",
    "matrix2 = tf.constant([[2.],[2.]]) # 2x1\n",
    "product = tf.matmul(matrix1, matrix2)  #matmul = matrix multiply\n",
    "\n",
    "with tf.Session() as sess:  # 실행부\n",
    "    result = sess.run(product)\n",
    "    print(result)"
   ]
  },
  {
   "cell_type": "markdown",
   "metadata": {},
   "source": [
    "## 초기화"
   ]
  },
  {
   "cell_type": "code",
   "execution_count": 19,
   "metadata": {},
   "outputs": [],
   "source": [
    "\n",
    "\n",
    "zeros = tf.zeros([2,2])  # 모든 변수 0\n",
    "ones = tf.ones([6])  # 모든 변수 1\n",
    "# 균등분포\n",
    "uniform = tf.random_uniform([3,3,3], minval = 0.0, maxval = 10)\n",
    "# 정규분포\n",
    "normal = tf.random_normal([3,3,3], mean=0.0, stddev = 2.0)\n",
    "# 표준편차 2배수 내의 것으로 초기화\n",
    "trunc = tf.truncated_normal([2,2], mean = 5.0, stddev = 1.0)\n",
    "\n",
    "random_var  = tf.Variable(tf.truncated_normal([2,2]))"
   ]
  },
  {
   "cell_type": "code",
   "execution_count": 30,
   "metadata": {},
   "outputs": [
    {
     "name": "stdout",
     "output_type": "stream",
     "text": [
      "[[6.021582  4.951728 ]\n",
      " [3.1956623 4.134124 ]]\n",
      "변수초기화 [[-1.4484677 -1.1651886]\n",
      " [ 0.6684664  1.0616907]]\n"
     ]
    }
   ],
   "source": [
    "init = tf.global_variables_initializer()\n",
    "\n",
    "sess = tf.Session()\n",
    "sess.run(init)\n",
    "print(sess.run(trunc))\n",
    "print(\"변수초기화\", sess.run(random_var))"
   ]
  },
  {
   "cell_type": "code",
   "execution_count": 34,
   "metadata": {},
   "outputs": [
    {
     "name": "stdout",
     "output_type": "stream",
     "text": [
      "<class 'tensorflow.python.framework.tensor_shape.TensorShape'>\n",
      "(6, 2)\n",
      "[[0 0]\n",
      " [0 0]\n",
      " [0 0]\n",
      " [0 0]\n",
      " [0 0]\n",
      " [0 0]]\n",
      "(2, 6)\n",
      "[[0 0 0 0 0 0]\n",
      " [0 0 0 0 0 0]]\n"
     ]
    }
   ],
   "source": [
    "my_tensor = tf.constant(0, shape=[6,2])  # 6x2 행렬, 상수화\n",
    "my_static_shape = my_tensor.get_shape()\n",
    "print(type(my_static_shape)) # class\n",
    "print(my_static_shape) # shape는 run 사용없이 확인 가능\n",
    "print(sess.run(my_tensor))\n",
    "\n",
    "# 전치\n",
    "my_tensor_transposed = tf.transpose(my_tensor)\n",
    "print(my_tensor_transposed.get_shape())\n",
    "print(sess.run(my_tensor_transposed))"
   ]
  },
  {
   "cell_type": "code",
   "execution_count": null,
   "metadata": {},
   "outputs": [],
   "source": []
  },
  {
   "cell_type": "markdown",
   "metadata": {},
   "source": [
    "## 대화형 세션"
   ]
  },
  {
   "cell_type": "code",
   "execution_count": 38,
   "metadata": {},
   "outputs": [
    {
     "name": "stdout",
     "output_type": "stream",
     "text": [
      "[0. 0.]\n"
     ]
    }
   ],
   "source": [
    "tf.InteractiveSession()  # 대화형 세션\n",
    "tf.zeros(2)\n",
    "a = tf.zeros(2)\n",
    "print(a.eval())  # run"
   ]
  },
  {
   "cell_type": "code",
   "execution_count": 39,
   "metadata": {},
   "outputs": [],
   "source": [
    "def showvalue(t) :\n",
    "    sess = tf.InteractiveSession()\n",
    "    tf.global_variables_initializer().run() #chaining\n",
    "    print(t.eval())\n",
    "    sess.close()"
   ]
  },
  {
   "cell_type": "code",
   "execution_count": 44,
   "metadata": {},
   "outputs": [
    {
     "name": "stdout",
     "output_type": "stream",
     "text": [
      "[ 3.5 10.1]\n",
      "=======\n",
      "[-8  5 17]\n"
     ]
    }
   ],
   "source": [
    "c2, c3 = tf.constant([1.2,5.6]), tf.constant([-4, -1, 7])\n",
    "v2, v3 = tf.Variable([2.3,4.5]) , tf.Variable([-2,3,5])\n",
    "showvalue(tf.add_n([c2,v2]))  # 여러 개가 가능하도록 add_n 사용\n",
    "print(\"=======\")\n",
    "showvalue(tf.add_n([c3,v3,v3]))"
   ]
  },
  {
   "cell_type": "code",
   "execution_count": null,
   "metadata": {},
   "outputs": [],
   "source": []
  },
  {
   "cell_type": "markdown",
   "metadata": {},
   "source": [
    "## 다차방정식 계산"
   ]
  },
  {
   "cell_type": "code",
   "execution_count": 45,
   "metadata": {},
   "outputs": [],
   "source": [
    "# 2x + y + z = 1\n",
    "# 4x + 3y + 4z = 2\n",
    "# -4x + 2y + 2z = -6\n",
    "# A dot x = [1,2,-6]  # 행렬 나누기 => 역행렬\n",
    "#       y\n",
    "#       z"
   ]
  },
  {
   "cell_type": "code",
   "execution_count": 50,
   "metadata": {},
   "outputs": [
    {
     "name": "stdout",
     "output_type": "stream",
     "text": [
      "[[ 2.  1.  1.]\n",
      " [ 4.  3.  4.]\n",
      " [-4.  2.  2.]]\n",
      "[[ 1.]\n",
      " [ 2.]\n",
      " [-6.]]\n"
     ]
    }
   ],
   "source": [
    "sess =tf.Session()\n",
    "x = tf.constant([2.0, 1.0, 1.0,\n",
    "                 4, 3, 4,\n",
    "                 -4, 2, 2], shape = [3,3])\n",
    "print(sess.run(x))\n",
    "y = tf.constant([1.0,2,-6], shape=[3,1])\n",
    "print(sess.run(y))"
   ]
  },
  {
   "cell_type": "code",
   "execution_count": 55,
   "metadata": {},
   "outputs": [
    {
     "name": "stdout",
     "output_type": "stream",
     "text": [
      "계수 : \n",
      " [[ 1.0000001]\n",
      " [-2.0000002]\n",
      " [ 1.0000001]]\n",
      "[[ 1.0000001]\n",
      " [-2.0000002]\n",
      " [ 1.0000001]]\n",
      "[[ 1.0000001]\n",
      " [ 2.       ]\n",
      " [-6.000001 ]]\n"
     ]
    }
   ],
   "source": [
    "z = tf.matrix_solve(x,y)  # x의 역행렬을 구해서 y와 곱함\n",
    "result = sess.run(z)\n",
    "print(\"계수 : \\n\", result)\n",
    "print(sess.run(z))\n",
    "\n",
    "# 검산\n",
    "print(sess.run(tf.matmul(x,z)))"
   ]
  },
  {
   "cell_type": "code",
   "execution_count": 58,
   "metadata": {},
   "outputs": [
    {
     "name": "stdout",
     "output_type": "stream",
     "text": [
      "해 :  [[ 1.0000002]\n",
      " [-2.0000005]\n",
      " [ 1.0000002]]\n"
     ]
    }
   ],
   "source": [
    "x_1 = tf.matrix_inverse(x)  # x의 역행렬\n",
    "z = tf.matmul(x_1,y)  #x의 역행렬과 y의 행렬곱\n",
    "# matrix_solve와 같음\n",
    "\n",
    "print(\"해 : \",sess.run(z))"
   ]
  },
  {
   "cell_type": "code",
   "execution_count": 67,
   "metadata": {},
   "outputs": [
    {
     "name": "stdout",
     "output_type": "stream",
     "text": [
      "[9.508034   0.77286935]\n",
      "====\n",
      "[[-0.38631773 -0.92236584]\n",
      " [-0.92236584  0.38631773]]\n",
      "====\n",
      "[[-0.42866713  0.8059641 ]\n",
      " [-0.56630695  0.1123824 ]\n",
      " [-0.70394677 -0.58119917]]\n"
     ]
    }
   ],
   "source": [
    "# 특이행렬분해( singular value decomposition (SVD))\n",
    "# - 정방행렬이 아니라도 가능함\n",
    "\n",
    "# PCA할 때 - 고유값분해 eigenvalue + eigenvector : 정방행렬, \n",
    "\n",
    "\n",
    "a = tf.constant([1,2,3,4,5,6], shape = [2,3])\n",
    "a = tf.to_float(a)\n",
    "s, u, v = tf.svd(a)\n",
    "# s : sigula value\n",
    "# u : left singular value\n",
    "# v : right\n",
    "# 차수가 큰 순서대로 옴\n",
    "# 행과 열의 특징을 별도로 뽑음\n",
    "# truncate : \n",
    "# => u(2x2), s(1x2), v(3x2)\n",
    "print(sess.run(s))\n",
    "print(\"====\")\n",
    "print(sess.run(u))\n",
    "print(\"====\")\n",
    "print(sess.run(v))"
   ]
  },
  {
   "cell_type": "code",
   "execution_count": null,
   "metadata": {},
   "outputs": [],
   "source": []
  },
  {
   "cell_type": "code",
   "execution_count": null,
   "metadata": {},
   "outputs": [],
   "source": []
  },
  {
   "cell_type": "code",
   "execution_count": 64,
   "metadata": {},
   "outputs": [
    {
     "name": "stdout",
     "output_type": "stream",
     "text": [
      "[[1 0 0 0]\n",
      " [0 2 0 0]\n",
      " [0 0 3 0]\n",
      " [0 0 0 4]]\n"
     ]
    }
   ],
   "source": [
    "diagonal = [1,2,3,4]\n",
    "dia = tf.diag(diagonal)  # 대각행렬  one-hot-encoding에서 많이 사용\n",
    "print(sess.run(dia))"
   ]
  },
  {
   "cell_type": "code",
   "execution_count": 65,
   "metadata": {},
   "outputs": [
    {
     "name": "stdout",
     "output_type": "stream",
     "text": [
      "[1 2 3 4]\n",
      "10\n"
     ]
    }
   ],
   "source": [
    "print(sess.run(tf.diag_part(dia)))  # 대각선 요소만 뽑음\n",
    "print(sess.run(tf.trace(dia)))  # 대각선 요소의 합"
   ]
  },
  {
   "cell_type": "markdown",
   "metadata": {},
   "source": [
    "### 행렬곱"
   ]
  },
  {
   "cell_type": "code",
   "execution_count": 69,
   "metadata": {},
   "outputs": [
    {
     "name": "stdout",
     "output_type": "stream",
     "text": [
      "[[1 2 3]\n",
      " [4 5 6]]\n",
      "[[ 7  8]\n",
      " [ 9 10]\n",
      " [11 12]]\n"
     ]
    },
    {
     "data": {
      "text/plain": [
       "array([[ 58,  64],\n",
       "       [139, 154]])"
      ]
     },
     "execution_count": 69,
     "metadata": {},
     "output_type": "execute_result"
    }
   ],
   "source": [
    "import numpy as np\n",
    "a = tf.constant([1,2,3,4,5,6], shape=[2,3])\n",
    "b = tf.constant([7,8,9,10,11,12], shape= [3,2])\n",
    "c = tf.matmul(a,b)\n",
    "print(sess.run(a))\n",
    "print(sess.run(b))\n",
    "sess.run(c)"
   ]
  },
  {
   "cell_type": "code",
   "execution_count": 79,
   "metadata": {},
   "outputs": [
    {
     "name": "stdout",
     "output_type": "stream",
     "text": [
      "[[[ 1  2  3]\n",
      "  [ 4  5  6]]\n",
      "\n",
      " [[ 7  8  9]\n",
      "  [10 11 12]]]\n",
      "[[[13 14]\n",
      "  [15 16]\n",
      "  [17 18]]\n",
      "\n",
      " [[19 20]\n",
      "  [21 22]\n",
      "  [23 24]]]\n"
     ]
    },
    {
     "data": {
      "text/plain": [
       "array([[[ 94, 100],\n",
       "        [229, 244]],\n",
       "\n",
       "       [[508, 532],\n",
       "        [697, 730]]])"
      ]
     },
     "execution_count": 79,
     "metadata": {},
     "output_type": "execute_result"
    }
   ],
   "source": [
    "\n",
    "a = tf.constant(np.arange(1,13, dtype=np.int32),\n",
    "               shape = [2,2,3]) #행열을 중심하고 데이터를 표현\n",
    "print(sess.run(a))\n",
    "b = tf.constant(np.arange(13,25, dtype=np.int32),\n",
    "               shape = [2,3,2])\n",
    "print(sess.run(b))\n",
    "c = tf.matmul(a,b)  # 뒤에 있는 행,열 부분만 보고 행렬곱 가능한지 판단(2x3 , 3x2 => 가능)\n",
    "sess.run(c)  # 2x2x2\n"
   ]
  },
  {
   "cell_type": "code",
   "execution_count": 82,
   "metadata": {},
   "outputs": [
    {
     "name": "stdout",
     "output_type": "stream",
     "text": [
      "[[[[ 1  2  3]\n",
      "   [ 4  5  6]]\n",
      "\n",
      "  [[ 7  8  9]\n",
      "   [10 11 12]]]\n",
      "\n",
      "\n",
      " [[[13 14 15]\n",
      "   [16 17 18]]\n",
      "\n",
      "  [[19 20 21]\n",
      "   [22 23 24]]]]\n",
      "=========\n",
      "[[[[25 26]\n",
      "   [27 28]\n",
      "   [29 30]]\n",
      "\n",
      "  [[31 32]\n",
      "   [33 34]\n",
      "   [35 36]]]\n",
      "\n",
      "\n",
      " [[[37 38]\n",
      "   [39 40]\n",
      "   [41 42]]\n",
      "\n",
      "  [[43 44]\n",
      "   [45 46]\n",
      "   [47 48]]]]\n",
      "=========\n"
     ]
    },
    {
     "data": {
      "text/plain": [
       "array([[[[ 166,  172],\n",
       "         [ 409,  424]],\n",
       "\n",
       "        [[ 796,  820],\n",
       "         [1093, 1126]]],\n",
       "\n",
       "\n",
       "       [[[1642, 1684],\n",
       "         [1993, 2044]],\n",
       "\n",
       "        [[2704, 2764],\n",
       "         [3109, 3178]]]])"
      ]
     },
     "execution_count": 82,
     "metadata": {},
     "output_type": "execute_result"
    }
   ],
   "source": [
    "a = tf.constant(np.arange(1,25, dtype=np.int32),\n",
    "               shape = [2,2,2,3]) #행열을 중심하고 데이터를 표현\n",
    "print(sess.run(a))\n",
    "b = tf.constant(np.arange(25,49, dtype=np.int32),\n",
    "               shape = [2,2,3,2])\n",
    "print(\"=========\")\n",
    "print(sess.run(b))\n",
    "print(\"=========\")\n",
    "c = tf.matmul(a,b)  # 뒤에 있는 행,열 부분만 보고 행렬곱 가능한지 판단(2x3 , 3x2 => 가능)\n",
    "sess.run(c)  # 2x2x2\n"
   ]
  },
  {
   "cell_type": "code",
   "execution_count": 91,
   "metadata": {},
   "outputs": [
    {
     "name": "stdout",
     "output_type": "stream",
     "text": [
      "[[[[  14   32]\n",
      "   [  32   77]]\n",
      "\n",
      "  [[ 194  266]\n",
      "   [ 266  365]]]\n",
      "\n",
      "\n",
      " [[[ 590  716]\n",
      "   [ 716  869]]\n",
      "\n",
      "  [[1202 1382]\n",
      "   [1382 1589]]]]\n",
      "============================\n",
      "[[[[  14   32]\n",
      "   [  32   77]]\n",
      "\n",
      "  [[ 194  266]\n",
      "   [ 266  365]]]\n",
      "\n",
      "\n",
      " [[[ 590  716]\n",
      "   [ 716  869]]\n",
      "\n",
      "  [[1202 1382]\n",
      "   [1382 1589]]]]\n"
     ]
    }
   ],
   "source": [
    "# a를 제곱하려면 : 자기자신을 제곱하려면 전치해야됨\n",
    "# => 다차원에서 행,열 부분만 전치하고, 다른 차수는 고려 x\n",
    "\n",
    "d = tf.matmul(a, tf.transpose(a, perm=[0,1,3,2]))  # 순서\n",
    "print(sess.run(d))\n",
    "print(\"============================\")\n",
    "e = tf.matmul(a,a,transpose_b = True) # a,a를 곱하되, b요소(두번째)는 전치\n",
    "print(sess.run(e))\n",
    "\n",
    "# ==> d,e 같은 값"
   ]
  },
  {
   "cell_type": "code",
   "execution_count": 100,
   "metadata": {},
   "outputs": [
    {
     "name": "stdout",
     "output_type": "stream",
     "text": [
      "[2 2 3]\n",
      "======================\n",
      "[[[ 1  7]\n",
      "  [ 4 10]]\n",
      "\n",
      " [[ 2  8]\n",
      "  [ 5 11]]\n",
      "\n",
      " [[ 3  9]\n",
      "  [ 6 12]]]\n",
      "======================\n",
      "[[[ 1  4]\n",
      "  [ 2  5]\n",
      "  [ 3  6]]\n",
      "\n",
      " [[ 7 10]\n",
      "  [ 8 11]\n",
      "  [ 9 12]]]\n"
     ]
    }
   ],
   "source": [
    "x = tf.constant([[[1,2,3],   # 2x2x3\n",
    "                 [4,5,6]],\n",
    "                [[7,8,9],\n",
    "                [10,11,12]]])\n",
    "\n",
    "print(sess.run(tf.shape(x)))\n",
    "print(\"======================\")\n",
    "print(sess.run(tf.transpose(x))) # 3x2x2 : [2,1,0]  ==> default\n",
    "print(\"======================\")\n",
    "print(sess.run(tf.transpose(x,perm=[0,2,1]))) #2x3x2"
   ]
  },
  {
   "cell_type": "code",
   "execution_count": 127,
   "metadata": {},
   "outputs": [
    {
     "name": "stdout",
     "output_type": "stream",
     "text": [
      "[[[[[[1]]\n",
      "\n",
      "    [[2]]\n",
      "\n",
      "    [[3]]]]\n",
      "\n",
      "\n",
      "\n",
      "  [[[[4]]\n",
      "\n",
      "    [[5]]\n",
      "\n",
      "    [[6]]]]]]\n",
      "[1 2 1 3 1 1]\n",
      "======================\n",
      "차원의 수를 축소할 때 [2 3]\n"
     ]
    }
   ],
   "source": [
    "t = [1,2,3,4,5,6]\n",
    "t = tf.reshape(t, [1,2,1,3,1,1])  # 6차원으로 확대\n",
    "print(sess.run(t))\n",
    "print(sess.run(tf.shape(t)))\n",
    "print(\"======================\")\n",
    "print(\"차원의 수를 축소할 때\",sess.run(tf.shape(tf.squeeze(t))))\n",
    "# 요소 수가 1개인 차원을 없앰"
   ]
  },
  {
   "cell_type": "code",
   "execution_count": 128,
   "metadata": {},
   "outputs": [
    {
     "name": "stdout",
     "output_type": "stream",
     "text": [
      "[[ 1  2  3  4  5  6]\n",
      " [ 7  8  9 10 11 12]]\n",
      "======================\n",
      "[[ 1  2  3  4  5  6]\n",
      " [ 7  8  9 10 11 12]]\n",
      "======================\n",
      "[[[ 1  2  3]\n",
      "  [ 4  5  6]]\n",
      "\n",
      " [[ 7  8  9]\n",
      "  [10 11 12]]]\n"
     ]
    }
   ],
   "source": [
    "tensor = [1,2,3,4,5,6,7,8,9,10,11,12]\n",
    "print(sess.run(tf.reshape(tensor, [2,-1])))  # - 의미 : 계산해서 채워라(2,6)\n",
    "print(\"======================\")\n",
    "print(sess.run(tf.reshape(tensor, [-1,6])))  # -1,6 -> 2,6\n",
    "print(\"======================\")\n",
    "print(sess.run(tf.reshape(tensor,[2,-1,3]))) # 2,-1,3 -> 2,2,3"
   ]
  },
  {
   "cell_type": "code",
   "execution_count": 129,
   "metadata": {},
   "outputs": [
    {
     "name": "stdout",
     "output_type": "stream",
     "text": [
      "Tensor(\"ExpandDims_4:0\", shape=(1, 1, 2, 1, 3, 1, 1), dtype=int32)\n"
     ]
    }
   ],
   "source": [
    "# t : 1,2,1,3,1,1\n",
    "# -> 1,1,2,1,3,1,1\n",
    "print(tf.expand_dims(t,0)) \n",
    "# ==> 차원확대하여 행렬곱 연산을 하기 위함"
   ]
  },
  {
   "cell_type": "code",
   "execution_count": 138,
   "metadata": {},
   "outputs": [
    {
     "name": "stdout",
     "output_type": "stream",
     "text": [
      "[[0 0 0 0 0 0 0]\n",
      " [0 0 1 2 3 0 0]\n",
      " [0 0 4 5 6 0 0]\n",
      " [0 0 0 0 0 0 0]]\n"
     ]
    }
   ],
   "source": [
    "# padding : 충전재\n",
    "\n",
    "t = [[1,2,3],[4,5,6]] # ==> 4x7\n",
    "paddings = [[1,1],[2,2]] #행을 위에 1개, 밑에 1개 / 열을 오른쪽 2개 왼쪽 2개\n",
    "print(sess.run(tf.pad(t,paddings,'CONSTANT')))"
   ]
  },
  {
   "cell_type": "code",
   "execution_count": 141,
   "metadata": {},
   "outputs": [
    {
     "name": "stdout",
     "output_type": "stream",
     "text": [
      "[[5 4 5 6 5]\n",
      " [2 1 2 3 2]\n",
      " [5 4 5 6 5]\n",
      " [2 1 2 3 2]]\n",
      "======================\n",
      "[[1 1 2 3 3]\n",
      " [1 1 2 3 3]\n",
      " [4 4 5 6 6]\n",
      " [4 4 5 6 6]]\n"
     ]
    }
   ],
   "source": [
    "\n",
    "paddings = [[1,1],[1,1]]  # ==> 4x5\n",
    "print(sess.run(tf.pad(t, paddings, \"REFLECT\"))) # 반사 시켜 채움\n",
    "print(\"======================\")\n",
    "print(sess.run(tf.pad(t,paddings,\"SYMMETRIC\"))) # 끝을 확장"
   ]
  },
  {
   "cell_type": "code",
   "execution_count": 142,
   "metadata": {},
   "outputs": [
    {
     "data": {
      "text/plain": [
       "100"
      ]
     },
     "execution_count": 142,
     "metadata": {},
     "output_type": "execute_result"
    }
   ],
   "source": []
  },
  {
   "cell_type": "code",
   "execution_count": null,
   "metadata": {},
   "outputs": [],
   "source": []
  },
  {
   "cell_type": "code",
   "execution_count": null,
   "metadata": {},
   "outputs": [],
   "source": []
  },
  {
   "cell_type": "markdown",
   "metadata": {},
   "source": [
    "# 다차 방정식의 해 구하는 방법\n",
    "- 무작위 대입법\n",
    "- 역행렬을 구함\n",
    "- 입,출력 데이터만 있을 때 : 계수결정( 가중치 학습을 통해서 학습 )"
   ]
  },
  {
   "cell_type": "code",
   "execution_count": null,
   "metadata": {},
   "outputs": [],
   "source": []
  },
  {
   "cell_type": "code",
   "execution_count": null,
   "metadata": {},
   "outputs": [],
   "source": []
  },
  {
   "cell_type": "code",
   "execution_count": null,
   "metadata": {},
   "outputs": [],
   "source": []
  },
  {
   "cell_type": "markdown",
   "metadata": {},
   "source": [
    "# 텐서플로우 기본 프로세스\n",
    "\n",
    "-데이터 생성(+minibatch) -> 예측 함수 -> loss function \n",
    "-> optimizer -> 데이터 주입(feeding)"
   ]
  },
  {
   "cell_type": "code",
   "execution_count": 148,
   "metadata": {},
   "outputs": [
    {
     "data": {
      "text/plain": [
       "100"
      ]
     },
     "execution_count": 148,
     "metadata": {},
     "output_type": "execute_result"
    }
   ],
   "source": [
    "# 데이터로부터 규칙을 발견 -> 분류와 예측을 하기 위해서\n",
    "\n",
    "import numpy as np\n",
    "import tensorflow as tf\n",
    "# 데이터 생성 => minibatch => feeding ( 여기서는 생성만 )\n",
    "x_data = np.random.rand(100).astype(np.float32)\n",
    "\n",
    "y_data = x_data *0.1 + 0.3 # 선형 방정식\n",
    "len(y_data)\n",
    "\n"
   ]
  },
  {
   "cell_type": "code",
   "execution_count": 149,
   "metadata": {},
   "outputs": [],
   "source": [
    "# ==> 어떻게 0.1과 0.3을 알아내는가(W , b)\n",
    "\n",
    "# 가중치와 바이어스\n",
    "# 가중치 : 설명력?\n",
    "# bias : activation을 결정 \n",
    "  # ex) bias가 1일때, 1을 넘으면 활성, 넘지 않으면 비활성\n",
    "# 가중치에는 꼭 bias가 하나씩 결합함\n",
    "\n",
    "\n",
    "W = tf.Variable(tf.random_uniform([1],-1.0,1.0)) # 균등분포\n",
    "b = tf.Variable(tf.zeros([1]))  # 바이어스\n",
    "sess = tf.Session()\n",
    "y = W*x_data + b"
   ]
  },
  {
   "cell_type": "code",
   "execution_count": 153,
   "metadata": {},
   "outputs": [],
   "source": [
    "# loss function: MSE  : 2차원인 경우는 포물선을 그리고, 최적점은 1개\n",
    "\n",
    "loss = tf.reduce_mean(tf.square(y-y_data)) #(예측치-실제값)**2\n",
    "#reduce_mean : 전부 더해서 평균\n",
    "\n",
    "# 경사하강법 optimizer\n",
    "# 기울기(미분) 이용해서 최적점 발견\n",
    "# 기울기가 -  : 가중치에 차를 더해주고\n",
    "# 기울기가 +  : 기중치에 감하는 연산\n",
    "optimizer = tf.train.GradientDescentOptimizer(0.5) # 0.5 : learning rate\n",
    "train =  optimizer.minimize(loss) #loss함수를 최적화하는 값을 찾는것"
   ]
  },
  {
   "cell_type": "code",
   "execution_count": 154,
   "metadata": {},
   "outputs": [],
   "source": [
    "init = tf.global_variables_initializer() # 세션을 실행하기전(run하기 전)\n",
    "sess.run(init)"
   ]
  },
  {
   "cell_type": "code",
   "execution_count": 156,
   "metadata": {},
   "outputs": [
    {
     "name": "stdout",
     "output_type": "stream",
     "text": [
      "0 [0.09999683] [0.30000174]\n",
      "20 [0.09999906] [0.30000052]\n",
      "40 [0.09999973] [0.30000016]\n",
      "60 [0.0999999] [0.30000007]\n",
      "80 [0.0999999] [0.30000007]\n",
      "100 [0.0999999] [0.30000007]\n",
      "120 [0.0999999] [0.30000007]\n",
      "140 [0.0999999] [0.30000007]\n",
      "160 [0.0999999] [0.30000007]\n",
      "180 [0.0999999] [0.30000007]\n",
      "200 [0.0999999] [0.30000007]\n",
      "220 [0.0999999] [0.30000007]\n",
      "240 [0.0999999] [0.30000007]\n",
      "260 [0.0999999] [0.30000007]\n",
      "280 [0.0999999] [0.30000007]\n",
      "300 [0.0999999] [0.30000007]\n",
      "320 [0.0999999] [0.30000007]\n",
      "340 [0.0999999] [0.30000007]\n",
      "360 [0.0999999] [0.30000007]\n",
      "380 [0.0999999] [0.30000007]\n",
      "400 [0.0999999] [0.30000007]\n",
      "420 [0.0999999] [0.30000007]\n",
      "440 [0.0999999] [0.30000007]\n",
      "460 [0.0999999] [0.30000007]\n",
      "480 [0.0999999] [0.30000007]\n",
      "500 [0.0999999] [0.30000007]\n"
     ]
    }
   ],
   "source": [
    "for step in range(501) :  #200번 회전\n",
    "    sess.run(train)  \n",
    "    # Graph로 다른 연산이 연결되어 있기 때문에, train만 호출 가능\n",
    "    if step % 20 == 0:\n",
    "        print(step, sess.run(W), sess.run(b))"
   ]
  },
  {
   "cell_type": "markdown",
   "metadata": {},
   "source": []
  },
  {
   "cell_type": "code",
   "execution_count": null,
   "metadata": {},
   "outputs": [],
   "source": []
  },
  {
   "cell_type": "markdown",
   "metadata": {},
   "source": [
    "### placeholder(주입변수) 사용 \n"
   ]
  },
  {
   "cell_type": "code",
   "execution_count": 159,
   "metadata": {},
   "outputs": [
    {
     "name": "stdout",
     "output_type": "stream",
     "text": [
      "0 [0.20595704] [0.33823594]\n",
      "20 [0.11942928] [0.28935048]\n",
      "40 [0.10577547] [0.29683438]\n",
      "60 [0.10171682] [0.299059]\n",
      "80 [0.10051035] [0.2997203]\n",
      "100 [0.10015172] [0.29991686]\n",
      "120 [0.10004508] [0.2999753]\n",
      "140 [0.10001341] [0.29999268]\n",
      "160 [0.10000399] [0.29999784]\n",
      "180 [0.10000117] [0.2999994]\n",
      "200 [0.10000035] [0.29999983]\n"
     ]
    }
   ],
   "source": [
    "\n",
    "x = tf.placeholder(tf.float32, name = 'x')\n",
    "y = tf.placeholder(tf.float32)\n",
    "\n",
    "W = tf.Variable(tf.random_uniform([1],-1.0,1.0))\n",
    "b = tf.Variable(tf.zeros([1]))  \n",
    "\n",
    "sess = tf.Session()\n",
    "\n",
    "y_model = W*x + b\n",
    "\n",
    "loss = tf.reduce_mean(tf.square(y_model-y)) \n",
    "\n",
    "optimizer = tf.train.GradientDescentOptimizer(0.5) \n",
    "train =  optimizer.minimize(loss)\n",
    "\n",
    "init = tf.global_variables_initializer() \n",
    "sess.run(init)\n",
    "\n",
    "\n",
    "for step in range(201) :  #200번 회전\n",
    "    sess.run(train,{x:x_data, y:y_data})  \n",
    "    # Graph로 다른 연산이 연결되어 있기 때문에, train만 호출 가능\n",
    "    if step % 20 == 0:\n",
    "        print(step, sess.run(W), sess.run(b))"
   ]
  },
  {
   "cell_type": "code",
   "execution_count": 162,
   "metadata": {},
   "outputs": [],
   "source": [
    "predicted = sess.run(y_model, {x:[i for i in range(100)]})"
   ]
  },
  {
   "cell_type": "code",
   "execution_count": 164,
   "metadata": {},
   "outputs": [
    {
     "data": {
      "image/png": "[encoded data removed]",
      "text/plain": [
       "<Figure size 432x288 with 1 Axes>"
      ]
     },
     "metadata": {
      "needs_background": "light"
     },
     "output_type": "display_data"
    }
   ],
   "source": [
    "%matplotlib inline\n",
    "import matplotlib.pyplot as plt\n",
    "\n",
    "plt.plot(x_data, y_data, 'o', markersize=2)\n",
    "plt.plot(predicted,'r')\n",
    "plt.show()"
   ]
  },
  {
   "cell_type": "code",
   "execution_count": 172,
   "metadata": {},
   "outputs": [],
   "source": [
    "from tensorflow.python.framework import ops\n",
    "import os\n",
    "ops.reset_default_graph()"
   ]
  },
  {
   "cell_type": "code",
   "execution_count": 173,
   "metadata": {},
   "outputs": [
    {
     "name": "stdout",
     "output_type": "stream",
     "text": [
      "[1. 3. 5. 7. 9.]\n",
      "[ 3.  9. 15. 21. 27.]\n",
      "[ 5. 15. 25. 35. 45.]\n",
      "[ 7. 21. 35. 49. 63.]\n",
      "[ 9. 27. 45. 63. 81.]\n"
     ]
    }
   ],
   "source": [
    "sess = tf.Session()\n",
    "x_vals = np.array([1.,3.,5.,7.,9.])\n",
    "y_vals = np.array([1.,3.,5.,7.,9.])\n",
    "x_data = tf.placeholder(tf.float32)\n",
    "y_data = tf.placeholder(tf.float32)\n",
    "m = tf.constant(3.)\n",
    "prod = tf.multiply(x_data,y_data)\n",
    "for x_val in x_vals : \n",
    "    print(sess.run(prod, feed_dict={x_data:x_val,y_data: y_vals}))"
   ]
  },
  {
   "cell_type": "code",
   "execution_count": 174,
   "metadata": {},
   "outputs": [],
   "source": [
    "merged = tf.summary.merge_all()\n",
    "if not os.path.exists('c://tmp/tensorboard1_logs/'):\n",
    "    os.makedirs('c://tmp/tensorboard1_logs')\n",
    "\n",
    "my_writer = tf.summary.FileWriter('c://tmp/tensorboard1_logs',\n",
    "                                 sess.graph)"
   ]
  },
  {
   "cell_type": "code",
   "execution_count": null,
   "metadata": {},
   "outputs": [],
   "source": []
  },
  {
   "cell_type": "code",
   "execution_count": null,
   "metadata": {},
   "outputs": [],
   "source": []
  },
  {
   "cell_type": "code",
   "execution_count": null,
   "metadata": {},
   "outputs": [],
   "source": []
  },
  {
   "cell_type": "code",
   "execution_count": null,
   "metadata": {},
   "outputs": [],
   "source": []
  },
  {
   "cell_type": "code",
   "execution_count": null,
   "metadata": {},
   "outputs": [],
   "source": []
  },
  {
   "cell_type": "code",
   "execution_count": null,
   "metadata": {},
   "outputs": [],
   "source": []
  },
  {
   "cell_type": "code",
   "execution_count": null,
   "metadata": {},
   "outputs": [],
   "source": []
  },
  {
   "cell_type": "code",
   "execution_count": 181,
   "metadata": {},
   "outputs": [],
   "source": [
    "import numpy\n",
    "rng = numpy.random\n",
    "\n",
    "# 상수화할 때 좋은 점 : 여러 군데에서 쓰일 때, 상수 값만 바꾸면 다 바꿀 수 있음\n",
    "learning_rate = 0.01\n",
    "training_epochs = 4000\n",
    "display_step = 50\n",
    "\n",
    "\n",
    "train_X = numpy.asarray([3.3,4.4,5.5,6.71,6.93,4.168,9.779,6.182,7.59,2.167,7.042,10.791,5.313,7.997,5.654,9.27,3.1])\n",
    "train_Y = numpy.asarray([1.7,2.76,2.09,3.19,1.694,1.573,3.366,2.596,2.53,1.221,2.827,3.465,1.65,2.904,2.42,2.94,1.3]) "
   ]
  },
  {
   "cell_type": "code",
   "execution_count": 191,
   "metadata": {},
   "outputs": [],
   "source": [
    "\n",
    "# data point : 관측치(행)\n",
    "\n",
    "n_samples = train_X.shape[0]  #차수 : 행(3,4) : 인덱스 접근\n",
    "X = tf.placeholder('float')\n",
    "Y = tf.placeholder('float')\n",
    "W = tf.Variable(rng.randn(), name = 'weight')  # 설명력\n",
    "b = tf.Variable(rng.randn(), name = 'bias')    # activation\n",
    "activation = tf.add(tf.multiply(X,W), b)  # 수식 : y = ax + b\n",
    "cost = tf.reduce_sum(tf.pow(activation-Y,2))/(2*n_samples)  # activation(예측치) - Y(실제값)      #pow : (x,3) = x**3\n",
    "# minibatch size를 고려해서 2로 나눔\n",
    "\n",
    "\n",
    "# optimizer : 역전파를 수용함\n",
    "# optimizer도 hyperparameter가능 ( 유저가 결정하는 것이 아님 )\n",
    "# learning rate : hyperparameter\n",
    "optimizer = tf.train.GradientDescentOptimizer(learning_rate).minimize(cost)   # cost가 최소값이 되는 곳을 찾아감\n",
    "\n",
    "\n",
    "init = tf.initialize_all_variables()\n",
    "\n",
    "\n",
    "\n",
    "# ==> Graph 정의 : node(연산) + edge( 데이터 전달 : tensor(배열+행렬))"
   ]
  },
  {
   "cell_type": "code",
   "execution_count": 192,
   "metadata": {
    "collapsed": true,
    "jupyter": {
     "outputs_hidden": true
    }
   },
   "outputs": [
    {
     "name": "stdout",
     "output_type": "stream",
     "text": [
      "Epoch :  0001 cost= 9.378128052 W= -0.2866783 b= 0.027164744\n",
      "Epoch :  0051 cost= 0.102521963 W= 0.33905947 b= 0.15785474\n",
      "Epoch :  0101 cost= 0.099567853 W= 0.3337386 b= 0.19613333\n",
      "Epoch :  0151 cost= 0.096955158 W= 0.32873404 b= 0.2321354\n",
      "Epoch :  0201 cost= 0.094644412 W= 0.3240272 b= 0.26599625\n",
      "Epoch :  0251 cost= 0.092600748 W= 0.31960025 b= 0.2978434\n",
      "Epoch :  0301 cost= 0.090793334 W= 0.31543666 b= 0.32779592\n",
      "Epoch :  0351 cost= 0.089194864 W= 0.31152064 b= 0.35596743\n",
      "Epoch :  0401 cost= 0.087781191 W= 0.30783764 b= 0.38246337\n",
      "Epoch :  0451 cost= 0.086530961 W= 0.3043734 b= 0.40738395\n",
      "Epoch :  0501 cost= 0.085425332 W= 0.3011155 b= 0.43082163\n",
      "Epoch :  0551 cost= 0.084447563 W= 0.29805118 b= 0.45286602\n",
      "Epoch :  0601 cost= 0.083582900 W= 0.29516912 b= 0.4735993\n",
      "Epoch :  0651 cost= 0.082818292 W= 0.2924585 b= 0.49309915\n",
      "Epoch :  0701 cost= 0.082142182 W= 0.2899092 b= 0.5114383\n",
      "Epoch :  0751 cost= 0.081544295 W= 0.28751168 b= 0.5286868\n",
      "Epoch :  0801 cost= 0.081015572 W= 0.28525642 b= 0.54491085\n",
      "Epoch :  0851 cost= 0.080548078 W= 0.2831353 b= 0.56016976\n",
      "Epoch :  0901 cost= 0.080134697 W= 0.28114036 b= 0.5745216\n",
      "Epoch :  0951 cost= 0.079769202 W= 0.279264 b= 0.5880197\n",
      "Epoch :  1001 cost= 0.079446010 W= 0.27749908 b= 0.6007166\n",
      "Epoch :  1051 cost= 0.079160281 W= 0.2758392 b= 0.6126572\n",
      "Epoch :  1101 cost= 0.078907751 W= 0.27427843 b= 0.623885\n",
      "Epoch :  1151 cost= 0.078684479 W= 0.27281046 b= 0.6344459\n",
      "Epoch :  1201 cost= 0.078487068 W= 0.27142987 b= 0.644378\n",
      "Epoch :  1251 cost= 0.078312546 W= 0.2701312 b= 0.6537206\n",
      "Epoch :  1301 cost= 0.078158312 W= 0.2689097 b= 0.6625076\n",
      "Epoch :  1351 cost= 0.078021951 W= 0.26776096 b= 0.6707718\n",
      "Epoch :  1401 cost= 0.077901430 W= 0.2666805 b= 0.67854446\n",
      "Epoch :  1451 cost= 0.077794917 W= 0.26566434 b= 0.68585426\n",
      "Epoch :  1501 cost= 0.077700756 W= 0.26470855 b= 0.6927304\n",
      "Epoch :  1551 cost= 0.077617548 W= 0.2638096 b= 0.6991973\n",
      "Epoch :  1601 cost= 0.077544034 W= 0.26296425 b= 0.70527947\n",
      "Epoch :  1651 cost= 0.077479072 W= 0.26216894 b= 0.71100026\n",
      "Epoch :  1701 cost= 0.077421643 W= 0.26142108 b= 0.7163807\n",
      "Epoch :  1751 cost= 0.077370949 W= 0.2607175 b= 0.7214417\n",
      "Epoch :  1801 cost= 0.077326119 W= 0.26005587 b= 0.72620153\n",
      "Epoch :  1851 cost= 0.077286549 W= 0.25943363 b= 0.73067796\n",
      "Epoch :  1901 cost= 0.077251591 W= 0.25884834 b= 0.7348889\n",
      "Epoch :  1951 cost= 0.077220693 W= 0.2582977 b= 0.73884964\n",
      "Epoch :  2001 cost= 0.077193439 W= 0.25778002 b= 0.7425743\n",
      "Epoch :  2051 cost= 0.077169336 W= 0.25729278 b= 0.74607897\n",
      "Epoch :  2101 cost= 0.077148110 W= 0.25683483 b= 0.7493732\n",
      "Epoch :  2151 cost= 0.077129312 W= 0.25640383 b= 0.7524735\n",
      "Epoch :  2201 cost= 0.077112749 W= 0.25599894 b= 0.75538707\n",
      "Epoch :  2251 cost= 0.077098131 W= 0.25561777 b= 0.7581291\n",
      "Epoch :  2301 cost= 0.077085227 W= 0.25525936 b= 0.76070756\n",
      "Epoch :  2351 cost= 0.077073865 W= 0.2549222 b= 0.76313263\n",
      "Epoch :  2401 cost= 0.077063814 W= 0.2546051 b= 0.7654142\n",
      "Epoch :  2451 cost= 0.077054963 W= 0.25430697 b= 0.7675587\n",
      "Epoch :  2501 cost= 0.077047177 W= 0.2540265 b= 0.769576\n",
      "Epoch :  2551 cost= 0.077040263 W= 0.25376257 b= 0.7714752\n",
      "Epoch :  2601 cost= 0.077034213 W= 0.25351444 b= 0.77326\n",
      "Epoch :  2651 cost= 0.077028878 W= 0.2532812 b= 0.7749378\n",
      "Epoch :  2701 cost= 0.077024169 W= 0.2530618 b= 0.77651674\n",
      "Epoch :  2751 cost= 0.077019997 W= 0.2528551 b= 0.7780036\n",
      "Epoch :  2801 cost= 0.077016354 W= 0.25266096 b= 0.7794\n",
      "Epoch :  2851 cost= 0.077013142 W= 0.25247845 b= 0.78071284\n",
      "Epoch :  2901 cost= 0.077010334 W= 0.2523066 b= 0.7819491\n",
      "Epoch :  2951 cost= 0.077007830 W= 0.25214508 b= 0.78311133\n",
      "Epoch :  3001 cost= 0.077005655 W= 0.25199294 b= 0.7842059\n",
      "Epoch :  3051 cost= 0.077003725 W= 0.25185 b= 0.7852341\n",
      "Epoch :  3101 cost= 0.077002041 W= 0.25171587 b= 0.78619885\n",
      "Epoch :  3151 cost= 0.077000573 W= 0.25159 b= 0.7871046\n",
      "Epoch :  3201 cost= 0.076999262 W= 0.25147137 b= 0.7879578\n",
      "Epoch :  3251 cost= 0.076998152 W= 0.25135997 b= 0.78875935\n",
      "Epoch :  3301 cost= 0.076997139 W= 0.25125507 b= 0.7895142\n",
      "Epoch :  3351 cost= 0.076996259 W= 0.2511563 b= 0.79022497\n",
      "Epoch :  3401 cost= 0.076995499 W= 0.25106353 b= 0.79089195\n",
      "Epoch :  3451 cost= 0.076994844 W= 0.2509761 b= 0.79152083\n",
      "Epoch :  3501 cost= 0.076994248 W= 0.25089407 b= 0.7921108\n",
      "Epoch :  3551 cost= 0.076993756 W= 0.250817 b= 0.7926649\n",
      "Epoch :  3601 cost= 0.076993294 W= 0.25074476 b= 0.79318476\n",
      "Epoch :  3651 cost= 0.076992907 W= 0.25067657 b= 0.793676\n",
      "Epoch :  3701 cost= 0.076992571 W= 0.25061208 b= 0.7941394\n",
      "Epoch :  3751 cost= 0.076992288 W= 0.25055182 b= 0.7945728\n",
      "Epoch :  3801 cost= 0.076992027 W= 0.25049502 b= 0.79498184\n",
      "Epoch :  3851 cost= 0.076991804 W= 0.25044158 b= 0.79536533\n",
      "Epoch :  3901 cost= 0.076991618 W= 0.2503912 b= 0.7957285\n",
      "Epoch :  3951 cost= 0.076991454 W= 0.250344 b= 0.7960679\n",
      "최적화 종료\n",
      "cost =  0.076991305 W= 0.2503002 b= 0.7963835\n"
     ]
    },
    {
     "data": {
      "image/png": "[encoded data removed]",
      "text/plain": [
       "<Figure size 432x288 with 1 Axes>"
      ]
     },
     "metadata": {
      "needs_background": "light"
     },
     "output_type": "display_data"
    }
   ],
   "source": [
    "# 전제조건 : GPU가 존재한다. => CPU와 연결하기 위해 Session으로 연결\n",
    "\n",
    "with tf.Session() as sess:  # 실행부\n",
    "    sess.run(init)\n",
    "    for epoch in range(training_epochs) : # 세대\n",
    "        for (x,y) in zip(train_X, train_Y):   # 데이터를 1개씩 feeding\n",
    "            sess.run(optimizer, feed_dict={X:x, Y:y})\n",
    "        if epoch % display_step ==0:  # 비용함수 : 감소해야됨 : 우하향 곡선  \n",
    "            print(\"Epoch : \", '%04d' % (epoch+1), 'cost=',\n",
    "                 '{:.9f}'.format(sess.run(cost, feed_dict={X:train_X, Y:train_Y})),\n",
    "                 'W=', sess.run(W), 'b=', sess.run(b))\n",
    "    print('최적화 종료')\n",
    "    print(\"cost = \", sess.run(cost, feed_dict={X:train_X, Y:train_Y}),\n",
    "         'W=',sess.run(W), 'b=',sess.run(b))\n",
    "    plt.plot(train_X, train_Y,'ro', label='Original data')\n",
    "    \n",
    "    #예측한 결과값 출력\n",
    "    plt.plot(train_X, sess.run(W)*train_X + sess.run(b),\n",
    "            label='Fitted line')\n",
    "    plt.legend()\n",
    "    plt.show()"
   ]
  },
  {
   "cell_type": "code",
   "execution_count": 193,
   "metadata": {},
   "outputs": [],
   "source": [
    "# tensor를 직접 시각화 하는 것이 불가능 => numpy 포멧으로 변경\n",
    "\n",
    "import tensorflow as tf\n",
    "def run_variable(variable) :\n",
    "    tf.global_variables_initializer()\n",
    "    with tf.Session() as sess:\n",
    "        return sess.run(variable)"
   ]
  },
  {
   "cell_type": "code",
   "execution_count": 196,
   "metadata": {},
   "outputs": [],
   "source": [
    "my_distribution = tf.random_uniform((600,400), seed=42)\n",
    "uniform = run_variable(my_distribution)"
   ]
  },
  {
   "cell_type": "code",
   "execution_count": 197,
   "metadata": {},
   "outputs": [
    {
     "data": {
      "image/png": "[encoded data removed]",
      "text/plain": [
       "<Figure size 432x288 with 1 Axes>"
      ]
     },
     "metadata": {
      "needs_background": "light"
     },
     "output_type": "display_data"
    }
   ],
   "source": [
    "from matplotlib import pyplot as plt\n",
    "plt.hist(uniform.flatten())  # 데이터 메모리 저장 : 1차원으로 저장됨 => flatten : 차수를 무시하고 1차원으로 데이터를 만듬\n",
    "plt.show()\n",
    "\n",
    "# ==> 데이터 개수에 따라 균등분포를 이루기도하고, 안이루기도함( 600,400개 / 6,4개 )"
   ]
  },
  {
   "cell_type": "code",
   "execution_count": null,
   "metadata": {},
   "outputs": [],
   "source": []
  },
  {
   "cell_type": "code",
   "execution_count": null,
   "metadata": {},
   "outputs": [],
   "source": []
  },
  {
   "cell_type": "markdown",
   "metadata": {},
   "source": [
    "## activation 함수 : 회귀인가 분류인가 결정\n",
    "- 비선형 맵핑 ( 선형대수 -> 비선형 문제로 변경 )\n",
    "- 가중치를 깊게하고, activation 함수 맵핑으로 XOR 문제를 해결\n",
    "- 한 번 정의된 변수를 다시 쓸 수 없어서 reset 필요"
   ]
  },
  {
   "cell_type": "code",
   "execution_count": 256,
   "metadata": {},
   "outputs": [
    {
     "name": "stdout",
     "output_type": "stream",
     "text": [
      "[-10.          -9.7979798   -9.5959596   -9.39393939  -9.19191919\n",
      "  -8.98989899  -8.78787879  -8.58585859  -8.38383838  -8.18181818\n",
      "  -7.97979798  -7.77777778  -7.57575758  -7.37373737  -7.17171717\n",
      "  -6.96969697  -6.76767677  -6.56565657  -6.36363636  -6.16161616\n",
      "  -5.95959596  -5.75757576  -5.55555556  -5.35353535  -5.15151515\n",
      "  -4.94949495  -4.74747475  -4.54545455  -4.34343434  -4.14141414\n",
      "  -3.93939394  -3.73737374  -3.53535354  -3.33333333  -3.13131313\n",
      "  -2.92929293  -2.72727273  -2.52525253  -2.32323232  -2.12121212\n",
      "  -1.91919192  -1.71717172  -1.51515152  -1.31313131  -1.11111111\n",
      "  -0.90909091  -0.70707071  -0.50505051  -0.3030303   -0.1010101\n",
      "   0.1010101    0.3030303    0.50505051   0.70707071   0.90909091\n",
      "   1.11111111   1.31313131   1.51515152   1.71717172   1.91919192\n",
      "   2.12121212   2.32323232   2.52525253   2.72727273   2.92929293\n",
      "   3.13131313   3.33333333   3.53535354   3.73737374   3.93939394\n",
      "   4.14141414   4.34343434   4.54545455   4.74747475   4.94949495\n",
      "   5.15151515   5.35353535   5.55555556   5.75757576   5.95959596\n",
      "   6.16161616   6.36363636   6.56565657   6.76767677   6.96969697\n",
      "   7.17171717   7.37373737   7.57575758   7.77777778   7.97979798\n",
      "   8.18181818   8.38383838   8.58585859   8.78787879   8.98989899\n",
      "   9.19191919   9.39393939   9.5959596    9.7979798   10.        ]\n"
     ]
    }
   ],
   "source": [
    "import tensorflow as tf\n",
    "import numpy as np\n",
    "import matplotlib.pyplot as plt\n",
    "from tensorflow.python.framework import ops\n",
    "ops.reset_default_graph() # 그래프 초기화\n",
    "sess = tf.Session()\n",
    "\n",
    "x_vals = np.linspace(start=-10., stop = 10., num = 100)\n",
    "print(x_vals)"
   ]
  },
  {
   "cell_type": "code",
   "execution_count": 257,
   "metadata": {
    "collapsed": true,
    "jupyter": {
     "outputs_hidden": true
    }
   },
   "outputs": [
    {
     "name": "stdout",
     "output_type": "stream",
     "text": [
      "[-0.  3. 10.]\n",
      "[0.26894143 0.5        0.7310586 ]\n",
      "[-0.7615942  0.         0.7615942]\n",
      "[-0.63212055  0.          1.        ]\n",
      "[-0.9999546  -0.99994444 -0.999932   -0.99991677 -0.99989814 -0.99987534\n",
      " -0.99984743 -0.99981327 -0.99977147 -0.99972031 -0.99965769 -0.99958106\n",
      " -0.99948727 -0.99937248 -0.999232   -0.99906006 -0.99884964 -0.9985921\n",
      " -0.99827691 -0.99789116 -0.99741905 -0.99684124 -0.99613408 -0.99526861\n",
      " -0.99420938 -0.99291301 -0.99132643 -0.98938465 -0.98700817 -0.98409965\n",
      " -0.98053999 -0.97618343 -0.97085155 -0.96432601 -0.95633957 -0.94656519\n",
      " -0.9346026  -0.9199619  -0.90204355 -0.88011378 -0.85327452 -0.82042669\n",
      " -0.78022512 -0.73102351 -0.67080701 -0.59710968 -0.50691352 -0.3965249\n",
      " -0.26142329 -0.0960761   0.1010101   0.3030303   0.50505051  0.70707071\n",
      "  0.90909091  1.11111111  1.31313131  1.51515152  1.71717172  1.91919192\n",
      "  2.12121212  2.32323232  2.52525253  2.72727273  2.92929293  3.13131313\n",
      "  3.33333333  3.53535354  3.73737374  3.93939394  4.14141414  4.34343434\n",
      "  4.54545455  4.74747475  4.94949495  5.15151515  5.35353535  5.55555556\n",
      "  5.75757576  5.95959596  6.16161616  6.36363636  6.56565657  6.76767677\n",
      "  6.96969697  7.17171717  7.37373737  7.57575758  7.77777778  7.97979798\n",
      "  8.18181818  8.38383838  8.58585859  8.78787879  8.98989899  9.19191919\n",
      "  9.39393939  9.5959596   9.7979798  10.        ]\n",
      "[0.31326166 0.6931472  1.3132616 ]\n",
      "[4.53988992e-05 5.55621925e-05 6.80006294e-05 8.32234827e-05\n",
      " 1.01854002e-04 1.24654915e-04 1.52559623e-04 1.86710374e-04\n",
      " 2.28504961e-04 2.79653838e-04 3.42249995e-04 4.18854392e-04\n",
      " 5.12600439e-04 6.27321712e-04 7.67708042e-04 9.39496227e-04\n",
      " 1.14970295e-03 1.40690911e-03 1.72160671e-03 2.10662180e-03\n",
      " 2.57762963e-03 3.15378152e-03 3.85846667e-03 4.72023638e-03\n",
      " 5.77392318e-03 7.06199264e-03 8.63617122e-03 1.05593993e-02\n",
      " 1.29081631e-02 1.57752639e-02 1.92730804e-02 2.35373794e-02\n",
      " 2.87317129e-02 3.50524161e-02 4.27341757e-02 5.20560700e-02\n",
      " 6.33478781e-02 7.69963170e-02 9.34506760e-02 1.13227094e-01\n",
      " 1.36910472e-01 1.65152775e-01 1.98666320e-01 2.38210660e-01\n",
      " 2.84571982e-01 3.38534624e-01 4.00845440e-01 4.72173209e-01\n",
      " 5.53066799e-01 6.43916968e-01 7.44927069e-01 8.56097102e-01\n",
      " 9.77223714e-01 1.10791615e+00 1.24762553e+00 1.39568309e+00\n",
      " 1.55134197e+00 1.71381783e+00 1.88232449e+00 2.05610239e+00\n",
      " 2.23443922e+00 2.41668300e+00 2.60224884e+00 2.79062061e+00\n",
      " 2.98134900e+00 3.17404731e+00 3.36838575e+00 3.56408525e+00\n",
      " 3.76091112e+00 3.95866702e+00 4.15718941e+00 4.35634251e+00\n",
      " 4.55601394e+00 4.75611092e+00 4.95655694e+00 5.15728907e+00\n",
      " 5.35825559e+00 5.55941402e+00 5.76072954e+00 5.96217359e+00\n",
      " 6.16372278e+00 6.36535797e+00 6.56706347e+00 6.76882647e+00\n",
      " 6.97063647e+00 7.17248488e+00 7.37436470e+00 7.57627018e+00\n",
      " 7.77819663e+00 7.98014023e+00 8.18209784e+00 8.38406689e+00\n",
      " 8.58604530e+00 8.78803135e+00 8.99002364e+00 9.19202105e+00\n",
      " 9.39402262e+00 9.59602760e+00 9.79803536e+00 1.00000454e+01]\n"
     ]
    },
    {
     "data": {
      "image/png": "[encoded data removed]",
      "text/plain": [
       "<Figure size 432x288 with 1 Axes>"
      ]
     },
     "metadata": {
      "needs_background": "light"
     },
     "output_type": "display_data"
    },
    {
     "data": {
      "image/png": "[encoded data removed]",
      "text/plain": [
       "<Figure size 432x288 with 1 Axes>"
      ]
     },
     "metadata": {
      "needs_background": "light"
     },
     "output_type": "display_data"
    }
   ],
   "source": [
    "print(sess.run(tf.nn.relu([-3.,3.,10.])))  # relu를 가장 많이 씀   0~무한대\n",
    "y_relu = sess.run(tf.nn.relu(x_vals))\n",
    "print(sess.run(tf.nn.sigmoid([-1.,0.,1.]))) # 0 ~ 1\n",
    "y_sigmoid = sess.run(tf.nn.sigmoid(x_vals))\n",
    "print(sess.run(tf.nn.tanh([-1.,0.,1.])))  # -1 ~ 1\n",
    "y_tanh = sess.run(tf.nn.tanh(x_vals))\n",
    "print(sess.run(tf.nn.elu([-1.,0.,1.]))) # -1 ~ 무한대 (relu의 수정본)\n",
    "y_elu = sess.run(tf.nn.elu(x_vals))\n",
    "print(y_elu)\n",
    "print(sess.run(tf.nn.softplus([-1.,0.,1.])))  # 각진 단점 보완\n",
    "y_softplus = sess.run(tf.nn.softplus(x_vals))\n",
    "print(y_softplus)\n",
    "plt.plot(x_vals, y_relu,'b:', label='ReLU', linewidth=2)\n",
    "plt.plot(x_vals, y_elu,'k-', label='ExpLU', linewidth=0.5)\n",
    "plt.ylim([-1.5,7])\n",
    "plt.legend(loc='upper left')\n",
    "plt.show()\n",
    "\n",
    "plt.plot(x_vals, y_sigmoid, 'r--', label='Sigmoid', linewidth=2)\n",
    "plt.plot(x_vals, y_tanh, 'b:', label='Tanh', linewidth=2)\n",
    "plt.ylim([-2,2])\n",
    "plt.legend(loc='upper left')\n",
    "plt.show()"
   ]
  },
  {
   "cell_type": "code",
   "execution_count": 258,
   "metadata": {},
   "outputs": [],
   "source": [
    "ops.reset_default_graph()  # 그래프 초기화\n",
    "sess = tf.Session()   \n",
    "tf.set_random_seed(5)  # tf에서 시드의 초기값\n",
    "np.random.seed(42)  # np에서 시드값\n",
    "batch_size = 50\n",
    "a1 = tf.Variable(tf.random_normal(shape=[1,1]))  # 가중치\n",
    "b1 = tf.Variable(tf.random_uniform(shape=[1,1]))  # bias\n",
    "a2 = tf.Variable(tf.random_normal(shape =[1,1]))\n",
    "b2 = tf.Variable(tf.random_uniform(shape=[1,1]))\n",
    "x = np.random.normal(2,0.1,500) # 500개 데이터\n",
    "\n",
    "# None : 사이즈를 fix하지 않고 입력데이터로부터 계산\n",
    "x_data = tf.placeholder(shape=[None,1], dtype=tf.float32)  # => [None,1] : 행데이터로 생성"
   ]
  },
  {
   "cell_type": "code",
   "execution_count": 252,
   "metadata": {},
   "outputs": [
    {
     "name": "stdout",
     "output_type": "stream",
     "text": [
      "\n",
      " Sigmoid And Relu 함수의 최적화 : 0.75\n"
     ]
    }
   ],
   "source": [
    "\n",
    "# y = ax + b => sigmoid ==> 0~1 사이값으로 맵핑\n",
    "sigmoid_activation = tf.sigmoid(tf.add(tf.matmul(x_data,a1), b1))\n",
    "\n",
    "# 0~ 무한대 값으로 맵핑\n",
    "relu_activation = tf.nn.relu(tf.add(tf.matmul(x_data,a2),b2))\n",
    "\n",
    "# 0.75로 수렴과정\n",
    "# loss함수로 MSE사용\n",
    "loss1 = tf.reduce_mean(tf.square(tf.subtract(sigmoid_activation,0.75)))\n",
    "loss2 = tf.reduce_mean(tf.square(tf.subtract(relu_activation, 0.75)))\n",
    "init = tf.global_variables_initializer()\n",
    "sess.run(init)\n",
    "my_opt = tf.train.GradientDescentOptimizer(0.01)\n",
    "train_step_sigmoid = my_opt.minimize(loss1)\n",
    "train_step_relu = my_opt.minimize(loss2)\n",
    "print(\"\\n Sigmoid And Relu 함수의 최적화 : 0.75\")"
   ]
  },
  {
   "cell_type": "code",
   "execution_count": 253,
   "metadata": {},
   "outputs": [],
   "source": [
    "loss_vec_sigmoid = []  # loss값을 저장\n",
    "loss_vec_relu = []"
   ]
  },
  {
   "cell_type": "code",
   "execution_count": 254,
   "metadata": {},
   "outputs": [
    {
     "name": "stdout",
     "output_type": "stream",
     "text": [
      "sigmoid = 0.12655206\trelu = 2.0227606\n",
      "sigmoid = 0.17863758\trelu = 0.7530296\n",
      "sigmoid = 0.24769813\trelu = 0.7492897\n",
      "sigmoid = 0.3446748\trelu = 0.7499546\n",
      "sigmoid = 0.4400661\trelu = 0.7539999\n",
      "sigmoid = 0.5236898\trelu = 0.754772\n",
      "sigmoid = 0.58373857\trelu = 0.7508698\n",
      "sigmoid = 0.62733483\trelu = 0.7470234\n",
      "sigmoid = 0.6549499\trelu = 0.75180537\n",
      "sigmoid = 0.67452586\trelu = 0.75470716\n"
     ]
    }
   ],
   "source": [
    "for i in range(500):\n",
    "    # 500개에서 50개를 랜덤으로 초이스\n",
    "    rand_indices = np.random.choice(len(x), size = batch_size)\n",
    "    x_vals = np.transpose([x[rand_indices]]) # 입력데이터의 모양을 맞추기 위해 전치\n",
    "    sess.run(train_step_sigmoid, feed_dict={x_data:x_vals})\n",
    "    sess.run(train_step_relu, feed_dict={x_data:x_vals})\n",
    "    loss_vec_sigmoid.append(sess.run(loss1, feed_dict={x_data:x_vals}))\n",
    "    loss_vec_relu.append(sess.run(loss2, feed_dict={x_data:x_vals}))\n",
    "    \n",
    "    sigmoid_output = np.mean(sess.run(sigmoid_activation, feed_dict={x_data:x_vals}))\n",
    "    relu_output = np.mean(sess.run(relu_activation, feed_dict={x_data:x_vals}))\n",
    "    if i%50 ==0:\n",
    "        print('sigmoid = ' + str(np.mean(sigmoid_output)) +'\\t' 'relu = ' + str(np.mean(relu_output)))\n",
    "        \n",
    "# 0.75로 수렴하는 과정"
   ]
  },
  {
   "cell_type": "code",
   "execution_count": 255,
   "metadata": {},
   "outputs": [
    {
     "data": {
      "image/png": "[encoded data removed]",
      "text/plain": [
       "<Figure size 432x288 with 1 Axes>"
      ]
     },
     "metadata": {
      "needs_background": "light"
     },
     "output_type": "display_data"
    }
   ],
   "source": [
    "plt.plot(loss_vec_sigmoid, 'k-', label='Sigmoid Activation')\n",
    "plt.plot(loss_vec_relu, 'r--', label='Relu Activation')\n",
    "plt.ylim([0, 1.0])\n",
    "plt.title(' loss per Generation')\n",
    "plt.xlabel('Generation')\n",
    "plt.ylabel('Loss')\n",
    "plt.legend(loc='upper right')\n",
    "plt.show() "
   ]
  },
  {
   "cell_type": "code",
   "execution_count": 242,
   "metadata": {
    "collapsed": true,
    "jupyter": {
     "outputs_hidden": true
    }
   },
   "outputs": [
    {
     "data": {
      "text/plain": [
       "[0.38889316,\n",
       " 0.38548774,\n",
       " 0.3862134,\n",
       " 0.3812936,\n",
       " 0.3858303,\n",
       " 0.38107356,\n",
       " 0.38052392,\n",
       " 0.3819474,\n",
       " 0.3787118,\n",
       " 0.375593,\n",
       " 0.37223816,\n",
       " 0.37553516,\n",
       " 0.37290394,\n",
       " 0.36882088,\n",
       " 0.37019473,\n",
       " 0.37077773,\n",
       " 0.37100115,\n",
       " 0.37494048,\n",
       " 0.3667002,\n",
       " 0.37001646,\n",
       " 0.36850762,\n",
       " 0.3701268,\n",
       " 0.3634055,\n",
       " 0.3613476,\n",
       " 0.36517018,\n",
       " 0.35810307,\n",
       " 0.36124787,\n",
       " 0.36007816,\n",
       " 0.3510973,\n",
       " 0.35716385,\n",
       " 0.36048096,\n",
       " 0.35664296,\n",
       " 0.3509722,\n",
       " 0.35300702,\n",
       " 0.349132,\n",
       " 0.3480185,\n",
       " 0.34806633,\n",
       " 0.34403458,\n",
       " 0.34403512,\n",
       " 0.34677094,\n",
       " 0.3402087,\n",
       " 0.3418249,\n",
       " 0.34067354,\n",
       " 0.33949098,\n",
       " 0.33448315,\n",
       " 0.3331768,\n",
       " 0.33448142,\n",
       " 0.33181778,\n",
       " 0.33283454,\n",
       " 0.33106777,\n",
       " 0.32670236,\n",
       " 0.32914054,\n",
       " 0.32901487,\n",
       " 0.32762608,\n",
       " 0.32711732,\n",
       " 0.32626396,\n",
       " 0.3237256,\n",
       " 0.32231152,\n",
       " 0.32214382,\n",
       " 0.31570446,\n",
       " 0.31217918,\n",
       " 0.31084415,\n",
       " 0.31422755,\n",
       " 0.31238654,\n",
       " 0.30718315,\n",
       " 0.30613002,\n",
       " 0.3118189,\n",
       " 0.30828202,\n",
       " 0.3070591,\n",
       " 0.3043349,\n",
       " 0.30137736,\n",
       " 0.2999369,\n",
       " 0.29949915,\n",
       " 0.2978524,\n",
       " 0.2967494,\n",
       " 0.291713,\n",
       " 0.29554385,\n",
       " 0.29477572,\n",
       " 0.28612295,\n",
       " 0.28338614,\n",
       " 0.2866412,\n",
       " 0.28575075,\n",
       " 0.28282022,\n",
       " 0.28395814,\n",
       " 0.2758562,\n",
       " 0.28053722,\n",
       " 0.28019607,\n",
       " 0.2766747,\n",
       " 0.26933613,\n",
       " 0.2727201,\n",
       " 0.2738679,\n",
       " 0.26881003,\n",
       " 0.26249808,\n",
       " 0.26265842,\n",
       " 0.2636766,\n",
       " 0.2629223,\n",
       " 0.25401548,\n",
       " 0.2615388,\n",
       " 0.2543125,\n",
       " 0.25463474,\n",
       " 0.25262427,\n",
       " 0.24616428,\n",
       " 0.24810845,\n",
       " 0.24840035,\n",
       " 0.24455829,\n",
       " 0.24072109,\n",
       " 0.23991041,\n",
       " 0.23788586,\n",
       " 0.23606929,\n",
       " 0.23487902,\n",
       " 0.23182352,\n",
       " 0.23094776,\n",
       " 0.22828823,\n",
       " 0.23056526,\n",
       " 0.2259228,\n",
       " 0.22480622,\n",
       " 0.22033097,\n",
       " 0.22652476,\n",
       " 0.21975765,\n",
       " 0.22039677,\n",
       " 0.21834576,\n",
       " 0.21532434,\n",
       " 0.21024743,\n",
       " 0.20933983,\n",
       " 0.20865756,\n",
       " 0.20844418,\n",
       " 0.20686804,\n",
       " 0.20680757,\n",
       " 0.20001453,\n",
       " 0.19970217,\n",
       " 0.19541103,\n",
       " 0.19625165,\n",
       " 0.1979979,\n",
       " 0.19202654,\n",
       " 0.19495244,\n",
       " 0.19032085,\n",
       " 0.18795438,\n",
       " 0.18361284,\n",
       " 0.18250382,\n",
       " 0.18233469,\n",
       " 0.18307243,\n",
       " 0.1845453,\n",
       " 0.17439844,\n",
       " 0.17990895,\n",
       " 0.1704727,\n",
       " 0.17054777,\n",
       " 0.17147757,\n",
       " 0.16832086,\n",
       " 0.17175396,\n",
       " 0.16229248,\n",
       " 0.16480209,\n",
       " 0.16291314,\n",
       " 0.15967168,\n",
       " 0.16033956,\n",
       " 0.15908982,\n",
       " 0.1576382,\n",
       " 0.15564512,\n",
       " 0.1491681,\n",
       " 0.14794275,\n",
       " 0.14826873,\n",
       " 0.14513448,\n",
       " 0.1462208,\n",
       " 0.14810842,\n",
       " 0.14296283,\n",
       " 0.14511585,\n",
       " 0.14346226,\n",
       " 0.13696493,\n",
       " 0.13460355,\n",
       " 0.13684537,\n",
       " 0.13425462,\n",
       " 0.13299766,\n",
       " 0.13193402,\n",
       " 0.13038461,\n",
       " 0.12973434,\n",
       " 0.12710674,\n",
       " 0.1252416,\n",
       " 0.1216909,\n",
       " 0.12420129,\n",
       " 0.1223213,\n",
       " 0.122965746,\n",
       " 0.11921195,\n",
       " 0.115648724,\n",
       " 0.113344155,\n",
       " 0.114229895,\n",
       " 0.115333185,\n",
       " 0.111432835,\n",
       " 0.11163048,\n",
       " 0.11002569,\n",
       " 0.108501546,\n",
       " 0.10626701,\n",
       " 0.10649977,\n",
       " 0.101625025,\n",
       " 0.10268429,\n",
       " 0.102872886,\n",
       " 0.10192704,\n",
       " 0.10035293,\n",
       " 0.097575866,\n",
       " 0.096633285,\n",
       " 0.0996182,\n",
       " 0.09474195,\n",
       " 0.09661835,\n",
       " 0.09019122,\n",
       " 0.0902874,\n",
       " 0.09039691,\n",
       " 0.088515185,\n",
       " 0.087459624,\n",
       " 0.0865641,\n",
       " 0.087093905,\n",
       " 0.08246708,\n",
       " 0.08129515,\n",
       " 0.08164471,\n",
       " 0.07874516,\n",
       " 0.08146096,\n",
       " 0.08105405,\n",
       " 0.07738874,\n",
       " 0.074992344,\n",
       " 0.07620142,\n",
       " 0.07476861,\n",
       " 0.075274006,\n",
       " 0.07392721,\n",
       " 0.07286577,\n",
       " 0.07066891,\n",
       " 0.071958534,\n",
       " 0.06939388,\n",
       " 0.06844506,\n",
       " 0.07005276,\n",
       " 0.06728461,\n",
       " 0.06543204,\n",
       " 0.063282125,\n",
       " 0.063929446,\n",
       " 0.062381763,\n",
       " 0.06148393,\n",
       " 0.06345002,\n",
       " 0.06400746,\n",
       " 0.060993023,\n",
       " 0.0604126,\n",
       " 0.06013844,\n",
       " 0.05824399,\n",
       " 0.058068193,\n",
       " 0.058158096,\n",
       " 0.05613245,\n",
       " 0.05564712,\n",
       " 0.054538954,\n",
       " 0.05503062,\n",
       " 0.054690033,\n",
       " 0.051800933,\n",
       " 0.05047617,\n",
       " 0.051927596,\n",
       " 0.05172735,\n",
       " 0.04894485,\n",
       " 0.0514394,\n",
       " 0.049488153,\n",
       " 0.049133614,\n",
       " 0.04900347,\n",
       " 0.049780175,\n",
       " 0.047816686,\n",
       " 0.04759354,\n",
       " 0.046765465,\n",
       " 0.044367485,\n",
       " 0.044439565,\n",
       " 0.04440454,\n",
       " 0.042523995,\n",
       " 0.043245327,\n",
       " 0.04361947,\n",
       " 0.043791413,\n",
       " 0.042819537,\n",
       " 0.040348474,\n",
       " 0.038694616,\n",
       " 0.038969826,\n",
       " 0.039545413,\n",
       " 0.038767748,\n",
       " 0.0380009,\n",
       " 0.037235625,\n",
       " 0.03913587,\n",
       " 0.03673806,\n",
       " 0.036524788,\n",
       " 0.0359723,\n",
       " 0.03560007,\n",
       " 0.036224935,\n",
       " 0.034121357,\n",
       " 0.03475711,\n",
       " 0.03424623,\n",
       " 0.034473352,\n",
       " 0.034057613,\n",
       " 0.031071294,\n",
       " 0.032028716,\n",
       " 0.033846553,\n",
       " 0.031189127,\n",
       " 0.03283888,\n",
       " 0.03119262,\n",
       " 0.03295226,\n",
       " 0.030716965,\n",
       " 0.030609727,\n",
       " 0.029642358,\n",
       " 0.029395053,\n",
       " 0.028778516,\n",
       " 0.029312415,\n",
       " 0.028328639,\n",
       " 0.027804578,\n",
       " 0.028024111,\n",
       " 0.027809214,\n",
       " 0.027487507,\n",
       " 0.026367854,\n",
       " 0.026394498,\n",
       " 0.025468739,\n",
       " 0.024352646,\n",
       " 0.026148915,\n",
       " 0.025150316,\n",
       " 0.023761407,\n",
       " 0.024031462,\n",
       " 0.024170712,\n",
       " 0.023667874,\n",
       " 0.02400054,\n",
       " 0.02321183,\n",
       " 0.02306063,\n",
       " 0.022352764,\n",
       " 0.021940038,\n",
       " 0.023144716,\n",
       " 0.02186384,\n",
       " 0.0213062,\n",
       " 0.021805603,\n",
       " 0.021913767,\n",
       " 0.021212453,\n",
       " 0.020204639,\n",
       " 0.020881703,\n",
       " 0.020780861,\n",
       " 0.019449355,\n",
       " 0.01881101,\n",
       " 0.01871794,\n",
       " 0.019440427,\n",
       " 0.019229589,\n",
       " 0.018703224,\n",
       " 0.019017663,\n",
       " 0.018657558,\n",
       " 0.017282784,\n",
       " 0.01823159,\n",
       " 0.016795775,\n",
       " 0.017453793,\n",
       " 0.017389346,\n",
       " 0.017176354,\n",
       " 0.017749036,\n",
       " 0.017386481,\n",
       " 0.017019134,\n",
       " 0.016612379,\n",
       " 0.016267149,\n",
       " 0.016259748,\n",
       " 0.015763856,\n",
       " 0.01632578,\n",
       " 0.016391952,\n",
       " 0.015710386,\n",
       " 0.015180163,\n",
       " 0.015626905,\n",
       " 0.0151604535,\n",
       " 0.01478186,\n",
       " 0.013950024,\n",
       " 0.014553309,\n",
       " 0.01505847,\n",
       " 0.014201553,\n",
       " 0.014370748,\n",
       " 0.014120793,\n",
       " 0.01350655,\n",
       " 0.013742455,\n",
       " 0.013150118,\n",
       " 0.013153523,\n",
       " 0.0125806,\n",
       " 0.013053899,\n",
       " 0.013064867,\n",
       " 0.012896058,\n",
       " 0.012332618,\n",
       " 0.012386442,\n",
       " 0.012536074,\n",
       " 0.012496987,\n",
       " 0.011926903,\n",
       " 0.012177998,\n",
       " 0.012819748,\n",
       " 0.011673705,\n",
       " 0.011443845,\n",
       " 0.011538409,\n",
       " 0.011457423,\n",
       " 0.011050121,\n",
       " 0.011260891,\n",
       " 0.011202796,\n",
       " 0.010797866,\n",
       " 0.01096279,\n",
       " 0.0110273175,\n",
       " 0.010465687,\n",
       " 0.010615626,\n",
       " 0.010258571,\n",
       " 0.009772626,\n",
       " 0.009927916,\n",
       " 0.009947456,\n",
       " 0.009222672,\n",
       " 0.009474879,\n",
       " 0.0097875055,\n",
       " 0.009842387,\n",
       " 0.009221704,\n",
       " 0.009536721,\n",
       " 0.008805388,\n",
       " 0.008678731,\n",
       " 0.00906572,\n",
       " 0.009096094,\n",
       " 0.009010753,\n",
       " 0.008522664,\n",
       " 0.008246083,\n",
       " 0.009126672,\n",
       " 0.008688229,\n",
       " 0.008544991,\n",
       " 0.008324321,\n",
       " 0.008676133,\n",
       " 0.008362912,\n",
       " 0.008157939,\n",
       " 0.008044479,\n",
       " 0.008060891,\n",
       " 0.00780355,\n",
       " 0.007617912,\n",
       " 0.007800168,\n",
       " 0.0076532005,\n",
       " 0.0074785906,\n",
       " 0.007521395,\n",
       " 0.0073394654,\n",
       " 0.0074549085,\n",
       " 0.007085332,\n",
       " 0.007320127,\n",
       " 0.0071845334,\n",
       " 0.006924991,\n",
       " 0.006967647,\n",
       " 0.007147088,\n",
       " 0.0070712,\n",
       " 0.006651623,\n",
       " 0.006940655,\n",
       " 0.006554041,\n",
       " 0.0062217833,\n",
       " 0.006673426,\n",
       " 0.00653292,\n",
       " 0.006349979,\n",
       " 0.0063301646,\n",
       " 0.0060877544,\n",
       " 0.006400788,\n",
       " 0.005999682,\n",
       " 0.005840295,\n",
       " 0.006057098,\n",
       " 0.0061660884,\n",
       " 0.0060353894,\n",
       " 0.0058644516,\n",
       " 0.0056913095,\n",
       " 0.005630679,\n",
       " 0.005573381,\n",
       " 0.0060491664,\n",
       " 0.005441915,\n",
       " 0.0051992373,\n",
       " 0.0057599843,\n",
       " 0.005456252,\n",
       " 0.005083378,\n",
       " 0.0051811743,\n",
       " 0.005008631,\n",
       " 0.0054389373,\n",
       " 0.0051190583,\n",
       " 0.0051412676,\n",
       " 0.005044527,\n",
       " 0.0052748825,\n",
       " 0.0051081646,\n",
       " 0.004912073,\n",
       " 0.00492356,\n",
       " 0.0047702603,\n",
       " 0.0044597834,\n",
       " 0.004754783,\n",
       " 0.004599182,\n",
       " 0.004539455,\n",
       " 0.004672864,\n",
       " 0.0045668078,\n",
       " 0.004757822,\n",
       " 0.0047039143,\n",
       " 0.0044937474,\n",
       " 0.004634456,\n",
       " 0.00428438,\n",
       " 0.004369917,\n",
       " 0.0044281594,\n",
       " 0.00434792,\n",
       " 0.0042989515,\n",
       " 0.004089741,\n",
       " 0.0039581712,\n",
       " 0.0040537138,\n",
       " 0.004059612,\n",
       " 0.0041622357,\n",
       " 0.004286988,\n",
       " 0.003704775,\n",
       " 0.0038252175,\n",
       " 0.004076853,\n",
       " 0.0038368003,\n",
       " 0.0038085103,\n",
       " 0.0037009823,\n",
       " 0.003613343,\n",
       " 0.003716349,\n",
       " 0.0038844526,\n",
       " 0.0037221748,\n",
       " 0.0035109273,\n",
       " 0.0037955428,\n",
       " 0.003333876,\n",
       " 0.0037290892,\n",
       " 0.0036487475,\n",
       " 0.0033530446,\n",
       " 0.003360312,\n",
       " 0.0033022342,\n",
       " 0.003423821,\n",
       " 0.0031291898,\n",
       " 0.0032997525,\n",
       " 0.0031618515,\n",
       " 0.0031940518,\n",
       " 0.0032584444,\n",
       " 0.0028595051,\n",
       " 0.0031891197,\n",
       " 0.0031764419,\n",
       " 0.003180222,\n",
       " 0.0028858068,\n",
       " 0.0029227992,\n",
       " 0.0030735976,\n",
       " 0.002890847,\n",
       " 0.0031288408,\n",
       " 0.0028621769,\n",
       " 0.0029864563,\n",
       " 0.0029174513,\n",
       " 0.0029000354,\n",
       " 0.0027885332,\n",
       " 0.0027294508,\n",
       " 0.0026798574,\n",
       " 0.002634937,\n",
       " 0.0026467296,\n",
       " 0.002806621,\n",
       " 0.0027353927,\n",
       " 0.00253779,\n",
       " 0.002721901,\n",
       " 0.002634463,\n",
       " 0.002614232,\n",
       " 0.0025356405,\n",
       " 0.0026300766,\n",
       " 0.0025169388,\n",
       " 0.0026954296,\n",
       " 0.0023957686,\n",
       " 0.0024783283,\n",
       " 0.0025192425,\n",
       " 0.002351757,\n",
       " 0.0024944386,\n",
       " 0.002309422,\n",
       " 0.002342599,\n",
       " 0.0023765645,\n",
       " 0.0023144204,\n",
       " 0.0021900453,\n",
       " 0.0023205923,\n",
       " 0.0022503878,\n",
       " 0.002227028,\n",
       " 0.0022546626,\n",
       " 0.0021350668,\n",
       " 0.0021274958,\n",
       " 0.0021333932,\n",
       " 0.0020454486,\n",
       " 0.0022327187,\n",
       " 0.0021837556,\n",
       " 0.0021542406,\n",
       " 0.0020361221,\n",
       " 0.0020065706,\n",
       " 0.0017824497,\n",
       " 0.0018881842,\n",
       " 0.0020746135,\n",
       " 0.0019089419,\n",
       " 0.0019452338,\n",
       " 0.0019451044,\n",
       " 0.0019202867,\n",
       " 0.0019180748,\n",
       " 0.0019293078,\n",
       " 0.0018761037,\n",
       " 0.0018738058,\n",
       " 0.0018742882,\n",
       " 0.0019582259,\n",
       " 0.0017117996,\n",
       " 0.0017865582,\n",
       " 0.0017810261,\n",
       " 0.001678178,\n",
       " 0.0017601688,\n",
       " 0.0018327126,\n",
       " 0.0017044899,\n",
       " 0.0015696656,\n",
       " 0.0015889726,\n",
       " 0.0016578685,\n",
       " 0.001655528,\n",
       " 0.0015427998,\n",
       " 0.0016493314,\n",
       " 0.0016034632,\n",
       " 0.001620711,\n",
       " 0.0015735999,\n",
       " 0.0015108832,\n",
       " 0.0014806469,\n",
       " 0.0016232142,\n",
       " 0.0015737682,\n",
       " 0.0015271587,\n",
       " 0.001581067,\n",
       " 0.0015297866,\n",
       " 0.0014254402,\n",
       " 0.0014915131,\n",
       " 0.0015241322,\n",
       " 0.0013937929,\n",
       " 0.0015348648,\n",
       " 0.0014104999,\n",
       " 0.001355533,\n",
       " 0.0013369904,\n",
       " 0.0015138064,\n",
       " 0.0013494171,\n",
       " 0.0014282863,\n",
       " 0.0013198375,\n",
       " 0.0013572138,\n",
       " 0.0013152739,\n",
       " 0.0013024813,\n",
       " 0.0013086863,\n",
       " 0.0013817734,\n",
       " 0.0013326157,\n",
       " 0.0014421296,\n",
       " 0.001279864,\n",
       " 0.0012799881,\n",
       " 0.0012409089,\n",
       " 0.0012575915,\n",
       " 0.0012228519,\n",
       " 0.0012627483,\n",
       " 0.0011877328,\n",
       " 0.0011585942,\n",
       " 0.0011143978,\n",
       " 0.0011209307,\n",
       " 0.0011821598,\n",
       " 0.0012014412,\n",
       " 0.0011766113,\n",
       " 0.0011522204,\n",
       " 0.0012014004,\n",
       " 0.0012133318,\n",
       " 0.0010353974,\n",
       " 0.0010500129,\n",
       " 0.0010625724,\n",
       " 0.0010503457,\n",
       " 0.0010454013,\n",
       " 0.0010129436,\n",
       " 0.0010404099,\n",
       " 0.0009811927,\n",
       " 0.0010633727,\n",
       " 0.0010142429,\n",
       " 0.0009860797,\n",
       " 0.0011351043,\n",
       " 0.0010176037,\n",
       " 0.0010359861,\n",
       " 0.00096206134,\n",
       " 0.0010676853,\n",
       " 0.00094449765,\n",
       " 0.000985767,\n",
       " 0.0009368429,\n",
       " 0.0009477888,\n",
       " 0.0009483978,\n",
       " 0.000867764,\n",
       " 0.0009437706,\n",
       " 0.000861715,\n",
       " 0.0008990775,\n",
       " 0.00089766964,\n",
       " 0.00094162143,\n",
       " 0.00087324006,\n",
       " 0.00087074144,\n",
       " 0.00090204296,\n",
       " 0.00083456846,\n",
       " 0.00079587876,\n",
       " 0.00094904663,\n",
       " 0.0008483941,\n",
       " 0.00086858356,\n",
       " 0.00080339774,\n",
       " 0.0007479535,\n",
       " 0.000790101,\n",
       " 0.00079872797,\n",
       " 0.00080054137,\n",
       " 0.00087834947,\n",
       " 0.00085973216,\n",
       " 0.00091445836,\n",
       " 0.000818582,\n",
       " 0.000756805,\n",
       " 0.0006930626,\n",
       " 0.0007634715,\n",
       " 0.00075265387,\n",
       " 0.0007673839,\n",
       " 0.0007546257,\n",
       " 0.0008110659,\n",
       " 0.0007924068,\n",
       " 0.0007048992,\n",
       " 0.00069587515,\n",
       " 0.0007041581,\n",
       " 0.0008106279,\n",
       " 0.0007033638,\n",
       " 0.0007413302,\n",
       " 0.000702762,\n",
       " 0.0006433305,\n",
       " 0.0006560579,\n",
       " 0.0007258739,\n",
       " 0.0006867041,\n",
       " 0.00072315126,\n",
       " 0.00061573315,\n",
       " 0.000623301,\n",
       " 0.0006341823,\n",
       " 0.00061945664,\n",
       " 0.00064790976,\n",
       " 0.0006139881,\n",
       " 0.0005405832,\n",
       " 0.0006323763,\n",
       " 0.0006207332,\n",
       " 0.0005544882,\n",
       " 0.00056573754,\n",
       " 0.0006585005,\n",
       " 0.00067530805,\n",
       " 0.00065526017,\n",
       " 0.00068472297,\n",
       " 0.00053775683,\n",
       " 0.00055331504,\n",
       " 0.0005664295,\n",
       " 0.0006245834,\n",
       " 0.000509003,\n",
       " 0.0005641832,\n",
       " 0.0005964823,\n",
       " 0.0005462294,\n",
       " 0.0006039383,\n",
       " 0.0005909031,\n",
       " 0.00049298804,\n",
       " 0.00052902545,\n",
       " 0.0005100723,\n",
       " 0.0005679945,\n",
       " 0.0004968232,\n",
       " 0.0005356275,\n",
       " 0.0004731051,\n",
       " 0.0005181205,\n",
       " 0.00042919806,\n",
       " 0.00049029314,\n",
       " 0.0005224638,\n",
       " 0.00053468125,\n",
       " 0.0005172585,\n",
       " 0.00042426062,\n",
       " 0.00052655576,\n",
       " 0.00041856334,\n",
       " 0.0004466353,\n",
       " 0.0005698062,\n",
       " 0.0004524054,\n",
       " 0.0004283967,\n",
       " 0.00054240273,\n",
       " 0.00044145904,\n",
       " 0.00052106095,\n",
       " 0.00042704836,\n",
       " 0.0005541343,\n",
       " 0.00045373358,\n",
       " 0.00038087938,\n",
       " 0.0004571712,\n",
       " 0.00045527462,\n",
       " 0.00048194602,\n",
       " 0.00048272422,\n",
       " 0.00041200683,\n",
       " 0.00045570932,\n",
       " 0.00045362022,\n",
       " 0.00040708177,\n",
       " 0.0004318577,\n",
       " 0.00043156455,\n",
       " 0.0004205382,\n",
       " 0.000488384,\n",
       " 0.0004361877,\n",
       " 0.00040734597,\n",
       " 0.00040725517,\n",
       " 0.0003787728,\n",
       " 0.00038048456,\n",
       " 0.00041373086,\n",
       " 0.00035589468,\n",
       " 0.000414014,\n",
       " 0.0003507238,\n",
       " 0.0003749702,\n",
       " 0.00032729295,\n",
       " 0.0003980501,\n",
       " 0.00030598155,\n",
       " 0.00035442496,\n",
       " 0.00036449515,\n",
       " 0.00040182806,\n",
       " 0.00036973803,\n",
       " 0.00039202458,\n",
       " 0.00037409834,\n",
       " 0.00035246872,\n",
       " 0.00034027037,\n",
       " 0.00035903283,\n",
       " 0.00039008795,\n",
       " 0.00036793214,\n",
       " 0.00036883244,\n",
       " 0.0003963612,\n",
       " 0.00032877323,\n",
       " 0.00033982884,\n",
       " 0.0003363243,\n",
       " 0.00038300877,\n",
       " 0.0003784823,\n",
       " 0.0002854091,\n",
       " 0.00031792116,\n",
       " 0.0003100449,\n",
       " 0.00032059918,\n",
       " 0.00032021748,\n",
       " 0.000285055,\n",
       " 0.00034382998,\n",
       " 0.00033337812,\n",
       " 0.0003450293,\n",
       " 0.00030960544,\n",
       " 0.00029694362,\n",
       " 0.00029282854,\n",
       " 0.0003088225,\n",
       " 0.00030197503,\n",
       " 0.00032230304,\n",
       " 0.00029518091,\n",
       " 0.00032163892,\n",
       " 0.00031428985,\n",
       " 0.0002653404,\n",
       " 0.00028237145,\n",
       " 0.00032941587,\n",
       " 0.00026517536,\n",
       " 0.0002988938,\n",
       " 0.00031899603,\n",
       " 0.00029046318,\n",
       " 0.00024943356,\n",
       " 0.00025245815,\n",
       " 0.00031010242,\n",
       " 0.00028078805,\n",
       " 0.0002801323,\n",
       " 0.0002775184,\n",
       " 0.00023942867,\n",
       " 0.00029954623,\n",
       " 0.00023296307,\n",
       " 0.00026149437,\n",
       " 0.0002752666,\n",
       " 0.00024404199,\n",
       " 0.00029406353,\n",
       " 0.00028570145,\n",
       " 0.0002460022,\n",
       " 0.00024006136,\n",
       " 0.00021470526,\n",
       " 0.00024125414,\n",
       " 0.00021098355,\n",
       " 0.00022409082,\n",
       " 0.00022463965,\n",
       " 0.00020897356,\n",
       " 0.00018947767,\n",
       " 0.00020763054,\n",
       " 0.00021144669,\n",
       " 0.0002454556,\n",
       " 0.00025954313,\n",
       " 0.0002265591,\n",
       " 0.00020296253,\n",
       " 0.0001944575,\n",
       " 0.00018957636,\n",
       " 0.0002626473,\n",
       " 0.00021696844,\n",
       " 0.00023773004,\n",
       " 0.00022026751,\n",
       " 0.00021866275,\n",
       " 0.00018488853,\n",
       " 0.00023381673,\n",
       " 0.00022613787,\n",
       " 0.00022527872,\n",
       " 0.00021958665,\n",
       " 0.0002024857,\n",
       " 0.00016455053,\n",
       " 0.00018957032,\n",
       " 0.00019014049,\n",
       " 0.00018743057,\n",
       " 0.0002010476,\n",
       " 0.00021761804,\n",
       " 0.00021832011,\n",
       " 0.00019588748,\n",
       " 0.00019657693,\n",
       " 0.00020598581,\n",
       " 0.00020380544,\n",
       " 0.00019570347,\n",
       " 0.00019326934,\n",
       " 0.00016545379,\n",
       " 0.00023851592,\n",
       " 0.00019320461,\n",
       " 0.00020118637,\n",
       " 0.00019581192,\n",
       " 0.00016891176,\n",
       " 0.00017727933,\n",
       " 0.00018562698,\n",
       " 0.00021366598,\n",
       " 0.00016547953,\n",
       " 0.00017866264,\n",
       " 0.00019050844,\n",
       " 0.00017191368,\n",
       " 0.00019216389,\n",
       " 0.00018027163,\n",
       " 0.00016160563,\n",
       " 0.000186993,\n",
       " 0.00015144893,\n",
       " 0.00019187939,\n",
       " 0.00015077082,\n",
       " 0.00015938687,\n",
       " 0.00014243093,\n",
       " 0.00015355006,\n",
       " 0.00013516024,\n",
       " 0.00015440966,\n",
       " 0.00016557612,\n",
       " 0.00014972786,\n",
       " 0.000169034,\n",
       " 0.00016270559,\n",
       " 0.00016490808,\n",
       " 9.619394e-05,\n",
       " 0.0001581668,\n",
       " 0.00011221906,\n",
       " 0.00012466642,\n",
       " 0.00015683826,\n",
       " 0.00015228405,\n",
       " 0.00013387344,\n",
       " 0.00012261614,\n",
       " 0.00014901478,\n",
       " 0.00013108324,\n",
       " 0.00012982677,\n",
       " 0.00014274375,\n",
       " 0.00014283526,\n",
       " 0.00015060176,\n",
       " 0.0001555096,\n",
       " 0.00013799165,\n",
       " 0.000112810085,\n",
       " 0.0001532827,\n",
       " 0.0001529336,\n",
       " 0.00012828741,\n",
       " 0.00013119314,\n",
       " 0.0001428563,\n",
       " 0.00015414841,\n",
       " 0.00012740628,\n",
       " 0.00014512803,\n",
       " 0.00017493962,\n",
       " 0.00014336851,\n",
       " 0.00014491049,\n",
       " 0.00011410039,\n",
       " 0.00014007842,\n",
       " 0.000115497074,\n",
       " 0.00013508798,\n",
       " 0.00011784308,\n",
       " 0.00010573625,\n",
       " 0.0001245972,\n",
       " 0.00013202101,\n",
       " 0.0001623165,\n",
       " 0.0001247703,\n",
       " 0.00012611627,\n",
       " 0.00012876018,\n",
       " 0.000114427006,\n",
       " 0.000112496426,\n",
       " 9.225823e-05,\n",
       " 0.00010675194,\n",
       " 0.00013822,\n",
       " 8.071397e-05,\n",
       " 0.00012146415,\n",
       " 0.0001251888,\n",
       " 0.00010711295,\n",
       " 0.00013995392,\n",
       " 0.00010784955,\n",
       " 0.00012642801,\n",
       " 0.0001318698,\n",
       " 8.571563e-05,\n",
       " 0.000102915015,\n",
       " 0.000106935215,\n",
       " 0.00011407418,\n",
       " 0.00011406785,\n",
       " 9.4410054e-05,\n",
       " 0.00012731229,\n",
       " 6.9710615e-05,\n",
       " 0.0001326956,\n",
       " 0.000115323084,\n",
       " 9.498456e-05,\n",
       " 0.000102772756,\n",
       " 0.00010357587,\n",
       " 0.000116812385,\n",
       " 0.000107085034,\n",
       " 8.129531e-05,\n",
       " 0.00010524391,\n",
       " 0.00010353678,\n",
       " 0.00011150522,\n",
       " 8.17607e-05,\n",
       " 9.361254e-05,\n",
       " 0.000103823586,\n",
       " 9.365406e-05,\n",
       " 0.00012495037,\n",
       " 0.000107902146,\n",
       " 0.00010646827,\n",
       " 0.00011241753,\n",
       " 7.310161e-05,\n",
       " 8.4014144e-05,\n",
       " 9.2818096e-05,\n",
       " 9.5448384e-05,\n",
       " 8.550598e-05,\n",
       " 9.7504926e-05,\n",
       " 8.090709e-05,\n",
       " 7.5405085e-05,\n",
       " 0.00012431329,\n",
       " 9.6889074e-05,\n",
       " 9.487994e-05,\n",
       " 9.780963e-05,\n",
       " 0.00010065916,\n",
       " 0.00010641199,\n",
       " 8.742494e-05,\n",
       " 8.810438e-05,\n",
       " 6.2866806e-05,\n",
       " 8.030335e-05,\n",
       " 8.187173e-05,\n",
       " 8.479805e-05]"
      ]
     },
     "execution_count": 242,
     "metadata": {},
     "output_type": "execute_result"
    }
   ],
   "source": []
  },
  {
   "cell_type": "code",
   "execution_count": null,
   "metadata": {},
   "outputs": [],
   "source": []
  }
 ],
 "metadata": {
  "kernelspec": {
   "display_name": "Python 3",
   "language": "python",
   "name": "python3"
  },
  "language_info": {
   "codemirror_mode": {
    "name": "ipython",
    "version": 3
   },
   "file_extension": ".py",
   "mimetype": "text/x-python",
   "name": "python",
   "nbconvert_exporter": "python",
   "pygments_lexer": "ipython3",
   "version": "3.7.6"
  }
 },
 "nbformat": 4,
 "nbformat_minor": 4
}
